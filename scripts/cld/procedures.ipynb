{
 "cells": [
  {
   "cell_type": "markdown",
   "metadata": {},
   "source": [
    "# Procedures\n",
    "Tidy tables of the patient's custom procedure groupings identifed from all extracted medical claims.  All table start with `pld_proc`\n",
    "\n",
    "**Script**\n",
    "* [scripts/cld/procedures.ipynb](./scripts/cld/procedures.ipynb)\n",
    "\n",
    "**Prior Script(s)**\n",
    "* [scripts/de/raven_procedure.ipynb](./scripts/de/raven_procedure.ipynb)\n",
    "\n",
    "**Parameters**\n",
    "* `in/cld/procedure_custom.xlsx[param]`\n",
    "* `in/cld/procedure_custom.xlsx[ref]`: `cld_proc_ref`\n",
    "\n",
    "**Input**\n",
    "* `coh_pt`\n",
    "* `de_raven_procedure`\n",
    "  \n",
    "**Output**  \n",
    "* `cld_proc`\n",
    "\n",
    "**Review**\n",
    "* [scripts/cld/proc.html](./scripts/cld/proc.html)"
   ]
  },
  {
   "cell_type": "code",
   "execution_count": null,
   "metadata": {
    "ExecuteTime": {
     "end_time": "2019-04-23T16:47:40.485249Z",
     "start_time": "2019-04-23T16:47:34.898691Z"
    }
   },
   "outputs": [],
   "source": [
    "#Import libraries for this notebook\n",
    "import pandas as pd  \n",
    "from drg_connect import Snowflake\n",
    "import numpy as np\n",
    "import pickle\n",
    "from IPython.core.interactiveshell import InteractiveShell\n",
    "InteractiveShell.ast_node_interactivity = \"all\"\n",
    "\n",
    "#Load connection variables to connect_dict\n",
    "with open('../../out/conn/connect_dict.pickle', 'rb') as handle:\n",
    "    connect_dict = pickle.load(handle)\n",
    "\n",
    "#Create Eegine to connect to snowflake\n",
    "snow = Snowflake(role=connect_dict['role'],\n",
    "                 warehouse=connect_dict['warehouse'],\n",
    "                 database=connect_dict['database'],\n",
    "                 schema=connect_dict['schema'])\n",
    "\n",
    "#Finish engine setup\n",
    "engine = snow.engine\n",
    "%load_ext sql_magic\n",
    "%config SQL.conn_name = 'engine'  #Set the sql_magic connection engine\n",
    "%config SQL.output_result = True  #Enable output to std out\n",
    "%config SQL.notify_result = False #disable browser notifications\n"
   ]
  },
  {
   "cell_type": "markdown",
   "metadata": {},
   "source": [
    "# Reference\n",
    "Upload reference table used to identify the custom comorbidities\n",
    "\n",
    "**Input**  \n",
    "  * `in/cld/procedures.xlsx[ref]`\n",
    "\n",
    "**Output**  \n",
    "* `cld_proc_ref`"
   ]
  },
  {
   "cell_type": "code",
   "execution_count": null,
   "metadata": {
    "ExecuteTime": {
     "end_time": "2019-04-23T18:16:55.386565Z",
     "start_time": "2019-04-23T18:16:43.229422Z"
    }
   },
   "outputs": [],
   "source": [
    "#Upload reference table from excel to snowflake and review snowflake output\n",
    "df = pd.read_excel('../../in/cld/procedures.xlsx', sheet_name='ref', skiprows=4, dtype=str)\n",
    "\n",
    "#Strip white space and make referrable columns uppercase\n",
    "df = df.apply(lambda x: x.str.strip() if x.dtype == \"object\" else x)\n",
    "df[['code_type','code']] =  \\\n",
    "    df[['code_type','code']].apply(lambda x: x.str.upper() if x.dtype == \"object\" else x)\n",
    "df.code= df.code.str.replace(r'\\W+','').astype('str')\n",
    "\n",
    "#Upload to snowflake\n",
    "snow.drop_table(\"cld_proc_ref\")\n",
    "snow.upload_dataframe(df,\"cld_proc_ref\")\n",
    "snow.select(\"SELECT * FROM cld_proc_ref\")\n",
    "del df"
   ]
  },
  {
   "cell_type": "markdown",
   "metadata": {},
   "source": [
    "# Procedure Grouping\n",
    "Identify the patients comorbidities based on the parameters and inputs\n",
    "\n",
    "**Parameters**\n",
    "  * NONE\n",
    "  \n",
    "**Input**\n",
    "  * `coh_pt`\n",
    "  * `de_raven_procedure`\n",
    "  * `cld_proc_ref`\n",
    "  \n",
    "**Output**  \n",
    "* `cld_proc`"
   ]
  },
  {
   "cell_type": "code",
   "execution_count": null,
   "metadata": {
    "ExecuteTime": {
     "end_time": "2019-04-23T19:01:06.251365Z",
     "start_time": "2019-04-23T19:00:57.596499Z"
    }
   },
   "outputs": [],
   "source": [
    "%%read_sql\n",
    "--Create raven diagnosis table\n",
    "DROP TABLE IF EXISTS cld_proc; \n",
    "CREATE TRANSIENT TABLE cld_proc AS\n",
    "      SELECT coh.patient_id,\n",
    "             proc.claim_id,\n",
    "             proc.year_of_service,\n",
    "             ref.cat1,\n",
    "             ref.cat2, \n",
    "             ref.cat3,\n",
    "             ref.code_type,\n",
    "             ref.code,\n",
    "             ref.description,\n",
    "             ref.source\n",
    "        FROM coh_pt coh\n",
    "             JOIN de_raven_procedure proc\n",
    "               ON coh.patient_id = proc.patient_id\n",
    "             JOIN cld_proc_ref ref\n",
    "               ON ref.code = proc.procedure\n",
    "       GROUP BY coh.patient_id, proc.claim_id, proc.year_of_service, ref.cat1, ref.cat2, ref.cat3, \n",
    "                ref.code_type, ref.code, ref.description, ref.source"
   ]
  },
  {
   "cell_type": "code",
   "execution_count": null,
   "metadata": {
    "ExecuteTime": {
     "end_time": "2019-04-23T19:01:15.975267Z",
     "start_time": "2019-04-23T19:01:08.715541Z"
    }
   },
   "outputs": [],
   "source": [
    "%%read_sql\n",
    "--Review counts as a sanity check\n",
    "SELECT Count(*) AS row_cnt,\n",
    "       Count(Distinct patient_id) AS pt_cnt,\n",
    "       Count(Distinct cat1) AS cat1_cnt,\n",
    "       Count(Distinct cat2) AS cat2_cnt,\n",
    "       Count(Distinct cat3) AS cat3_cnt\n",
    "  FROM cld_proc;"
   ]
  },
  {
   "cell_type": "code",
   "execution_count": null,
   "metadata": {
    "ExecuteTime": {
     "end_time": "2019-04-23T18:57:53.373784Z",
     "start_time": "2019-04-23T18:57:49.924439Z"
    }
   },
   "outputs": [],
   "source": [
    "%%read_sql\n",
    "--Quick distribution of the counts\n",
    "SELECT cat1,\n",
    "       Count(Distinct patient_id) AS pt_cnt,\n",
    "       Count(Distinct patient_id) / (SELECT Count(*)\n",
    "                                      FROM coh_pt) AS pct \n",
    "  FROM cld_proc\n",
    " GROUP BY cat1\n",
    " ORDER BY pt_cnt desc;"
   ]
  },
  {
   "cell_type": "code",
   "execution_count": null,
   "metadata": {
    "ExecuteTime": {
     "end_time": "2019-04-23T19:01:24.207915Z",
     "start_time": "2019-04-23T19:01:21.240618Z"
    }
   },
   "outputs": [],
   "source": [
    "%%read_sql\n",
    "--Quick distribution of the counts\n",
    "SELECT cat1,\n",
    "       cat2,\n",
    "       Count(Distinct patient_id) AS pt_cnt,\n",
    "       Count(Distinct patient_id) / (SELECT Count(*)\n",
    "                                      FROM coh_pt) AS pct \n",
    "  FROM cld_proc\n",
    " GROUP BY cat1, cat2\n",
    " ORDER BY pt_cnt desc;"
   ]
  },
  {
   "cell_type": "code",
   "execution_count": null,
   "metadata": {
    "ExecuteTime": {
     "end_time": "2019-04-23T18:58:29.256479Z",
     "start_time": "2019-04-23T18:58:27.294283Z"
    }
   },
   "outputs": [],
   "source": [
    "%%read_sql\n",
    "--Quick distribution of the counts\n",
    "SELECT cat1,\n",
    "       cat2,\n",
    "       cat3,\n",
    "       Count(Distinct patient_id) AS pt_cnt,\n",
    "       Count(Distinct patient_id) / (SELECT Count(*)\n",
    "                                      FROM coh_pt) AS pct \n",
    "  FROM cld_proc\n",
    " GROUP BY cat1, cat2, cat3\n",
    " ORDER BY pt_cnt desc;"
   ]
  },
  {
   "cell_type": "code",
   "execution_count": null,
   "metadata": {
    "ExecuteTime": {
     "end_time": "2019-04-23T19:01:27.631238Z",
     "start_time": "2019-04-23T19:01:25.007975Z"
    }
   },
   "outputs": [],
   "source": [
    "%%read_sql\n",
    "--Quick distribution of the counts\n",
    "SELECT cat1,\n",
    "       cat2,\n",
    "       cat3,\n",
    "       code_type,\n",
    "       code,\n",
    "       description,\n",
    "       Count(Distinct patient_id) AS pt_cnt,\n",
    "       Count(Distinct patient_id) / (SELECT Count(*)\n",
    "                                      FROM coh_pt) AS pct \n",
    "  FROM cld_proc\n",
    " GROUP BY cat1, cat2, cat3, code_type, code, description\n",
    " ORDER BY pt_cnt desc;"
   ]
  },
  {
   "cell_type": "code",
   "execution_count": null,
   "metadata": {},
   "outputs": [],
   "source": []
  }
 ],
 "metadata": {
  "kernelspec": {
   "display_name": "Python 3",
   "language": "python",
   "name": "python3"
  },
  "language_info": {
   "codemirror_mode": {
    "name": "ipython",
    "version": 3
   },
   "file_extension": ".py",
   "mimetype": "text/x-python",
   "name": "python",
   "nbconvert_exporter": "python",
   "pygments_lexer": "ipython3",
   "version": "3.6.5"
  },
  "toc": {
   "nav_menu": {},
   "number_sections": true,
   "sideBar": true,
   "skip_h1_title": false,
   "title_cell": "Table of Contents",
   "title_sidebar": "Contents",
   "toc_cell": false,
   "toc_position": {
    "height": "725px",
    "left": "988px",
    "top": "95px",
    "width": "275px"
   },
   "toc_section_display": true,
   "toc_window_display": true
  }
 },
 "nbformat": 4,
 "nbformat_minor": 2
}
