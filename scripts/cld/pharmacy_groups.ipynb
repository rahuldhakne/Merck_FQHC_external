{
 "cells": [
  {
   "cell_type": "markdown",
   "metadata": {},
   "source": [
    "# Pharmacy Groups\n",
    "Group the raven pharmacy data into usable groups based on standard reference tables\n",
    "\n",
    "**Script**\n",
    "* [scripts/cld/pharmacy_groups.ipynb](./scripts/cld/pharmacy_groups.ipynb)\n",
    "\n",
    "**Prior Script(s)**\n",
    "* [scripts/dc/raven_pharmacy_dedup.ipynb](./scripts/dc/raven_pharmacy_dedup.ipynb)\n",
    "\n",
    "**Parameters**\n",
    "* `in/cld/pharmacy_groups.xlsx[ref]`\n",
    "\n",
    "**Input**\n",
    "* `dc_rxdedup_final`\n",
    "  \n",
    "**Output**\n",
    "* `cld_phar_grp`\n",
    "\n",
    "**Review**\n",
    "* [scripts/cld/pharmacy_groups.html](./scripts/cld/pharmacy_groups.html)\n",
    "* `out/pld/pld_phar_grp_cnt.xlsx`: Counts of ndcs for all ndc codes in the reference table"
   ]
  },
  {
   "cell_type": "code",
   "execution_count": 17,
   "metadata": {
    "ExecuteTime": {
     "end_time": "2019-03-28T18:27:15.349587Z",
     "start_time": "2019-03-28T18:27:15.295582Z"
    }
   },
   "outputs": [
    {
     "name": "stdout",
     "output_type": "stream",
     "text": [
      "The sql_magic extension is already loaded. To reload it, use:\n",
      "  %reload_ext sql_magic\n"
     ]
    }
   ],
   "source": [
    "#Import libraries for this notebook\n",
    "import pandas as pd  \n",
    "from drg_connect import Snowflake\n",
    "import numpy as np\n",
    "import pickle\n",
    "from workbook_writer import make_xlsx\n",
    "from IPython.core.interactiveshell import InteractiveShell\n",
    "InteractiveShell.ast_node_interactivity = \"all\"\n",
    "\n",
    "#Load connection variables to connect_dict\n",
    "with open('../../out/conn/connect_dict.pickle', 'rb') as handle:\n",
    "    connect_dict = pickle.load(handle)\n",
    "\n",
    "#Create Eegine to connect to snowflake\n",
    "snow = Snowflake(role=connect_dict['role'],\n",
    "                 warehouse=connect_dict['warehouse'],\n",
    "                 database=connect_dict['database'],\n",
    "                 schema=connect_dict['schema'])\n",
    "\n",
    "#Finish engine setup\n",
    "engine = snow.engine\n",
    "%load_ext sql_magic\n",
    "%config SQL.conn_name = 'engine'  #Set the sql_magic connection engine\n",
    "%config SQL.output_result = True  #Enable output to std out\n",
    "%config SQL.notify_result = False #disable browser notifications"
   ]
  },
  {
   "cell_type": "markdown",
   "metadata": {},
   "source": [
    "# Reference\n",
    "Upload a reference table from excel to snowflake\n",
    "\n",
    "**Input**  \n",
    "* `in/cld/pharmacy_groups.xlsx[ref]`\n",
    "\n",
    "**Output**  \n",
    "* `cld_phar_grp_ref`"
   ]
  },
  {
   "cell_type": "code",
   "execution_count": 12,
   "metadata": {
    "ExecuteTime": {
     "end_time": "2019-03-28T18:16:32.227866Z",
     "start_time": "2019-03-28T18:16:24.648109Z"
    }
   },
   "outputs": [
    {
     "name": "stdout",
     "output_type": "stream",
     "text": [
      "DROP TABLE IF EXISTS ref_db.semi_custom.cld_phar_grp_ref;\n",
      "Table ref_db.semi_custom.cld_phar_grp_ref dropped! (╯°□°）╯︵ ┻━┻\n",
      "Upload into ref_db.semi_custom.cld_phar_grp_ref successful! ┬──┬◡ﾉ(°-°ﾉ)\n"
     ]
    },
    {
     "data": {
      "text/html": [
       "<div>\n",
       "<style scoped>\n",
       "    .dataframe tbody tr th:only-of-type {\n",
       "        vertical-align: middle;\n",
       "    }\n",
       "\n",
       "    .dataframe tbody tr th {\n",
       "        vertical-align: top;\n",
       "    }\n",
       "\n",
       "    .dataframe thead th {\n",
       "        text-align: right;\n",
       "    }\n",
       "</style>\n",
       "<table border=\"1\" class=\"dataframe\">\n",
       "  <thead>\n",
       "    <tr style=\"text-align: right;\">\n",
       "      <th></th>\n",
       "      <th>class</th>\n",
       "      <th>generic_name</th>\n",
       "      <th>product_name</th>\n",
       "      <th>ndc</th>\n",
       "    </tr>\n",
       "  </thead>\n",
       "  <tbody>\n",
       "    <tr>\n",
       "      <th>0</th>\n",
       "      <td>ANTIDEPRESSANTS</td>\n",
       "      <td>CLOMIPRAMINE HYDROCHLORIDE</td>\n",
       "      <td>CLOMIPRAMINE</td>\n",
       "      <td>63629275601</td>\n",
       "    </tr>\n",
       "    <tr>\n",
       "      <th>1</th>\n",
       "      <td>ANTIDEPRESSANTS</td>\n",
       "      <td>CLOMIPRAMINE HYDROCHLORIDE</td>\n",
       "      <td>CLOMIPRAMINE HCL</td>\n",
       "      <td>00093095601</td>\n",
       "    </tr>\n",
       "    <tr>\n",
       "      <th>2</th>\n",
       "      <td>ANTIDEPRESSANTS</td>\n",
       "      <td>CLOMIPRAMINE HYDROCHLORIDE</td>\n",
       "      <td>CLOMIPRAMINE HCL</td>\n",
       "      <td>00093095801</td>\n",
       "    </tr>\n",
       "    <tr>\n",
       "      <th>3</th>\n",
       "      <td>ANTIDEPRESSANTS</td>\n",
       "      <td>CLOMIPRAMINE HYDROCHLORIDE</td>\n",
       "      <td>CLOMIPRAMINE HCL</td>\n",
       "      <td>00093096001</td>\n",
       "    </tr>\n",
       "    <tr>\n",
       "      <th>4</th>\n",
       "      <td>ANTIDEPRESSANTS</td>\n",
       "      <td>CLOMIPRAMINE HYDROCHLORIDE</td>\n",
       "      <td>CLOMIPRAMINE HCL</td>\n",
       "      <td>00378302501</td>\n",
       "    </tr>\n",
       "  </tbody>\n",
       "</table>\n",
       "</div>"
      ],
      "text/plain": [
       "             class                generic_name      product_name          ndc\n",
       "0  ANTIDEPRESSANTS  CLOMIPRAMINE HYDROCHLORIDE      CLOMIPRAMINE  63629275601\n",
       "1  ANTIDEPRESSANTS  CLOMIPRAMINE HYDROCHLORIDE  CLOMIPRAMINE HCL  00093095601\n",
       "2  ANTIDEPRESSANTS  CLOMIPRAMINE HYDROCHLORIDE  CLOMIPRAMINE HCL  00093095801\n",
       "3  ANTIDEPRESSANTS  CLOMIPRAMINE HYDROCHLORIDE  CLOMIPRAMINE HCL  00093096001\n",
       "4  ANTIDEPRESSANTS  CLOMIPRAMINE HYDROCHLORIDE  CLOMIPRAMINE HCL  00378302501"
      ]
     },
     "execution_count": 12,
     "metadata": {},
     "output_type": "execute_result"
    }
   ],
   "source": [
    "#Upload reference table from excel to snowflake and review snowflake output\n",
    "df = pd.read_excel('../../in/cld/pharmacy_groups.xlsx', sheet_name='ref', skiprows=4, dtype=str)\n",
    "\n",
    "#Strip white space and make referrable columns uppercase\n",
    "df = df.apply(lambda x: x.str.strip() if x.dtype == \"object\" else x)\n",
    "df = df.apply(lambda x: x.str.upper() if x.dtype == \"object\" else x)\n",
    "\n",
    "#Upload to snowflake\n",
    "snow.drop_table(\"cld_phar_grp_ref\")\n",
    "snow.upload_dataframe(df,\"cld_phar_grp_ref\")\n",
    "snow.select(\"SELECT * FROM cld_phar_grp_ref LIMIT 5\")"
   ]
  },
  {
   "cell_type": "markdown",
   "metadata": {},
   "source": [
    "# Create Table\n",
    "Create a small table of cleaned up pharmacy data"
   ]
  },
  {
   "cell_type": "code",
   "execution_count": 23,
   "metadata": {
    "ExecuteTime": {
     "end_time": "2019-03-28T18:42:04.531991Z",
     "start_time": "2019-03-28T18:41:57.610991Z"
    }
   },
   "outputs": [
    {
     "name": "stdout",
     "output_type": "stream",
     "text": [
      "Query started at 02:41:57 PM Eastern Daylight Time; Query executed in 0.04 mQuery started at 02:42:00 PM Eastern Daylight Time; Query executed in 0.07 m"
     ]
    },
    {
     "data": {
      "text/html": [
       "<div>\n",
       "<style scoped>\n",
       "    .dataframe tbody tr th:only-of-type {\n",
       "        vertical-align: middle;\n",
       "    }\n",
       "\n",
       "    .dataframe tbody tr th {\n",
       "        vertical-align: top;\n",
       "    }\n",
       "\n",
       "    .dataframe thead th {\n",
       "        text-align: right;\n",
       "    }\n",
       "</style>\n",
       "<table border=\"1\" class=\"dataframe\">\n",
       "  <thead>\n",
       "    <tr style=\"text-align: right;\">\n",
       "      <th></th>\n",
       "      <th>status</th>\n",
       "    </tr>\n",
       "  </thead>\n",
       "  <tbody>\n",
       "    <tr>\n",
       "      <th>0</th>\n",
       "      <td>Table CLD_PHAR_GRP successfully created.</td>\n",
       "    </tr>\n",
       "  </tbody>\n",
       "</table>\n",
       "</div>"
      ],
      "text/plain": [
       "                                     status\n",
       "0  Table CLD_PHAR_GRP successfully created."
      ]
     },
     "execution_count": 23,
     "metadata": {},
     "output_type": "execute_result"
    }
   ],
   "source": [
    "%%read_sql\n",
    "DROP TABLE IF EXISTS cld_phar_grp;\n",
    "CREATE TRANSIENT TABLE cld_phar_grp AS\n",
    "    SELECT rx.patient_id,\n",
    "           rx.claim_id,\n",
    "           rx.date_of_service,\n",
    "           ref.class,\n",
    "           ref.generic_name,\n",
    "           ref.product_name,\n",
    "           ref.ndc\n",
    "      FROM dc_rxdedup_final rx\n",
    "           JOIN cld_phar_grp_ref ref\n",
    "             ON rx.ndc = ref.ndc"
   ]
  },
  {
   "cell_type": "code",
   "execution_count": 24,
   "metadata": {
    "ExecuteTime": {
     "end_time": "2019-03-28T18:42:07.676986Z",
     "start_time": "2019-03-28T18:42:05.162986Z"
    }
   },
   "outputs": [
    {
     "name": "stdout",
     "output_type": "stream",
     "text": [
      "Query started at 02:42:05 PM Eastern Daylight Time; Query executed in 0.04 m"
     ]
    },
    {
     "data": {
      "text/html": [
       "<div>\n",
       "<style scoped>\n",
       "    .dataframe tbody tr th:only-of-type {\n",
       "        vertical-align: middle;\n",
       "    }\n",
       "\n",
       "    .dataframe tbody tr th {\n",
       "        vertical-align: top;\n",
       "    }\n",
       "\n",
       "    .dataframe thead th {\n",
       "        text-align: right;\n",
       "    }\n",
       "</style>\n",
       "<table border=\"1\" class=\"dataframe\">\n",
       "  <thead>\n",
       "    <tr style=\"text-align: right;\">\n",
       "      <th></th>\n",
       "      <th>row_cnt</th>\n",
       "      <th>pt_cnt</th>\n",
       "      <th>claim_cnt</th>\n",
       "      <th>dt_cnt</th>\n",
       "      <th>class_cnt</th>\n",
       "      <th>generic_cnt</th>\n",
       "      <th>product_cnt</th>\n",
       "      <th>ndc_cnt</th>\n",
       "    </tr>\n",
       "  </thead>\n",
       "  <tbody>\n",
       "    <tr>\n",
       "      <th>0</th>\n",
       "      <td>525841</td>\n",
       "      <td>37892</td>\n",
       "      <td>525841</td>\n",
       "      <td>1461</td>\n",
       "      <td>4</td>\n",
       "      <td>20</td>\n",
       "      <td>41</td>\n",
       "      <td>611</td>\n",
       "    </tr>\n",
       "  </tbody>\n",
       "</table>\n",
       "</div>"
      ],
      "text/plain": [
       "   row_cnt  pt_cnt  claim_cnt  dt_cnt  class_cnt  generic_cnt  product_cnt  \\\n",
       "0   525841   37892     525841    1461          4           20           41   \n",
       "\n",
       "   ndc_cnt  \n",
       "0      611  "
      ]
     },
     "execution_count": 24,
     "metadata": {},
     "output_type": "execute_result"
    }
   ],
   "source": [
    "%%read_sql\n",
    "--Basic counts to confirm things look right\n",
    "SELECT Count(*) AS row_cnt,\n",
    "       Count(Distinct patient_id) AS pt_cnt,\n",
    "       Count(Distinct claim_id) AS claim_cnt,\n",
    "       Count(Distinct date_of_service) AS dt_cnt,\n",
    "       Count(Distinct class) AS class_cnt,\n",
    "       Count(Distinct generic_name) AS generic_cnt,\n",
    "       Count(Distinct product_name) AS product_cnt,\n",
    "       Count(Distinct ndc) AS ndc_cnt\n",
    "  FROM cld_phar_grp"
   ]
  },
  {
   "cell_type": "code",
   "execution_count": 26,
   "metadata": {
    "ExecuteTime": {
     "end_time": "2019-03-28T18:42:32.773736Z",
     "start_time": "2019-03-28T18:42:28.206736Z"
    }
   },
   "outputs": [
    {
     "name": "stdout",
     "output_type": "stream",
     "text": [
      "Query started at 02:42:28 PM Eastern Daylight Time; Query executed in 0.03 mQuery started at 02:42:29 PM Eastern Daylight Time; Query executed in 0.05 m"
     ]
    },
    {
     "data": {
      "text/html": [
       "<div>\n",
       "<style scoped>\n",
       "    .dataframe tbody tr th:only-of-type {\n",
       "        vertical-align: middle;\n",
       "    }\n",
       "\n",
       "    .dataframe tbody tr th {\n",
       "        vertical-align: top;\n",
       "    }\n",
       "\n",
       "    .dataframe thead th {\n",
       "        text-align: right;\n",
       "    }\n",
       "</style>\n",
       "<table border=\"1\" class=\"dataframe\">\n",
       "  <thead>\n",
       "    <tr style=\"text-align: right;\">\n",
       "      <th></th>\n",
       "      <th>status</th>\n",
       "    </tr>\n",
       "  </thead>\n",
       "  <tbody>\n",
       "    <tr>\n",
       "      <th>0</th>\n",
       "      <td>Table CLD_PHAR_GRP_CNT successfully created.</td>\n",
       "    </tr>\n",
       "  </tbody>\n",
       "</table>\n",
       "</div>"
      ],
      "text/plain": [
       "                                         status\n",
       "0  Table CLD_PHAR_GRP_CNT successfully created."
      ]
     },
     "execution_count": 26,
     "metadata": {},
     "output_type": "execute_result"
    }
   ],
   "source": [
    "%%read_sql\n",
    "--Review counts by NDC codes\n",
    "DROP TABLE IF EXISTS cld_phar_grp_cnt;\n",
    "CREATE TRANSIENT TABLE cld_phar_grp_cnt AS\n",
    "SELECT ref.class,\n",
    "       ref.generic_name,\n",
    "       ref.product_name,\n",
    "       ref.ndc,\n",
    "       Count(rx.*) AS row_cnt,\n",
    "       Count(Distinct rx.patient_id) AS pt_cnt,\n",
    "       Count(Distinct rx.claim_id) AS claim_cnt\n",
    "  FROM cld_phar_grp_ref ref\n",
    "       LEFT JOIN cld_phar_grp rx\n",
    "              ON ref.ndc = rx.ndc\n",
    " GROUP BY ref.class,\n",
    "          ref.generic_name,\n",
    "          ref.product_name,\n",
    "          ref.ndc  \n",
    " ORDER BY row_cnt desc;"
   ]
  },
  {
   "cell_type": "code",
   "execution_count": 27,
   "metadata": {
    "ExecuteTime": {
     "end_time": "2019-03-28T18:42:48.011620Z",
     "start_time": "2019-03-28T18:42:39.963620Z"
    }
   },
   "outputs": [],
   "source": [
    "#Review data output\n",
    "df = snow.select(\"SELECT * FROM cld_phar_grp_cnt ORDER BY row_cnt DESC\")\n",
    "make_xlsx([df],\n",
    "          \"../../out/cld/pld_phar_grp_cnt.xlsx\",\n",
    "          \"Pharmacy Group Counts by NDC\",\n",
    "          [\"pld_phar_grp_cnt\"],\n",
    "          [\"Pharmacy Counts\"],\n",
    "          [\"Counts by rows, patients and claims\"])"
   ]
  }
 ],
 "metadata": {
  "kernelspec": {
   "display_name": "Python 3",
   "language": "python",
   "name": "python3"
  },
  "language_info": {
   "codemirror_mode": {
    "name": "ipython",
    "version": 3
   },
   "file_extension": ".py",
   "mimetype": "text/x-python",
   "name": "python",
   "nbconvert_exporter": "python",
   "pygments_lexer": "ipython3",
   "version": "3.6.5"
  },
  "toc": {
   "nav_menu": {},
   "number_sections": true,
   "sideBar": true,
   "skip_h1_title": false,
   "title_cell": "Table of Contents",
   "title_sidebar": "Contents",
   "toc_cell": false,
   "toc_position": {
    "height": "725px",
    "left": "476px",
    "top": "274.6px",
    "width": "242px"
   },
   "toc_section_display": true,
   "toc_window_display": true
  }
 },
 "nbformat": 4,
 "nbformat_minor": 2
}
