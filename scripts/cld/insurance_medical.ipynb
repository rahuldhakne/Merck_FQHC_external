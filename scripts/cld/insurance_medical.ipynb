{
 "cells": [
  {
   "cell_type": "markdown",
   "metadata": {},
   "source": [
    "# Insurance Medical\n",
    "Identification of payer per the OOPS team for raven medical submits.\n",
    "\n",
    "**Script**\n",
    "* [scripts/cld/insurance_medical.ipynb](./scripts/cld/insurance_medical.ipynb)\n",
    "\n",
    "**Prior Script(s)**\n",
    "* [scripts/de/raven_provider.ipynb](./scripts/de/raven_provider.ipynb)\n",
    "* [scripts/de/raven_patient.ipynb](./scripts/de/raven_patient.ipynb)\n",
    "\n",
    "**Parameters**\n",
    "* none\n",
    "\n",
    "**Input**\n",
    "* `de_raven_patient`\n",
    "* `de_raven_payer`\n",
    "  \n",
    "**Output**\n",
    "* `cld_med_ins`\n",
    "\n",
    "**Review**\n",
    "* [scripts/cld/insurance_medical.html](./scripts/cld/insurance_medical.html)"
   ]
  },
  {
   "cell_type": "markdown",
   "metadata": {},
   "source": [
    "## Patrick requests\n",
    "Below are a few requests/questions that Patrick Cronin has for this project\n",
    "\n",
    "* What is the plan for maintaining the OOPS table (i.e.) what about penguin\n",
    "* A standard way to import the data was included\n",
    "* Move all reference tables to `RWD_REF.ANALYTICS`\n",
    "* Need to understand how the remits work\n",
    "* Where is the cleanup function (Omnya send Patrick script and he'll figure out how to)\n",
    "* rwd_db.rwd_reference_library.insurance_types replaced rwd_db.rwd_reference_library.plan_type_determination\n",
    "\n",
    "**Omnya To do**\n",
    "* Send patrick Cleanup function\n"
   ]
  },
  {
   "cell_type": "code",
   "execution_count": null,
   "metadata": {
    "ExecuteTime": {
     "end_time": "2019-03-26T20:35:30.477327Z",
     "start_time": "2019-03-26T20:35:30.421321Z"
    }
   },
   "outputs": [],
   "source": [
    "#Import libraries for this notebook\n",
    "import pandas as pd  \n",
    "from drg_connect import Snowflake\n",
    "import numpy as np\n",
    "import pickle\n",
    "from IPython.core.interactiveshell import InteractiveShell\n",
    "InteractiveShell.ast_node_interactivity = \"all\"\n",
    "\n",
    "#Load connection variables to connect_dict\n",
    "with open('../../out/conn/connect_dict.pickle', 'rb') as handle:\n",
    "    connect_dict = pickle.load(handle)\n",
    "\n",
    "#Create Eegine to connect to snowflake\n",
    "snow = Snowflake(role=connect_dict['role'],\n",
    "                 warehouse=connect_dict['warehouse'],\n",
    "                 database=connect_dict['database'],\n",
    "                 schema=connect_dict['schema'])\n",
    "\n",
    "#Finish engine setup\n",
    "engine = snow.engine\n",
    "%load_ext sql_magic\n",
    "%config SQL.conn_name = 'engine'  #Set the sql_magic connection engine\n",
    "%config SQL.output_result = True  #Enable output to std out\n",
    "%config SQL.notify_result = False #disable browser notifications\n"
   ]
  },
  {
   "cell_type": "markdown",
   "metadata": {},
   "source": [
    "# Data Setup\n",
    "Pull necessary fields from `raven_patient` and `raven_payer` into a single table."
   ]
  },
  {
   "cell_type": "code",
   "execution_count": null,
   "metadata": {
    "ExecuteTime": {
     "end_time": "2019-03-26T14:49:13.493274Z",
     "start_time": "2019-03-26T14:48:58.008274Z"
    }
   },
   "outputs": [],
   "source": [
    "%%read_sql\n",
    "\n",
    "--Identify all data for claims needed for the analysis\n",
    "DROP TABLE IF EXISTS cld_tmp_ins;\n",
    "CREATE TRANSIENT TABLE cld_tmp_ins AS\n",
    "    SELECT pat.patient_id, \n",
    "           pat.claim_id,\n",
    "           pat.claim_number,\n",
    "           pat.payer_sequence,\n",
    "           Max(pat.member_adr_zip) AS member_adr_zip, \n",
    "           Max(pat.member_adr_state) AS member_adr_state, \n",
    "           Max(pat.year_of_service) AS year_of_service, \n",
    "           Max(pat.data_source) AS data_source, \n",
    "           Max(pay.payer_id) AS payer_id, \n",
    "           Max(pay.payer_name) AS payer_name, \n",
    "           Max(pay.type_coverage) AS type_coverage, \n",
    "           'S' AS claim_type\n",
    "      FROM de_raven_patient pat\n",
    "           JOIN de_raven_payer pay\n",
    "             ON pat.patient_id = pay.patient_id\n",
    "                AND pat.claim_id = pay.claim_id\n",
    "                AND (pat.payer_sequence = pay.payer_sequence\n",
    "                     OR pat.payer_sequence IS NULl)\n",
    "                     \n",
    "     GROUP BY pat.patient_id, pat.claim_number, pat.claim_id, pat.payer_sequence;\n",
    "     \n",
    "--Alter the table to add the other stuff that's needed for later updates\n",
    "BEGIN;\n",
    "ALTER TABLE cld_tmp_ins\n",
    "    ADD ins_group varchar(100),\n",
    "        ins_desc varchar(100),\n",
    "        clean_raw_payer_name varchar(100),\n",
    "        oops_payer_id varchar(100), \n",
    "        oops_payer_name varchar(100),\n",
    "        oops_parent_id varchar(100),\n",
    "        oops_parent_name varchar(100),\n",
    "        oops_google_parent_id varchar(100),\n",
    "        oops_google_parent_name varchar(100),\n",
    "        update_payer varchar(100),\n",
    "        oops_update varchar(100),\n",
    "        multiple_payer_flag NUMERIC(1),\n",
    "        impute_flag NUMERIC(1);\n",
    "COMMIT;"
   ]
  },
  {
   "cell_type": "code",
   "execution_count": null,
   "metadata": {
    "ExecuteTime": {
     "end_time": "2019-03-26T14:49:15.503274Z",
     "start_time": "2019-03-26T14:49:13.498274Z"
    }
   },
   "outputs": [],
   "source": [
    "%%read_sql\n",
    "--Review counts from the raw data\n",
    "SELECT data_source, \n",
    "       Count(*) AS cnt,\n",
    "       Count(*) / (SELECT Count(*)\n",
    "                     FROM cld_tmp_ins) AS pct\n",
    "  FROM cld_tmp_ins\n",
    " GROUP BY data_source\n",
    "  "
   ]
  },
  {
   "cell_type": "markdown",
   "metadata": {},
   "source": [
    "# Set Insurance Type\n",
    "Identify the insurance type for the claims from the standard DRG library `rwd_db.rwd_reference_library.insurance_types`"
   ]
  },
  {
   "cell_type": "code",
   "execution_count": null,
   "metadata": {
    "ExecuteTime": {
     "end_time": "2019-03-26T14:49:45.709274Z",
     "start_time": "2019-03-26T14:49:15.506274Z"
    }
   },
   "outputs": [],
   "source": [
    "%%read_sql\n",
    "--Cleanup Payer Name\n",
    "BEGIN;\n",
    "UPDATE cld_tmp_ins\n",
    "   SET clean_raw_payer_name = payer_name; --PRC Where is the cleanup funtion Cleanup(payer_name);\n",
    "COMMIT;\n",
    "\n",
    "--Update insurance type per the official DRG answer\n",
    "BEGIN;\n",
    "UPDATE cld_tmp_ins ins \n",
    "   SET ins.ins_group = type.ici_insurance_group,\n",
    "       ins.ins_desc = type.insurance_type_description\n",
    "  FROM rwd_db.rwd_reference_library.insurance_types type \n",
    " WHERE ins.type_coverage = type.type_coverage;\n",
    "COMMIT;"
   ]
  },
  {
   "cell_type": "code",
   "execution_count": null,
   "metadata": {
    "ExecuteTime": {
     "end_time": "2019-03-26T14:49:48.024274Z",
     "start_time": "2019-03-26T14:49:45.716274Z"
    }
   },
   "outputs": [],
   "source": [
    "%%read_sql\n",
    "--Check the mapped coverage percentages\n",
    "SELECT data_source,\n",
    "       ins_group,\n",
    "       Count(*) AS cnt,\n",
    "       Count(*) / (SELECT Count(*)\n",
    "                     FROM cld_tmp_ins\n",
    "                    WHERE data_source = ins.data_source) AS share,\n",
    "       Count(*) / (SELECT Count(*)\n",
    "                     FROM cld_tmp_ins) AS pct\n",
    "  FROM cld_tmp_ins ins\n",
    " GROUP BY data_source, ins_group\n",
    " ORDER BY data_source, cnt DESC"
   ]
  },
  {
   "cell_type": "markdown",
   "metadata": {},
   "source": [
    "# Vulture Overrides\n",
    "Update the Vulture claims from the vulture crosswalk"
   ]
  },
  {
   "cell_type": "markdown",
   "metadata": {},
   "source": [
    "## Payer id & Name\n",
    "Update the payer_id and payer_name from the crosswalk table"
   ]
  },
  {
   "cell_type": "code",
   "execution_count": null,
   "metadata": {
    "ExecuteTime": {
     "end_time": "2019-03-26T14:50:22.283274Z",
     "start_time": "2019-03-26T14:49:48.026274Z"
    }
   },
   "outputs": [],
   "source": [
    "%%read_sql\n",
    "--Update Vulture Claims from the vulture crosswalk provided by the vendor\n",
    "BEGIN;\n",
    "UPDATE cld_tmp_ins ins\n",
    "   SET ins.payer_id = xw.payer_id ,\n",
    "       ins.payer_name = Coalesce(ins.payer_name,xw.payer_name),\n",
    "       ins.update_payer = 'vulture_claim_ap_xwalk'\n",
    "  FROM project_analytics.payer_mastering.vulture_claim_ap_xwalk xw\n",
    " WHERE Lower(ins.claim_number) = Lower('vul_' || xw.claim_id)\n",
    "       AND data_source = 'VULTURE';\n",
    "COMMIT;"
   ]
  },
  {
   "cell_type": "code",
   "execution_count": null,
   "metadata": {
    "ExecuteTime": {
     "end_time": "2019-03-26T14:50:25.561274Z",
     "start_time": "2019-03-26T14:50:22.286274Z"
    }
   },
   "outputs": [],
   "source": [
    "%%read_sql\n",
    "--Reveiw counts of updated claims via vulture cross walk\n",
    "--Around 75% of vulture claims were updated this way\n",
    "SELECT data_source,\n",
    "       update_payer,\n",
    "       Count(*) AS row_cnt,\n",
    "       Count(*) / (SELECT Count(*)\n",
    "                     FROM cld_tmp_ins\n",
    "                    WHERE data_source = ins.data_source) as share,\n",
    "        Count(*) / (SELECT Count(*)\n",
    "                     FROM cld_tmp_ins) as pct             \n",
    "  FROM cld_tmp_ins ins\n",
    " GROUP BY data_source, update_payer"
   ]
  },
  {
   "cell_type": "markdown",
   "metadata": {},
   "source": [
    "## Medicare Override\n",
    "Set all Vulture claims to medicare that have a numeric claim number"
   ]
  },
  {
   "cell_type": "code",
   "execution_count": null,
   "metadata": {
    "ExecuteTime": {
     "end_time": "2019-03-26T14:50:40.158274Z",
     "start_time": "2019-03-26T14:50:25.566274Z"
    }
   },
   "outputs": [],
   "source": [
    "%%read_sql\n",
    "BEGIN;\n",
    "UPDATE cld_tmp_ins \n",
    "   SET oops_payer_id = 'XW --157081941', \n",
    "       oops_payer_name = 'MEDICARE', \n",
    "       oops_parent_id = 'XW --157081941', \n",
    "       oops_parent_name = 'MEDICARE', \n",
    "       oops_google_parent_id = 'XW --157081941', \n",
    "       oops_google_parent_name = 'MEDICARE',\n",
    "       oops_update = 'Vulture Medicare for numeric'\n",
    " WHERE Regexp_like(Replace(claim_number, 'vul_', '') , '[0-9]*') = true \n",
    "       AND To_number(Replace(claim_number, 'vul_', '')) BETWEEN 1 AND 147766537\n",
    "       AND data_source = 'VULTURE';\n",
    "COMMIT;"
   ]
  },
  {
   "cell_type": "code",
   "execution_count": null,
   "metadata": {
    "ExecuteTime": {
     "end_time": "2019-03-26T14:50:44.650274Z",
     "start_time": "2019-03-26T14:50:40.163274Z"
    }
   },
   "outputs": [],
   "source": [
    "%%read_sql\n",
    "--Revew the row count updated by the vulture medicare override\n",
    "SELECT data_source,\n",
    "       oops_update,\n",
    "       Count(*) AS row_cnt,\n",
    "       Count(*) / (SELECT Count(*)\n",
    "                     FROM cld_tmp_ins\n",
    "                    WHERE data_source = ins.data_source) as share,\n",
    "        Count(*) / (SELECT Count(*)\n",
    "                     FROM cld_tmp_ins) as pct             \n",
    "  FROM cld_tmp_ins ins\n",
    " GROUP BY data_source, oops_update\n",
    " ORDER BY data_source,  oops_update"
   ]
  },
  {
   "cell_type": "code",
   "execution_count": null,
   "metadata": {},
   "outputs": [],
   "source": []
  },
  {
   "cell_type": "markdown",
   "metadata": {},
   "source": [
    "# OOPS Update\n",
    "Update the OOPS data based on the oops reference table"
   ]
  },
  {
   "cell_type": "code",
   "execution_count": null,
   "metadata": {
    "ExecuteTime": {
     "end_time": "2019-03-26T14:51:06.081274Z",
     "start_time": "2019-03-26T14:50:44.654274Z"
    }
   },
   "outputs": [],
   "source": [
    "%%read_sql\n",
    "--OOPS update for Albatross, Condor, and Vulture\n",
    "BEGIN;\n",
    "UPDATE cld_tmp_ins ins \n",
    "   SET ins.oops_payer_id = oops.oops_payer_id, \n",
    "       ins.oops_payer_name = oops.oops_payer_name, \n",
    "       ins.oops_parent_id = oops.oops_parent_id, \n",
    "       ins.oops_parent_name = oops.oops_parent_name, \n",
    "       ins.oops_google_parent_id = oops.oops_google_parent_id, \n",
    "       ins.oops_google_parent_name = oops.oops_google_parent_name,\n",
    "       ins.oops_update = 'oops_payer_xwalk'\n",
    "  FROM project_analytics.payer_mastering.oops_payer_xwalk oops\n",
    " WHERE ins.payer_id = oops.payerid\n",
    "       AND ins.data_source IN ('ALBATROSS','CONDOR','VULTURE');\n",
    "COMMIT;"
   ]
  },
  {
   "cell_type": "code",
   "execution_count": null,
   "metadata": {
    "ExecuteTime": {
     "end_time": "2019-03-26T14:51:09.525274Z",
     "start_time": "2019-03-26T14:51:06.085274Z"
    }
   },
   "outputs": [],
   "source": [
    "%%read_sql\n",
    "--Revew the row count updated by the vulture medicare override\n",
    "SELECT data_source,\n",
    "       oops_update,\n",
    "       Count(*) AS row_cnt,\n",
    "       Count(*) / (SELECT Count(*)\n",
    "                     FROM cld_tmp_ins\n",
    "                    WHERE data_source = ins.data_source) as share,\n",
    "        Count(*) / (SELECT Count(*)\n",
    "                     FROM cld_tmp_ins) as pct             \n",
    "  FROM cld_tmp_ins ins\n",
    " GROUP BY data_source, oops_update\n",
    " ORDER BY data_source,  oops_update"
   ]
  },
  {
   "cell_type": "markdown",
   "metadata": {},
   "source": [
    "# Impute OOPS\n",
    "Impute the missing payers by identfying the nearest claim for that patient that has a legimate payer."
   ]
  },
  {
   "cell_type": "code",
   "execution_count": null,
   "metadata": {
    "ExecuteTime": {
     "end_time": "2019-03-26T14:51:20.109274Z",
     "start_time": "2019-03-26T14:51:09.528274Z"
    }
   },
   "outputs": [],
   "source": [
    "%%read_sql\n",
    "--Identify all of the claims without an OOPS payer\n",
    "DROP TABLE IF EXISTS tmp_no_payer;\n",
    "CREATE TRANSIENT TABLE tmp_no_payer AS\n",
    "    SELECT *\n",
    "      FROM cld_tmp_ins\n",
    "     WHERE oops_payer_id IS NULL;\n",
    "     \n",
    "--Get counts of rows, claims and patients\n",
    "SELECT Count(*) AS row_cnt,\n",
    "       Count(Distinct patient_id) as pt_cnt,\n",
    "       Count(Distinct claim_id) AS claim_cnt\n",
    "  FROM tmp_no_payer;"
   ]
  },
  {
   "cell_type": "markdown",
   "metadata": {},
   "source": [
    "## Patient_id, zip3, type_coverage\n",
    "Impute NULL OOPS payers by identifying the nearest claim with a matching patient_id, zip3, and type_coverage."
   ]
  },
  {
   "cell_type": "code",
   "execution_count": null,
   "metadata": {
    "ExecuteTime": {
     "end_time": "2019-03-26T14:51:31.757274Z",
     "start_time": "2019-03-26T14:51:20.119274Z"
    }
   },
   "outputs": [],
   "source": [
    "%%read_sql\n",
    "/*Identify how many days away from a claim without an `oops_payer_id` is another claim with an oops_payer_id\n",
    "with a matching patient_id, zip3, and type_coverage*/\n",
    "DROP TABLE IF EXISTS tmp_nearest_delta;\n",
    "CREATE TRANSIENT TABLE tmp_nearest_delta AS\n",
    "    SELECT nopay.patient_id,\n",
    "           nopay.claim_id,\n",
    "           nopay.type_coverage,\n",
    "           nopay.year_of_service,\n",
    "           Min(Abs(Datediff(d,nopay.year_of_service,ins.year_of_service))) AS days_delta\n",
    "      FROM cld_tmp_ins ins\n",
    "           JOIN tmp_no_payer nopay\n",
    "             ON nopay.patient_id = ins.patient_id\n",
    "                AND nopay.member_adr_zip = ins.member_adr_zip\n",
    "                AND nopay.type_coverage = ins.type_coverage\n",
    "     WHERE ins.oops_payer_id IS NOT NULL\n",
    "     GROUP BY nopay.patient_id, nopay.claim_id, nopay.type_coverage, nopay.year_of_service;\n",
    "\n",
    "--Determine how many claims are close\n",
    "SELECT Count(*) AS row_cnt,\n",
    "       Count(Distinct patient_id) as pt_cnt,\n",
    "       Count(Distinct claim_id) AS claim_cnt,\n",
    "       Count(Distinct patient_id, claim_id, type_coverage) AS combo_cnt\n",
    "  FROM tmp_nearest_delta;"
   ]
  },
  {
   "cell_type": "code",
   "execution_count": null,
   "metadata": {
    "ExecuteTime": {
     "end_time": "2019-03-26T14:51:38.394274Z",
     "start_time": "2019-03-26T14:51:31.758274Z"
    }
   },
   "outputs": [],
   "source": [
    "%%read_sql\n",
    "/*Identiy the claim date of a claim with an oops_id that is the minimum\n",
    "number of days away from the claim without an oops_id.  In case of a tie\n",
    "pick the earlier claim*/\n",
    "DROP TABLE IF EXISTS temp_nearest_date;\n",
    "CREATE TRANSIENT TABLE temp_nearest_date AS\n",
    "    SELECT delta.patient_id,\n",
    "           delta.claim_id,\n",
    "           delta.type_coverage,\n",
    "           Min(ins.year_of_service) AS nearest_claim_dt\n",
    "      FROM tmp_nearest_delta delta\n",
    "           JOIN cld_tmp_ins ins\n",
    "             ON delta.patient_id = ins.patient_id\n",
    "                AND delta.type_coverage = ins.type_coverage\n",
    "                AND Abs(Datediff(d,delta.year_of_service,ins.year_of_service)) = delta.days_delta\n",
    "     WHERE ins.oops_payer_id IS NOT NULL\n",
    "     GROUP BY delta.patient_id, delta.claim_id, delta.type_coverage;"
   ]
  },
  {
   "cell_type": "code",
   "execution_count": null,
   "metadata": {
    "ExecuteTime": {
     "end_time": "2019-03-26T14:51:40.323274Z",
     "start_time": "2019-03-26T14:51:38.398274Z"
    }
   },
   "outputs": [],
   "source": [
    "%%read_sql\n",
    "/*Confirm counts of rows, patients, and claim counts makes sense*/\n",
    "SELECT Count(*) AS row_cnt,\n",
    "       Count(Distinct patient_id) AS pt_cnt,\n",
    "       Count(Distinct claim_id) AS claim_cnt\n",
    "  FROM temp_nearest_date;"
   ]
  },
  {
   "cell_type": "code",
   "execution_count": null,
   "metadata": {
    "ExecuteTime": {
     "end_time": "2019-03-26T14:51:45.131274Z",
     "start_time": "2019-03-26T14:51:40.325274Z"
    }
   },
   "outputs": [],
   "source": [
    "%%read_sql\n",
    "--Identify the oops_id of the nearest claim with a non null oops_id\n",
    "DROP TABLE IF EXISTS tmp_nearest_claim;\n",
    "CREATE TRANSIENT TABLE tmp_nearest_claim AS \n",
    "  SELECT nearest.patient_id, \n",
    "         nearest.claim_id, \n",
    "         nearest.type_coverage,\n",
    "         ins.oops_payer_id\n",
    "    FROM temp_nearest_date nearest \n",
    "         JOIN cld_tmp_ins ins \n",
    "           ON nearest.patient_id = ins.patient_id \n",
    "              AND nearest.nearest_claim_dt = ins.year_of_service \n",
    "   WHERE ins.oops_payer_id IS NOT NULL\n",
    "   GROUP BY nearest.patient_id, \n",
    "            nearest.claim_id, \n",
    "            nearest.type_coverage,\n",
    "            ins.oops_payer_id; "
   ]
  },
  {
   "cell_type": "code",
   "execution_count": null,
   "metadata": {
    "ExecuteTime": {
     "end_time": "2019-03-26T14:51:47.663274Z",
     "start_time": "2019-03-26T14:51:45.134274Z"
    }
   },
   "outputs": [],
   "source": [
    "%%read_sql\n",
    "/*Confirm the counts of claims makes sense. The row count will be a bit higher\n",
    "as there are some claims where more than one insurance and they will be counted\n",
    "as such*/\n",
    "SELECT Count(*) AS row_cnt,\n",
    "       Count(Distinct patient_id) AS pt_cnt,\n",
    "       Count(Distinct claim_id)\n",
    "  FROM tmp_nearest_claim;"
   ]
  },
  {
   "cell_type": "markdown",
   "metadata": {},
   "source": [
    "### Output\n",
    "Create a new table with the imputed oops_id with identical columns to the other insurance table.  Later they will all be merged together."
   ]
  },
  {
   "cell_type": "code",
   "execution_count": null,
   "metadata": {
    "ExecuteTime": {
     "end_time": "2019-03-26T14:51:56.986274Z",
     "start_time": "2019-03-26T14:51:47.665274Z"
    }
   },
   "outputs": [],
   "source": [
    "%%read_sql\n",
    "--Create oops lookup table\n",
    "CREATE OR REPLACE TEMP TABLE tmp_oops_unique AS\n",
    "    SELECT DISTINCT oops_payer_id,\n",
    "                    oops_payer_name,\n",
    "                    oops_parent_id,\n",
    "                    oops_parent_name,\n",
    "                    oops_google_parent_id,\n",
    "                    oops_google_parent_name\n",
    "      FROM project_analytics.payer_mastering.oops_payer_xwalk;\n",
    "\n",
    "--CREATE TRANSIENT TABLE of imputed claims\n",
    "DROP TABLE IF EXISTS tmp_imput_id_zip_type;\n",
    "CREATE TRANSIENT TABLE tmp_imput_id_zip_type AS\n",
    "    SELECT pay.patient_id,\n",
    "           pay.claim_id,\n",
    "           pay.claim_number,\n",
    "           pay.payer_sequence,\n",
    "           pay.member_adr_zip,\n",
    "           pay.member_adr_state,\n",
    "           pay.year_of_service,\n",
    "           pay.data_source,\n",
    "           pay.payer_id,\n",
    "           pay.payer_name,\n",
    "           pay.type_coverage,\n",
    "           pay.claim_type,\n",
    "           pay.ins_group,\n",
    "           pay.ins_desc,\n",
    "           pay.clean_raw_payer_name,\n",
    "           near.oops_payer_id,\n",
    "           oops.oops_payer_name,\n",
    "           oops.oops_parent_id,\n",
    "           oops.oops_parent_name,\n",
    "           oops.oops_google_parent_id,\n",
    "           oops.oops_google_parent_name,\n",
    "           pay.update_payer,\n",
    "           'imput patient_id, zip, type' AS oops_update,\n",
    "           NULL AS multiple_payer_flag,\n",
    "           1 AS impute_flag\n",
    "      FROM tmp_no_payer pay\n",
    "           JOIN tmp_nearest_claim near\n",
    "             ON pay.patient_id = near.patient_id\n",
    "                AND pay.claim_id = near.claim_id\n",
    "                AND pay.type_coverage = near.type_coverage\n",
    "           JOIN tmp_oops_unique oops\n",
    "             ON oops.oops_payer_id = near.oops_payer_id"
   ]
  },
  {
   "cell_type": "code",
   "execution_count": null,
   "metadata": {
    "ExecuteTime": {
     "end_time": "2019-03-26T14:51:59.084274Z",
     "start_time": "2019-03-26T14:51:56.988274Z"
    }
   },
   "outputs": [],
   "source": [
    "%%read_sql\n",
    "SELECT Count(*) AS row_cnt,\n",
    "       Count(Distinct patient_id) AS pt_cnt,\n",
    "       Count(Distinct claim_id) AS claim_cnt\n",
    "  FROM tmp_imput_id_zip_type"
   ]
  },
  {
   "cell_type": "markdown",
   "metadata": {},
   "source": [
    "# Final Table\n",
    "Pull together all insurance data and imputed claims into a single final table"
   ]
  },
  {
   "cell_type": "code",
   "execution_count": null,
   "metadata": {
    "ExecuteTime": {
     "end_time": "2019-03-26T14:52:16.071274Z",
     "start_time": "2019-03-26T14:51:59.088274Z"
    }
   },
   "outputs": [],
   "source": [
    "%%read_sql\n",
    "\n",
    "--Pull together all non imputed claims with imputed claims\n",
    "DROP TABLE IF EXISTS cld_med_ins;\n",
    "CREATE TRANSIENT TABLE cld_med_ins AS\n",
    "    --Non imputed claims\n",
    "    SELECT *\n",
    "      FROM cld_tmp_ins\n",
    "     WHERE Not(claim_id IN (SELECT claim_id\n",
    "                              FROM tmp_imput_id_zip_type))\n",
    "     UNION \n",
    "    --Imputed claims by matching patient_id, zip3, and coverage_type \n",
    "    SELECT *\n",
    "      FROM tmp_imput_id_zip_type;"
   ]
  },
  {
   "cell_type": "markdown",
   "metadata": {},
   "source": [
    "## Multiple payer flag\n",
    "Identify claims with multiple payers"
   ]
  },
  {
   "cell_type": "code",
   "execution_count": null,
   "metadata": {
    "ExecuteTime": {
     "end_time": "2019-03-26T14:52:41.767274Z",
     "start_time": "2019-03-26T14:52:16.073274Z"
    }
   },
   "outputs": [],
   "source": [
    "%%read_sql\n",
    "--update multiple payer flag\n",
    "CREATE OR REPLACE TEMP TABLE tmp_payer_cnt AS\n",
    "    SELECT patient_id,\n",
    "           claim_id,\n",
    "           Count(Distinct oops_payer_id) AS payer_cnt\n",
    "      FROM cld_med_ins\n",
    "     GROUP BY patient_id, claim_id;\n",
    "\n",
    "--Identify claims with more than 1 distinct payer\n",
    "BEGIN;\n",
    "UPDATE cld_med_ins ins\n",
    "   SET ins.multiple_payer_flag = CASE WHEN payer_cnt > 1 THEN 1 ELSE 0 END\n",
    "  FROM tmp_payer_cnt pay\n",
    " WHERE ins.patient_id = pay.patient_id\n",
    "       AND ins.claim_id = pay.claim_id;\n",
    "\n",
    "COMMIT;"
   ]
  },
  {
   "cell_type": "code",
   "execution_count": null,
   "metadata": {
    "ExecuteTime": {
     "end_time": "2019-03-26T14:52:44.069274Z",
     "start_time": "2019-03-26T14:52:41.772274Z"
    }
   },
   "outputs": [],
   "source": [
    "%%read_sql\n",
    "--Check on the imputed claim counts\n",
    "SELECT multiple_payer_flag,\n",
    "       Count(*) AS cnt,\n",
    "       Count(*) / (SELECT Count(*)\n",
    "                     FROM cld_tmp_ins\n",
    "                    WHERE oops_payer_id IS NOT NULL) AS pct\n",
    "  FROM cld_med_ins\n",
    " WHERE oops_payer_id IS NOT NULL\n",
    " GROUP BY multiple_payer_flag;"
   ]
  },
  {
   "cell_type": "code",
   "execution_count": null,
   "metadata": {
    "ExecuteTime": {
     "end_time": "2019-03-26T14:52:48.025274Z",
     "start_time": "2019-03-26T14:52:44.074274Z"
    }
   },
   "outputs": [],
   "source": [
    "%%read_sql\n",
    "--Summary stats for final table\n",
    "SELECT data_source,\n",
    "       oops_update,\n",
    "       Count(Distinct claim_id) AS cnt,\n",
    "       Count(Distinct claim_id) / (SELECT Count(Distinct claim_id)\n",
    "                                     FROM cld_tmp_ins\n",
    "                                    WHERE data_source = ins.data_source) AS share,\n",
    "       Count(Distinct claim_id) / (SELECT Count(Distinct claim_id)\n",
    "                                     FROM cld_tmp_ins) AS pct\n",
    "       \n",
    "  FROM cld_med_ins ins\n",
    " GROUP BY data_source, oops_update\n",
    " ORDER BY data_source, pct desc"
   ]
  },
  {
   "cell_type": "markdown",
   "metadata": {},
   "source": [
    "# Delete tables\n",
    "Delete intermediate tables"
   ]
  },
  {
   "cell_type": "code",
   "execution_count": null,
   "metadata": {
    "ExecuteTime": {
     "end_time": "2019-03-26T14:53:00.113274Z",
     "start_time": "2019-03-26T14:52:48.032274Z"
    }
   },
   "outputs": [],
   "source": [
    "%%read_sql\n",
    "--Clear out unnecessary tables\n",
    "DROP TABLE IF EXISTS cld_tmp_ins;\n",
    "DROP TABLE IF EXISTS tmp_no_payer;\n",
    "DROP TABLE IF EXISTS tmp_nearest_delta;\n",
    "DROP TABLE IF EXISTS tmp_no_payer;\n",
    "DROP TABLE IF EXISTS tmp_nearest_delta;\n",
    "DROP TABLE IF EXISTS temp_nearest_date;\n",
    "DROP TABLE IF EXISTS tmp_nearest_claim;\n",
    "DROP TABLE IF EXISTS tmp_imput_id_zip_type;"
   ]
  },
  {
   "cell_type": "code",
   "execution_count": null,
   "metadata": {},
   "outputs": [],
   "source": []
  }
 ],
 "metadata": {
  "kernelspec": {
   "display_name": "Python 3",
   "language": "python",
   "name": "python3"
  },
  "language_info": {
   "codemirror_mode": {
    "name": "ipython",
    "version": 3
   },
   "file_extension": ".py",
   "mimetype": "text/x-python",
   "name": "python",
   "nbconvert_exporter": "python",
   "pygments_lexer": "ipython3",
   "version": "3.6.5"
  },
  "toc": {
   "nav_menu": {},
   "number_sections": true,
   "sideBar": true,
   "skip_h1_title": false,
   "title_cell": "Table of Contents",
   "title_sidebar": "Contents",
   "toc_cell": false,
   "toc_position": {
    "height": "calc(100% - 180px)",
    "left": "10px",
    "top": "150px",
    "width": "320px"
   },
   "toc_section_display": true,
   "toc_window_display": true
  }
 },
 "nbformat": 4,
 "nbformat_minor": 2
}
