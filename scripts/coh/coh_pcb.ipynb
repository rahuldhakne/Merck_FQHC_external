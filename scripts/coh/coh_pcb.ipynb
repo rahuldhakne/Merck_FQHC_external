{
 "cells": [
  {
   "cell_type": "markdown",
   "metadata": {},
   "source": [
    "# Patient Basic\n",
    "Create patient cohort of all patients who have at least 1 claim wtih a code in `ref_cohort` between the dates of interest.\n",
    "\n",
    "**Script**\n",
    "* [scripts/coh/coh_basic.ipynb](./scripts/coh/coh_basic.ipynb)\n",
    " \n",
    "**Parameters**\n",
    "* `in/coh/coh_basic.xlsx[param]`\n",
    "* `in/coh/coh_basic.xlsx[ref]`\n",
    "\n",
    "**Input**\n",
    "* None\n",
    "\n",
    "**Output**\n",
    "* `coh_basic_ref`\n",
    "* `coh_basic_raven_diagnosis`\n",
    "* `coh_basic_raven_pharmacy`\n",
    "* `coh_basic_raven_procedure`\n",
    "* `coh_pt`\n",
    "* `coh_claim`\n",
    "\n",
    "**Review**\n",
    "* [scripts/coh/coh_basic.html](./scripts/coh/coh_basic.html)"
   ]
  },
  {
   "cell_type": "code",
   "execution_count": null,
   "metadata": {
    "ExecuteTime": {
     "end_time": "2019-04-30T19:02:21.887546Z",
     "start_time": "2019-04-30T19:02:18.277546Z"
    }
   },
   "outputs": [],
   "source": [
    "#Import libraries for this notebook\n",
    "import pandas as pd  \n",
    "from drg_connect import Snowflake\n",
    "import numpy as np\n",
    "import pickle\n",
    "from IPython.core.interactiveshell import InteractiveShell\n",
    "InteractiveShell.ast_node_interactivity = \"all\"\n",
    "\n",
    "#Load connection variables to connect_dict\n",
    "with open('../../out/conn/connect_dict.pickle', 'rb') as handle:\n",
    "    connect_dict = pickle.load(handle)\n",
    "\n",
    "#Create Eegine to connect to snowflake\n",
    "snow = Snowflake(role=connect_dict['role'],\n",
    "                 warehouse=connect_dict['warehouse'],\n",
    "                 database=connect_dict['database'],\n",
    "                 schema=connect_dict['schema'])\n",
    "\n",
    "#Finish engine setup\n",
    "engine = snow.engine\n",
    "%load_ext sql_magic\n",
    "%config SQL.conn_name = 'engine'  #Set the sql_magic connection engine\n",
    "%config SQL.output_result = True  #Enable output to std out\n",
    "%config SQL.notify_result = False #disable browser notifications"
   ]
  },
  {
   "cell_type": "markdown",
   "metadata": {},
   "source": [
    "# Parameters\n",
    "Python dictionary of parameters for the cohort basic procedure\n",
    "\n",
    "**Input**  \n",
    "* `in/coh/coh_basic.xlsx[param]`\n",
    "\n",
    "**Output**\n",
    "* Python variables named after parameters with the value\n"
   ]
  },
  {
   "cell_type": "code",
   "execution_count": null,
   "metadata": {
    "ExecuteTime": {
     "end_time": "2019-04-30T19:07:49.447683Z",
     "start_time": "2019-04-30T19:07:49.412680Z"
    }
   },
   "outputs": [],
   "source": [
    "#Create system variables from excel into script and review values in dictionary\n",
    "input_df = pd.read_excel('../../in/coh/coh_pcb.xlsx', sheet_name='param', skiprows=4, dtype=str)\n",
    "var_dict = dict(zip(input_df.parameter, input_df.value))\n",
    "for key,val in var_dict.items(): exec(key + '=val')\n",
    "\n",
    "#Check inputs\n",
    "pd.DataFrame.from_dict(var_dict, orient='index')"
   ]
  },
  {
   "cell_type": "markdown",
   "metadata": {},
   "source": [
    "# Extract \n",
    "Extract raw data using the reference table and parameters for this module"
   ]
  },
  {
   "cell_type": "markdown",
   "metadata": {},
   "source": [
    "## Diagnosis\n",
    "Extract the subset from raven diagnosis \n",
    "\n",
    "**Parameters**\n",
    "  * `med_dx_start_dt`\n",
    "  * `med_dx_end_dt`  \n",
    "  \n",
    "**Input**\n",
    "  * `coh_basic_ref`\n",
    "  * `rwd_db.rwd.raven_external_claims_submits_diagnosis`\n",
    "  \n",
    "**Output**  \n",
    "* `coh_basic_raven_diagnosis`\n"
   ]
  },
  {
   "cell_type": "code",
   "execution_count": null,
   "metadata": {
    "ExecuteTime": {
     "end_time": "2019-04-30T19:08:20.997502Z",
     "start_time": "2019-04-30T19:07:58.027209Z"
    }
   },
   "outputs": [],
   "source": [
    "%%read_sql\n",
    "\n",
    "--CREATE TRANSIENT TABLE of all claims with the codes of interest\n",
    "DROP TABLE IF EXISTS coh_basic_raven_diagnosis;\n",
    "CREATE TRANSIENT TABLE coh_basic_raven_diagnosis as\n",
    "      SELECT patient_id,\n",
    "             claim_id,\n",
    "             code_type, \n",
    "             diagnosis,\n",
    "             diagnosis_sequence,\n",
    "             year_of_service\n",
    "        FROM {submits_diagnosis};"
   ]
  },
  {
   "cell_type": "code",
   "execution_count": null,
   "metadata": {
    "ExecuteTime": {
     "end_time": "2019-04-30T19:08:31.298446Z",
     "start_time": "2019-04-30T19:08:22.582574Z"
    }
   },
   "outputs": [],
   "source": [
    "%%read_sql\n",
    "--Check the raw counts of the initial data pull\n",
    "SELECT Count(*) AS row_cnt,\n",
    "       Count(Distinct patient_id) AS patient_cnt,\n",
    "       Count(Distinct claim_id) AS claim_cnt,\n",
    "       Count(Distinct diagnosis) AS diagnosis_cnt\n",
    "  FROM coh_basic_raven_diagnosis"
   ]
  },
  {
   "cell_type": "code",
   "execution_count": null,
   "metadata": {
    "ExecuteTime": {
     "end_time": "2019-04-30T19:08:36.549971Z",
     "start_time": "2019-04-30T19:08:31.301446Z"
    }
   },
   "outputs": [],
   "source": [
    "%%read_sql\n",
    "--Review counts by year and code_type\n",
    "SELECT year(year_of_service) AS yr,\n",
    "       code_type,\n",
    "       Count(*) AS cnt\n",
    "  FROM coh_basic_raven_diagnosis\n",
    " GROUP BY yr, code_type\n",
    " ORDER BY yr, code_type"
   ]
  },
  {
   "cell_type": "markdown",
   "metadata": {},
   "source": [
    "## Procedures\n",
    "Identify subset of Raven procedures that have the procedure or rx codes of interest between the dates.\n",
    "\n",
    "**Parameters**  \n",
    "  * `med_proc_start_dt`\n",
    "  * `med_proc_end_dt`\n",
    "  * `med_rx_start_dt`\n",
    "  * `med_rx_end_dt`\n",
    "  \n",
    "**Input**\n",
    "  * `coh_basic_ref`\n",
    "  * `rwd_db.rwd.raven_external_claims_submits_procedure`\n",
    "\n",
    "**Output**  \n",
    "* `coh_basic_raven_procedure`"
   ]
  },
  {
   "cell_type": "code",
   "execution_count": null,
   "metadata": {
    "ExecuteTime": {
     "end_time": "2019-04-30T19:09:34.947098Z",
     "start_time": "2019-04-30T19:09:00.196624Z"
    }
   },
   "outputs": [],
   "source": [
    "%%read_sql\n",
    "--Identify subset of procedure claims of interest for procedure & rx codes of interest\n",
    "DROP TABLE IF EXISTS coh_basic_raven_procedure;\n",
    "CREATE TRANSIENT TABLE coh_basic_raven_procedure as\n",
    "      SELECT patient_id,\n",
    "             claim_id,\n",
    "             procedure_type,\n",
    "             procedure,\n",
    "             year_of_service,\n",
    "             ndc\n",
    "        FROM {submits_procedure};"
   ]
  },
  {
   "cell_type": "code",
   "execution_count": null,
   "metadata": {
    "ExecuteTime": {
     "end_time": "2019-04-30T19:09:45.902194Z",
     "start_time": "2019-04-30T19:09:34.949099Z"
    }
   },
   "outputs": [],
   "source": [
    "%%read_sql\n",
    "--Check the raw counts from the procedure data pull\n",
    "SELECT Count(*)                     AS row_cnt, \n",
    "       Count(DISTINCT patient_id)   AS patient_cnt, \n",
    "       Count(DISTINCT claim_id) AS claim_cnt, \n",
    "       Count(DISTINCT procedure)    AS procedure_cnt, \n",
    "       Count(DISTINCT ndc)          AS ndc_cnt \n",
    "  FROM coh_basic_raven_procedure; "
   ]
  },
  {
   "cell_type": "markdown",
   "metadata": {},
   "source": [
    "## Pharmacy\n",
    "Identify patients from Raven Pharmacy using the codes of interest\n",
    "\n",
    "**Parameters**\n",
    "* `phar_rx_start_dt`\n",
    "* `phar_rx_end_dt`\n",
    "\n",
    "**Input**\n",
    "  * `coh_basic_ref`\n",
    "  * `rwd_db.rwd.raven_external_pharmacy `\n",
    "\n",
    "**Output**  \n",
    "* `coh_basic_raven_pharmacy`"
   ]
  },
  {
   "cell_type": "code",
   "execution_count": null,
   "metadata": {
    "ExecuteTime": {
     "end_time": "2019-04-30T19:10:30.122855Z",
     "start_time": "2019-04-30T19:09:45.904194Z"
    }
   },
   "outputs": [],
   "source": [
    "%%read_sql\n",
    "--Create pharmacy table with codes of interest\n",
    "DROP TABLE IF EXISTS coh_basic_raven_pharmacy;\n",
    "CREATE TRANSIENT TABLE coh_basic_raven_pharmacy AS\n",
    "    SELECT patient_id,\n",
    "           claim_id,\n",
    "           prescriber_id            AS npi, \n",
    "           product_or_service_id    AS ndc, \n",
    "           date_of_service\n",
    "      FROM {raven_pharmacy}; "
   ]
  },
  {
   "cell_type": "code",
   "execution_count": null,
   "metadata": {
    "ExecuteTime": {
     "end_time": "2019-04-30T19:10:37.574331Z",
     "start_time": "2019-04-30T19:10:30.126855Z"
    }
   },
   "outputs": [],
   "source": [
    "%%read_sql\n",
    "SELECT Count(*) AS row_cnt,\n",
    "       Count(Distinct claim_id) AS claim_cnt,\n",
    "       Count(Distinct patient_id) AS patient_cnt,\n",
    "       Count(Distinct ndc) AS ndc_cnt\n",
    "  FROM coh_basic_raven_pharmacy"
   ]
  },
  {
   "cell_type": "code",
   "execution_count": null,
   "metadata": {
    "ExecuteTime": {
     "end_time": "2019-04-30T19:10:51.708510Z",
     "start_time": "2019-04-30T19:10:37.574331Z"
    }
   },
   "outputs": [],
   "source": [
    "%%read_sql\n",
    "SELECT ndc,\n",
    "       Count(*) AS row_cnt,\n",
    "       Count(Distinct claim_id) AS claim_cnt,\n",
    "       Count(Distinct patient_id) AS patient_cnt,\n",
    "       Count(Distinct ndc) AS ndc_cnt\n",
    "  FROM coh_basic_raven_pharmacy\n",
    " GROUP BY ndc\n",
    " ORDER BY row_cnt DESC;"
   ]
  },
  {
   "cell_type": "markdown",
   "metadata": {},
   "source": [
    "# Create cohorts\n",
    "Create a few key tables for the cohorts"
   ]
  },
  {
   "cell_type": "markdown",
   "metadata": {},
   "source": [
    "## Patients\n",
    "Create a cohort of all the unique patient_ids \n",
    "\n",
    "**Input**\n",
    "* `coh_basic_raven_diagnosis`\n",
    "* `coh_basic_raven_procedure`\n",
    "* `coh_basic_raven_pharmacy`\n",
    "\n",
    "**Output**  \n",
    "* `coh_pt`"
   ]
  },
  {
   "cell_type": "code",
   "execution_count": null,
   "metadata": {
    "ExecuteTime": {
     "end_time": "2019-04-30T19:12:00.166173Z",
     "start_time": "2019-04-30T19:11:46.688825Z"
    }
   },
   "outputs": [],
   "source": [
    "%%read_sql\n",
    "--Create final cohort of unique patients from the extracts\n",
    "DROP TABLE IF EXISTS coh_pt;\n",
    "CREATE TRANSIENT TABLE coh_pt AS \n",
    "  SELECT patient_id, \n",
    "         Max(src_med_dx)   AS src_med_dx, \n",
    "         Max(src_med_proc) AS src_med_proc,\n",
    "         Max(src_med_rx)   AS src_med_rx,\n",
    "         Max(src_phar_rx)  AS src_phar_rx \n",
    "    FROM (--Medical Diagnosis Claims\n",
    "          SELECT patient_id, \n",
    "                 1 AS src_med_dx, \n",
    "                 0 AS src_med_proc, \n",
    "                 0 AS src_med_rx,\n",
    "                 0 AS src_phar_rx \n",
    "            FROM coh_basic_raven_diagnosis \n",
    "          UNION \n",
    "          --Medical Procedural claims using procedure codes\n",
    "          SELECT patient_id, \n",
    "                 0 AS src_med_dx, \n",
    "                 1 AS src_med_proc, \n",
    "                 0 AS src_med_rx,\n",
    "                 0 AS src_phar_rx \n",
    "            FROM coh_basic_raven_procedure\n",
    "          UNION \n",
    "          --Medical Procedural claims using ndc codes\n",
    "          SELECT patient_id, \n",
    "                 0 AS src_med_dx, \n",
    "                 0 AS src_med_proc, \n",
    "                 1 AS src_med_rx,\n",
    "                 0 AS src_phar_rx \n",
    "            FROM coh_basic_raven_procedure\n",
    "          UNION \n",
    "         --Pharmacy claims\n",
    "          SELECT patient_id, \n",
    "                 0 AS src_med_dx, \n",
    "                 0 AS src_med_proc,\n",
    "                 0 AS src_med_rx,\n",
    "                 1 AS src_phar_rx \n",
    "            FROM coh_basic_raven_pharmacy) \n",
    "   WHERE patient_id IS NOT NULL \n",
    "   GROUP BY patient_id; "
   ]
  },
  {
   "cell_type": "code",
   "execution_count": null,
   "metadata": {
    "ExecuteTime": {
     "end_time": "2019-04-30T19:12:08.002769Z",
     "start_time": "2019-04-30T19:12:04.471416Z"
    }
   },
   "outputs": [],
   "source": [
    "%%read_sql\n",
    "--Review counts and confirm they are unique\n",
    "SELECT Count(*)                   AS row_cnt, \n",
    "       Count(DISTINCT patient_id) AS patient_cnt, \n",
    "       Sum(src_med_dx)            AS src_med_dx_sum, \n",
    "       Sum(src_med_proc)          AS src_med_proc_sum, \n",
    "       Sum(src_med_rx)            AS src_med_rx_sum,\n",
    "       Sum(src_phar_rx)           AS src_phar_rx_sum\n",
    "  FROM coh_pt"
   ]
  },
  {
   "cell_type": "markdown",
   "metadata": {},
   "source": [
    "## Claims\n",
    "Identify all of the unique claim numbers that were extracted from the analysis for later use\n",
    "\n",
    "**Input**\n",
    "* `coh_basic_raven_diagnosis`\n",
    "* `coh_basic_raven_procedure`\n",
    "* `coh_basic_raven_pharmacy`\n",
    "\n",
    "**Output**  \n",
    "* `coh_claims`"
   ]
  },
  {
   "cell_type": "code",
   "execution_count": null,
   "metadata": {
    "ExecuteTime": {
     "end_time": "2019-04-30T19:14:03.844612Z",
     "start_time": "2019-04-30T19:13:13.718600Z"
    }
   },
   "outputs": [],
   "source": [
    "%%read_sql\n",
    "--Create final cohort of unique patients from the extracts\n",
    "DROP TABLE IF EXISTS coh_claim;\n",
    "CREATE TRANSIENT TABLE coh_claim AS \n",
    "  SELECT patient_id, \n",
    "         claim_id,\n",
    "         Max(src_med_dx)   AS src_med_dx, \n",
    "         Max(src_med_proc) AS src_med_proc,\n",
    "         Max(src_med_rx)   AS src_med_rx,\n",
    "         Max(src_phar_rx)  AS src_phar_rx \n",
    "    FROM (--Medical Diagnosis Claims\n",
    "          SELECT patient_id, \n",
    "                 claim_id,\n",
    "                 1 AS src_med_dx, \n",
    "                 0 AS src_med_proc, \n",
    "                 0 AS src_med_rx,\n",
    "                 0 AS src_phar_rx \n",
    "            FROM coh_basic_raven_diagnosis \n",
    "          UNION \n",
    "          --Medical Procedural claims using procedure codes\n",
    "          SELECT patient_id, \n",
    "                 claim_id,\n",
    "                 0 AS src_med_dx, \n",
    "                 1 AS src_med_proc, \n",
    "                 0 AS src_med_rx,\n",
    "                 0 AS src_phar_rx \n",
    "            FROM coh_basic_raven_procedure\n",
    "          UNION \n",
    "          --Medical Procedural claims using ndc codes\n",
    "          SELECT patient_id, \n",
    "                 claim_id,\n",
    "                 0 AS src_med_dx, \n",
    "                 0 AS src_med_proc, \n",
    "                 1 AS src_med_rx,\n",
    "                 0 AS src_phar_rx \n",
    "            FROM coh_basic_raven_procedure\n",
    "          UNION \n",
    "         --Pharmacy claims\n",
    "          SELECT patient_id, \n",
    "                 claim_id,\n",
    "                 0 AS src_med_dx, \n",
    "                 0 AS src_med_proc,\n",
    "                 0 AS src_med_rx,\n",
    "                 1 AS src_phar_rx \n",
    "            FROM coh_basic_raven_pharmacy) \n",
    "   WHERE patient_id IS NOT NULL\n",
    "         AND claim_id IS NOT NULL\n",
    "   GROUP BY patient_id, claim_id; "
   ]
  },
  {
   "cell_type": "code",
   "execution_count": null,
   "metadata": {
    "ExecuteTime": {
     "end_time": "2019-04-30T19:14:13.094537Z",
     "start_time": "2019-04-30T19:14:03.849613Z"
    }
   },
   "outputs": [],
   "source": [
    "%%read_sql\n",
    "--Review counts and confirm they are unique\n",
    "SELECT Count(*)                     AS row_cnt, \n",
    "       Count(DISTINCT patient_id)   AS patient_cnt, \n",
    "       Count(Distinct claim_id) AS claim_cnt,\n",
    "       Sum(src_med_dx)              AS src_med_dx_sum, \n",
    "       Sum(src_med_proc)            AS src_med_proc_sum, \n",
    "       Sum(src_med_rx)              AS src_med_rx_sum,\n",
    "       Sum(src_phar_rx)             AS src_phar_rx_sum\n",
    "  FROM coh_claim"
   ]
  }
 ],
 "metadata": {
  "kernelspec": {
   "display_name": "Python 3",
   "language": "python",
   "name": "python3"
  },
  "language_info": {
   "codemirror_mode": {
    "name": "ipython",
    "version": 3
   },
   "file_extension": ".py",
   "mimetype": "text/x-python",
   "name": "python",
   "nbconvert_exporter": "python",
   "pygments_lexer": "ipython3",
   "version": "3.7.3"
  },
  "toc": {
   "nav_menu": {},
   "number_sections": true,
   "sideBar": true,
   "skip_h1_title": false,
   "title_cell": "Table of Contents",
   "title_sidebar": "Contents",
   "toc_cell": false,
   "toc_position": {
    "height": "725px",
    "left": "476px",
    "top": "274.6px",
    "width": "242px"
   },
   "toc_section_display": true,
   "toc_window_display": true
  }
 },
 "nbformat": 4,
 "nbformat_minor": 2
}
