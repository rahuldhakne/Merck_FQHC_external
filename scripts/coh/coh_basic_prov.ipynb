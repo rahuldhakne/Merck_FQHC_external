{
 "cells": [
  {
   "cell_type": "markdown",
   "metadata": {},
   "source": [
    "# Provider Basic\n",
    "Identify all of the providers that were on claims with patients extracted from `coh_basic_prov.ipynb`.\n",
    "\n",
    "**Script**\n",
    "  * [scripts/coh/coh_basic_prov.ipynb](./scripts/coh/coh_basic_prov.ipynb)\n",
    "\n",
    "**Prior Scripts**\n",
    "  * [scripts/coh/coh_basic.ipynb](./scripts/coh/coh_basic.ipynb)\n",
    "\n",
    "**Parameters**\n",
    "  * `in/coh/coh_pt_basic.xlsx[coh_basic_param]`\n",
    "  \n",
    "**Input**\n",
    "  * coh_claim\n",
    "  * coh_pt\n",
    "  * rwd_db.rwd.raven_external_claims_submits_provider\n",
    "  \n",
    "**Output**\n",
    "  * coh_npi\n",
    "  * coh_npi_pt_link\n",
    "\n",
    "**Review**\n",
    "  * [scripts/coh/coh_basic_prov.html](./scripts/coh/coh_basic_prov.html)\n",
    "  \n",
    "**Suggestion**\n",
    "  * Create a table with provider type per physician possibly linked to patients\n",
    "  \n",
    "**Suggestion**\n",
    "  * Create a table with provider type per physician possibly linked to patients"
   ]
  },
  {
   "cell_type": "code",
   "execution_count": 1,
   "metadata": {
    "ExecuteTime": {
     "end_time": "2019-03-26T19:43:56.016649Z",
     "start_time": "2019-03-26T19:43:53.433391Z"
    }
   },
   "outputs": [
    {
     "data": {
      "application/javascript": [
       "\n",
       "    require(['notebook/js/codecell'], function(codecell) {\n",
       "      // https://github.com/jupyter/notebook/issues/2453\n",
       "      codecell.CodeCell.options_default.highlight_modes['magic_text/x-sql'] = {'reg':[/^%read_sql/, /.*=\\s*%read_sql/,\n",
       "                                                                                      /^%%read_sql/]};\n",
       "      Jupyter.notebook.events.one('kernel_ready.Kernel', function(){\n",
       "          console.log('BBBBB');\n",
       "          Jupyter.notebook.get_cells().map(function(cell){\n",
       "              if (cell.cell_type == 'code'){ cell.auto_highlight(); } }) ;\n",
       "      });\n",
       "    });\n",
       "    "
      ]
     },
     "metadata": {},
     "output_type": "display_data"
    }
   ],
   "source": [
    "#Import libraries for this notebook\n",
    "import pandas as pd  \n",
    "from drg_connect import Snowflake\n",
    "import numpy as np\n",
    "import pickle\n",
    "from IPython.core.interactiveshell import InteractiveShell\n",
    "InteractiveShell.ast_node_interactivity = \"all\"\n",
    "\n",
    "#Load connection variables to connect_dict\n",
    "with open('../../out/conn/connect_dict.pickle', 'rb') as handle:\n",
    "    connect_dict = pickle.load(handle)\n",
    "\n",
    "#Create Eegine to connect to snowflake\n",
    "snow = Snowflake(role=connect_dict['role'],\n",
    "                 warehouse=connect_dict['warehouse'],\n",
    "                 database=connect_dict['database'],\n",
    "                 schema=connect_dict['schema'])\n",
    "\n",
    "#Finish engine setup\n",
    "engine = snow.engine\n",
    "%load_ext sql_magic\n",
    "%config SQL.conn_name = 'engine'  #Set the sql_magic connection engine\n",
    "%config SQL.output_result = True  #Enable output to std out\n",
    "%config SQL.notify_result = False #disable browser notifications"
   ]
  },
  {
   "cell_type": "markdown",
   "metadata": {},
   "source": [
    "# Parameters\n",
    "Python dictionary of parameters for the cohort basic procedure\n",
    "\n",
    "**Input**  \n",
    "* `in/cohort/coh_pt_basic.xlsx[coh_basic_param]`\n",
    "\n",
    "**Output**\n",
    "* Python variables named after parameters with the value"
   ]
  },
  {
   "cell_type": "code",
   "execution_count": null,
   "metadata": {
    "ExecuteTime": {
     "end_time": "2019-03-19T15:30:42.020275Z",
     "start_time": "2019-03-19T15:30:41.922265Z"
    }
   },
   "outputs": [],
   "source": [
    "#Create system variables from excel into script and review values in dictionary\n",
    "input_df = pd.read_excel('../../in/coh/coh_basic.xlsx', sheet_name='param', skiprows=4, dtype=str)\n",
    "var_dict = dict(zip(input_df.parameter, input_df.value))\n",
    "for key,val in var_dict.items(): exec(key + '=val')\n",
    "\n",
    "#Check inputs\n",
    "pd.DataFrame.from_dict(var_dict, orient='index')"
   ]
  },
  {
   "cell_type": "markdown",
   "metadata": {},
   "source": [
    "# Extract\n",
    "Extract the raw data needed to perform this analysis"
   ]
  },
  {
   "cell_type": "markdown",
   "metadata": {},
   "source": [
    "## Medical\n",
    "Identify the subset of raven providers for Medical claims of interest\n",
    "\n",
    "**Parameters**  \n",
    "  * `med_dx_start_dt`\n",
    "  * `med_dx_end_dt`\n",
    "  * `med_proc_start_dt`\n",
    "  * `med_proc_end_dt`\n",
    "\n",
    "**Input**\n",
    "  * `coh_claims`\n",
    "  * `rwd_db.rwd.raven_external_claims_submits_provider`\n",
    "\n",
    "**Output**  \n",
    "* `coh_raven_providers`\n"
   ]
  },
  {
   "cell_type": "code",
   "execution_count": null,
   "metadata": {
    "ExecuteTime": {
     "start_time": "2019-03-19T15:30:38.851Z"
    }
   },
   "outputs": [],
   "source": [
    "%%read_sql\n",
    "--Extract the provider information for those claims for the claim numbers of interest \n",
    "DROP TABLE IF EXISTS coh_raven_provider;\n",
    "CREATE TRANSIENT TABLE coh_raven_provider AS \n",
    "  SELECT claim_id, \n",
    "         patient_id, \n",
    "         provider_npi, \n",
    "         provider_type,\n",
    "         year_of_service\n",
    "    #FROM rwd_db.rwd.raven_claims_submits_provider\n",
    "    FROM rwd_db.rwd.raven_external_claims_submits_provider\n",
    "   WHERE claim_id IN (SELECT claim_id \n",
    "                            FROM coh_claim\n",
    "                           WHERE src_med_dx = 1\n",
    "                                 OR src_med_proc = 1\n",
    "                                 OR src_med_rx = 1) \n",
    "         AND year_of_service BETWEEN Least('{med_dx_start_dt}','{med_proc_start_dt}') \n",
    "                                     AND Greatest('{med_dx_end_dt}','{med_proc_end_dt}')\n",
    "   GROUP BY claim_id, patient_id, provider_npi, provider_type, year_of_service; "
   ]
  },
  {
   "cell_type": "code",
   "execution_count": null,
   "metadata": {
    "ExecuteTime": {
     "start_time": "2019-03-19T15:30:38.858Z"
    }
   },
   "outputs": [],
   "source": [
    "%%read_sql\n",
    "--Review basic counts\n",
    "SELECT Count(*)                        AS row_cnt, \n",
    "       Count(DISTINCT claim_id)    AS claim_cnt, \n",
    "       Count(DISTINCT patient_id)      AS patient_cnt, \n",
    "       Count(DISTINCT provider_npi)    AS npi_cnt, \n",
    "       Count(DISTINCT provider_type)   AS prov_type_cnt, \n",
    "       Count(DISTINCT year_of_service) AS year_of_service_cnt \n",
    "  FROM coh_raven_provider;"
   ]
  },
  {
   "cell_type": "markdown",
   "metadata": {},
   "source": [
    "# Create cohorts\n",
    "Create the cohorts for this project"
   ]
  },
  {
   "cell_type": "markdown",
   "metadata": {},
   "source": [
    "## providers\n",
    "Identify all of the unique providers who performed services for this population and identify which data source it came from\n",
    "\n",
    "\n",
    "**Input**\n",
    "* `coh_pt`\n",
    "* `coh_raven_pharmacy`\n",
    "* `coh_raven_provider`\n",
    "\n",
    "**Output**  \n",
    "* coh_npi"
   ]
  },
  {
   "cell_type": "code",
   "execution_count": null,
   "metadata": {
    "ExecuteTime": {
     "start_time": "2019-03-19T15:30:38.865Z"
    }
   },
   "outputs": [],
   "source": [
    "%%read_sql\n",
    "--Identify unique providers from all claims and locations from where the data came from\n",
    "DROP TABLE IF EXISTS coh_npi;\n",
    "CREATE TRANSIENT TABLE coh_npi AS\n",
    "    SELECT npi,\n",
    "           Max(src_med_dx)   AS src_med_dx,\n",
    "           Max(src_med_proc) AS src_med_proc,\n",
    "           Max(src_med_rx)   AS src_med_rx,\n",
    "           Max(src_phar_rx)  AS src_phar_rx\n",
    "      FROM (SELECT prov.provider_npi AS npi,\n",
    "                   pt.src_med_dx, \n",
    "                   pt.src_med_proc, \n",
    "                   pt.src_med_rx,\n",
    "                   pt.src_phar_rx\n",
    "              FROM coh_raven_provider prov\n",
    "                   JOIN coh_pt pt\n",
    "                     ON pt.patient_id = prov.patient_id\n",
    "             WHERE npi IS NOT NULL\n",
    "            UNION\n",
    "            SELECT npi,\n",
    "                   0 AS src_med_dx, \n",
    "                   0 AS src_med_proc, \n",
    "                   0 AS src_med_rx,\n",
    "                   1 AS src_phar_rx\n",
    "              FROM coh_basic_raven_pharmacy\n",
    "             WHERE npi IS NOT NULL)\n",
    "     GROUP BY npi;"
   ]
  },
  {
   "cell_type": "code",
   "execution_count": null,
   "metadata": {
    "ExecuteTime": {
     "start_time": "2019-03-19T15:30:38.869Z"
    }
   },
   "outputs": [],
   "source": [
    "%%read_sql\n",
    "--Revew Counts to confirm they look right\n",
    "SELECT Count(*) AS row_cnt,\n",
    "       Count(Distinct npi) AS npi_cnt,\n",
    "       Sum(src_med_dx)     AS src_med_dx, \n",
    "       Sum(src_med_proc)   AS src_med_proc, \n",
    "       Sum(src_med_rx)     AS src_med_rx,\n",
    "       Sum(src_phar_rx)    AS src_phar_rx\n",
    "  FROM coh_npi;"
   ]
  },
  {
   "cell_type": "markdown",
   "metadata": {},
   "source": [
    "## NPI patient link\n",
    "Identify the link between NPIs and providers\n",
    "\n",
    "**Parameters**  \n",
    "  * `med_dx_start_dt`\n",
    "  * `med_dx_end_dt`\n",
    "  * `med_proc_start_dt`\n",
    "  * `med_proc_end_dt`\n",
    "\n",
    "**Input**\n",
    "  * `coh_claims`\n",
    "  * `rwd_db.rwd.raven_external_claims_submits_provider`\n",
    "\n",
    "**Output**  \n",
    "* `coh_raven_providers`"
   ]
  },
  {
   "cell_type": "code",
   "execution_count": null,
   "metadata": {
    "ExecuteTime": {
     "start_time": "2019-03-19T15:30:38.872Z"
    }
   },
   "outputs": [],
   "source": [
    "%%read_sql\n",
    "--Identify unique providers from all claims and locations from where the data came from\n",
    "DROP TABLE IF EXISTS coh_npi_pt_link;\n",
    "CREATE TRANSIENT TABLE coh_npi_pt_link AS\n",
    "    SELECT npi,\n",
    "           patient_id,\n",
    "           Max(src_med_dx)   AS src_med_dx,\n",
    "           Max(src_med_proc) AS src_med_proc,\n",
    "           Max(src_med_rx)   AS src_med_rx,\n",
    "           Max(src_phar_rx)  AS src_phar_rx\n",
    "      FROM (SELECT prov.provider_npi AS npi,\n",
    "                   prov.patient_id,\n",
    "                   pt.src_med_dx, \n",
    "                   pt.src_med_proc, \n",
    "                   pt.src_med_rx,\n",
    "                   pt.src_phar_rx\n",
    "              FROM coh_raven_provider prov\n",
    "                   JOIN coh_pt pt\n",
    "                     ON pt.patient_id = prov.patient_id\n",
    "             WHERE npi IS NOT NULL\n",
    "            UNION\n",
    "            SELECT npi,\n",
    "                   patient_id,\n",
    "                   0 AS src_med_dx, \n",
    "                   0 AS src_med_proc, \n",
    "                   0 AS src_med_rx,\n",
    "                   1 AS src_phar_rx\n",
    "              FROM coh_basic_raven_pharmacy\n",
    "             WHERE npi IS NOT NULL)\n",
    "     GROUP BY npi, patient_id;"
   ]
  },
  {
   "cell_type": "code",
   "execution_count": null,
   "metadata": {
    "ExecuteTime": {
     "start_time": "2019-03-19T15:30:38.876Z"
    }
   },
   "outputs": [],
   "source": [
    "%%read_sql\n",
    "--Revew Counts to confirm they look right\n",
    "SELECT Count(*)                   AS row_cnt, \n",
    "       Count(DISTINCT npi)        AS npi_cnt, \n",
    "       Count(DISTINCT patient_id) AS pt_cnt, \n",
    "       Sum(src_med_dx)            AS src_med_dx, \n",
    "       Sum(src_med_proc)          AS src_med_proc, \n",
    "       Sum(src_med_rx)            AS src_med_rx, \n",
    "       Sum(src_phar_rx)           AS src_phar_rx \n",
    "  FROM coh_npi_pt_link; "
   ]
  },
  {
   "cell_type": "markdown",
   "metadata": {},
   "source": [
    "# Drop Tables\n",
    "Drop unnecessary tables"
   ]
  },
  {
   "cell_type": "code",
   "execution_count": null,
   "metadata": {
    "ExecuteTime": {
     "start_time": "2019-03-19T15:30:38.880Z"
    }
   },
   "outputs": [],
   "source": [
    "%%read_sql\n",
    "DROP TABLE IF EXISTS COH_RAVEN_PROVIDER;"
   ]
  }
 ],
 "metadata": {
  "kernelspec": {
   "display_name": "Python 3",
   "language": "python",
   "name": "python3"
  },
  "language_info": {
   "codemirror_mode": {
    "name": "ipython",
    "version": 3
   },
   "file_extension": ".py",
   "mimetype": "text/x-python",
   "name": "python",
   "nbconvert_exporter": "python",
   "pygments_lexer": "ipython3",
   "version": "3.7.3"
  },
  "toc": {
   "nav_menu": {},
   "number_sections": true,
   "sideBar": true,
   "skip_h1_title": false,
   "title_cell": "Table of Contents",
   "title_sidebar": "Contents",
   "toc_cell": false,
   "toc_position": {
    "height": "calc(100% - 180px)",
    "left": "10px",
    "top": "150px",
    "width": "244px"
   },
   "toc_section_display": true,
   "toc_window_display": true
  }
 },
 "nbformat": 4,
 "nbformat_minor": 2
}
