{
 "cells": [
  {
   "cell_type": "markdown",
   "metadata": {},
   "source": [
    "## Connect\n",
    "Create python dictionary of connection parameters by uploading data from Excel\n",
    "* **Input**\n",
    "  * `in/connect.xlsx[connect]`: Names and values of the connection parameters\n",
    "* **Output** \n",
    "  * `out/connect_dict.pickle`: Python dictionary names and values of connection parameters"
   ]
  },
  {
   "cell_type": "code",
   "execution_count": null,
   "metadata": {
    "ExecuteTime": {
     "end_time": "2019-03-26T19:33:36.938726Z",
     "start_time": "2019-03-26T19:33:35.870619Z"
    }
   },
   "outputs": [],
   "source": [
    "#Import libraries\n",
    "import pandas as pd\n",
    "import pickle\n",
    "\n",
    "#Import variables from excel and store as dictionary\n",
    "input_df = pd.read_excel('../../in/conn/connect.xlsx', sheet_name='connect', skiprows=4, dtype=str)\n",
    "var_dict = dict(zip(input_df.variable, input_df.value))\n",
    "\n",
    "#Pickle dictionary for later usage\n",
    "with open('../../out/conn/connect_dict.pickle', 'wb') as handle:\n",
    "    pickle.dump(var_dict, handle, protocol=pickle.HIGHEST_PROTOCOL)\n",
    "\n",
    "#Review variables\n",
    "var_dict"
   ]
  },
  {
   "cell_type": "code",
   "execution_count": null,
   "metadata": {},
   "outputs": [],
   "source": []
  }
 ],
 "metadata": {
  "kernelspec": {
   "display_name": "Python 3",
   "language": "python",
   "name": "python3"
  },
  "language_info": {
   "codemirror_mode": {
    "name": "ipython",
    "version": 3
   },
   "file_extension": ".py",
   "mimetype": "text/x-python",
   "name": "python",
   "nbconvert_exporter": "python",
   "pygments_lexer": "ipython3",
   "version": "3.7.3"
  },
  "toc": {
   "nav_menu": {},
   "number_sections": true,
   "sideBar": true,
   "skip_h1_title": false,
   "title_cell": "Table of Contents",
   "title_sidebar": "Contents",
   "toc_cell": false,
   "toc_position": {
    "height": "725px",
    "left": "988px",
    "top": "95px",
    "width": "384px"
   },
   "toc_section_display": true,
   "toc_window_display": true
  }
 },
 "nbformat": 4,
 "nbformat_minor": 2
}
