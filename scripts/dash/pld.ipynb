{
 "cells": [
  {
   "cell_type": "markdown",
   "metadata": {},
   "source": [
    "# PLD\n",
    "Output a demographics table for the PLD Dashboard.\n",
    "\n",
    "**Script**\n",
    "* [scripts/dash_pld/demographics.ipynb](./scripts/dash_pld/demographics.ipynb)\n",
    "\n",
    "**Parameters**\n",
    "* None\n",
    "\n",
    "**Input**\n",
    "* coh_pt\n",
    "* pld_demo\n",
    "* pld_geo_medical\n",
    "* pld_med_ins_pivot\n",
    "\n",
    "**Output**\n",
    "* dash_pld_demographics"
   ]
  },
  {
   "cell_type": "code",
   "execution_count": 1,
   "metadata": {
    "ExecuteTime": {
     "end_time": "2019-05-14T14:28:04.301134Z",
     "start_time": "2019-05-14T14:27:59.551864Z"
    }
   },
   "outputs": [
    {
     "data": {
      "application/javascript": [
       "\n",
       "    require(['notebook/js/codecell'], function(codecell) {\n",
       "      // https://github.com/jupyter/notebook/issues/2453\n",
       "      codecell.CodeCell.options_default.highlight_modes['magic_text/x-sql'] = {'reg':[/^%read_sql/, /.*=\\s*%read_sql/,\n",
       "                                                                                      /^%%read_sql/]};\n",
       "      Jupyter.notebook.events.one('kernel_ready.Kernel', function(){\n",
       "          console.log('BBBBB');\n",
       "          Jupyter.notebook.get_cells().map(function(cell){\n",
       "              if (cell.cell_type == 'code'){ cell.auto_highlight(); } }) ;\n",
       "      });\n",
       "    });\n",
       "    "
      ]
     },
     "metadata": {},
     "output_type": "display_data"
    }
   ],
   "source": [
    "#Import libraries for this notebook\n",
    "import pandas as pd  \n",
    "from drg_connect import Snowflake\n",
    "import numpy as np\n",
    "import pickle\n",
    "import qgrid\n",
    "from workbook_writer import make_xlsx\n",
    "from IPython.core.interactiveshell import InteractiveShell\n",
    "InteractiveShell.ast_node_interactivity = \"all\"\n",
    "\n",
    "#Load connection variables to connect_dict\n",
    "with open('../../out/conn/connect_dict.pickle', 'rb') as handle:\n",
    "    connect_dict = pickle.load(handle)\n",
    "\n",
    "#Create Eegine to connect to snowflake\n",
    "snow = Snowflake(role=connect_dict['role'],\n",
    "                 warehouse=connect_dict['warehouse'],\n",
    "                 database=connect_dict['database'],\n",
    "                 schema=connect_dict['schema'])\n",
    "\n",
    "#Finish engine setup\n",
    "engine = snow.engine\n",
    "%load_ext sql_magic\n",
    "%config SQL.conn_name = 'engine'  #Set the sql_magic connection engine\n",
    "%config SQL.output_result = True  #Enable output to std out\n",
    "%config SQL.notify_result = False #disable browser notifications"
   ]
  },
  {
   "cell_type": "markdown",
   "metadata": {},
   "source": [
    "# Patient Groups\n",
    "Create a variable to split the patient population how ever the client wants.  This is code that is to be customized per project. \n",
    "\n",
    "In this example we'll split the population by those that had a procedure."
   ]
  },
  {
   "cell_type": "code",
   "execution_count": 3,
   "metadata": {
    "ExecuteTime": {
     "end_time": "2019-05-13T20:25:52.874224Z",
     "start_time": "2019-05-13T20:25:25.749013Z"
    }
   },
   "outputs": [
    {
     "name": "stdout",
     "output_type": "stream",
     "text": [
      "Query started at 04:25:25 PM Eastern Daylight TimeInitiating login request with your identity provider. A browser window should have opened for you to complete the login. If you can't see it, check existing browser windows, or your OS settings. Press CTRL+C to abort and try again...\n",
      "; Query executed in 0.19 mQuery started at 04:25:37 PM Eastern Daylight Time; Query executed in 0.17 mQuery started at 04:25:47 PM Eastern Daylight Time; Query executed in 0.09 m"
     ]
    },
    {
     "data": {
      "text/html": [
       "<div>\n",
       "<style scoped>\n",
       "    .dataframe tbody tr th:only-of-type {\n",
       "        vertical-align: middle;\n",
       "    }\n",
       "\n",
       "    .dataframe tbody tr th {\n",
       "        vertical-align: top;\n",
       "    }\n",
       "\n",
       "    .dataframe thead th {\n",
       "        text-align: right;\n",
       "    }\n",
       "</style>\n",
       "<table border=\"1\" class=\"dataframe\">\n",
       "  <thead>\n",
       "    <tr style=\"text-align: right;\">\n",
       "      <th></th>\n",
       "      <th>pt_grp</th>\n",
       "      <th>pt_cnt</th>\n",
       "      <th>pt_pct</th>\n",
       "    </tr>\n",
       "  </thead>\n",
       "  <tbody>\n",
       "    <tr>\n",
       "      <th>0</th>\n",
       "      <td>Radiation</td>\n",
       "      <td>967</td>\n",
       "      <td>0.005189</td>\n",
       "    </tr>\n",
       "    <tr>\n",
       "      <th>1</th>\n",
       "      <td>None</td>\n",
       "      <td>184727</td>\n",
       "      <td>0.991338</td>\n",
       "    </tr>\n",
       "    <tr>\n",
       "      <th>2</th>\n",
       "      <td>Surgery</td>\n",
       "      <td>647</td>\n",
       "      <td>0.003472</td>\n",
       "    </tr>\n",
       "  </tbody>\n",
       "</table>\n",
       "</div>"
      ],
      "text/plain": [
       "      pt_grp  pt_cnt    pt_pct\n",
       "0  Radiation     967  0.005189\n",
       "1       None  184727  0.991338\n",
       "2    Surgery     647  0.003472"
      ]
     },
     "execution_count": 3,
     "metadata": {},
     "output_type": "execute_result"
    }
   ],
   "source": [
    "%%read_sql\n",
    "--Identify all patients who had a surgery OR radiation\n",
    "DROP TABLE IF EXISTS dash_pld_pt_grp;\n",
    "CREATE TABLE dash_pld_pt_grp AS \n",
    "    SELECT patient_id,\n",
    "           CASE WHEN patient_id IN (SELECT patient_id\n",
    "                                      FROM cld_proc\n",
    "                                     WHERE cat1 = 'Surgery') THEN 'Surgery'\n",
    "                WHEN patient_id IN (SELECT patient_id\n",
    "                                      FROM cld_proc\n",
    "                                     WHERE cat1 = 'Radiation') THEN 'Radiation'                     \n",
    "                ELSE 'None'\n",
    "           END AS pt_grp\n",
    "      FROM coh_pt pt;\n",
    "\n",
    "--Review Counts\n",
    "SELECT pt_grp,\n",
    "       Count(Distinct patient_id) AS pt_cnt,\n",
    "       Count(*) / (SELECT Count(*)\n",
    "                     FROM dash_pld_pt_grp) AS pt_pct\n",
    "  FROM dash_pld_pt_grp\n",
    " GROUP BY pt_grp;"
   ]
  },
  {
   "cell_type": "markdown",
   "metadata": {},
   "source": [
    "# Continuous Coverage\n",
    "Continuous coverage rules are set in this section.  The back end allows for different continuous coverage rules to be applied to differet populations."
   ]
  },
  {
   "cell_type": "markdown",
   "metadata": {},
   "source": [
    "## Import Ref\n",
    "Import reference table for patient stability"
   ]
  },
  {
   "cell_type": "markdown",
   "metadata": {},
   "source": [
    "### Tabs\n",
    "Import the tabs and the stability rule that is associated with each tab"
   ]
  },
  {
   "cell_type": "code",
   "execution_count": 4,
   "metadata": {
    "ExecuteTime": {
     "end_time": "2019-05-13T20:26:06.508340Z",
     "start_time": "2019-05-13T20:25:52.877231Z"
    }
   },
   "outputs": [
    {
     "name": "stdout",
     "output_type": "stream",
     "text": [
      "DROP TABLE IF EXISTS ref_db.semi_custom.dash_pld_stability_tabs;\n",
      "Initiating login request with your identity provider. A browser window should have opened for you to complete the login. If you can't see it, check existing browser windows, or your OS settings. Press CTRL+C to abort and try again...\n",
      "Table ref_db.semi_custom.dash_pld_stability_tabs dropped! (╯°□°）╯︵ ┻━┻\n",
      "Upload into ref_db.semi_custom.dash_pld_stability_tabs successful! ┬──┬◡ﾉ(°-°ﾉ)\n"
     ]
    },
    {
     "data": {
      "text/html": [
       "<div>\n",
       "<style scoped>\n",
       "    .dataframe tbody tr th:only-of-type {\n",
       "        vertical-align: middle;\n",
       "    }\n",
       "\n",
       "    .dataframe tbody tr th {\n",
       "        vertical-align: top;\n",
       "    }\n",
       "\n",
       "    .dataframe thead th {\n",
       "        text-align: right;\n",
       "    }\n",
       "</style>\n",
       "<table border=\"1\" class=\"dataframe\">\n",
       "  <thead>\n",
       "    <tr style=\"text-align: right;\">\n",
       "      <th></th>\n",
       "      <th>tab</th>\n",
       "      <th>rule</th>\n",
       "    </tr>\n",
       "  </thead>\n",
       "  <tbody>\n",
       "    <tr>\n",
       "      <th>0</th>\n",
       "      <td>DEMOGRAPHICS</td>\n",
       "      <td>MEDICAL_2018</td>\n",
       "    </tr>\n",
       "    <tr>\n",
       "      <th>1</th>\n",
       "      <td>COMORBIDITY</td>\n",
       "      <td>COMORBIDITIES</td>\n",
       "    </tr>\n",
       "    <tr>\n",
       "      <th>2</th>\n",
       "      <td>PHARMACY</td>\n",
       "      <td>PHARMACY_ONLY</td>\n",
       "    </tr>\n",
       "    <tr>\n",
       "      <th>3</th>\n",
       "      <td>VISITS</td>\n",
       "      <td>MEDICAL_2018</td>\n",
       "    </tr>\n",
       "    <tr>\n",
       "      <th>4</th>\n",
       "      <td>SPECIALTY</td>\n",
       "      <td>MEDICAL_2018</td>\n",
       "    </tr>\n",
       "    <tr>\n",
       "      <th>5</th>\n",
       "      <td>DRUG_UTILIZATION</td>\n",
       "      <td>PHARMACY_ONLY</td>\n",
       "    </tr>\n",
       "  </tbody>\n",
       "</table>\n",
       "</div>"
      ],
      "text/plain": [
       "                tab           rule\n",
       "0      DEMOGRAPHICS   MEDICAL_2018\n",
       "1       COMORBIDITY  COMORBIDITIES\n",
       "2          PHARMACY  PHARMACY_ONLY\n",
       "3            VISITS   MEDICAL_2018\n",
       "4         SPECIALTY   MEDICAL_2018\n",
       "5  DRUG_UTILIZATION  PHARMACY_ONLY"
      ]
     },
     "execution_count": 4,
     "metadata": {},
     "output_type": "execute_result"
    }
   ],
   "source": [
    "#Upload reference table from excel to snowflake and review snowflake output\n",
    "df = pd.read_excel('../../in/dash/pld.xlsx', sheet_name='stability', skiprows=4, dtype=str)\n",
    "\n",
    "#Strip white space and make referrable columns uppercase\n",
    "df = df.apply(lambda x: x.str.strip() if x.dtype == \"object\" else x)\n",
    "df = df.apply(lambda x: x.str.upper() if x.dtype == \"object\" else x)\n",
    "\n",
    "#Upload to snowflake\n",
    "snow.drop_table(\"dash_pld_stability_tabs\")\n",
    "snow.upload_dataframe(df,\"dash_pld_stability_tabs\")\n",
    "snow.select(\"SELECT * FROM dash_pld_stability_tabs LIMIT 10\")\n",
    "del df"
   ]
  },
  {
   "cell_type": "markdown",
   "metadata": {},
   "source": [
    "### Stability Rules\n",
    "Upload the stability rules. There can be multiple different stability rules to upload."
   ]
  },
  {
   "cell_type": "code",
   "execution_count": 5,
   "metadata": {
    "ExecuteTime": {
     "end_time": "2019-05-13T20:26:17.662901Z",
     "start_time": "2019-05-13T20:26:06.511347Z"
    }
   },
   "outputs": [
    {
     "name": "stdout",
     "output_type": "stream",
     "text": [
      "DROP TABLE IF EXISTS ref_db.semi_custom.dash_pld_stability_rules;\n",
      "Table ref_db.semi_custom.dash_pld_stability_rules dropped! (╯°□°）╯︵ ┻━┻\n",
      "Upload into ref_db.semi_custom.dash_pld_stability_rules successful! ┬──┬◡ﾉ(°-°ﾉ)\n"
     ]
    },
    {
     "data": {
      "text/html": [
       "<div>\n",
       "<style scoped>\n",
       "    .dataframe tbody tr th:only-of-type {\n",
       "        vertical-align: middle;\n",
       "    }\n",
       "\n",
       "    .dataframe tbody tr th {\n",
       "        vertical-align: top;\n",
       "    }\n",
       "\n",
       "    .dataframe thead th {\n",
       "        text-align: right;\n",
       "    }\n",
       "</style>\n",
       "<table border=\"1\" class=\"dataframe\">\n",
       "  <thead>\n",
       "    <tr style=\"text-align: right;\">\n",
       "      <th></th>\n",
       "      <th>rule</th>\n",
       "      <th>source</th>\n",
       "      <th>period</th>\n",
       "      <th>min_claim_cnt</th>\n",
       "    </tr>\n",
       "  </thead>\n",
       "  <tbody>\n",
       "    <tr>\n",
       "      <th>0</th>\n",
       "      <td>PHARMACY_ONLY</td>\n",
       "      <td>PHARMACY</td>\n",
       "      <td>2017</td>\n",
       "      <td>1</td>\n",
       "    </tr>\n",
       "    <tr>\n",
       "      <th>1</th>\n",
       "      <td>PHARMACY_ONLY</td>\n",
       "      <td>PHARMACY</td>\n",
       "      <td>2018_Q4</td>\n",
       "      <td>1</td>\n",
       "    </tr>\n",
       "    <tr>\n",
       "      <th>2</th>\n",
       "      <td>MEDICAL_2018</td>\n",
       "      <td>MEDICAL</td>\n",
       "      <td>2018</td>\n",
       "      <td>1</td>\n",
       "    </tr>\n",
       "    <tr>\n",
       "      <th>3</th>\n",
       "      <td>COMORBIDITIES</td>\n",
       "      <td>MEDICAL</td>\n",
       "      <td>2016</td>\n",
       "      <td>1</td>\n",
       "    </tr>\n",
       "    <tr>\n",
       "      <th>4</th>\n",
       "      <td>COMORBIDITIES</td>\n",
       "      <td>MEDICAL</td>\n",
       "      <td>2017</td>\n",
       "      <td>1</td>\n",
       "    </tr>\n",
       "    <tr>\n",
       "      <th>5</th>\n",
       "      <td>COMORBIDITIES</td>\n",
       "      <td>MEDICAL</td>\n",
       "      <td>2018</td>\n",
       "      <td>1</td>\n",
       "    </tr>\n",
       "    <tr>\n",
       "      <th>6</th>\n",
       "      <td>MEDICAL_PHARMACY</td>\n",
       "      <td>PHARMACY</td>\n",
       "      <td>2017</td>\n",
       "      <td>1</td>\n",
       "    </tr>\n",
       "    <tr>\n",
       "      <th>7</th>\n",
       "      <td>MEDICAL_PHARMACY</td>\n",
       "      <td>PHARMACY</td>\n",
       "      <td>2018</td>\n",
       "      <td>1</td>\n",
       "    </tr>\n",
       "    <tr>\n",
       "      <th>8</th>\n",
       "      <td>MEDICAL_PHARMACY</td>\n",
       "      <td>PHARMACY</td>\n",
       "      <td>2018_Q4</td>\n",
       "      <td>1</td>\n",
       "    </tr>\n",
       "    <tr>\n",
       "      <th>9</th>\n",
       "      <td>MEDICAL_PHARMACY</td>\n",
       "      <td>MEDICAL</td>\n",
       "      <td>2016</td>\n",
       "      <td>1</td>\n",
       "    </tr>\n",
       "  </tbody>\n",
       "</table>\n",
       "</div>"
      ],
      "text/plain": [
       "               rule    source   period min_claim_cnt\n",
       "0     PHARMACY_ONLY  PHARMACY     2017             1\n",
       "1     PHARMACY_ONLY  PHARMACY  2018_Q4             1\n",
       "2      MEDICAL_2018   MEDICAL     2018             1\n",
       "3     COMORBIDITIES   MEDICAL     2016             1\n",
       "4     COMORBIDITIES   MEDICAL     2017             1\n",
       "5     COMORBIDITIES   MEDICAL     2018             1\n",
       "6  MEDICAL_PHARMACY  PHARMACY     2017             1\n",
       "7  MEDICAL_PHARMACY  PHARMACY     2018             1\n",
       "8  MEDICAL_PHARMACY  PHARMACY  2018_Q4             1\n",
       "9  MEDICAL_PHARMACY   MEDICAL     2016             1"
      ]
     },
     "execution_count": 5,
     "metadata": {},
     "output_type": "execute_result"
    }
   ],
   "source": [
    "#Upload reference table from excel to snowflake and review snowflake output\n",
    "df = pd.read_excel('../../in/dash/pld.xlsx', sheet_name='stability_rules', skiprows=4, dtype=str)\n",
    "\n",
    "#Strip white space and make referrable columns uppercase\n",
    "df = df.apply(lambda x: x.str.strip() if x.dtype == \"object\" else x)\n",
    "df = df.apply(lambda x: x.str.upper() if x.dtype == \"object\" else x)\n",
    "\n",
    "#Upload to snowflake\n",
    "snow.drop_table(\"dash_pld_stability_rules\")\n",
    "snow.upload_dataframe(df,\"dash_pld_stability_rules\")\n",
    "snow.select(\"SELECT * FROM dash_pld_stability_rules LIMIT 10\")\n",
    "del df"
   ]
  },
  {
   "cell_type": "markdown",
   "metadata": {},
   "source": [
    "## Dash Ref"
   ]
  },
  {
   "cell_type": "code",
   "execution_count": 6,
   "metadata": {
    "ExecuteTime": {
     "end_time": "2019-05-13T20:26:29.706460Z",
     "start_time": "2019-05-13T20:26:17.665908Z"
    }
   },
   "outputs": [
    {
     "name": "stdout",
     "output_type": "stream",
     "text": [
      "Query started at 04:26:17 PM Eastern Daylight Time; Query executed in 0.06 mQuery started at 04:26:21 PM Eastern Daylight Time; Query executed in 0.07 mQuery started at 04:26:25 PM Eastern Daylight Time; Query executed in 0.07 m"
     ]
    },
    {
     "data": {
      "text/html": [
       "<div>\n",
       "<style scoped>\n",
       "    .dataframe tbody tr th:only-of-type {\n",
       "        vertical-align: middle;\n",
       "    }\n",
       "\n",
       "    .dataframe tbody tr th {\n",
       "        vertical-align: top;\n",
       "    }\n",
       "\n",
       "    .dataframe thead th {\n",
       "        text-align: right;\n",
       "    }\n",
       "</style>\n",
       "<table border=\"1\" class=\"dataframe\">\n",
       "  <thead>\n",
       "    <tr style=\"text-align: right;\">\n",
       "      <th></th>\n",
       "      <th>tab</th>\n",
       "      <th>rule</th>\n",
       "      <th>source</th>\n",
       "      <th>period</th>\n",
       "      <th>min_claim_cnt</th>\n",
       "    </tr>\n",
       "  </thead>\n",
       "  <tbody>\n",
       "    <tr>\n",
       "      <th>0</th>\n",
       "      <td>COMORBIDITY</td>\n",
       "      <td>COMORBIDITIES</td>\n",
       "      <td>MEDICAL</td>\n",
       "      <td>2016</td>\n",
       "      <td>1</td>\n",
       "    </tr>\n",
       "    <tr>\n",
       "      <th>1</th>\n",
       "      <td>COMORBIDITY</td>\n",
       "      <td>COMORBIDITIES</td>\n",
       "      <td>MEDICAL</td>\n",
       "      <td>2017</td>\n",
       "      <td>1</td>\n",
       "    </tr>\n",
       "    <tr>\n",
       "      <th>2</th>\n",
       "      <td>COMORBIDITY</td>\n",
       "      <td>COMORBIDITIES</td>\n",
       "      <td>MEDICAL</td>\n",
       "      <td>2018</td>\n",
       "      <td>1</td>\n",
       "    </tr>\n",
       "    <tr>\n",
       "      <th>3</th>\n",
       "      <td>DEMOGRAPHICS</td>\n",
       "      <td>MEDICAL_2018</td>\n",
       "      <td>MEDICAL</td>\n",
       "      <td>2018</td>\n",
       "      <td>1</td>\n",
       "    </tr>\n",
       "    <tr>\n",
       "      <th>4</th>\n",
       "      <td>DRUG_UTILIZATION</td>\n",
       "      <td>PHARMACY_ONLY</td>\n",
       "      <td>PHARMACY</td>\n",
       "      <td>2017</td>\n",
       "      <td>1</td>\n",
       "    </tr>\n",
       "    <tr>\n",
       "      <th>5</th>\n",
       "      <td>DRUG_UTILIZATION</td>\n",
       "      <td>PHARMACY_ONLY</td>\n",
       "      <td>PHARMACY</td>\n",
       "      <td>2018_Q4</td>\n",
       "      <td>1</td>\n",
       "    </tr>\n",
       "    <tr>\n",
       "      <th>6</th>\n",
       "      <td>PHARMACY</td>\n",
       "      <td>PHARMACY_ONLY</td>\n",
       "      <td>PHARMACY</td>\n",
       "      <td>2017</td>\n",
       "      <td>1</td>\n",
       "    </tr>\n",
       "    <tr>\n",
       "      <th>7</th>\n",
       "      <td>PHARMACY</td>\n",
       "      <td>PHARMACY_ONLY</td>\n",
       "      <td>PHARMACY</td>\n",
       "      <td>2018_Q4</td>\n",
       "      <td>1</td>\n",
       "    </tr>\n",
       "    <tr>\n",
       "      <th>8</th>\n",
       "      <td>SPECIALTY</td>\n",
       "      <td>MEDICAL_2018</td>\n",
       "      <td>MEDICAL</td>\n",
       "      <td>2018</td>\n",
       "      <td>1</td>\n",
       "    </tr>\n",
       "    <tr>\n",
       "      <th>9</th>\n",
       "      <td>VISITS</td>\n",
       "      <td>MEDICAL_2018</td>\n",
       "      <td>MEDICAL</td>\n",
       "      <td>2018</td>\n",
       "      <td>1</td>\n",
       "    </tr>\n",
       "  </tbody>\n",
       "</table>\n",
       "</div>"
      ],
      "text/plain": [
       "                tab           rule    source   period min_claim_cnt\n",
       "0       COMORBIDITY  COMORBIDITIES   MEDICAL     2016             1\n",
       "1       COMORBIDITY  COMORBIDITIES   MEDICAL     2017             1\n",
       "2       COMORBIDITY  COMORBIDITIES   MEDICAL     2018             1\n",
       "3      DEMOGRAPHICS   MEDICAL_2018   MEDICAL     2018             1\n",
       "4  DRUG_UTILIZATION  PHARMACY_ONLY  PHARMACY     2017             1\n",
       "5  DRUG_UTILIZATION  PHARMACY_ONLY  PHARMACY  2018_Q4             1\n",
       "6          PHARMACY  PHARMACY_ONLY  PHARMACY     2017             1\n",
       "7          PHARMACY  PHARMACY_ONLY  PHARMACY  2018_Q4             1\n",
       "8         SPECIALTY   MEDICAL_2018   MEDICAL     2018             1\n",
       "9            VISITS   MEDICAL_2018   MEDICAL     2018             1"
      ]
     },
     "execution_count": 6,
     "metadata": {},
     "output_type": "execute_result"
    }
   ],
   "source": [
    "%%read_sql\n",
    "--Combine rules tables together\n",
    "DROP TABLE IF EXISTS dash_pld_stability_ref;\n",
    "CREATE TABLE dash_pld_stability_ref AS\n",
    "    SELECT tab.tab,\n",
    "           tab.rule,\n",
    "           rule.source,\n",
    "           rule.period,\n",
    "           rule.min_claim_cnt\n",
    "      FROM dash_pld_stability_tabs tab\n",
    "           JOIN dash_pld_stability_rules rule\n",
    "             ON tab.rule = rule.rule;\n",
    "\n",
    "--Review table\n",
    "SELECT *\n",
    "  FROM dash_pld_stability_ref\n",
    " ORDER BY tab, rule;"
   ]
  },
  {
   "cell_type": "code",
   "execution_count": 7,
   "metadata": {
    "ExecuteTime": {
     "end_time": "2019-05-13T20:26:47.161197Z",
     "start_time": "2019-05-13T20:26:29.706460Z"
    }
   },
   "outputs": [
    {
     "name": "stdout",
     "output_type": "stream",
     "text": [
      "Query started at 04:26:29 PM Eastern Daylight Time; Query executed in 0.10 mQuery started at 04:26:35 PM Eastern Daylight Time; Query executed in 0.19 m"
     ]
    },
    {
     "data": {
      "text/html": [
       "<div>\n",
       "<style scoped>\n",
       "    .dataframe tbody tr th:only-of-type {\n",
       "        vertical-align: middle;\n",
       "    }\n",
       "\n",
       "    .dataframe tbody tr th {\n",
       "        vertical-align: top;\n",
       "    }\n",
       "\n",
       "    .dataframe thead th {\n",
       "        text-align: right;\n",
       "    }\n",
       "</style>\n",
       "<table border=\"1\" class=\"dataframe\">\n",
       "  <thead>\n",
       "    <tr style=\"text-align: right;\">\n",
       "      <th></th>\n",
       "      <th>status</th>\n",
       "    </tr>\n",
       "  </thead>\n",
       "  <tbody>\n",
       "    <tr>\n",
       "      <th>0</th>\n",
       "      <td>Table DASH_PLD_STABILITY_CNTS successfully cre...</td>\n",
       "    </tr>\n",
       "  </tbody>\n",
       "</table>\n",
       "</div>"
      ],
      "text/plain": [
       "                                              status\n",
       "0  Table DASH_PLD_STABILITY_CNTS successfully cre..."
      ]
     },
     "execution_count": 7,
     "metadata": {},
     "output_type": "execute_result"
    }
   ],
   "source": [
    "%%read_sql\n",
    "--Create a table with all the possible unique combinations of patient_id and tabs\n",
    "DROP TABLE IF EXISTS dash_pld_stability_cnts;\n",
    "CREATE TABLE dash_pld_stability_cnts AS\n",
    "    SELECT coh.patient_id,\n",
    "           ref.tab,\n",
    "           ref.rule,\n",
    "           ref.source,\n",
    "           ref.period,\n",
    "           ref.min_claim_cnt,\n",
    "           False AS meets_cov_rule\n",
    "      FROM coh_pt coh\n",
    "           JOIN dash_pld_stability_ref ref;"
   ]
  },
  {
   "cell_type": "markdown",
   "metadata": {},
   "source": [
    "## Med and Phar claims\n",
    "Update where the medical and pharmacy claims meet the minimum thresholds for counts"
   ]
  },
  {
   "cell_type": "code",
   "execution_count": 8,
   "metadata": {
    "ExecuteTime": {
     "end_time": "2019-05-13T20:27:06.086722Z",
     "start_time": "2019-05-13T20:26:47.161197Z"
    }
   },
   "outputs": [
    {
     "name": "stdout",
     "output_type": "stream",
     "text": [
      "Query started at 04:26:47 PM Eastern Daylight Time; Query executed in 0.03 mQuery started at 04:26:49 PM Eastern Daylight Time; Query executed in 0.18 mQuery started at 04:27:00 PM Eastern Daylight Time; Query executed in 0.03 mQuery started at 04:27:02 PM Eastern Daylight Time; Query executed in 0.06 m"
     ]
    },
    {
     "data": {
      "text/html": [
       "<div>\n",
       "<style scoped>\n",
       "    .dataframe tbody tr th:only-of-type {\n",
       "        vertical-align: middle;\n",
       "    }\n",
       "\n",
       "    .dataframe tbody tr th {\n",
       "        vertical-align: top;\n",
       "    }\n",
       "\n",
       "    .dataframe thead th {\n",
       "        text-align: right;\n",
       "    }\n",
       "</style>\n",
       "<table border=\"1\" class=\"dataframe\">\n",
       "  <thead>\n",
       "    <tr style=\"text-align: right;\">\n",
       "      <th></th>\n",
       "      <th>source</th>\n",
       "      <th>tab</th>\n",
       "      <th>period</th>\n",
       "      <th>row_cnt</th>\n",
       "      <th>true</th>\n",
       "      <th>false</th>\n",
       "    </tr>\n",
       "  </thead>\n",
       "  <tbody>\n",
       "    <tr>\n",
       "      <th>0</th>\n",
       "      <td>MEDICAL</td>\n",
       "      <td>COMORBIDITY</td>\n",
       "      <td>2016</td>\n",
       "      <td>186341</td>\n",
       "      <td>154186</td>\n",
       "      <td>32155</td>\n",
       "    </tr>\n",
       "    <tr>\n",
       "      <th>1</th>\n",
       "      <td>MEDICAL</td>\n",
       "      <td>COMORBIDITY</td>\n",
       "      <td>2017</td>\n",
       "      <td>186341</td>\n",
       "      <td>150807</td>\n",
       "      <td>35534</td>\n",
       "    </tr>\n",
       "    <tr>\n",
       "      <th>2</th>\n",
       "      <td>MEDICAL</td>\n",
       "      <td>COMORBIDITY</td>\n",
       "      <td>2018</td>\n",
       "      <td>186341</td>\n",
       "      <td>144663</td>\n",
       "      <td>41678</td>\n",
       "    </tr>\n",
       "    <tr>\n",
       "      <th>3</th>\n",
       "      <td>MEDICAL</td>\n",
       "      <td>DEMOGRAPHICS</td>\n",
       "      <td>2018</td>\n",
       "      <td>186341</td>\n",
       "      <td>144663</td>\n",
       "      <td>41678</td>\n",
       "    </tr>\n",
       "    <tr>\n",
       "      <th>4</th>\n",
       "      <td>MEDICAL</td>\n",
       "      <td>SPECIALTY</td>\n",
       "      <td>2018</td>\n",
       "      <td>186341</td>\n",
       "      <td>144663</td>\n",
       "      <td>41678</td>\n",
       "    </tr>\n",
       "    <tr>\n",
       "      <th>5</th>\n",
       "      <td>MEDICAL</td>\n",
       "      <td>VISITS</td>\n",
       "      <td>2018</td>\n",
       "      <td>186341</td>\n",
       "      <td>144663</td>\n",
       "      <td>41678</td>\n",
       "    </tr>\n",
       "    <tr>\n",
       "      <th>6</th>\n",
       "      <td>PHARMACY</td>\n",
       "      <td>DRUG_UTILIZATION</td>\n",
       "      <td>2017</td>\n",
       "      <td>186341</td>\n",
       "      <td>0</td>\n",
       "      <td>186341</td>\n",
       "    </tr>\n",
       "    <tr>\n",
       "      <th>7</th>\n",
       "      <td>PHARMACY</td>\n",
       "      <td>DRUG_UTILIZATION</td>\n",
       "      <td>2018_Q4</td>\n",
       "      <td>186341</td>\n",
       "      <td>0</td>\n",
       "      <td>186341</td>\n",
       "    </tr>\n",
       "    <tr>\n",
       "      <th>8</th>\n",
       "      <td>PHARMACY</td>\n",
       "      <td>PHARMACY</td>\n",
       "      <td>2017</td>\n",
       "      <td>186341</td>\n",
       "      <td>0</td>\n",
       "      <td>186341</td>\n",
       "    </tr>\n",
       "    <tr>\n",
       "      <th>9</th>\n",
       "      <td>PHARMACY</td>\n",
       "      <td>PHARMACY</td>\n",
       "      <td>2018_Q4</td>\n",
       "      <td>186341</td>\n",
       "      <td>0</td>\n",
       "      <td>186341</td>\n",
       "    </tr>\n",
       "  </tbody>\n",
       "</table>\n",
       "</div>"
      ],
      "text/plain": [
       "     source               tab   period  row_cnt    true   false\n",
       "0   MEDICAL       COMORBIDITY     2016   186341  154186   32155\n",
       "1   MEDICAL       COMORBIDITY     2017   186341  150807   35534\n",
       "2   MEDICAL       COMORBIDITY     2018   186341  144663   41678\n",
       "3   MEDICAL      DEMOGRAPHICS     2018   186341  144663   41678\n",
       "4   MEDICAL         SPECIALTY     2018   186341  144663   41678\n",
       "5   MEDICAL            VISITS     2018   186341  144663   41678\n",
       "6  PHARMACY  DRUG_UTILIZATION     2017   186341       0  186341\n",
       "7  PHARMACY  DRUG_UTILIZATION  2018_Q4   186341       0  186341\n",
       "8  PHARMACY          PHARMACY     2017   186341       0  186341\n",
       "9  PHARMACY          PHARMACY  2018_Q4   186341       0  186341"
      ]
     },
     "execution_count": 8,
     "metadata": {},
     "output_type": "execute_result"
    }
   ],
   "source": [
    "%%read_sql\n",
    "--Update medical claim counts\n",
    "BEGIN;\n",
    "UPDATE dash_pld_stability_cnts stab\n",
    "   SET stab.meets_cov_rule = TRUE\n",
    "  FROM pld_med_cnt_unpivot cnt\n",
    " WHERE cnt.patient_id = stab.patient_id\n",
    "       AND stab.period = cnt.period\n",
    "       AND cnt.med_claim_cnt >= stab.min_claim_cnt\n",
    "       AND stab.source = 'MEDICAL';\n",
    "COMMIT;\n",
    "\n",
    "--Review Counts\n",
    "SELECT source,\n",
    "       tab,\n",
    "       period,\n",
    "       Count(*) AS row_cnt,\n",
    "       Sum(case when meets_cov_rule = True  THEN 1 ELSE 0 END) AS True,\n",
    "       Sum(case when meets_cov_rule = False THEN 1 ELSE 0 END) AS False\n",
    "  FROM dash_pld_stability_cnts\n",
    " GROUP BY source, tab, period\n",
    " ORDER BY source, tab, period;"
   ]
  },
  {
   "cell_type": "code",
   "execution_count": 9,
   "metadata": {
    "ExecuteTime": {
     "end_time": "2019-05-13T20:27:28.196910Z",
     "start_time": "2019-05-13T20:27:06.096745Z"
    }
   },
   "outputs": [
    {
     "name": "stdout",
     "output_type": "stream",
     "text": [
      "Query started at 04:27:06 PM Eastern Daylight Time; Query executed in 0.06 mQuery started at 04:27:09 PM Eastern Daylight Time; Query executed in 0.19 mQuery started at 04:27:21 PM Eastern Daylight Time; Query executed in 0.04 mQuery started at 04:27:23 PM Eastern Daylight Time; Query executed in 0.07 m"
     ]
    },
    {
     "data": {
      "text/html": [
       "<div>\n",
       "<style scoped>\n",
       "    .dataframe tbody tr th:only-of-type {\n",
       "        vertical-align: middle;\n",
       "    }\n",
       "\n",
       "    .dataframe tbody tr th {\n",
       "        vertical-align: top;\n",
       "    }\n",
       "\n",
       "    .dataframe thead th {\n",
       "        text-align: right;\n",
       "    }\n",
       "</style>\n",
       "<table border=\"1\" class=\"dataframe\">\n",
       "  <thead>\n",
       "    <tr style=\"text-align: right;\">\n",
       "      <th></th>\n",
       "      <th>source</th>\n",
       "      <th>tab</th>\n",
       "      <th>period</th>\n",
       "      <th>row_cnt</th>\n",
       "      <th>true</th>\n",
       "      <th>false</th>\n",
       "    </tr>\n",
       "  </thead>\n",
       "  <tbody>\n",
       "    <tr>\n",
       "      <th>0</th>\n",
       "      <td>MEDICAL</td>\n",
       "      <td>COMORBIDITY</td>\n",
       "      <td>2016</td>\n",
       "      <td>186341</td>\n",
       "      <td>154186</td>\n",
       "      <td>32155</td>\n",
       "    </tr>\n",
       "    <tr>\n",
       "      <th>1</th>\n",
       "      <td>MEDICAL</td>\n",
       "      <td>COMORBIDITY</td>\n",
       "      <td>2017</td>\n",
       "      <td>186341</td>\n",
       "      <td>150807</td>\n",
       "      <td>35534</td>\n",
       "    </tr>\n",
       "    <tr>\n",
       "      <th>2</th>\n",
       "      <td>MEDICAL</td>\n",
       "      <td>COMORBIDITY</td>\n",
       "      <td>2018</td>\n",
       "      <td>186341</td>\n",
       "      <td>144663</td>\n",
       "      <td>41678</td>\n",
       "    </tr>\n",
       "    <tr>\n",
       "      <th>3</th>\n",
       "      <td>MEDICAL</td>\n",
       "      <td>DEMOGRAPHICS</td>\n",
       "      <td>2018</td>\n",
       "      <td>186341</td>\n",
       "      <td>144663</td>\n",
       "      <td>41678</td>\n",
       "    </tr>\n",
       "    <tr>\n",
       "      <th>4</th>\n",
       "      <td>MEDICAL</td>\n",
       "      <td>SPECIALTY</td>\n",
       "      <td>2018</td>\n",
       "      <td>186341</td>\n",
       "      <td>144663</td>\n",
       "      <td>41678</td>\n",
       "    </tr>\n",
       "    <tr>\n",
       "      <th>5</th>\n",
       "      <td>MEDICAL</td>\n",
       "      <td>VISITS</td>\n",
       "      <td>2018</td>\n",
       "      <td>186341</td>\n",
       "      <td>144663</td>\n",
       "      <td>41678</td>\n",
       "    </tr>\n",
       "    <tr>\n",
       "      <th>6</th>\n",
       "      <td>PHARMACY</td>\n",
       "      <td>DRUG_UTILIZATION</td>\n",
       "      <td>2017</td>\n",
       "      <td>186341</td>\n",
       "      <td>80699</td>\n",
       "      <td>105642</td>\n",
       "    </tr>\n",
       "    <tr>\n",
       "      <th>7</th>\n",
       "      <td>PHARMACY</td>\n",
       "      <td>DRUG_UTILIZATION</td>\n",
       "      <td>2018_Q4</td>\n",
       "      <td>186341</td>\n",
       "      <td>65584</td>\n",
       "      <td>120757</td>\n",
       "    </tr>\n",
       "    <tr>\n",
       "      <th>8</th>\n",
       "      <td>PHARMACY</td>\n",
       "      <td>PHARMACY</td>\n",
       "      <td>2017</td>\n",
       "      <td>186341</td>\n",
       "      <td>80699</td>\n",
       "      <td>105642</td>\n",
       "    </tr>\n",
       "    <tr>\n",
       "      <th>9</th>\n",
       "      <td>PHARMACY</td>\n",
       "      <td>PHARMACY</td>\n",
       "      <td>2018_Q4</td>\n",
       "      <td>186341</td>\n",
       "      <td>65584</td>\n",
       "      <td>120757</td>\n",
       "    </tr>\n",
       "  </tbody>\n",
       "</table>\n",
       "</div>"
      ],
      "text/plain": [
       "     source               tab   period  row_cnt    true   false\n",
       "0   MEDICAL       COMORBIDITY     2016   186341  154186   32155\n",
       "1   MEDICAL       COMORBIDITY     2017   186341  150807   35534\n",
       "2   MEDICAL       COMORBIDITY     2018   186341  144663   41678\n",
       "3   MEDICAL      DEMOGRAPHICS     2018   186341  144663   41678\n",
       "4   MEDICAL         SPECIALTY     2018   186341  144663   41678\n",
       "5   MEDICAL            VISITS     2018   186341  144663   41678\n",
       "6  PHARMACY  DRUG_UTILIZATION     2017   186341   80699  105642\n",
       "7  PHARMACY  DRUG_UTILIZATION  2018_Q4   186341   65584  120757\n",
       "8  PHARMACY          PHARMACY     2017   186341   80699  105642\n",
       "9  PHARMACY          PHARMACY  2018_Q4   186341   65584  120757"
      ]
     },
     "execution_count": 9,
     "metadata": {},
     "output_type": "execute_result"
    }
   ],
   "source": [
    "%%read_sql\n",
    "--Update Pharmacy Claim Counts\n",
    "BEGIN;\n",
    "UPDATE dash_pld_stability_cnts stab\n",
    "   SET stab.meets_cov_rule = TRUE\n",
    "  FROM pld_phar_cnt_unpivot phar\n",
    " WHERE stab.patient_id = phar.patient_id\n",
    "       AND stab.period = phar.period\n",
    "       AND phar.phar_claim_cnt >= stab.min_claim_cnt\n",
    "       AND stab.source = 'PHARMACY';\n",
    "COMMIT;\n",
    "\n",
    "--Review Counts with pharmacy added\n",
    "SELECT source,\n",
    "       tab,\n",
    "       period,\n",
    "       Count(*) AS row_cnt,\n",
    "       Sum(case when meets_cov_rule = True  THEN 1 ELSE 0 END) AS True,\n",
    "       Sum(case when meets_cov_rule = False THEN 1 ELSE 0 END) AS False\n",
    "  FROM dash_pld_stability_cnts\n",
    " GROUP BY source, tab, period\n",
    " ORDER BY source, tab, period;"
   ]
  },
  {
   "cell_type": "markdown",
   "metadata": {},
   "source": [
    "## Final table\n",
    "Shrink everything down to the final table"
   ]
  },
  {
   "cell_type": "code",
   "execution_count": 10,
   "metadata": {
    "ExecuteTime": {
     "end_time": "2019-05-13T20:27:52.676845Z",
     "start_time": "2019-05-13T20:27:28.199917Z"
    }
   },
   "outputs": [
    {
     "name": "stdout",
     "output_type": "stream",
     "text": [
      "Query started at 04:27:28 PM Eastern Daylight Time; Query executed in 0.08 mQuery started at 04:27:33 PM Eastern Daylight Time; Query executed in 0.07 mQuery started at 04:27:37 PM Eastern Daylight Time; Query executed in 0.11 mQuery started at 04:27:43 PM Eastern Daylight Time; Query executed in 0.10 mQuery started at 04:27:49 PM Eastern Daylight Time; Query executed in 0.05 m"
     ]
    },
    {
     "data": {
      "text/html": [
       "<div>\n",
       "<style scoped>\n",
       "    .dataframe tbody tr th:only-of-type {\n",
       "        vertical-align: middle;\n",
       "    }\n",
       "\n",
       "    .dataframe tbody tr th {\n",
       "        vertical-align: top;\n",
       "    }\n",
       "\n",
       "    .dataframe thead th {\n",
       "        text-align: right;\n",
       "    }\n",
       "</style>\n",
       "<table border=\"1\" class=\"dataframe\">\n",
       "  <thead>\n",
       "    <tr style=\"text-align: right;\">\n",
       "      <th></th>\n",
       "      <th>status</th>\n",
       "    </tr>\n",
       "  </thead>\n",
       "  <tbody>\n",
       "    <tr>\n",
       "      <th>0</th>\n",
       "      <td>Statement executed successfully.</td>\n",
       "    </tr>\n",
       "  </tbody>\n",
       "</table>\n",
       "</div>"
      ],
      "text/plain": [
       "                             status\n",
       "0  Statement executed successfully."
      ]
     },
     "execution_count": 10,
     "metadata": {},
     "output_type": "execute_result"
    }
   ],
   "source": [
    "%%read_sql\n",
    "--Identify counts of claims \n",
    "CREATE OR REPLACE TEMP TABLE tmp_remove_patients AS\n",
    "    SELECT patient_id,\n",
    "           tab\n",
    "      FROM dash_pld_stability_cnts\n",
    "     WHERE meets_cov_rule = False\n",
    "    GROUP BY patient_id, tab;\n",
    "\n",
    "CREATE OR REPLACE TABLE dash_pld_stability AS\n",
    "    SELECT patient_id,\n",
    "           tab\n",
    "      FROM dash_pld_stability_cnts\n",
    "     GROUP BY patient_id, tab;\n",
    "\n",
    "BEGIN;\n",
    "DELETE \n",
    "  FROM dash_pld_stability stab\n",
    " USING tmp_remove_patients del\n",
    " WHERE stab.patient_id = del.patient_id\n",
    "       AND stab.tab = del.tab;\n",
    "COMMIT;"
   ]
  },
  {
   "cell_type": "code",
   "execution_count": 12,
   "metadata": {
    "ExecuteTime": {
     "end_time": "2019-05-13T20:27:59.679913Z",
     "start_time": "2019-05-13T20:27:54.949059Z"
    }
   },
   "outputs": [
    {
     "name": "stdout",
     "output_type": "stream",
     "text": [
      "Query started at 04:27:54 PM Eastern Daylight Time; Query executed in 0.08 m"
     ]
    },
    {
     "data": {
      "text/html": [
       "<div>\n",
       "<style scoped>\n",
       "    .dataframe tbody tr th:only-of-type {\n",
       "        vertical-align: middle;\n",
       "    }\n",
       "\n",
       "    .dataframe tbody tr th {\n",
       "        vertical-align: top;\n",
       "    }\n",
       "\n",
       "    .dataframe thead th {\n",
       "        text-align: right;\n",
       "    }\n",
       "</style>\n",
       "<table border=\"1\" class=\"dataframe\">\n",
       "  <thead>\n",
       "    <tr style=\"text-align: right;\">\n",
       "      <th></th>\n",
       "      <th>tab</th>\n",
       "      <th>row_cnt</th>\n",
       "      <th>pt_cnt</th>\n",
       "    </tr>\n",
       "  </thead>\n",
       "  <tbody>\n",
       "    <tr>\n",
       "      <th>0</th>\n",
       "      <td>SPECIALTY</td>\n",
       "      <td>144663</td>\n",
       "      <td>144663</td>\n",
       "    </tr>\n",
       "    <tr>\n",
       "      <th>1</th>\n",
       "      <td>DEMOGRAPHICS</td>\n",
       "      <td>144663</td>\n",
       "      <td>144663</td>\n",
       "    </tr>\n",
       "    <tr>\n",
       "      <th>2</th>\n",
       "      <td>PHARMACY</td>\n",
       "      <td>49096</td>\n",
       "      <td>49096</td>\n",
       "    </tr>\n",
       "    <tr>\n",
       "      <th>3</th>\n",
       "      <td>DRUG_UTILIZATION</td>\n",
       "      <td>49096</td>\n",
       "      <td>49096</td>\n",
       "    </tr>\n",
       "    <tr>\n",
       "      <th>4</th>\n",
       "      <td>COMORBIDITY</td>\n",
       "      <td>116846</td>\n",
       "      <td>116846</td>\n",
       "    </tr>\n",
       "    <tr>\n",
       "      <th>5</th>\n",
       "      <td>VISITS</td>\n",
       "      <td>144663</td>\n",
       "      <td>144663</td>\n",
       "    </tr>\n",
       "  </tbody>\n",
       "</table>\n",
       "</div>"
      ],
      "text/plain": [
       "                tab  row_cnt  pt_cnt\n",
       "0         SPECIALTY   144663  144663\n",
       "1      DEMOGRAPHICS   144663  144663\n",
       "2          PHARMACY    49096   49096\n",
       "3  DRUG_UTILIZATION    49096   49096\n",
       "4       COMORBIDITY   116846  116846\n",
       "5            VISITS   144663  144663"
      ]
     },
     "execution_count": 12,
     "metadata": {},
     "output_type": "execute_result"
    }
   ],
   "source": [
    "%%read_sql\n",
    "SELECT tab,\n",
    "       Count(*) AS row_cnt, \n",
    "       Count(Distinct patient_id) AS pt_cnt\n",
    "  FROM dash_pld_stability\n",
    " GROUP BY tab "
   ]
  },
  {
   "cell_type": "markdown",
   "metadata": {},
   "source": [
    "# Denominators\n",
    "Get counts of all patients grouped by age_group, payer_type and gender to use in future queries as denominators for future stuff"
   ]
  },
  {
   "cell_type": "markdown",
   "metadata": {},
   "source": [
    "## Patient Level\n",
    "Create a denominator at the patient level for easier aggregations in the future"
   ]
  },
  {
   "cell_type": "code",
   "execution_count": 13,
   "metadata": {
    "ExecuteTime": {
     "end_time": "2019-05-13T20:28:15.144400Z",
     "start_time": "2019-05-13T20:27:59.683922Z"
    }
   },
   "outputs": [
    {
     "name": "stdout",
     "output_type": "stream",
     "text": [
      "Query started at 04:27:59 PM Eastern Daylight Time; Query executed in 0.05 mQuery started at 04:28:02 PM Eastern Daylight Time; Query executed in 0.21 m"
     ]
    },
    {
     "data": {
      "text/html": [
       "<div>\n",
       "<style scoped>\n",
       "    .dataframe tbody tr th:only-of-type {\n",
       "        vertical-align: middle;\n",
       "    }\n",
       "\n",
       "    .dataframe tbody tr th {\n",
       "        vertical-align: top;\n",
       "    }\n",
       "\n",
       "    .dataframe thead th {\n",
       "        text-align: right;\n",
       "    }\n",
       "</style>\n",
       "<table border=\"1\" class=\"dataframe\">\n",
       "  <thead>\n",
       "    <tr style=\"text-align: right;\">\n",
       "      <th></th>\n",
       "      <th>status</th>\n",
       "    </tr>\n",
       "  </thead>\n",
       "  <tbody>\n",
       "    <tr>\n",
       "      <th>0</th>\n",
       "      <td>Table DASH_PLD_DEN successfully created.</td>\n",
       "    </tr>\n",
       "  </tbody>\n",
       "</table>\n",
       "</div>"
      ],
      "text/plain": [
       "                                     status\n",
       "0  Table DASH_PLD_DEN successfully created."
      ]
     },
     "execution_count": 13,
     "metadata": {},
     "output_type": "execute_result"
    }
   ],
   "source": [
    "%%read_sql\n",
    "DROP TABLE IF EXISTS dash_pld_den;\n",
    "CREATE TRANSIENT TABLE dash_pld_den AS    \n",
    "    SELECT coh.patient_id,\n",
    "           demo.age_bucket,\n",
    "           demo.gender,\n",
    "           ins.insurance,\n",
    "           stab.tab,\n",
    "           grp.pt_grp\n",
    "      FROM coh_pt coh\n",
    "           INNER JOIN dash_pld_stability stab\n",
    "                   ON coh.patient_id = stab.patient_id \n",
    "            LEFT JOIN pld_demo demo\n",
    "                   ON coh.patient_id = demo.patient_id\n",
    "            LEFT JOIN pld_med_ins_pivot ins\n",
    "                   ON ins.patient_id = demo.patient_id\n",
    "            LEFT JOIN dash_pld_pt_grp grp\n",
    "                   ON grp.patient_id = demo.patient_id"
   ]
  },
  {
   "cell_type": "code",
   "execution_count": 14,
   "metadata": {
    "ExecuteTime": {
     "end_time": "2019-05-13T20:28:17.980909Z",
     "start_time": "2019-05-13T20:28:15.178478Z"
    }
   },
   "outputs": [
    {
     "name": "stdout",
     "output_type": "stream",
     "text": [
      "Query started at 04:28:15 PM Eastern Daylight Time; Query executed in 0.05 m"
     ]
    },
    {
     "data": {
      "text/html": [
       "<div>\n",
       "<style scoped>\n",
       "    .dataframe tbody tr th:only-of-type {\n",
       "        vertical-align: middle;\n",
       "    }\n",
       "\n",
       "    .dataframe tbody tr th {\n",
       "        vertical-align: top;\n",
       "    }\n",
       "\n",
       "    .dataframe thead th {\n",
       "        text-align: right;\n",
       "    }\n",
       "</style>\n",
       "<table border=\"1\" class=\"dataframe\">\n",
       "  <thead>\n",
       "    <tr style=\"text-align: right;\">\n",
       "      <th></th>\n",
       "      <th>row_cnt</th>\n",
       "      <th>pt_cnt</th>\n",
       "    </tr>\n",
       "  </thead>\n",
       "  <tbody>\n",
       "    <tr>\n",
       "      <th>0</th>\n",
       "      <td>649027</td>\n",
       "      <td>150942</td>\n",
       "    </tr>\n",
       "  </tbody>\n",
       "</table>\n",
       "</div>"
      ],
      "text/plain": [
       "   row_cnt  pt_cnt\n",
       "0   649027  150942"
      ]
     },
     "execution_count": 14,
     "metadata": {},
     "output_type": "execute_result"
    }
   ],
   "source": [
    "%%read_sql\n",
    "--Review counts to ensure no duplication\n",
    "SELECT Count(*) AS row_cnt,\n",
    "       Count(Distinct patient_id) AS pt_cnt\n",
    "  FROM dash_pld_den"
   ]
  },
  {
   "cell_type": "markdown",
   "metadata": {},
   "source": [
    "## Aggregation\n",
    "Denominator aggregated at the key levels for future use"
   ]
  },
  {
   "cell_type": "code",
   "execution_count": 15,
   "metadata": {
    "ExecuteTime": {
     "end_time": "2019-05-13T20:28:25.328770Z",
     "start_time": "2019-05-13T20:28:17.983916Z"
    }
   },
   "outputs": [
    {
     "name": "stdout",
     "output_type": "stream",
     "text": [
      "Query started at 04:28:17 PM Eastern Daylight Time; Query executed in 0.03 mQuery started at 04:28:19 PM Eastern Daylight Time; Query executed in 0.09 m"
     ]
    },
    {
     "data": {
      "text/html": [
       "<div>\n",
       "<style scoped>\n",
       "    .dataframe tbody tr th:only-of-type {\n",
       "        vertical-align: middle;\n",
       "    }\n",
       "\n",
       "    .dataframe tbody tr th {\n",
       "        vertical-align: top;\n",
       "    }\n",
       "\n",
       "    .dataframe thead th {\n",
       "        text-align: right;\n",
       "    }\n",
       "</style>\n",
       "<table border=\"1\" class=\"dataframe\">\n",
       "  <thead>\n",
       "    <tr style=\"text-align: right;\">\n",
       "      <th></th>\n",
       "      <th>status</th>\n",
       "    </tr>\n",
       "  </thead>\n",
       "  <tbody>\n",
       "    <tr>\n",
       "      <th>0</th>\n",
       "      <td>Table DASH_PLD_DEN_GRP successfully created.</td>\n",
       "    </tr>\n",
       "  </tbody>\n",
       "</table>\n",
       "</div>"
      ],
      "text/plain": [
       "                                         status\n",
       "0  Table DASH_PLD_DEN_GRP successfully created."
      ]
     },
     "execution_count": 15,
     "metadata": {},
     "output_type": "execute_result"
    }
   ],
   "source": [
    "%%read_sql\n",
    "DROP TABLE IF EXISTS dash_pld_den_grp;\n",
    "CREATE TRANSIENT TABLE dash_pld_den_grp AS    \n",
    "    SELECT tab,\n",
    "           age_bucket,\n",
    "           gender,\n",
    "           insurance,\n",
    "           pt_grp,\n",
    "           Count(Distinct patient_id) AS den\n",
    "      FROM dash_pld_den \n",
    "     GROUP BY tab,\n",
    "              age_bucket,\n",
    "              gender,\n",
    "              insurance,\n",
    "              pt_grp;"
   ]
  },
  {
   "cell_type": "markdown",
   "metadata": {},
   "source": [
    "# Tables\n",
    "All PLD tables needed or the dashboard"
   ]
  },
  {
   "cell_type": "markdown",
   "metadata": {},
   "source": [
    "## Demographics\n",
    "Pull together data for the demographics tab"
   ]
  },
  {
   "cell_type": "code",
   "execution_count": 16,
   "metadata": {
    "ExecuteTime": {
     "end_time": "2019-05-13T20:28:32.899142Z",
     "start_time": "2019-05-13T20:28:25.331777Z"
    }
   },
   "outputs": [
    {
     "name": "stdout",
     "output_type": "stream",
     "text": [
      "Query started at 04:28:25 PM Eastern Daylight Time; Query executed in 0.03 mQuery started at 04:28:27 PM Eastern Daylight Time; Query executed in 0.09 m"
     ]
    },
    {
     "data": {
      "text/html": [
       "<div>\n",
       "<style scoped>\n",
       "    .dataframe tbody tr th:only-of-type {\n",
       "        vertical-align: middle;\n",
       "    }\n",
       "\n",
       "    .dataframe tbody tr th {\n",
       "        vertical-align: top;\n",
       "    }\n",
       "\n",
       "    .dataframe thead th {\n",
       "        text-align: right;\n",
       "    }\n",
       "</style>\n",
       "<table border=\"1\" class=\"dataframe\">\n",
       "  <thead>\n",
       "    <tr style=\"text-align: right;\">\n",
       "      <th></th>\n",
       "      <th>status</th>\n",
       "    </tr>\n",
       "  </thead>\n",
       "  <tbody>\n",
       "    <tr>\n",
       "      <th>0</th>\n",
       "      <td>Table DASH_PLD_DEMOGRAPHICS successfully created.</td>\n",
       "    </tr>\n",
       "  </tbody>\n",
       "</table>\n",
       "</div>"
      ],
      "text/plain": [
       "                                              status\n",
       "0  Table DASH_PLD_DEMOGRAPHICS successfully created."
      ]
     },
     "execution_count": 16,
     "metadata": {},
     "output_type": "execute_result"
    }
   ],
   "source": [
    "%%read_sql\n",
    "DROP TABLE IF EXISTS dash_pld_demographics;\n",
    "CREATE TRANSIENT TABLE dash_pld_demographics AS\n",
    "    SELECT coh.age_bucket,\n",
    "           coh.gender,\n",
    "           coh.insurance,\n",
    "           coh.pt_grp,\n",
    "           geo.state_abbr AS state,\n",
    "           st.interstate_regions AS region,\n",
    "           Count(Distinct coh.patient_id) AS pt_cnt\n",
    "      FROM dash_pld_den coh\n",
    "           LEFT JOIN pld_geo_medical geo\n",
    "                  ON geo.patient_id = coh.patient_id\n",
    "           LEFT JOIN ref_db.analytics.state_to_region st\n",
    "                  ON st.state = geo.state_abbr\n",
    "     WHERE coh.patient_id IN (SELECT patient_id\n",
    "                                FROM dash_pld_den\n",
    "                               WHERE tab = 'DEMOGRAPHICS')\n",
    "     GROUP BY coh.age_bucket,\n",
    "              coh.gender,\n",
    "              coh.insurance,\n",
    "              coh.pt_grp,\n",
    "              geo.state_abbr,\n",
    "              st.interstate_regions"
   ]
  },
  {
   "cell_type": "code",
   "execution_count": 17,
   "metadata": {
    "ExecuteTime": {
     "end_time": "2019-05-13T20:28:39.913237Z",
     "start_time": "2019-05-13T20:28:32.902149Z"
    }
   },
   "outputs": [
    {
     "name": "stdout",
     "output_type": "stream",
     "text": [
      "Query started at 04:28:32 PM Eastern Daylight Time; Query executed in 0.04 mQuery started at 04:28:35 PM Eastern Daylight Time; Query executed in 0.03 mQuery started at 04:28:36 PM Eastern Daylight Time; Query executed in 0.05 m"
     ]
    },
    {
     "data": {
      "text/html": [
       "<div>\n",
       "<style scoped>\n",
       "    .dataframe tbody tr th:only-of-type {\n",
       "        vertical-align: middle;\n",
       "    }\n",
       "\n",
       "    .dataframe tbody tr th {\n",
       "        vertical-align: top;\n",
       "    }\n",
       "\n",
       "    .dataframe thead th {\n",
       "        text-align: right;\n",
       "    }\n",
       "</style>\n",
       "<table border=\"1\" class=\"dataframe\">\n",
       "  <thead>\n",
       "    <tr style=\"text-align: right;\">\n",
       "      <th></th>\n",
       "      <th>status</th>\n",
       "    </tr>\n",
       "  </thead>\n",
       "  <tbody>\n",
       "    <tr>\n",
       "      <th>0</th>\n",
       "      <td>Statement executed successfully.</td>\n",
       "    </tr>\n",
       "  </tbody>\n",
       "</table>\n",
       "</div>"
      ],
      "text/plain": [
       "                             status\n",
       "0  Statement executed successfully."
      ]
     },
     "execution_count": 17,
     "metadata": {},
     "output_type": "execute_result"
    }
   ],
   "source": [
    "%%read_sql\n",
    "CREATE OR REPLACE VIEW reportdb.reportviews.demographics_pld_vw AS\n",
    "     SELECT *\n",
    "       FROM ref_db.semi_custom.dash_pld_demographics;\n",
    "       \n",
    "GRANT SELECT ON view reportdb.reportviews.demographics_pld_vw TO ROLE tableau_restricted_role;\n",
    "GRANT SELECT ON view reportdb.reportviews.demographics_pld_vw TO ROLE rwd_analytics_rw;"
   ]
  },
  {
   "cell_type": "markdown",
   "metadata": {},
   "source": [
    "## Comorbidities\n",
    "Create a comorbidity table for the dashboard"
   ]
  },
  {
   "cell_type": "code",
   "execution_count": 18,
   "metadata": {
    "ExecuteTime": {
     "end_time": "2019-05-13T20:28:48.293468Z",
     "start_time": "2019-05-13T20:28:39.920253Z"
    }
   },
   "outputs": [
    {
     "name": "stdout",
     "output_type": "stream",
     "text": [
      "Query started at 04:28:39 PM Eastern Daylight Time; Query executed in 0.03 mQuery started at 04:28:41 PM Eastern Daylight Time; Query executed in 0.11 m"
     ]
    },
    {
     "data": {
      "text/html": [
       "<div>\n",
       "<style scoped>\n",
       "    .dataframe tbody tr th:only-of-type {\n",
       "        vertical-align: middle;\n",
       "    }\n",
       "\n",
       "    .dataframe tbody tr th {\n",
       "        vertical-align: top;\n",
       "    }\n",
       "\n",
       "    .dataframe thead th {\n",
       "        text-align: right;\n",
       "    }\n",
       "</style>\n",
       "<table border=\"1\" class=\"dataframe\">\n",
       "  <thead>\n",
       "    <tr style=\"text-align: right;\">\n",
       "      <th></th>\n",
       "      <th>status</th>\n",
       "    </tr>\n",
       "  </thead>\n",
       "  <tbody>\n",
       "    <tr>\n",
       "      <th>0</th>\n",
       "      <td>Table TMP_COMORBID_CNTS successfully created.</td>\n",
       "    </tr>\n",
       "  </tbody>\n",
       "</table>\n",
       "</div>"
      ],
      "text/plain": [
       "                                          status\n",
       "0  Table TMP_COMORBID_CNTS successfully created."
      ]
     },
     "execution_count": 18,
     "metadata": {},
     "output_type": "execute_result"
    }
   ],
   "source": [
    "%%read_sql\n",
    "DROP TABLE IF EXISTS tmp_comorbid_cnts;\n",
    "CREATE TEMP TABLE tmp_comorbid_cnts AS\n",
    "    SELECT den.age_bucket,\n",
    "           den.gender,\n",
    "           den.insurance,\n",
    "           den.pt_grp,\n",
    "           com.comorbidity AS comorbidity,\n",
    "           Count(Distinct den.patient_id) AS pt_cnt\n",
    "      FROM dash_pld_den den\n",
    "           LEFT JOIN cld_elix com\n",
    "                  ON den.patient_id = com.patient_id\n",
    "     WHERE den.patient_id IN (SELECT patient_id\n",
    "                                FROM dash_pld_den\n",
    "                               WHERE tab = 'COMORBIDITY')\n",
    "     GROUP BY den.age_bucket,\n",
    "              den.gender,\n",
    "              den.insurance,\n",
    "              den.pt_grp,\n",
    "              comorbidity;"
   ]
  },
  {
   "cell_type": "code",
   "execution_count": 19,
   "metadata": {
    "ExecuteTime": {
     "end_time": "2019-05-13T20:28:54.822450Z",
     "start_time": "2019-05-13T20:28:48.294470Z"
    }
   },
   "outputs": [
    {
     "name": "stdout",
     "output_type": "stream",
     "text": [
      "Query started at 04:28:48 PM Eastern Daylight Time; Query executed in 0.03 mQuery started at 04:28:50 PM Eastern Daylight Time; Query executed in 0.08 m"
     ]
    },
    {
     "data": {
      "text/html": [
       "<div>\n",
       "<style scoped>\n",
       "    .dataframe tbody tr th:only-of-type {\n",
       "        vertical-align: middle;\n",
       "    }\n",
       "\n",
       "    .dataframe tbody tr th {\n",
       "        vertical-align: top;\n",
       "    }\n",
       "\n",
       "    .dataframe thead th {\n",
       "        text-align: right;\n",
       "    }\n",
       "</style>\n",
       "<table border=\"1\" class=\"dataframe\">\n",
       "  <thead>\n",
       "    <tr style=\"text-align: right;\">\n",
       "      <th></th>\n",
       "      <th>status</th>\n",
       "    </tr>\n",
       "  </thead>\n",
       "  <tbody>\n",
       "    <tr>\n",
       "      <th>0</th>\n",
       "      <td>Table PLD_DASH_COMORBIDITIES successfully crea...</td>\n",
       "    </tr>\n",
       "  </tbody>\n",
       "</table>\n",
       "</div>"
      ],
      "text/plain": [
       "                                              status\n",
       "0  Table PLD_DASH_COMORBIDITIES successfully crea..."
      ]
     },
     "execution_count": 19,
     "metadata": {},
     "output_type": "execute_result"
    }
   ],
   "source": [
    "%%read_sql\n",
    "DROP TABLE IF EXISTS pld_dash_comorbidities;\n",
    "CREATE TRANSIENT TABLE pld_dash_comorbidities AS\n",
    "    SELECT den.age_bucket,\n",
    "           den.gender,\n",
    "           den.insurance,\n",
    "           den.pt_grp,\n",
    "           num.comorbidity,\n",
    "           CASE WHEN num.pt_cnt IS NULL THEN 0 ELSE num.pt_cnt END AS num,\n",
    "           den.den,\n",
    "           CASE WHEN num.pt_cnt IS NULL THEN 0 ELSE num.pt_cnt END / den.den AS pct\n",
    "      FROM dash_pld_den_grp den\n",
    "           LEFT JOIN tmp_comorbid_cnts num\n",
    "                  ON den.age_bucket = num.age_bucket\n",
    "                     AND den.gender = num.gender\n",
    "                     AND den.insurance = num.insurance\n",
    "                     AND den.pt_grp = num.pt_grp\n",
    "     WHERE num.comorbidity IS NOT NULL\n",
    "           AND den.tab = 'COMORBIDITY';\n",
    "    "
   ]
  },
  {
   "cell_type": "code",
   "execution_count": 20,
   "metadata": {
    "ExecuteTime": {
     "end_time": "2019-05-13T20:29:00.587679Z",
     "start_time": "2019-05-13T20:28:54.829466Z"
    }
   },
   "outputs": [
    {
     "name": "stdout",
     "output_type": "stream",
     "text": [
      "Query started at 04:28:54 PM Eastern Daylight Time; Query executed in 0.04 mQuery started at 04:28:57 PM Eastern Daylight Time; Query executed in 0.03 mQuery started at 04:28:58 PM Eastern Daylight Time; Query executed in 0.03 m"
     ]
    },
    {
     "data": {
      "text/html": [
       "<div>\n",
       "<style scoped>\n",
       "    .dataframe tbody tr th:only-of-type {\n",
       "        vertical-align: middle;\n",
       "    }\n",
       "\n",
       "    .dataframe tbody tr th {\n",
       "        vertical-align: top;\n",
       "    }\n",
       "\n",
       "    .dataframe thead th {\n",
       "        text-align: right;\n",
       "    }\n",
       "</style>\n",
       "<table border=\"1\" class=\"dataframe\">\n",
       "  <thead>\n",
       "    <tr style=\"text-align: right;\">\n",
       "      <th></th>\n",
       "      <th>status</th>\n",
       "    </tr>\n",
       "  </thead>\n",
       "  <tbody>\n",
       "    <tr>\n",
       "      <th>0</th>\n",
       "      <td>Statement executed successfully.</td>\n",
       "    </tr>\n",
       "  </tbody>\n",
       "</table>\n",
       "</div>"
      ],
      "text/plain": [
       "                             status\n",
       "0  Statement executed successfully."
      ]
     },
     "execution_count": 20,
     "metadata": {},
     "output_type": "execute_result"
    }
   ],
   "source": [
    "%%read_sql\n",
    "CREATE OR REPLACE VIEW reportdb.reportviews.comorbidity_pld_vw AS\n",
    "     SELECT *\n",
    "       FROM ref_db.semi_custom.pld_dash_comorbidities;\n",
    "       \n",
    "GRANT SELECT ON view reportdb.reportviews.comorbidity_pld_vw TO ROLE tableau_restricted_role;\n",
    "GRANT SELECT ON view reportdb.reportviews.comorbidity_pld_vw TO ROLE rwd_analytics_rw;"
   ]
  },
  {
   "cell_type": "markdown",
   "metadata": {},
   "source": [
    "## Place of Service\n",
    "Identify the counts of visits to places of service for each patient"
   ]
  },
  {
   "cell_type": "markdown",
   "metadata": {},
   "source": [
    "### Patient Level\n",
    "A sample of patient level data "
   ]
  },
  {
   "cell_type": "code",
   "execution_count": 22,
   "metadata": {
    "ExecuteTime": {
     "end_time": "2019-05-13T20:29:08.547946Z",
     "start_time": "2019-05-13T20:29:00.599707Z"
    }
   },
   "outputs": [
    {
     "name": "stdout",
     "output_type": "stream",
     "text": [
      "Query started at 04:29:00 PM Eastern Daylight Time; Query executed in 0.03 mQuery started at 04:29:02 PM Eastern Daylight Time; Query executed in 0.11 m"
     ]
    },
    {
     "data": {
      "text/html": [
       "<div>\n",
       "<style scoped>\n",
       "    .dataframe tbody tr th:only-of-type {\n",
       "        vertical-align: middle;\n",
       "    }\n",
       "\n",
       "    .dataframe tbody tr th {\n",
       "        vertical-align: top;\n",
       "    }\n",
       "\n",
       "    .dataframe thead th {\n",
       "        text-align: right;\n",
       "    }\n",
       "</style>\n",
       "<table border=\"1\" class=\"dataframe\">\n",
       "  <thead>\n",
       "    <tr style=\"text-align: right;\">\n",
       "      <th></th>\n",
       "      <th>status</th>\n",
       "    </tr>\n",
       "  </thead>\n",
       "  <tbody>\n",
       "    <tr>\n",
       "      <th>0</th>\n",
       "      <td>Table DASH_PLD_POS_PT successfully created.</td>\n",
       "    </tr>\n",
       "  </tbody>\n",
       "</table>\n",
       "</div>"
      ],
      "text/plain": [
       "                                        status\n",
       "0  Table DASH_PLD_POS_PT successfully created."
      ]
     },
     "execution_count": 22,
     "metadata": {},
     "output_type": "execute_result"
    }
   ],
   "source": [
    "%%read_sql\n",
    "DROP TABLE IF EXISTS dash_pld_pos_pt;\n",
    "CREATE TEMP TABLE dash_pld_pos_pt AS\n",
    "    SELECT den.age_bucket,\n",
    "           den.gender,\n",
    "           den.insurance,\n",
    "           den.pt_grp,\n",
    "           pos.pos_group,\n",
    "           pos.patient_id,\n",
    "           Count(Distinct pos.year_of_service) AS pt_svc_cnt\n",
    "      FROM dash_pld_den den\n",
    "           LEFT JOIN cld_med_pos pos\n",
    "                  ON pos.patient_id = den.patient_id\n",
    "     WHERE pos.year_of_service BETWEEN '2017-01-01' and '2017-12-31'\n",
    "           AND pos.patient_id IN (SELECT patient_id\n",
    "                                    FROM dash_pld_den\n",
    "                                   WHERE tab = 'VISITS')\n",
    "           AND pos.pos_group IS NOT NULL\n",
    "           AND den.age_bucket IS NOT NULL\n",
    "           AND den.gender IS NOT NULL\n",
    "           AND den.pt_grp IS NOT NULL\n",
    "           AND pos.pos_group IS NOT NULL\n",
    "     GROUP BY den.age_bucket,\n",
    "           den.gender,\n",
    "           den.insurance,\n",
    "           den.pt_grp,\n",
    "           pos.pos_group,\n",
    "           pos.patient_id;"
   ]
  },
  {
   "cell_type": "code",
   "execution_count": 56,
   "metadata": {
    "ExecuteTime": {
     "end_time": "2019-05-13T20:40:12.024587Z",
     "start_time": "2019-05-13T20:39:55.134210Z"
    }
   },
   "outputs": [
    {
     "name": "stdout",
     "output_type": "stream",
     "text": [
      "Query started at 04:39:55 PM Eastern Daylight Time; Query executed in 0.06 mQuery started at 04:39:58 PM Eastern Daylight Time; Query executed in 0.05 mQuery started at 04:40:01 PM Eastern Daylight Time; Query executed in 0.07 mQuery started at 04:40:05 PM Eastern Daylight Time; Query executed in 0.04 mQuery started at 04:40:08 PM Eastern Daylight Time; Query executed in 0.03 mQuery started at 04:40:09 PM Eastern Daylight Time; Query executed in 0.03 m"
     ]
    },
    {
     "data": {
      "text/html": [
       "<div>\n",
       "<style scoped>\n",
       "    .dataframe tbody tr th:only-of-type {\n",
       "        vertical-align: middle;\n",
       "    }\n",
       "\n",
       "    .dataframe tbody tr th {\n",
       "        vertical-align: top;\n",
       "    }\n",
       "\n",
       "    .dataframe thead th {\n",
       "        text-align: right;\n",
       "    }\n",
       "</style>\n",
       "<table border=\"1\" class=\"dataframe\">\n",
       "  <thead>\n",
       "    <tr style=\"text-align: right;\">\n",
       "      <th></th>\n",
       "      <th>status</th>\n",
       "    </tr>\n",
       "  </thead>\n",
       "  <tbody>\n",
       "    <tr>\n",
       "      <th>0</th>\n",
       "      <td>Statement executed successfully.</td>\n",
       "    </tr>\n",
       "  </tbody>\n",
       "</table>\n",
       "</div>"
      ],
      "text/plain": [
       "                             status\n",
       "0  Statement executed successfully."
      ]
     },
     "execution_count": 56,
     "metadata": {},
     "output_type": "execute_result"
    }
   ],
   "source": [
    "%%read_sql\n",
    "CREATE OR REPLACE TEMP TABLE ref_db.semi_custom.tmp_pt_cnt AS\n",
    "    SELECT DISTINCT patient_id\n",
    "      FROM ref_db.semi_custom.dash_pld_pos_pt;\n",
    "\n",
    "CREATE OR REPLACE TEMP TABLE ref_db.semi_custom.tmp_pt_cnt_sample AS\n",
    "    SELECT patient_id\n",
    "      FROM ref_db.semi_custom.tmp_pt_cnt\n",
    "     SAMPLE (20000 rows);\n",
    "\n",
    "CREATE OR REPLACE TABLE ref_db.semi_custom.dash_pld_pos_pt_sample AS\n",
    "    SELECT *\n",
    "      FROM ref_db.semi_custom.dash_pld_pos_pt\n",
    "     WHERE patient_id IN (SELECT patient_id\n",
    "                            FROM ref_db.semi_custom.tmp_pt_cnt_sample);\n",
    "\n",
    "CREATE OR REPLACE VIEW reportdb.reportviews.pos_pt_vw AS\n",
    "    SELECT *\n",
    "      FROM ref_db.semi_custom.dash_pld_pos_pt_sample;\n",
    "\n",
    "GRANT ALL ON reportdb.reportviews.pos_pt_vw TO ROLE rwd_analytics_rw;\n",
    "GRANT ALL ON reportdb.reportviews.pos_pt_vw TO ROLE tableau_restricted_role;\n",
    "\n"
   ]
  },
  {
   "cell_type": "code",
   "execution_count": 55,
   "metadata": {
    "ExecuteTime": {
     "end_time": "2019-05-13T20:37:49.560192Z",
     "start_time": "2019-05-13T20:37:47.917535Z"
    }
   },
   "outputs": [
    {
     "name": "stdout",
     "output_type": "stream",
     "text": [
      "Query started at 04:37:47 PM Eastern Daylight Time; Query executed in 0.03 m"
     ]
    },
    {
     "data": {
      "text/html": [
       "<div>\n",
       "<style scoped>\n",
       "    .dataframe tbody tr th:only-of-type {\n",
       "        vertical-align: middle;\n",
       "    }\n",
       "\n",
       "    .dataframe tbody tr th {\n",
       "        vertical-align: top;\n",
       "    }\n",
       "\n",
       "    .dataframe thead th {\n",
       "        text-align: right;\n",
       "    }\n",
       "</style>\n",
       "<table border=\"1\" class=\"dataframe\">\n",
       "  <thead>\n",
       "    <tr style=\"text-align: right;\">\n",
       "      <th></th>\n",
       "      <th>COUNT(*)</th>\n",
       "    </tr>\n",
       "  </thead>\n",
       "  <tbody>\n",
       "    <tr>\n",
       "      <th>0</th>\n",
       "      <td>20000</td>\n",
       "    </tr>\n",
       "  </tbody>\n",
       "</table>\n",
       "</div>"
      ],
      "text/plain": [
       "   COUNT(*)\n",
       "0     20000"
      ]
     },
     "execution_count": 55,
     "metadata": {},
     "output_type": "execute_result"
    }
   ],
   "source": [
    "%%read_sql\n",
    "SELECT Count(*)\n",
    "  FROM ref_db.semi_custom.tmp_pt_cnt_sample;"
   ]
  },
  {
   "cell_type": "code",
   "execution_count": 53,
   "metadata": {
    "ExecuteTime": {
     "end_time": "2019-05-13T20:37:20.041384Z",
     "start_time": "2019-05-13T20:37:17.393325Z"
    }
   },
   "outputs": [
    {
     "name": "stdout",
     "output_type": "stream",
     "text": [
      "Query started at 04:37:17 PM Eastern Daylight Time; Query executed in 0.04 m"
     ]
    },
    {
     "data": {
      "text/html": [
       "<div>\n",
       "<style scoped>\n",
       "    .dataframe tbody tr th:only-of-type {\n",
       "        vertical-align: middle;\n",
       "    }\n",
       "\n",
       "    .dataframe tbody tr th {\n",
       "        vertical-align: top;\n",
       "    }\n",
       "\n",
       "    .dataframe thead th {\n",
       "        text-align: right;\n",
       "    }\n",
       "</style>\n",
       "<table border=\"1\" class=\"dataframe\">\n",
       "  <thead>\n",
       "    <tr style=\"text-align: right;\">\n",
       "      <th></th>\n",
       "      <th>age_bucket</th>\n",
       "      <th>gender</th>\n",
       "      <th>insurance</th>\n",
       "      <th>pt_grp</th>\n",
       "      <th>pos_group</th>\n",
       "      <th>patient_id</th>\n",
       "      <th>pt_svc_cnt</th>\n",
       "    </tr>\n",
       "  </thead>\n",
       "  <tbody>\n",
       "    <tr>\n",
       "      <th>0</th>\n",
       "      <td>35-54</td>\n",
       "      <td>M</td>\n",
       "      <td>Commercial</td>\n",
       "      <td>Radiation</td>\n",
       "      <td>Other</td>\n",
       "      <td>156754094</td>\n",
       "      <td>17</td>\n",
       "    </tr>\n",
       "    <tr>\n",
       "      <th>1</th>\n",
       "      <td>35-54</td>\n",
       "      <td>F</td>\n",
       "      <td>Commercial</td>\n",
       "      <td>None</td>\n",
       "      <td>Outpatient Hospital</td>\n",
       "      <td>99917492</td>\n",
       "      <td>7</td>\n",
       "    </tr>\n",
       "    <tr>\n",
       "      <th>2</th>\n",
       "      <td>65_PLUS</td>\n",
       "      <td>M</td>\n",
       "      <td>Medicare Advantage</td>\n",
       "      <td>None</td>\n",
       "      <td>Office</td>\n",
       "      <td>211887507</td>\n",
       "      <td>5</td>\n",
       "    </tr>\n",
       "    <tr>\n",
       "      <th>3</th>\n",
       "      <td>65_PLUS</td>\n",
       "      <td>M</td>\n",
       "      <td>Medicare Advantage</td>\n",
       "      <td>None</td>\n",
       "      <td>Outpatient Hospital</td>\n",
       "      <td>74659638</td>\n",
       "      <td>6</td>\n",
       "    </tr>\n",
       "    <tr>\n",
       "      <th>4</th>\n",
       "      <td>35-54</td>\n",
       "      <td>F</td>\n",
       "      <td>Medicaid</td>\n",
       "      <td>None</td>\n",
       "      <td>Outpatient Hospital</td>\n",
       "      <td>21731026</td>\n",
       "      <td>8</td>\n",
       "    </tr>\n",
       "    <tr>\n",
       "      <th>5</th>\n",
       "      <td>65_PLUS</td>\n",
       "      <td>M</td>\n",
       "      <td>Medicare Advantage</td>\n",
       "      <td>None</td>\n",
       "      <td>Other</td>\n",
       "      <td>20201447</td>\n",
       "      <td>11</td>\n",
       "    </tr>\n",
       "    <tr>\n",
       "      <th>6</th>\n",
       "      <td>65_PLUS</td>\n",
       "      <td>M</td>\n",
       "      <td>Medicare Advantage</td>\n",
       "      <td>None</td>\n",
       "      <td>Home Health</td>\n",
       "      <td>70447680</td>\n",
       "      <td>5</td>\n",
       "    </tr>\n",
       "    <tr>\n",
       "      <th>7</th>\n",
       "      <td>65_PLUS</td>\n",
       "      <td>F</td>\n",
       "      <td>Medicare Advantage</td>\n",
       "      <td>None</td>\n",
       "      <td>Inpatient Hospital</td>\n",
       "      <td>208282158</td>\n",
       "      <td>15</td>\n",
       "    </tr>\n",
       "    <tr>\n",
       "      <th>8</th>\n",
       "      <td>35-54</td>\n",
       "      <td>M</td>\n",
       "      <td>Commercial</td>\n",
       "      <td>None</td>\n",
       "      <td>Office</td>\n",
       "      <td>404410613</td>\n",
       "      <td>7</td>\n",
       "    </tr>\n",
       "    <tr>\n",
       "      <th>9</th>\n",
       "      <td>35-54</td>\n",
       "      <td>F</td>\n",
       "      <td>Commercial</td>\n",
       "      <td>None</td>\n",
       "      <td>Office</td>\n",
       "      <td>243359782</td>\n",
       "      <td>19</td>\n",
       "    </tr>\n",
       "  </tbody>\n",
       "</table>\n",
       "</div>"
      ],
      "text/plain": [
       "  age_bucket gender           insurance     pt_grp            pos_group  \\\n",
       "0      35-54      M          Commercial  Radiation                Other   \n",
       "1      35-54      F          Commercial       None  Outpatient Hospital   \n",
       "2    65_PLUS      M  Medicare Advantage       None               Office   \n",
       "3    65_PLUS      M  Medicare Advantage       None  Outpatient Hospital   \n",
       "4      35-54      F            Medicaid       None  Outpatient Hospital   \n",
       "5    65_PLUS      M  Medicare Advantage       None                Other   \n",
       "6    65_PLUS      M  Medicare Advantage       None          Home Health   \n",
       "7    65_PLUS      F  Medicare Advantage       None   Inpatient Hospital   \n",
       "8      35-54      M          Commercial       None               Office   \n",
       "9      35-54      F          Commercial       None               Office   \n",
       "\n",
       "   patient_id  pt_svc_cnt  \n",
       "0   156754094          17  \n",
       "1    99917492           7  \n",
       "2   211887507           5  \n",
       "3    74659638           6  \n",
       "4    21731026           8  \n",
       "5    20201447          11  \n",
       "6    70447680           5  \n",
       "7   208282158          15  \n",
       "8   404410613           7  \n",
       "9   243359782          19  "
      ]
     },
     "execution_count": 53,
     "metadata": {},
     "output_type": "execute_result"
    }
   ],
   "source": [
    "%%read_sql\n",
    "SELECT *\n",
    "  FROM reportdb.reportviews.pos_pt_vw\n",
    " limit 10;"
   ]
  },
  {
   "cell_type": "markdown",
   "metadata": {},
   "source": [
    "### Aggregation\n",
    "Aggregrated data to speed up processing time"
   ]
  },
  {
   "cell_type": "code",
   "execution_count": 24,
   "metadata": {
    "ExecuteTime": {
     "end_time": "2019-05-13T20:29:31.209949Z",
     "start_time": "2019-05-13T20:29:21.351326Z"
    }
   },
   "outputs": [
    {
     "name": "stdout",
     "output_type": "stream",
     "text": [
      "Query started at 04:29:21 PM Eastern Daylight Time; Query executed in 0.02 mQuery started at 04:29:22 PM Eastern Daylight Time; Query executed in 0.14 m"
     ]
    },
    {
     "data": {
      "text/html": [
       "<div>\n",
       "<style scoped>\n",
       "    .dataframe tbody tr th:only-of-type {\n",
       "        vertical-align: middle;\n",
       "    }\n",
       "\n",
       "    .dataframe tbody tr th {\n",
       "        vertical-align: top;\n",
       "    }\n",
       "\n",
       "    .dataframe thead th {\n",
       "        text-align: right;\n",
       "    }\n",
       "</style>\n",
       "<table border=\"1\" class=\"dataframe\">\n",
       "  <thead>\n",
       "    <tr style=\"text-align: right;\">\n",
       "      <th></th>\n",
       "      <th>status</th>\n",
       "    </tr>\n",
       "  </thead>\n",
       "  <tbody>\n",
       "    <tr>\n",
       "      <th>0</th>\n",
       "      <td>Table TMP_DASH_POS successfully created.</td>\n",
       "    </tr>\n",
       "  </tbody>\n",
       "</table>\n",
       "</div>"
      ],
      "text/plain": [
       "                                     status\n",
       "0  Table TMP_DASH_POS successfully created."
      ]
     },
     "execution_count": 24,
     "metadata": {},
     "output_type": "execute_result"
    }
   ],
   "source": [
    "%%read_sql\n",
    "DROP TABLE IF EXISTS tmp_dash_pos;\n",
    "CREATE TEMP TABLE tmp_dash_pos AS\n",
    "    SELECT den.age_bucket,\n",
    "           den.gender,\n",
    "           den.insurance,\n",
    "           den.pt_grp,\n",
    "           pos.pos_group,\n",
    "           pos.patient_id,\n",
    "           Count(Distinct pos.patient_id, pos.year_of_service) AS pt_svc_cnt\n",
    "      FROM dash_pld_den den\n",
    "           LEFT JOIN cld_med_pos pos\n",
    "                  ON pos.patient_id = den.patient_id\n",
    "     WHERE pos.year_of_service BETWEEN '2017-01-01' and '2017-12-31'\n",
    "           AND pos.pos_group IS NOT NULL\n",
    "           AND pos.patient_id IN (SELECT patient_id\n",
    "                                    FROM dash_pld_den\n",
    "                                   WHERE tab = 'VISITS')\n",
    "     GROUP BY den.age_bucket,\n",
    "              den.gender,\n",
    "              den.insurance,\n",
    "              den.pt_grp,\n",
    "              pos.pos_group,\n",
    "              pos.patient_id;"
   ]
  },
  {
   "cell_type": "code",
   "execution_count": 25,
   "metadata": {
    "ExecuteTime": {
     "end_time": "2019-05-13T20:29:35.821531Z",
     "start_time": "2019-05-13T20:29:31.217967Z"
    }
   },
   "outputs": [
    {
     "name": "stdout",
     "output_type": "stream",
     "text": [
      "Query started at 04:29:31 PM Eastern Daylight Time; Query executed in 0.03 mQuery started at 04:29:32 PM Eastern Daylight Time; Query executed in 0.05 m"
     ]
    },
    {
     "data": {
      "text/html": [
       "<div>\n",
       "<style scoped>\n",
       "    .dataframe tbody tr th:only-of-type {\n",
       "        vertical-align: middle;\n",
       "    }\n",
       "\n",
       "    .dataframe tbody tr th {\n",
       "        vertical-align: top;\n",
       "    }\n",
       "\n",
       "    .dataframe thead th {\n",
       "        text-align: right;\n",
       "    }\n",
       "</style>\n",
       "<table border=\"1\" class=\"dataframe\">\n",
       "  <thead>\n",
       "    <tr style=\"text-align: right;\">\n",
       "      <th></th>\n",
       "      <th>status</th>\n",
       "    </tr>\n",
       "  </thead>\n",
       "  <tbody>\n",
       "    <tr>\n",
       "      <th>0</th>\n",
       "      <td>Table DASH_PLD_POS successfully created.</td>\n",
       "    </tr>\n",
       "  </tbody>\n",
       "</table>\n",
       "</div>"
      ],
      "text/plain": [
       "                                     status\n",
       "0  Table DASH_PLD_POS successfully created."
      ]
     },
     "execution_count": 25,
     "metadata": {},
     "output_type": "execute_result"
    }
   ],
   "source": [
    "%%read_sql  \n",
    "DROP TABLE IF EXISTS dash_pld_pos;\n",
    "CREATE TRANSIENT TABLE dash_pld_pos AS\n",
    "    SELECT num.age_bucket,\n",
    "           num.gender,\n",
    "           num.insurance,\n",
    "           num.pt_grp,\n",
    "           num.pos_group,\n",
    "           Count(Distinct num.patient_id) AS pt_cnt,\n",
    "           den.den\n",
    "      FROM tmp_dash_pos num\n",
    "           JOIN dash_pld_den_grp den\n",
    "             ON den.age_bucket = num.age_bucket\n",
    "                AND den.gender = num.gender\n",
    "                AND den.insurance = num.insurance \n",
    "                AND den.pt_grp = num.pt_grp\n",
    "      WHERE den.tab = 'VISITS'\n",
    "     GROUP BY num.age_bucket,\n",
    "              num.gender,\n",
    "              num.insurance,\n",
    "              num.pt_grp,\n",
    "              num.pos_group,\n",
    "              den.den"
   ]
  },
  {
   "cell_type": "code",
   "execution_count": 26,
   "metadata": {
    "ExecuteTime": {
     "end_time": "2019-05-13T20:29:41.508771Z",
     "start_time": "2019-05-13T20:29:35.829550Z"
    }
   },
   "outputs": [
    {
     "name": "stdout",
     "output_type": "stream",
     "text": [
      "Query started at 04:29:35 PM Eastern Daylight Time; Query executed in 0.03 mQuery started at 04:29:37 PM Eastern Daylight Time; Query executed in 0.03 mQuery started at 04:29:39 PM Eastern Daylight Time; Query executed in 0.03 m"
     ]
    },
    {
     "data": {
      "text/html": [
       "<div>\n",
       "<style scoped>\n",
       "    .dataframe tbody tr th:only-of-type {\n",
       "        vertical-align: middle;\n",
       "    }\n",
       "\n",
       "    .dataframe tbody tr th {\n",
       "        vertical-align: top;\n",
       "    }\n",
       "\n",
       "    .dataframe thead th {\n",
       "        text-align: right;\n",
       "    }\n",
       "</style>\n",
       "<table border=\"1\" class=\"dataframe\">\n",
       "  <thead>\n",
       "    <tr style=\"text-align: right;\">\n",
       "      <th></th>\n",
       "      <th>status</th>\n",
       "    </tr>\n",
       "  </thead>\n",
       "  <tbody>\n",
       "    <tr>\n",
       "      <th>0</th>\n",
       "      <td>Statement executed successfully.</td>\n",
       "    </tr>\n",
       "  </tbody>\n",
       "</table>\n",
       "</div>"
      ],
      "text/plain": [
       "                             status\n",
       "0  Statement executed successfully."
      ]
     },
     "execution_count": 26,
     "metadata": {},
     "output_type": "execute_result"
    }
   ],
   "source": [
    "%%read_sql\n",
    "\n",
    "CREATE OR REPLACE VIEW reportdb.reportviews.pos_pld_vw AS\n",
    "     SELECT *\n",
    "       FROM ref_db.semi_custom.dash_pld_pos;\n",
    "\n",
    "GRANT SELECT ON reportdb.reportviews.pos_pld_vw TO ROLE rwd_analytics_rw;\n",
    "GRANT SELECT ON reportdb.reportviews.pos_pld_vw TO ROLE tableau_restricted_role;\n"
   ]
  },
  {
   "cell_type": "markdown",
   "metadata": {},
   "source": [
    "## RX Groups\n",
    "Summarization of the RX groups."
   ]
  },
  {
   "cell_type": "code",
   "execution_count": 27,
   "metadata": {
    "ExecuteTime": {
     "end_time": "2019-05-13T20:29:47.066767Z",
     "start_time": "2019-05-13T20:29:41.511774Z"
    }
   },
   "outputs": [
    {
     "name": "stdout",
     "output_type": "stream",
     "text": [
      "Query started at 04:29:41 PM Eastern Daylight Time; Query executed in 0.03 mQuery started at 04:29:43 PM Eastern Daylight Time; Query executed in 0.06 m"
     ]
    },
    {
     "data": {
      "text/html": [
       "<div>\n",
       "<style scoped>\n",
       "    .dataframe tbody tr th:only-of-type {\n",
       "        vertical-align: middle;\n",
       "    }\n",
       "\n",
       "    .dataframe tbody tr th {\n",
       "        vertical-align: top;\n",
       "    }\n",
       "\n",
       "    .dataframe thead th {\n",
       "        text-align: right;\n",
       "    }\n",
       "</style>\n",
       "<table border=\"1\" class=\"dataframe\">\n",
       "  <thead>\n",
       "    <tr style=\"text-align: right;\">\n",
       "      <th></th>\n",
       "      <th>status</th>\n",
       "    </tr>\n",
       "  </thead>\n",
       "  <tbody>\n",
       "    <tr>\n",
       "      <th>0</th>\n",
       "      <td>Table TMP_PHARMACY_CNTS successfully created.</td>\n",
       "    </tr>\n",
       "  </tbody>\n",
       "</table>\n",
       "</div>"
      ],
      "text/plain": [
       "                                          status\n",
       "0  Table TMP_PHARMACY_CNTS successfully created."
      ]
     },
     "execution_count": 27,
     "metadata": {},
     "output_type": "execute_result"
    }
   ],
   "source": [
    "%%read_sql\n",
    "\n",
    "DROP TABLE IF EXISTS tmp_pharmacy_cnts;\n",
    "CREATE TEMP TABLE tmp_pharmacy_cnts AS\n",
    "    SELECT den.age_bucket,\n",
    "           den.gender,\n",
    "           den.insurance,\n",
    "           den.pt_grp,\n",
    "           rx.class AS product_name,\n",
    "           Count(Distinct den.patient_id) AS pt_cnt\n",
    "      FROM dash_pld_den den\n",
    "           LEFT JOIN cld_phar_grp rx\n",
    "                  ON rx.patient_id = den.patient_id\n",
    "     WHERE den.patient_id IN (SELECT patient_id\n",
    "                                FROM dash_pld_stability\n",
    "                               WHERE tab = 'PHARMACY')\n",
    "     GROUP BY den.age_bucket,\n",
    "              den.gender,\n",
    "              den.insurance,\n",
    "              den.pt_grp,\n",
    "              rx.class;"
   ]
  },
  {
   "cell_type": "code",
   "execution_count": 28,
   "metadata": {
    "ExecuteTime": {
     "end_time": "2019-05-13T20:29:52.877993Z",
     "start_time": "2019-05-13T20:29:47.070771Z"
    }
   },
   "outputs": [
    {
     "name": "stdout",
     "output_type": "stream",
     "text": [
      "Query started at 04:29:47 PM Eastern Daylight Time; Query executed in 0.05 mQuery started at 04:29:49 PM Eastern Daylight Time; Query executed in 0.05 m"
     ]
    },
    {
     "data": {
      "text/html": [
       "<div>\n",
       "<style scoped>\n",
       "    .dataframe tbody tr th:only-of-type {\n",
       "        vertical-align: middle;\n",
       "    }\n",
       "\n",
       "    .dataframe tbody tr th {\n",
       "        vertical-align: top;\n",
       "    }\n",
       "\n",
       "    .dataframe thead th {\n",
       "        text-align: right;\n",
       "    }\n",
       "</style>\n",
       "<table border=\"1\" class=\"dataframe\">\n",
       "  <thead>\n",
       "    <tr style=\"text-align: right;\">\n",
       "      <th></th>\n",
       "      <th>status</th>\n",
       "    </tr>\n",
       "  </thead>\n",
       "  <tbody>\n",
       "    <tr>\n",
       "      <th>0</th>\n",
       "      <td>Table PLD_DASH_PHARMACY_CNT successfully created.</td>\n",
       "    </tr>\n",
       "  </tbody>\n",
       "</table>\n",
       "</div>"
      ],
      "text/plain": [
       "                                              status\n",
       "0  Table PLD_DASH_PHARMACY_CNT successfully created."
      ]
     },
     "execution_count": 28,
     "metadata": {},
     "output_type": "execute_result"
    }
   ],
   "source": [
    "%%read_sql\n",
    "DROP TABLE IF EXISTS pld_dash_pharmacy_cnt;\n",
    "CREATE TRANSIENT TABLE pld_dash_pharmacy_cnt AS\n",
    "    SELECT den.age_bucket,\n",
    "           den.gender,\n",
    "           den.insurance,\n",
    "           den.pt_grp,\n",
    "           num.product_name,\n",
    "           CASE WHEN num.pt_cnt IS NULL THEN 0 ELSE num.pt_cnt END AS num,\n",
    "           den.den,\n",
    "           CASE WHEN num.pt_cnt IS NULL THEN 0 ELSE num.pt_cnt END / den.den AS pct\n",
    "      FROM dash_pld_den_grp den\n",
    "           LEFT JOIN tmp_pharmacy_cnts num\n",
    "                  ON den.age_bucket = num.age_bucket\n",
    "                     AND den.gender = num.gender\n",
    "                     AND den.insurance = num.insurance\n",
    "                     AND den.pt_grp = num.pt_grp\n",
    "     WHERE num.product_name IS NOT NULL\n",
    "           AND den.tab = 'PHARMACY';"
   ]
  },
  {
   "cell_type": "code",
   "execution_count": 29,
   "metadata": {
    "ExecuteTime": {
     "end_time": "2019-05-13T20:29:57.177859Z",
     "start_time": "2019-05-13T20:29:52.880995Z"
    }
   },
   "outputs": [
    {
     "name": "stdout",
     "output_type": "stream",
     "text": [
      "Query started at 04:29:52 PM Eastern Daylight Time; Query executed in 0.04 mQuery started at 04:29:55 PM Eastern Daylight Time; Query executed in 0.03 m"
     ]
    },
    {
     "data": {
      "text/html": [
       "<div>\n",
       "<style scoped>\n",
       "    .dataframe tbody tr th:only-of-type {\n",
       "        vertical-align: middle;\n",
       "    }\n",
       "\n",
       "    .dataframe tbody tr th {\n",
       "        vertical-align: top;\n",
       "    }\n",
       "\n",
       "    .dataframe thead th {\n",
       "        text-align: right;\n",
       "    }\n",
       "</style>\n",
       "<table border=\"1\" class=\"dataframe\">\n",
       "  <thead>\n",
       "    <tr style=\"text-align: right;\">\n",
       "      <th></th>\n",
       "      <th>status</th>\n",
       "    </tr>\n",
       "  </thead>\n",
       "  <tbody>\n",
       "    <tr>\n",
       "      <th>0</th>\n",
       "      <td>Statement executed successfully.</td>\n",
       "    </tr>\n",
       "  </tbody>\n",
       "</table>\n",
       "</div>"
      ],
      "text/plain": [
       "                             status\n",
       "0  Statement executed successfully."
      ]
     },
     "execution_count": 29,
     "metadata": {},
     "output_type": "execute_result"
    }
   ],
   "source": [
    "%%read_sql\n",
    "CREATE OR REPLACE VIEW reportdb.reportviews.pharmacy_cnt_vw AS\n",
    "    SELECT * \n",
    "      FROM ref_db.semi_custom.pld_dash_pharmacy_cnt;\n",
    "\n",
    "GRANT SELECT ON view reportdb.reportviews.pharmacy_cnt_vw TO ROLE tableau_restricted_role;\n",
    "GRANT SELECT ON VIEW reportdb.reportviews.pharmacy_cnt_vw TO ROLE rwd_analytics_rw;"
   ]
  },
  {
   "cell_type": "markdown",
   "metadata": {},
   "source": [
    "## Health Service Utilization\n",
    "Count of procedures groupes"
   ]
  },
  {
   "cell_type": "code",
   "execution_count": 63,
   "metadata": {
    "ExecuteTime": {
     "end_time": "2019-05-13T20:46:09.175874Z",
     "start_time": "2019-05-13T20:46:02.635874Z"
    }
   },
   "outputs": [
    {
     "name": "stdout",
     "output_type": "stream",
     "text": [
      "Query started at 04:46:02 PM Eastern Daylight Time; Query executed in 0.03 mQuery started at 04:46:04 PM Eastern Daylight Time; Query executed in 0.08 m"
     ]
    },
    {
     "data": {
      "text/html": [
       "<div>\n",
       "<style scoped>\n",
       "    .dataframe tbody tr th:only-of-type {\n",
       "        vertical-align: middle;\n",
       "    }\n",
       "\n",
       "    .dataframe tbody tr th {\n",
       "        vertical-align: top;\n",
       "    }\n",
       "\n",
       "    .dataframe thead th {\n",
       "        text-align: right;\n",
       "    }\n",
       "</style>\n",
       "<table border=\"1\" class=\"dataframe\">\n",
       "  <thead>\n",
       "    <tr style=\"text-align: right;\">\n",
       "      <th></th>\n",
       "      <th>status</th>\n",
       "    </tr>\n",
       "  </thead>\n",
       "  <tbody>\n",
       "    <tr>\n",
       "      <th>0</th>\n",
       "      <td>Table TMP_PROC_CNTS successfully created.</td>\n",
       "    </tr>\n",
       "  </tbody>\n",
       "</table>\n",
       "</div>"
      ],
      "text/plain": [
       "                                      status\n",
       "0  Table TMP_PROC_CNTS successfully created."
      ]
     },
     "execution_count": 63,
     "metadata": {},
     "output_type": "execute_result"
    }
   ],
   "source": [
    "%%read_sql\n",
    "DROP TABLE IF EXISTS tmp_proc_cnts;\n",
    "CREATE TEMP TABLE tmp_proc_cnts AS\n",
    "    SELECT den.age_bucket,\n",
    "           den.gender,\n",
    "           den.insurance,\n",
    "           den.pt_grp,\n",
    "           proc.cat3 AS procedure,\n",
    "           Count(Distinct den.patient_id) AS pt_cnt,\n",
    "           Count(Distinct proc.patient_id, proc.year_of_service) as claim_cnt\n",
    "      FROM dash_pld_den den\n",
    "            LEFT JOIN cld_proc proc\n",
    "                   ON proc.patient_id = den.patient_id\n",
    "     WHERE den.tab = 'VISITS'\n",
    "           AND year(proc.year_of_service) = 2018\n",
    "     GROUP BY den.age_bucket,\n",
    "              den.gender,\n",
    "              den.insurance,\n",
    "              den.pt_grp,\n",
    "              proc.cat3;"
   ]
  },
  {
   "cell_type": "code",
   "execution_count": 64,
   "metadata": {
    "ExecuteTime": {
     "end_time": "2019-05-13T20:46:16.038874Z",
     "start_time": "2019-05-13T20:46:09.178874Z"
    }
   },
   "outputs": [
    {
     "name": "stdout",
     "output_type": "stream",
     "text": [
      "Query started at 04:46:09 PM Eastern Daylight Time; Query executed in 0.03 mQuery started at 04:46:10 PM Eastern Daylight Time; Query executed in 0.09 m"
     ]
    },
    {
     "data": {
      "text/html": [
       "<div>\n",
       "<style scoped>\n",
       "    .dataframe tbody tr th:only-of-type {\n",
       "        vertical-align: middle;\n",
       "    }\n",
       "\n",
       "    .dataframe tbody tr th {\n",
       "        vertical-align: top;\n",
       "    }\n",
       "\n",
       "    .dataframe thead th {\n",
       "        text-align: right;\n",
       "    }\n",
       "</style>\n",
       "<table border=\"1\" class=\"dataframe\">\n",
       "  <thead>\n",
       "    <tr style=\"text-align: right;\">\n",
       "      <th></th>\n",
       "      <th>status</th>\n",
       "    </tr>\n",
       "  </thead>\n",
       "  <tbody>\n",
       "    <tr>\n",
       "      <th>0</th>\n",
       "      <td>Table PLD_DASH_PROC successfully created.</td>\n",
       "    </tr>\n",
       "  </tbody>\n",
       "</table>\n",
       "</div>"
      ],
      "text/plain": [
       "                                      status\n",
       "0  Table PLD_DASH_PROC successfully created."
      ]
     },
     "execution_count": 64,
     "metadata": {},
     "output_type": "execute_result"
    }
   ],
   "source": [
    "%%read_sql\n",
    "DROP TABLE IF EXISTS pld_dash_proc;\n",
    "CREATE TRANSIENT TABLE pld_dash_proc AS\n",
    "    SELECT den.age_bucket,\n",
    "           den.gender,\n",
    "           den.insurance,\n",
    "           den.pt_grp,\n",
    "           num.procedure,\n",
    "           CASE WHEN num.pt_cnt IS NULL THEN 0 ELSE num.pt_cnt END AS num,\n",
    "           den.den,\n",
    "           CASE WHEN num.pt_cnt IS NULL THEN 0 ELSE num.pt_cnt END / den.den AS pct\n",
    "      FROM dash_pld_den_grp den\n",
    "           LEFT JOIN tmp_proc_cnts num\n",
    "                  ON den.age_bucket = num.age_bucket\n",
    "                     AND den.gender = num.gender\n",
    "                     AND den.insurance = num.insurance\n",
    "                     AND den.pt_grp = num.pt_grp\n",
    "     WHERE num.procedure IS NOT NULL\n",
    "           AND den.tab = 'VISITS';"
   ]
  },
  {
   "cell_type": "code",
   "execution_count": 65,
   "metadata": {
    "ExecuteTime": {
     "end_time": "2019-05-13T20:46:25.394874Z",
     "start_time": "2019-05-13T20:46:16.041874Z"
    }
   },
   "outputs": [
    {
     "name": "stdout",
     "output_type": "stream",
     "text": [
      "Query started at 04:46:16 PM Eastern Daylight Time; Query executed in 0.05 mQuery started at 04:46:18 PM Eastern Daylight Time; Query executed in 0.08 mQuery started at 04:46:23 PM Eastern Daylight Time; Query executed in 0.03 m"
     ]
    },
    {
     "data": {
      "text/html": [
       "<div>\n",
       "<style scoped>\n",
       "    .dataframe tbody tr th:only-of-type {\n",
       "        vertical-align: middle;\n",
       "    }\n",
       "\n",
       "    .dataframe tbody tr th {\n",
       "        vertical-align: top;\n",
       "    }\n",
       "\n",
       "    .dataframe thead th {\n",
       "        text-align: right;\n",
       "    }\n",
       "</style>\n",
       "<table border=\"1\" class=\"dataframe\">\n",
       "  <thead>\n",
       "    <tr style=\"text-align: right;\">\n",
       "      <th></th>\n",
       "      <th>status</th>\n",
       "    </tr>\n",
       "  </thead>\n",
       "  <tbody>\n",
       "    <tr>\n",
       "      <th>0</th>\n",
       "      <td>Statement executed successfully.</td>\n",
       "    </tr>\n",
       "  </tbody>\n",
       "</table>\n",
       "</div>"
      ],
      "text/plain": [
       "                             status\n",
       "0  Statement executed successfully."
      ]
     },
     "execution_count": 65,
     "metadata": {},
     "output_type": "execute_result"
    }
   ],
   "source": [
    "%%read_sql\n",
    "CREATE OR REPLACE VIEW reportdb.reportviews.proc_vw AS\n",
    "    SELECT *\n",
    "      FROM ref_db.semi_custom.pld_dash_proc;\n",
    "\n",
    "GRANT SELECT ON reportdb.reportviews.proc_vw TO ROLE tableau_restricted_role;\n",
    "GRANT SELECT ON reportdb.reportviews.proc_vw TO ROLE rwd_analytics_rw;"
   ]
  },
  {
   "cell_type": "markdown",
   "metadata": {},
   "source": [
    "## Specialties\n",
    "Figure out specialties.  \n",
    "* We're going to need to make an input to limit to 10ish specialties per project. \n",
    "* We'll need to parameterize this.  \n",
    "* I'll either use the current healthbase table or William Seale's table.  \n",
    "* Do we want to add a process for a bit of manual mapping to get the specialties how they want it"
   ]
  },
  {
   "cell_type": "markdown",
   "metadata": {},
   "source": [
    "### Upload"
   ]
  },
  {
   "cell_type": "code",
   "execution_count": 33,
   "metadata": {
    "ExecuteTime": {
     "end_time": "2019-05-13T20:30:20.450786Z",
     "start_time": "2019-05-13T20:30:13.206272Z"
    }
   },
   "outputs": [
    {
     "name": "stdout",
     "output_type": "stream",
     "text": [
      "DROP TABLE IF EXISTS ref_db.semi_custom.dash_pld_spec_ref;\n",
      "Table ref_db.semi_custom.dash_pld_spec_ref dropped! (╯°□°）╯︵ ┻━┻\n",
      "Upload into ref_db.semi_custom.dash_pld_spec_ref successful! ┬──┬◡ﾉ(°-°ﾉ)\n"
     ]
    },
    {
     "data": {
      "text/html": [
       "<div>\n",
       "<style scoped>\n",
       "    .dataframe tbody tr th:only-of-type {\n",
       "        vertical-align: middle;\n",
       "    }\n",
       "\n",
       "    .dataframe tbody tr th {\n",
       "        vertical-align: top;\n",
       "    }\n",
       "\n",
       "    .dataframe thead th {\n",
       "        text-align: right;\n",
       "    }\n",
       "</style>\n",
       "<table border=\"1\" class=\"dataframe\">\n",
       "  <thead>\n",
       "    <tr style=\"text-align: right;\">\n",
       "      <th></th>\n",
       "      <th>primary_specialty</th>\n",
       "      <th>agg_specialty</th>\n",
       "      <th>specialty</th>\n",
       "    </tr>\n",
       "  </thead>\n",
       "  <tbody>\n",
       "    <tr>\n",
       "      <th>0</th>\n",
       "      <td>NEUROLOGY</td>\n",
       "      <td>NEUROLOGY</td>\n",
       "      <td>Neurologist</td>\n",
       "    </tr>\n",
       "    <tr>\n",
       "      <th>1</th>\n",
       "      <td>NEUROLOGICAL SURGERY</td>\n",
       "      <td>NEUROLOGICAL SURGERY</td>\n",
       "      <td>Neurosurgeon</td>\n",
       "    </tr>\n",
       "    <tr>\n",
       "      <th>2</th>\n",
       "      <td>CLINICAL NEUROPSYCHOLOGIST</td>\n",
       "      <td>CLINICAL NEUROPSYCHOLOGIST</td>\n",
       "      <td>Psychiatrist</td>\n",
       "    </tr>\n",
       "    <tr>\n",
       "      <th>3</th>\n",
       "      <td>CLINICAL NEUROPSYCHOLOGIST</td>\n",
       "      <td>CLINICAL NEUROPSYCHOLOGIST, CLINICAL</td>\n",
       "      <td>Psychologist</td>\n",
       "    </tr>\n",
       "    <tr>\n",
       "      <th>4</th>\n",
       "      <td>NEUROLOGY</td>\n",
       "      <td>NEUROLOGY, CLINICAL NEUROPHYSIOLOGY</td>\n",
       "      <td>Neurologist</td>\n",
       "    </tr>\n",
       "    <tr>\n",
       "      <th>5</th>\n",
       "      <td>CLINICAL NEUROPSYCHOLOGIST</td>\n",
       "      <td>PSYCHOLOGIST, CLINICAL NEUROPSYCHOLOGIST</td>\n",
       "      <td>Psychologist</td>\n",
       "    </tr>\n",
       "    <tr>\n",
       "      <th>6</th>\n",
       "      <td>NEUROLOGY</td>\n",
       "      <td>NEUROLOGY, INTERNAL MEDICINE</td>\n",
       "      <td>Neurologist</td>\n",
       "    </tr>\n",
       "    <tr>\n",
       "      <th>7</th>\n",
       "      <td>NEUROLOGY</td>\n",
       "      <td>SLEEP MEDICINE, NEUROLOGY</td>\n",
       "      <td>Neuro Sleep</td>\n",
       "    </tr>\n",
       "    <tr>\n",
       "      <th>8</th>\n",
       "      <td>NEUROLOGY WITH SPECIAL QUALIFICATIONS IN CHILD...</td>\n",
       "      <td>PEDIATRICS, NEUROLOGY WITH SPECIAL QUALIFICATI...</td>\n",
       "      <td>Neuro Pedi</td>\n",
       "    </tr>\n",
       "    <tr>\n",
       "      <th>9</th>\n",
       "      <td>NEUROLOGY</td>\n",
       "      <td>INTERNAL MEDICINE, NEUROLOGY</td>\n",
       "      <td>Neurologist</td>\n",
       "    </tr>\n",
       "  </tbody>\n",
       "</table>\n",
       "</div>"
      ],
      "text/plain": [
       "                                   primary_specialty  \\\n",
       "0                                          NEUROLOGY   \n",
       "1                               NEUROLOGICAL SURGERY   \n",
       "2                         CLINICAL NEUROPSYCHOLOGIST   \n",
       "3                         CLINICAL NEUROPSYCHOLOGIST   \n",
       "4                                          NEUROLOGY   \n",
       "5                         CLINICAL NEUROPSYCHOLOGIST   \n",
       "6                                          NEUROLOGY   \n",
       "7                                          NEUROLOGY   \n",
       "8  NEUROLOGY WITH SPECIAL QUALIFICATIONS IN CHILD...   \n",
       "9                                          NEUROLOGY   \n",
       "\n",
       "                                       agg_specialty     specialty  \n",
       "0                                          NEUROLOGY   Neurologist  \n",
       "1                               NEUROLOGICAL SURGERY  Neurosurgeon  \n",
       "2                         CLINICAL NEUROPSYCHOLOGIST  Psychiatrist  \n",
       "3               CLINICAL NEUROPSYCHOLOGIST, CLINICAL  Psychologist  \n",
       "4                NEUROLOGY, CLINICAL NEUROPHYSIOLOGY   Neurologist  \n",
       "5           PSYCHOLOGIST, CLINICAL NEUROPSYCHOLOGIST  Psychologist  \n",
       "6                       NEUROLOGY, INTERNAL MEDICINE   Neurologist  \n",
       "7                          SLEEP MEDICINE, NEUROLOGY   Neuro Sleep  \n",
       "8  PEDIATRICS, NEUROLOGY WITH SPECIAL QUALIFICATI...    Neuro Pedi  \n",
       "9                       INTERNAL MEDICINE, NEUROLOGY   Neurologist  "
      ]
     },
     "execution_count": 33,
     "metadata": {},
     "output_type": "execute_result"
    }
   ],
   "source": [
    "#Upload reference table from excel to snowflake and review snowflake output\n",
    "df = pd.read_excel('../../in/dash/pld.xlsx', sheet_name='specialty', skiprows=4, dtype=str)\n",
    "\n",
    "#Strip white space and make referrable columns uppercase\n",
    "df = df.apply(lambda x: x.str.strip() if x.dtype == \"object\" else x)\n",
    "df = df.loc[df.specialty != 'nan',['primary_specialty','agg_specialty','specialty']]\n",
    "\n",
    "#Upload to snowflake\n",
    "snow.drop_table(\"dash_pld_spec_ref\")\n",
    "snow.upload_dataframe(df,\"dash_pld_spec_ref\")\n",
    "snow.select(\"SELECT * FROM dash_pld_spec_ref\")\n",
    "#del df"
   ]
  },
  {
   "cell_type": "markdown",
   "metadata": {},
   "source": [
    "### Patient Level"
   ]
  },
  {
   "cell_type": "code",
   "execution_count": 35,
   "metadata": {
    "ExecuteTime": {
     "end_time": "2019-05-13T20:30:27.764362Z",
     "start_time": "2019-05-13T20:30:20.458793Z"
    }
   },
   "outputs": [
    {
     "name": "stdout",
     "output_type": "stream",
     "text": [
      "Query started at 04:30:20 PM Eastern Daylight Time; Query executed in 0.03 mQuery started at 04:30:22 PM Eastern Daylight Time; Query executed in 0.09 m"
     ]
    },
    {
     "data": {
      "text/html": [
       "<div>\n",
       "<style scoped>\n",
       "    .dataframe tbody tr th:only-of-type {\n",
       "        vertical-align: middle;\n",
       "    }\n",
       "\n",
       "    .dataframe tbody tr th {\n",
       "        vertical-align: top;\n",
       "    }\n",
       "\n",
       "    .dataframe thead th {\n",
       "        text-align: right;\n",
       "    }\n",
       "</style>\n",
       "<table border=\"1\" class=\"dataframe\">\n",
       "  <thead>\n",
       "    <tr style=\"text-align: right;\">\n",
       "      <th></th>\n",
       "      <th>status</th>\n",
       "    </tr>\n",
       "  </thead>\n",
       "  <tbody>\n",
       "    <tr>\n",
       "      <th>0</th>\n",
       "      <td>Table DASH_PLD_SPEC_PT successfully created.</td>\n",
       "    </tr>\n",
       "  </tbody>\n",
       "</table>\n",
       "</div>"
      ],
      "text/plain": [
       "                                         status\n",
       "0  Table DASH_PLD_SPEC_PT successfully created."
      ]
     },
     "execution_count": 35,
     "metadata": {},
     "output_type": "execute_result"
    }
   ],
   "source": [
    "%%read_sql\n",
    "DROP TABLE IF EXISTS dash_pld_spec_pt;\n",
    "CREATE TEMP TABLE dash_pld_spec_pt AS\n",
    "    SELECT den.age_bucket,\n",
    "           den.gender,\n",
    "           den.insurance,\n",
    "           den.pt_grp,\n",
    "           spec.specialty,\n",
    "           den.patient_id,\n",
    "           Count(Distinct prov.year_of_service) AS pt_svc_cnt\n",
    "      FROM dash_pld_den den\n",
    "           LEFT JOIN de_raven_provider prov\n",
    "                  ON prov.patient_id = den.patient_id\n",
    "           LEFT JOIN de_provider_affiliation aff\n",
    "                  ON aff.provider_npi = prov.provider_npi\n",
    "                JOIN dash_pld_spec_ref spec\n",
    "                  ON spec.primary_specialty = aff.primary_specialty\n",
    "                     AND spec.agg_specialty = aff.agg_specialty\n",
    "     WHERE prov.year_of_service BETWEEN '2018-01-01' AND '2018-12-31'  --Need parameter\n",
    "           AND den.patient_id IN (SELECT patient_id\n",
    "                                    FROM dash_pld_den\n",
    "                                   WHERE tab = 'SPECIALTY')\n",
    "     GROUP BY den.age_bucket,\n",
    "              den.gender,\n",
    "              den.insurance,\n",
    "              den.pt_grp,\n",
    "              spec.specialty,\n",
    "              den.patient_id;"
   ]
  },
  {
   "cell_type": "code",
   "execution_count": 57,
   "metadata": {
    "ExecuteTime": {
     "end_time": "2019-05-13T20:41:20.333126Z",
     "start_time": "2019-05-13T20:41:02.220504Z"
    }
   },
   "outputs": [
    {
     "name": "stdout",
     "output_type": "stream",
     "text": [
      "Query started at 04:41:02 PM Eastern Daylight Time; Query executed in 0.07 mQuery started at 04:41:06 PM Eastern Daylight Time; Query executed in 0.05 mQuery started at 04:41:09 PM Eastern Daylight Time; Query executed in 0.06 mQuery started at 04:41:13 PM Eastern Daylight Time; Query executed in 0.05 mQuery started at 04:41:16 PM Eastern Daylight Time; Query executed in 0.03 mQuery started at 04:41:18 PM Eastern Daylight Time; Query executed in 0.03 m"
     ]
    },
    {
     "data": {
      "text/html": [
       "<div>\n",
       "<style scoped>\n",
       "    .dataframe tbody tr th:only-of-type {\n",
       "        vertical-align: middle;\n",
       "    }\n",
       "\n",
       "    .dataframe tbody tr th {\n",
       "        vertical-align: top;\n",
       "    }\n",
       "\n",
       "    .dataframe thead th {\n",
       "        text-align: right;\n",
       "    }\n",
       "</style>\n",
       "<table border=\"1\" class=\"dataframe\">\n",
       "  <thead>\n",
       "    <tr style=\"text-align: right;\">\n",
       "      <th></th>\n",
       "      <th>status</th>\n",
       "    </tr>\n",
       "  </thead>\n",
       "  <tbody>\n",
       "    <tr>\n",
       "      <th>0</th>\n",
       "      <td>Statement executed successfully.</td>\n",
       "    </tr>\n",
       "  </tbody>\n",
       "</table>\n",
       "</div>"
      ],
      "text/plain": [
       "                             status\n",
       "0  Statement executed successfully."
      ]
     },
     "execution_count": 57,
     "metadata": {},
     "output_type": "execute_result"
    }
   ],
   "source": [
    "%%read_sql\n",
    "CREATE OR REPLACE TEMP TABLE ref_db.semi_custom.tmp_pt_cnt AS\n",
    "    SELECT DISTINCT patient_id\n",
    "      FROM ref_db.semi_custom.dash_pld_spec_pt;\n",
    "\n",
    "CREATE OR REPLACE TEMP TABLE ref_db.semi_custom.tmp_pt_cnt_sample AS\n",
    "    SELECT patient_id\n",
    "      FROM ref_db.semi_custom.tmp_pt_cnt\n",
    "     SAMPLE (20000 rows);\n",
    "\n",
    "CREATE OR REPLACE TABLE ref_db.semi_custom.dash_pld_spec_pt_sample AS\n",
    "    SELECT *\n",
    "      FROM ref_db.semi_custom.dash_pld_spec_pt\n",
    "     WHERE patient_id IN (SELECT patient_id\n",
    "                            FROM ref_db.semi_custom.tmp_pt_cnt_sample);\n",
    "                            \n",
    "CREATE OR REPLACE VIEW reportdb.reportviews.spec_pt_vw AS\n",
    "    SELECT *\n",
    "      FROM ref_db.semi_custom.dash_pld_spec_pt_sample;\n",
    "\n",
    "GRANT SELECT ON reportdb.reportviews.spec_pt_vw TO ROLE rwd_analytics_rw;\n",
    "GRANT SELECT ON reportdb.reportviews.spec_pt_vw TO ROLE tableau_restricted_role;"
   ]
  },
  {
   "cell_type": "markdown",
   "metadata": {},
   "source": [
    "### Aggregation"
   ]
  },
  {
   "cell_type": "code",
   "execution_count": 37,
   "metadata": {
    "ExecuteTime": {
     "end_time": "2019-05-13T20:30:50.194531Z",
     "start_time": "2019-05-13T20:30:42.978042Z"
    }
   },
   "outputs": [
    {
     "name": "stdout",
     "output_type": "stream",
     "text": [
      "Query started at 04:30:42 PM Eastern Daylight Time; Query executed in 0.03 mQuery started at 04:30:44 PM Eastern Daylight Time; Query executed in 0.09 m"
     ]
    },
    {
     "data": {
      "text/html": [
       "<div>\n",
       "<style scoped>\n",
       "    .dataframe tbody tr th:only-of-type {\n",
       "        vertical-align: middle;\n",
       "    }\n",
       "\n",
       "    .dataframe tbody tr th {\n",
       "        vertical-align: top;\n",
       "    }\n",
       "\n",
       "    .dataframe thead th {\n",
       "        text-align: right;\n",
       "    }\n",
       "</style>\n",
       "<table border=\"1\" class=\"dataframe\">\n",
       "  <thead>\n",
       "    <tr style=\"text-align: right;\">\n",
       "      <th></th>\n",
       "      <th>status</th>\n",
       "    </tr>\n",
       "  </thead>\n",
       "  <tbody>\n",
       "    <tr>\n",
       "      <th>0</th>\n",
       "      <td>Table DASH_PLD_SPEC successfully created.</td>\n",
       "    </tr>\n",
       "  </tbody>\n",
       "</table>\n",
       "</div>"
      ],
      "text/plain": [
       "                                      status\n",
       "0  Table DASH_PLD_SPEC successfully created."
      ]
     },
     "execution_count": 37,
     "metadata": {},
     "output_type": "execute_result"
    }
   ],
   "source": [
    "%%read_sql\n",
    "DROP TABLE IF EXISTS dash_pld_spec;\n",
    "CREATE TRANSIENT TABLE dash_pld_spec AS\n",
    "    SELECT num.age_bucket,\n",
    "           num.gender,\n",
    "           num.insurance,\n",
    "           num.pt_grp,\n",
    "           num.specialty,\n",
    "           Count(Distinct num.patient_id) AS pt_cnt,\n",
    "           den.den\n",
    "      FROM dash_pld_spec_pt num\n",
    "           JOIN dash_pld_den_grp den\n",
    "             ON den.age_bucket = num.age_bucket\n",
    "                AND den.gender = num.gender\n",
    "                AND den.insurance = num.insurance  \n",
    "                AND den.pt_grp = num.pt_grp\n",
    "     WHERE den.tab = 'SPECIALTY'\n",
    "           AND num.specialty IS NOT NULL\n",
    "     GROUP BY num.age_bucket,\n",
    "              num.gender,\n",
    "              num.insurance,\n",
    "              num.pt_grp,\n",
    "              num.specialty,\n",
    "              --ref.visit_bucket,\n",
    "              den.den"
   ]
  },
  {
   "cell_type": "code",
   "execution_count": 41,
   "metadata": {
    "ExecuteTime": {
     "end_time": "2019-05-13T20:30:59.820187Z",
     "start_time": "2019-05-13T20:30:53.395409Z"
    }
   },
   "outputs": [
    {
     "name": "stdout",
     "output_type": "stream",
     "text": [
      "Query started at 04:30:53 PM Eastern Daylight Time; Query executed in 0.04 mQuery started at 04:30:55 PM Eastern Daylight Time; Query executed in 0.03 mQuery started at 04:30:57 PM Eastern Daylight Time; Query executed in 0.04 m"
     ]
    },
    {
     "data": {
      "text/html": [
       "<div>\n",
       "<style scoped>\n",
       "    .dataframe tbody tr th:only-of-type {\n",
       "        vertical-align: middle;\n",
       "    }\n",
       "\n",
       "    .dataframe tbody tr th {\n",
       "        vertical-align: top;\n",
       "    }\n",
       "\n",
       "    .dataframe thead th {\n",
       "        text-align: right;\n",
       "    }\n",
       "</style>\n",
       "<table border=\"1\" class=\"dataframe\">\n",
       "  <thead>\n",
       "    <tr style=\"text-align: right;\">\n",
       "      <th></th>\n",
       "      <th>status</th>\n",
       "    </tr>\n",
       "  </thead>\n",
       "  <tbody>\n",
       "    <tr>\n",
       "      <th>0</th>\n",
       "      <td>Statement executed successfully.</td>\n",
       "    </tr>\n",
       "  </tbody>\n",
       "</table>\n",
       "</div>"
      ],
      "text/plain": [
       "                             status\n",
       "0  Statement executed successfully."
      ]
     },
     "execution_count": 41,
     "metadata": {},
     "output_type": "execute_result"
    }
   ],
   "source": [
    "%%read_sql\n",
    "\n",
    "CREATE OR REPLACE VIEW reportdb.reportviews.spec_pld_vw as\n",
    "    SELECT * \n",
    "      FROM ref_db.semi_custom.dash_pld_spec;\n",
    "\n",
    "GRANT SELECT ON VIEW reportdb.reportviews.spec_pld_vw TO ROLE tableau_restricted_role;\n",
    "GRANT SELECT ON VIEW reportdb.reportviews.spec_pld_vw TO ROLE rwd_analytics_rw;"
   ]
  },
  {
   "cell_type": "markdown",
   "metadata": {},
   "source": [
    "# Output\n",
    "Create an excel output to review the data"
   ]
  },
  {
   "cell_type": "code",
   "execution_count": 66,
   "metadata": {
    "ExecuteTime": {
     "end_time": "2019-05-13T20:46:30.376777Z",
     "start_time": "2019-05-13T20:46:30.370777Z"
    }
   },
   "outputs": [],
   "source": [
    "sheet_names = ['demo','comorbid','pos_pt','pos','rx_grp','utilize','spec_pt', 'spec']\n",
    "sheet_titles = ['reportdb.reportviews.demographics_pld_vw',\n",
    "                'reportdb.reportviews.comorbidity_pld_vw',\n",
    "                'reportdb.reportviews.pos_pt_vw',\n",
    "                'reportdb.reportviews.pos_pld_vw',\n",
    "                'reportdb.reportviews.pharmacy_cnt_vw',\n",
    "                'reportdb.reportviews.proc_vw',\n",
    "                'reportdb.reportviews.spec_pt_vw',\n",
    "                'reportdb.reportviews.spec_pld_vw']"
   ]
  },
  {
   "cell_type": "code",
   "execution_count": 67,
   "metadata": {
    "ExecuteTime": {
     "end_time": "2019-05-13T20:46:41.807776Z",
     "start_time": "2019-05-13T20:46:30.866777Z"
    }
   },
   "outputs": [],
   "source": [
    "demo     = snow.select(\"SELECT * FROM reportdb.reportviews.demographics_pld_vw ORDER BY age_bucket, gender, insurance, pt_grp\")\n",
    "comorbid = snow.select(\"SELECT * FROM reportdb.reportviews.comorbidity_pld_vw  ORDER BY age_bucket, gender, insurance, pt_grp\")\n",
    "pos_pt   = snow.select(\"SELECT * FROM reportdb.reportviews.pos_pt_vw           ORDER BY age_bucket, gender, insurance, pt_grp\")\n",
    "pos      = snow.select(\"SELECT * FROM reportdb.reportviews.pos_pld_vw          ORDER BY age_bucket, gender, insurance, pt_grp\")\n",
    "rx_grp   = snow.select(\"SELECT * FROM reportdb.reportviews.pharmacy_cnt_vw     ORDER BY age_bucket, gender, insurance, pt_grp\")\n",
    "utilize  = snow.select(\"SELECT * FROM reportdb.reportviews.proc_vw             ORDER BY age_bucket, gender, insurance, pt_grp\")\n",
    "spec_pt  = snow.select(\"SELECT * FROM reportdb.reportviews.spec_pt_vw          ORDER BY age_bucket, gender, insurance, pt_grp\")\n",
    "spec     = snow.select(\"SELECT * FROM reportdb.reportviews.spec_pld_vw         ORDER BY age_bucket, gender, insurance, pt_grp\")"
   ]
  },
  {
   "cell_type": "code",
   "execution_count": 68,
   "metadata": {
    "ExecuteTime": {
     "end_time": "2019-05-13T20:46:56.096148Z",
     "start_time": "2019-05-13T20:46:41.812776Z"
    }
   },
   "outputs": [],
   "source": [
    "make_xlsx(data = [demo, comorbid, pos_pt, pos, rx_grp, utilize, spec_pt, spec],\n",
    "           xlsx_path = '../../out/dash/pld_dash_data.xlsx',\n",
    "           workbook_title = 'PLD Dashboard Data',\n",
    "           sheet_names = sheet_names,\n",
    "           sheet_titles = sheet_titles)"
   ]
  },
  {
   "cell_type": "code",
   "execution_count": null,
   "metadata": {},
   "outputs": [],
   "source": []
  }
 ],
 "metadata": {
  "kernelspec": {
   "display_name": "Python 3",
   "language": "python",
   "name": "python3"
  },
  "language_info": {
   "codemirror_mode": {
    "name": "ipython",
    "version": 3
   },
   "file_extension": ".py",
   "mimetype": "text/x-python",
   "name": "python",
   "nbconvert_exporter": "python",
   "pygments_lexer": "ipython3",
   "version": "3.7.3"
  },
  "toc": {
   "base_numbering": 1,
   "nav_menu": {},
   "number_sections": true,
   "sideBar": true,
   "skip_h1_title": false,
   "title_cell": "Table of Contents",
   "title_sidebar": "Contents",
   "toc_cell": false,
   "toc_position": {
    "height": "725px",
    "left": "476px",
    "top": "274.6px",
    "width": "242px"
   },
   "toc_section_display": true,
   "toc_window_display": true
  }
 },
 "nbformat": 4,
 "nbformat_minor": 2
}
