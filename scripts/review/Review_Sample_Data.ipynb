{
 "cells": [
  {
   "cell_type": "markdown",
   "metadata": {},
   "source": [
    "# Review Sample Data\n",
    "Review a sample of data from the cohort, data extract, and the data mart"
   ]
  },
  {
   "cell_type": "code",
   "execution_count": 1,
   "metadata": {},
   "outputs": [
    {
     "data": {
      "application/javascript": [
       "\n",
       "    require(['notebook/js/codecell'], function(codecell) {\n",
       "      // https://github.com/jupyter/notebook/issues/2453\n",
       "      codecell.CodeCell.options_default.highlight_modes['magic_text/x-sql'] = {'reg':[/^%read_sql/, /.*=\\s*%read_sql/,\n",
       "                                                                                      /^%%read_sql/]};\n",
       "      Jupyter.notebook.events.one('kernel_ready.Kernel', function(){\n",
       "          console.log('BBBBB');\n",
       "          Jupyter.notebook.get_cells().map(function(cell){\n",
       "              if (cell.cell_type == 'code'){ cell.auto_highlight(); } }) ;\n",
       "      });\n",
       "    });\n",
       "    "
      ]
     },
     "metadata": {},
     "output_type": "display_data"
    }
   ],
   "source": [
    "#Import libraries for this notebook\n",
    "from workbook_writer import make_xlsx\n",
    "import pandas as pd  \n",
    "from drg_connect import Snowflake\n",
    "import numpy as np\n",
    "import pickle\n",
    "from IPython.core.interactiveshell import InteractiveShell\n",
    "InteractiveShell.ast_node_interactivity = \"all\"\n",
    "\n",
    "#Load connection variables to connect_dict\n",
    "with open('../../out/connect/connect_dict.pickle', 'rb') as handle:\n",
    "    connect_dict = pickle.load(handle)\n",
    "\n",
    "#Create Eegine to connect to snowflake\n",
    "snow = Snowflake(role=connect_dict['role'],\n",
    "                 warehouse=connect_dict['warehouse'],\n",
    "                 database=connect_dict['database'],\n",
    "                 schema=connect_dict['schema'])\n",
    "\n",
    "#Finish engine setup\n",
    "engine = snow.engine\n",
    "%load_ext sql_magic\n",
    "%config SQL.conn_name = 'engine'  #Set the sql_magic connection engine\n",
    "%config SQL.output_result = True  #Enable output to std out\n",
    "%config SQL.notify_result = False #disable browser notifications"
   ]
  },
  {
   "cell_type": "code",
   "execution_count": 2,
   "metadata": {},
   "outputs": [
    {
     "name": "stdout",
     "output_type": "stream",
     "text": [
      "Query started at 12:55:54 PM Eastern Standard TimeInitiating login request with your identity provider. A browser window should have opened for you to complete the login. If you can't see it, check existing browser windows, or your OS settings. Press CTRL+C to abort and try again...\n",
      "; Query executed in 0.11 m"
     ]
    },
    {
     "data": {
      "text/html": [
       "<div>\n",
       "<style scoped>\n",
       "    .dataframe tbody tr th:only-of-type {\n",
       "        vertical-align: middle;\n",
       "    }\n",
       "\n",
       "    .dataframe tbody tr th {\n",
       "        vertical-align: top;\n",
       "    }\n",
       "\n",
       "    .dataframe thead th {\n",
       "        text-align: right;\n",
       "    }\n",
       "</style>\n",
       "<table border=\"1\" class=\"dataframe\">\n",
       "  <thead>\n",
       "    <tr style=\"text-align: right;\">\n",
       "      <th></th>\n",
       "      <th>status</th>\n",
       "    </tr>\n",
       "  </thead>\n",
       "  <tbody>\n",
       "    <tr>\n",
       "      <th>0</th>\n",
       "      <td>Table TMP_SAMPLE successfully created.</td>\n",
       "    </tr>\n",
       "  </tbody>\n",
       "</table>\n",
       "</div>"
      ],
      "text/plain": [
       "                                   status\n",
       "0  Table TMP_SAMPLE successfully created."
      ]
     },
     "execution_count": 2,
     "metadata": {},
     "output_type": "execute_result"
    }
   ],
   "source": [
    "%%read_sql\n",
    "--Create a subset of patients\n",
    "CREATE OR REPLACE TEMP TABLE tmp_sample AS\n",
    "    SELECT patient_id,\n",
    "           npi\n",
    "      FROM coh_npi_pt_link\n",
    "     LIMIT 1000;"
   ]
  },
  {
   "cell_type": "code",
   "execution_count": 13,
   "metadata": {},
   "outputs": [],
   "source": [
    "#Patient Level characterisits\n",
    "coh_pt = snow.select(\"SELECT * FROM coh_pt WHERE patient_id IN (SELECT patient_id FROM tmp_sample)\")"
   ]
  },
  {
   "cell_type": "code",
   "execution_count": 14,
   "metadata": {},
   "outputs": [],
   "source": [
    "#Physician Level identification data\n",
    "coh_npi         = snow.select(\"SELECT * FROM coh_npi         WHERE npi IN (SELECT npi FROM tmp_sample)\")\n",
    "coh_npi_pt_link = snow.select(\"SELECT * FROM coh_npi_pt_link WHERE npi IN (SELECT npi FROM tmp_sample)\")"
   ]
  },
  {
   "cell_type": "code",
   "execution_count": 9,
   "metadata": {},
   "outputs": [],
   "source": [
    "#Data Extract level information\n",
    "de_raven_demographics = snow.select(\"SELECT * FROM de_raven_demographics WHERE patient_id IN (SELECT patient_id FROM tmp_sample)\")\n",
    "de_raven_diagnosis    = snow.select(\"SELECT * FROM de_raven_diagnosis    WHERE patient_id IN (SELECT patient_id FROM tmp_sample)\")\n",
    "de_raven_header       = snow.select(\"SELECT * FROM de_raven_header       WHERE patient_id IN (SELECT patient_id FROM tmp_sample)\")\n",
    "de_raven_patient      = snow.select(\"SELECT * FROM de_raven_patient      WHERE patient_id IN (SELECT patient_id FROM tmp_sample)\")\n",
    "de_raven_payer        = snow.select(\"SELECT * FROM de_raven_payer        WHERE patient_id IN (SELECT patient_id FROM tmp_sample)\")\n",
    "de_raven_pharmacy     = snow.select(\"SELECT * FROM de_raven_pharmacy     WHERE patient_id IN (SELECT patient_id FROM tmp_sample)\")\n",
    "de_raven_procedure    = snow.select(\"SELECT * FROM de_raven_procedure    WHERE patient_id IN (SELECT patient_id FROM tmp_sample)\")\n",
    "de_raven_provider     = snow.select(\"SELECT * FROM de_raven_provider     WHERE patient_id IN (SELECT patient_id FROM tmp_sample)\")        "
   ]
  },
  {
   "cell_type": "code",
   "execution_count": 16,
   "metadata": {},
   "outputs": [],
   "source": [
    "#Data Mart \n",
    "dm_demo              = snow.select(\"SELECT * FROM dm_demo              WHERE patient_id IN (SELECT patient_id FROM tmp_sample)\")\n",
    "dm_comorbid_custom   = snow.select(\"SELECT * FROM dm_comorbid_custom   WHERE patient_id IN (SELECT patient_id FROM tmp_sample)\")\n",
    "dm_pt_elixhauser     = snow.select(\"SELECT * FROM dm_elix              WHERE patient_id IN (SELECT patient_id FROM tmp_sample)\")\n",
    "dm_pt_med_cnt        = snow.select(\"SELECT * FROM dm_pt_med_cnt        WHERE patient_id IN (SELECT patient_id FROM tmp_sample)\")\n",
    "dm_pt_med_cnt_pivot  = snow.select(\"SELECT * FROM dm_pt_med_cnt_pivot  WHERE patient_id IN (SELECT patient_id FROM tmp_sample)\")\n",
    "dm_pt_phar_cnt       = snow.select(\"SELECT * FROM dm_pt_phar_cnt       WHERE patient_id IN (SELECT patient_id FROM tmp_sample)\")\n",
    "dm_pt_med_phar_pivot = snow.select(\"SELECT * FROM dm_pt_med_phar_pivot WHERE patient_id IN (SELECT patient_id FROM tmp_sample)\")"
   ]
  },
  {
   "cell_type": "code",
   "execution_count": 20,
   "metadata": {},
   "outputs": [],
   "source": [
    "sheet_titles = ['coh_pt', 'coh_npi', 'coh_npi_pt_link', \n",
    "               'de_raven_demographics', 'de_raven_diagnosis', \n",
    "               'de_raven_header', 'de_raven_patient', \n",
    "               'de_raven_payer', 'de_raven_pharmacy', \n",
    "               'de_raven_procedure', 'de_raven_provider', \n",
    "               'dm_demo', 'dm_comorbid_custom', \n",
    "               'dm_pt_elixhauser', 'dm_pt_med_cnt', \n",
    "               'dm_pt_med_cnt_pivot', 'dm_pt_phar_cnt', \n",
    "               'dm_pt_med_phar_pivot']\n",
    "sheet_names = sheet_titles"
   ]
  },
  {
   "cell_type": "code",
   "execution_count": 21,
   "metadata": {},
   "outputs": [],
   "source": [
    "make_xlsx(data=[coh_pt, coh_npi, coh_npi_pt_link,\n",
    "                de_raven_demographics, de_raven_diagnosis,\n",
    "                de_raven_header, de_raven_patient,\n",
    "                de_raven_payer, de_raven_pharmacy,\n",
    "                de_raven_procedure, de_raven_provider,\n",
    "                dm_demo, dm_comorbid_custom,\n",
    "                dm_pt_elixhauser, dm_pt_med_cnt,\n",
    "                dm_pt_med_cnt_pivot, dm_pt_phar_cnt,\n",
    "                dm_pt_med_phar_pivot ],\n",
    "          xlsx_path='../../out/review/review_sample_data.xlsx',\n",
    "          workbook_title='Patient Level Data Tables',\n",
    "          sheet_names=sheet_names,\n",
    "          sheet_titles=sheet_titles)"
   ]
  },
  {
   "cell_type": "code",
   "execution_count": 17,
   "metadata": {},
   "outputs": [],
   "source": [
    "?make_xlsx"
   ]
  }
 ],
 "metadata": {
  "kernelspec": {
   "display_name": "Python 3",
   "language": "python",
   "name": "python3"
  },
  "language_info": {
   "codemirror_mode": {
    "name": "ipython",
    "version": 3
   },
   "file_extension": ".py",
   "mimetype": "text/x-python",
   "name": "python",
   "nbconvert_exporter": "python",
   "pygments_lexer": "ipython3",
   "version": "3.6.5"
  },
  "toc": {
   "nav_menu": {},
   "number_sections": true,
   "sideBar": true,
   "skip_h1_title": false,
   "title_cell": "Table of Contents",
   "title_sidebar": "Contents",
   "toc_cell": false,
   "toc_position": {
    "height": "calc(100% - 180px)",
    "left": "10px",
    "top": "150px",
    "width": "268px"
   },
   "toc_section_display": true,
   "toc_window_display": true
  }
 },
 "nbformat": 4,
 "nbformat_minor": 2
}
