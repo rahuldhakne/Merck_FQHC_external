{
 "cells": [
  {
   "cell_type": "markdown",
   "metadata": {},
   "source": [
    "# Pharmacy Dedup\n",
    "This code takes in a master Pharmacy table and removed reversed/rejected claims as well as deduplicates and claim numbers based on a Unique Service ID\n",
    "\n",
    "**Script**\n",
    "* [scripts/dc/raven_pharmacy_dedup.ipynb](./scripts/dc/raven_pharmacy_dedup.ipynb)\n",
    "\n",
    "**Prior Script(s)**\n",
    "* [scripts/de/raven_pharmacy.ipynb](./scripts/de/raven_pharmacy.ipynb)\n",
    "\n",
    "**Parameters**\n",
    "* none\n",
    "\n",
    "**Input**\n",
    "* `de_raven_pharmacy`\n",
    "* `rwd_db.rwd_reference_library.insurance_types`\n",
    "  \n",
    "**Output**\n",
    "* `dc_rxdedup_final`\n",
    "\n",
    "**Review**\n",
    "* [scripts/dc/raven_pharmacy_dedup.html](./scripts/dc/raven_pharmacy_dedup.html)"
   ]
  },
  {
   "cell_type": "code",
   "execution_count": 1,
   "metadata": {
    "ExecuteTime": {
     "end_time": "2019-03-28T18:13:18.696623Z",
     "start_time": "2019-03-28T18:13:15.443297Z"
    }
   },
   "outputs": [
    {
     "data": {
      "application/javascript": [
       "\n",
       "    require(['notebook/js/codecell'], function(codecell) {\n",
       "      // https://github.com/jupyter/notebook/issues/2453\n",
       "      codecell.CodeCell.options_default.highlight_modes['magic_text/x-sql'] = {'reg':[/^%read_sql/, /.*=\\s*%read_sql/,\n",
       "                                                                                      /^%%read_sql/]};\n",
       "      Jupyter.notebook.events.one('kernel_ready.Kernel', function(){\n",
       "          console.log('BBBBB');\n",
       "          Jupyter.notebook.get_cells().map(function(cell){\n",
       "              if (cell.cell_type == 'code'){ cell.auto_highlight(); } }) ;\n",
       "      });\n",
       "    });\n",
       "    "
      ]
     },
     "metadata": {},
     "output_type": "display_data"
    }
   ],
   "source": [
    "#Import libraries for this notebook\n",
    "import pandas as pd  \n",
    "from drg_connect import Snowflake\n",
    "import numpy as np\n",
    "import pickle\n",
    "from IPython.core.interactiveshell import InteractiveShell\n",
    "InteractiveShell.ast_node_interactivity = \"all\"\n",
    "\n",
    "#Load connection variables to connect_dict\n",
    "with open('../../out/conn/connect_dict.pickle', 'rb') as handle:\n",
    "    connect_dict = pickle.load(handle)\n",
    "\n",
    "#Create Eegine to connect to snowflake\n",
    "snow = Snowflake(role=connect_dict['role'],\n",
    "                 warehouse=connect_dict['warehouse'],\n",
    "                 database=connect_dict['database'],\n",
    "                 schema=connect_dict['schema'])\n",
    "\n",
    "#Finish engine setup\n",
    "engine = snow.engine\n",
    "%load_ext sql_magic\n",
    "%config SQL.conn_name = 'engine'  #Set the sql_magic connection engine\n",
    "%config SQL.output_result = True  #Enable output to std out\n",
    "%config SQL.notify_result = False #disable browser notifications\n"
   ]
  },
  {
   "cell_type": "markdown",
   "metadata": {},
   "source": [
    "# Master Table\n",
    "Create a copy of `de_raven_pharmacy` as the basis of this analysis"
   ]
  },
  {
   "cell_type": "code",
   "execution_count": 2,
   "metadata": {
    "ExecuteTime": {
     "end_time": "2019-03-28T18:13:33.487995Z",
     "start_time": "2019-03-28T18:13:18.702623Z"
    }
   },
   "outputs": [
    {
     "name": "stdout",
     "output_type": "stream",
     "text": [
      "Query started at 02:13:18 PM Eastern Daylight TimeInitiating login request with your identity provider. A browser window should have opened for you to complete the login. If you can't see it, check existing browser windows, or your OS settings. Press CTRL+C to abort and try again...\n",
      "; Query executed in 0.09 mQuery started at 02:13:24 PM Eastern Daylight Time; Query executed in 0.15 m"
     ]
    },
    {
     "data": {
      "text/html": [
       "<div>\n",
       "<style scoped>\n",
       "    .dataframe tbody tr th:only-of-type {\n",
       "        vertical-align: middle;\n",
       "    }\n",
       "\n",
       "    .dataframe tbody tr th {\n",
       "        vertical-align: top;\n",
       "    }\n",
       "\n",
       "    .dataframe thead th {\n",
       "        text-align: right;\n",
       "    }\n",
       "</style>\n",
       "<table border=\"1\" class=\"dataframe\">\n",
       "  <thead>\n",
       "    <tr style=\"text-align: right;\">\n",
       "      <th></th>\n",
       "      <th>status</th>\n",
       "    </tr>\n",
       "  </thead>\n",
       "  <tbody>\n",
       "    <tr>\n",
       "      <th>0</th>\n",
       "      <td>Table DC_RXDEDUP_RX_MASTER successfully created.</td>\n",
       "    </tr>\n",
       "  </tbody>\n",
       "</table>\n",
       "</div>"
      ],
      "text/plain": [
       "                                             status\n",
       "0  Table DC_RXDEDUP_RX_MASTER successfully created."
      ]
     },
     "execution_count": 2,
     "metadata": {},
     "output_type": "execute_result"
    }
   ],
   "source": [
    "%%read_sql\n",
    "DROP TABLE IF EXISTS dc_rxdedup_rx_master;\n",
    "CREATE TRANSIENT TABLE dc_rxdedup_rx_master AS\n",
    "    SELECT phar.*, \n",
    "           ins.type_coverage       AS coverage_type, \n",
    "           ins.ici_insurance_group AS insurance_type  \n",
    "      FROM de_raven_pharmacy phar \n",
    "           LEFT JOIN rwd_db.rwd_reference_library.insurance_types ins --PRC: I switched to this table as it's the most up to date\n",
    "                  ON phar.type_of_payment = ins.type_coverage; "
   ]
  },
  {
   "cell_type": "code",
   "execution_count": 3,
   "metadata": {
    "ExecuteTime": {
     "end_time": "2019-03-28T18:13:35.170164Z",
     "start_time": "2019-03-28T18:13:33.490996Z"
    }
   },
   "outputs": [
    {
     "name": "stdout",
     "output_type": "stream",
     "text": [
      "Query started at 02:13:33 PM Eastern Daylight Time; Query executed in 0.03 m"
     ]
    },
    {
     "data": {
      "text/html": [
       "<div>\n",
       "<style scoped>\n",
       "    .dataframe tbody tr th:only-of-type {\n",
       "        vertical-align: middle;\n",
       "    }\n",
       "\n",
       "    .dataframe tbody tr th {\n",
       "        vertical-align: top;\n",
       "    }\n",
       "\n",
       "    .dataframe thead th {\n",
       "        text-align: right;\n",
       "    }\n",
       "</style>\n",
       "<table border=\"1\" class=\"dataframe\">\n",
       "  <thead>\n",
       "    <tr style=\"text-align: right;\">\n",
       "      <th></th>\n",
       "      <th>row_cnt</th>\n",
       "    </tr>\n",
       "  </thead>\n",
       "  <tbody>\n",
       "    <tr>\n",
       "      <th>0</th>\n",
       "      <td>20154748</td>\n",
       "    </tr>\n",
       "  </tbody>\n",
       "</table>\n",
       "</div>"
      ],
      "text/plain": [
       "    row_cnt\n",
       "0  20154748"
      ]
     },
     "execution_count": 3,
     "metadata": {},
     "output_type": "execute_result"
    }
   ],
   "source": [
    "%%read_sql\n",
    "--Check row counts\n",
    "SELECT Count(*) AS row_cnt\n",
    "  FROM dc_rxdedup_rx_master"
   ]
  },
  {
   "cell_type": "markdown",
   "metadata": {},
   "source": [
    "# Data Cleaning\n",
    "Clean up rejects and days supply"
   ]
  },
  {
   "cell_type": "markdown",
   "metadata": {},
   "source": [
    "## Delete Rejects\n",
    "Delete rejected claims from the master table"
   ]
  },
  {
   "cell_type": "code",
   "execution_count": 4,
   "metadata": {
    "ExecuteTime": {
     "end_time": "2019-03-28T18:13:49.727918Z",
     "start_time": "2019-03-28T18:13:35.173164Z"
    }
   },
   "outputs": [
    {
     "name": "stdout",
     "output_type": "stream",
     "text": [
      "Query started at 02:13:35 PM Eastern Daylight Time; Query executed in 0.03 mQuery started at 02:13:37 PM Eastern Daylight Time; Query executed in 0.18 mQuery started at 02:13:47 PM Eastern Daylight Time; Query executed in 0.03 m"
     ]
    },
    {
     "data": {
      "text/html": [
       "<div>\n",
       "<style scoped>\n",
       "    .dataframe tbody tr th:only-of-type {\n",
       "        vertical-align: middle;\n",
       "    }\n",
       "\n",
       "    .dataframe tbody tr th {\n",
       "        vertical-align: top;\n",
       "    }\n",
       "\n",
       "    .dataframe thead th {\n",
       "        text-align: right;\n",
       "    }\n",
       "</style>\n",
       "<table border=\"1\" class=\"dataframe\">\n",
       "  <thead>\n",
       "    <tr style=\"text-align: right;\">\n",
       "      <th></th>\n",
       "      <th>status</th>\n",
       "    </tr>\n",
       "  </thead>\n",
       "  <tbody>\n",
       "    <tr>\n",
       "      <th>0</th>\n",
       "      <td>Statement executed successfully.</td>\n",
       "    </tr>\n",
       "  </tbody>\n",
       "</table>\n",
       "</div>"
      ],
      "text/plain": [
       "                             status\n",
       "0  Statement executed successfully."
      ]
     },
     "execution_count": 4,
     "metadata": {},
     "output_type": "execute_result"
    }
   ],
   "source": [
    "%%read_sql\n",
    "--Drop bad rows based on rejection codes\n",
    "BEGIN;\n",
    "DELETE FROM dc_rxdedup_rx_master \n",
    "WHERE  reject_code_1 IS NOT NULL \n",
    "        OR reject_code_2 IS NOT NULL \n",
    "        OR reject_code_3 IS NOT NULL \n",
    "        OR reject_code_4 IS NOT NULL \n",
    "        OR reject_code_5 IS NOT NULL; \n",
    "COMMIT;"
   ]
  },
  {
   "cell_type": "code",
   "execution_count": 5,
   "metadata": {
    "ExecuteTime": {
     "end_time": "2019-03-28T18:13:51.683004Z",
     "start_time": "2019-03-28T18:13:49.727918Z"
    }
   },
   "outputs": [
    {
     "name": "stdout",
     "output_type": "stream",
     "text": [
      "Query started at 02:13:49 PM Eastern Daylight Time; Query executed in 0.03 m"
     ]
    },
    {
     "data": {
      "text/html": [
       "<div>\n",
       "<style scoped>\n",
       "    .dataframe tbody tr th:only-of-type {\n",
       "        vertical-align: middle;\n",
       "    }\n",
       "\n",
       "    .dataframe tbody tr th {\n",
       "        vertical-align: top;\n",
       "    }\n",
       "\n",
       "    .dataframe thead th {\n",
       "        text-align: right;\n",
       "    }\n",
       "</style>\n",
       "<table border=\"1\" class=\"dataframe\">\n",
       "  <thead>\n",
       "    <tr style=\"text-align: right;\">\n",
       "      <th></th>\n",
       "      <th>row_cnt</th>\n",
       "    </tr>\n",
       "  </thead>\n",
       "  <tbody>\n",
       "    <tr>\n",
       "      <th>0</th>\n",
       "      <td>14655881</td>\n",
       "    </tr>\n",
       "  </tbody>\n",
       "</table>\n",
       "</div>"
      ],
      "text/plain": [
       "    row_cnt\n",
       "0  14655881"
      ]
     },
     "execution_count": 5,
     "metadata": {},
     "output_type": "execute_result"
    }
   ],
   "source": [
    "%%read_sql\n",
    "--Review counts post deletion of rows with rejection codes\n",
    "SELECT Count(*) AS row_cnt\n",
    "  FROM dc_rxdedup_rx_master"
   ]
  },
  {
   "cell_type": "markdown",
   "metadata": {},
   "source": [
    "Cleaning up days_supply_mod field and removing bad values from it"
   ]
  },
  {
   "cell_type": "markdown",
   "metadata": {},
   "source": [
    "## Days supply \n",
    "Clean up the day supply vlaues to get rid of the leading zeros"
   ]
  },
  {
   "cell_type": "code",
   "execution_count": 6,
   "metadata": {
    "ExecuteTime": {
     "end_time": "2019-03-28T18:14:03.771960Z",
     "start_time": "2019-03-28T18:13:51.683004Z"
    }
   },
   "outputs": [
    {
     "name": "stdout",
     "output_type": "stream",
     "text": [
      "Query started at 02:13:51 PM Eastern Daylight Time; Query executed in 0.04 mQuery started at 02:13:53 PM Eastern Daylight Time; Query executed in 0.14 mQuery started at 02:14:01 PM Eastern Daylight Time; Query executed in 0.03 m"
     ]
    },
    {
     "data": {
      "text/html": [
       "<div>\n",
       "<style scoped>\n",
       "    .dataframe tbody tr th:only-of-type {\n",
       "        vertical-align: middle;\n",
       "    }\n",
       "\n",
       "    .dataframe tbody tr th {\n",
       "        vertical-align: top;\n",
       "    }\n",
       "\n",
       "    .dataframe thead th {\n",
       "        text-align: right;\n",
       "    }\n",
       "</style>\n",
       "<table border=\"1\" class=\"dataframe\">\n",
       "  <thead>\n",
       "    <tr style=\"text-align: right;\">\n",
       "      <th></th>\n",
       "      <th>status</th>\n",
       "    </tr>\n",
       "  </thead>\n",
       "  <tbody>\n",
       "    <tr>\n",
       "      <th>0</th>\n",
       "      <td>Statement executed successfully.</td>\n",
       "    </tr>\n",
       "  </tbody>\n",
       "</table>\n",
       "</div>"
      ],
      "text/plain": [
       "                             status\n",
       "0  Statement executed successfully."
      ]
     },
     "execution_count": 6,
     "metadata": {},
     "output_type": "execute_result"
    }
   ],
   "source": [
    "%%read_sql\n",
    "--PRC: need to rewrite as a regular expression\n",
    "BEGIN;\n",
    "UPDATE dc_rxdedup_rx_master \n",
    "SET    days_supply = CASE \n",
    "                       WHEN days_supply = '0' THEN '0' \n",
    "                       WHEN LEFT(days_supply, 2) = '00' THEN RIGHT(days_supply, 1) -- If 007, take 7 \n",
    "                       WHEN LEFT(days_supply, 1) = '0' THEN RIGHT(days_supply, 2) -- If 030, take 30 \n",
    "                       ELSE days_supply \n",
    "                     END ;\n",
    "COMMIT;"
   ]
  },
  {
   "cell_type": "code",
   "execution_count": 7,
   "metadata": {
    "ExecuteTime": {
     "end_time": "2019-03-28T18:14:06.698076Z",
     "start_time": "2019-03-28T18:14:03.771960Z"
    }
   },
   "outputs": [
    {
     "name": "stdout",
     "output_type": "stream",
     "text": [
      "Query started at 02:14:03 PM Eastern Daylight Time; Query executed in 0.05 m"
     ]
    },
    {
     "data": {
      "text/html": [
       "<div>\n",
       "<style scoped>\n",
       "    .dataframe tbody tr th:only-of-type {\n",
       "        vertical-align: middle;\n",
       "    }\n",
       "\n",
       "    .dataframe tbody tr th {\n",
       "        vertical-align: top;\n",
       "    }\n",
       "\n",
       "    .dataframe thead th {\n",
       "        text-align: right;\n",
       "    }\n",
       "</style>\n",
       "<table border=\"1\" class=\"dataframe\">\n",
       "  <thead>\n",
       "    <tr style=\"text-align: right;\">\n",
       "      <th></th>\n",
       "      <th>days_supply</th>\n",
       "      <th>row_cnt</th>\n",
       "      <th>pct</th>\n",
       "    </tr>\n",
       "  </thead>\n",
       "  <tbody>\n",
       "    <tr>\n",
       "      <th>0</th>\n",
       "      <td>30</td>\n",
       "      <td>9123057</td>\n",
       "      <td>0.622484</td>\n",
       "    </tr>\n",
       "    <tr>\n",
       "      <th>1</th>\n",
       "      <td>90</td>\n",
       "      <td>1725489</td>\n",
       "      <td>0.117734</td>\n",
       "    </tr>\n",
       "    <tr>\n",
       "      <th>2</th>\n",
       "      <td>28</td>\n",
       "      <td>514197</td>\n",
       "      <td>0.035085</td>\n",
       "    </tr>\n",
       "    <tr>\n",
       "      <th>3</th>\n",
       "      <td>10</td>\n",
       "      <td>409178</td>\n",
       "      <td>0.027919</td>\n",
       "    </tr>\n",
       "    <tr>\n",
       "      <th>4</th>\n",
       "      <td>7</td>\n",
       "      <td>341569</td>\n",
       "      <td>0.023306</td>\n",
       "    </tr>\n",
       "    <tr>\n",
       "      <th>5</th>\n",
       "      <td>15</td>\n",
       "      <td>286473</td>\n",
       "      <td>0.019547</td>\n",
       "    </tr>\n",
       "    <tr>\n",
       "      <th>6</th>\n",
       "      <td>5</td>\n",
       "      <td>267019</td>\n",
       "      <td>0.018219</td>\n",
       "    </tr>\n",
       "    <tr>\n",
       "      <th>7</th>\n",
       "      <td>25</td>\n",
       "      <td>184480</td>\n",
       "      <td>0.012587</td>\n",
       "    </tr>\n",
       "    <tr>\n",
       "      <th>8</th>\n",
       "      <td>1</td>\n",
       "      <td>167344</td>\n",
       "      <td>0.011418</td>\n",
       "    </tr>\n",
       "    <tr>\n",
       "      <th>9</th>\n",
       "      <td>14</td>\n",
       "      <td>161038</td>\n",
       "      <td>0.010988</td>\n",
       "    </tr>\n",
       "    <tr>\n",
       "      <th>10</th>\n",
       "      <td>20</td>\n",
       "      <td>143280</td>\n",
       "      <td>0.009776</td>\n",
       "    </tr>\n",
       "    <tr>\n",
       "      <th>11</th>\n",
       "      <td>3</td>\n",
       "      <td>123528</td>\n",
       "      <td>0.008429</td>\n",
       "    </tr>\n",
       "    <tr>\n",
       "      <th>12</th>\n",
       "      <td>6</td>\n",
       "      <td>104339</td>\n",
       "      <td>0.007119</td>\n",
       "    </tr>\n",
       "    <tr>\n",
       "      <th>13</th>\n",
       "      <td>60</td>\n",
       "      <td>82613</td>\n",
       "      <td>0.005637</td>\n",
       "    </tr>\n",
       "    <tr>\n",
       "      <th>14</th>\n",
       "      <td>31</td>\n",
       "      <td>80938</td>\n",
       "      <td>0.005523</td>\n",
       "    </tr>\n",
       "    <tr>\n",
       "      <th>15</th>\n",
       "      <td>2</td>\n",
       "      <td>80540</td>\n",
       "      <td>0.005495</td>\n",
       "    </tr>\n",
       "    <tr>\n",
       "      <th>16</th>\n",
       "      <td>4</td>\n",
       "      <td>72910</td>\n",
       "      <td>0.004975</td>\n",
       "    </tr>\n",
       "    <tr>\n",
       "      <th>17</th>\n",
       "      <td>8</td>\n",
       "      <td>62731</td>\n",
       "      <td>0.004280</td>\n",
       "    </tr>\n",
       "    <tr>\n",
       "      <th>18</th>\n",
       "      <td>16</td>\n",
       "      <td>56283</td>\n",
       "      <td>0.003840</td>\n",
       "    </tr>\n",
       "    <tr>\n",
       "      <th>19</th>\n",
       "      <td>12</td>\n",
       "      <td>49106</td>\n",
       "      <td>0.003351</td>\n",
       "    </tr>\n",
       "    <tr>\n",
       "      <th>20</th>\n",
       "      <td>21</td>\n",
       "      <td>47814</td>\n",
       "      <td>0.003262</td>\n",
       "    </tr>\n",
       "    <tr>\n",
       "      <th>21</th>\n",
       "      <td>50</td>\n",
       "      <td>47583</td>\n",
       "      <td>0.003247</td>\n",
       "    </tr>\n",
       "    <tr>\n",
       "      <th>22</th>\n",
       "      <td>84</td>\n",
       "      <td>47291</td>\n",
       "      <td>0.003227</td>\n",
       "    </tr>\n",
       "    <tr>\n",
       "      <th>23</th>\n",
       "      <td>22</td>\n",
       "      <td>36720</td>\n",
       "      <td>0.002505</td>\n",
       "    </tr>\n",
       "    <tr>\n",
       "      <th>24</th>\n",
       "      <td>17</td>\n",
       "      <td>31253</td>\n",
       "      <td>0.002132</td>\n",
       "    </tr>\n",
       "    <tr>\n",
       "      <th>25</th>\n",
       "      <td>9</td>\n",
       "      <td>30663</td>\n",
       "      <td>0.002092</td>\n",
       "    </tr>\n",
       "    <tr>\n",
       "      <th>26</th>\n",
       "      <td>23</td>\n",
       "      <td>29346</td>\n",
       "      <td>0.002002</td>\n",
       "    </tr>\n",
       "    <tr>\n",
       "      <th>27</th>\n",
       "      <td>33</td>\n",
       "      <td>26766</td>\n",
       "      <td>0.001826</td>\n",
       "    </tr>\n",
       "    <tr>\n",
       "      <th>28</th>\n",
       "      <td>45</td>\n",
       "      <td>26139</td>\n",
       "      <td>0.001784</td>\n",
       "    </tr>\n",
       "    <tr>\n",
       "      <th>29</th>\n",
       "      <td>18</td>\n",
       "      <td>22154</td>\n",
       "      <td>0.001512</td>\n",
       "    </tr>\n",
       "  </tbody>\n",
       "</table>\n",
       "</div>"
      ],
      "text/plain": [
       "   days_supply  row_cnt       pct\n",
       "0           30  9123057  0.622484\n",
       "1           90  1725489  0.117734\n",
       "2           28   514197  0.035085\n",
       "3           10   409178  0.027919\n",
       "4            7   341569  0.023306\n",
       "5           15   286473  0.019547\n",
       "6            5   267019  0.018219\n",
       "7           25   184480  0.012587\n",
       "8            1   167344  0.011418\n",
       "9           14   161038  0.010988\n",
       "10          20   143280  0.009776\n",
       "11           3   123528  0.008429\n",
       "12           6   104339  0.007119\n",
       "13          60    82613  0.005637\n",
       "14          31    80938  0.005523\n",
       "15           2    80540  0.005495\n",
       "16           4    72910  0.004975\n",
       "17           8    62731  0.004280\n",
       "18          16    56283  0.003840\n",
       "19          12    49106  0.003351\n",
       "20          21    47814  0.003262\n",
       "21          50    47583  0.003247\n",
       "22          84    47291  0.003227\n",
       "23          22    36720  0.002505\n",
       "24          17    31253  0.002132\n",
       "25           9    30663  0.002092\n",
       "26          23    29346  0.002002\n",
       "27          33    26766  0.001826\n",
       "28          45    26139  0.001784\n",
       "29          18    22154  0.001512"
      ]
     },
     "execution_count": 7,
     "metadata": {},
     "output_type": "execute_result"
    }
   ],
   "source": [
    "%%read_sql\n",
    "--Review distribution to be sure values make sense\n",
    "SELECT days_supply,\n",
    "       Count(*) AS row_cnt,\n",
    "       Count(*) / (SELECT Count(*)\n",
    "                     FROM dc_rxdedup_rx_master) AS pct\n",
    "  FROM dc_rxdedup_rx_master\n",
    " GROUP BY days_supply\n",
    " ORDER BY row_cnt DESC\n",
    " LIMIT 30;"
   ]
  },
  {
   "cell_type": "markdown",
   "metadata": {},
   "source": [
    "# Imput ids\n",
    "Impute patient_id values for claims that do not have them"
   ]
  },
  {
   "cell_type": "markdown",
   "metadata": {},
   "source": [
    "## Abondoned claims\n",
    "Create table of the abondoned claims\n",
    "\n",
    "STEPS TO ADD VALID PATIENT IDs TO THE REVERSED CLAIMS \n",
    "1. Adding Patient Id to the abandoned claims based on Non-abandoned claims \n",
    "1. reversed claims have junk patient ids - XXX -% \n",
    "\n",
    "  Getting all Abandoned claims"
   ]
  },
  {
   "cell_type": "code",
   "execution_count": 8,
   "metadata": {
    "ExecuteTime": {
     "end_time": "2019-03-28T18:14:17.236908Z",
     "start_time": "2019-03-28T18:14:06.700076Z"
    }
   },
   "outputs": [
    {
     "name": "stdout",
     "output_type": "stream",
     "text": [
      "Query started at 02:14:06 PM Eastern Daylight Time; Query executed in 0.02 mQuery started at 02:14:08 PM Eastern Daylight Time; Query executed in 0.15 m"
     ]
    },
    {
     "data": {
      "text/html": [
       "<div>\n",
       "<style scoped>\n",
       "    .dataframe tbody tr th:only-of-type {\n",
       "        vertical-align: middle;\n",
       "    }\n",
       "\n",
       "    .dataframe tbody tr th {\n",
       "        vertical-align: top;\n",
       "    }\n",
       "\n",
       "    .dataframe thead th {\n",
       "        text-align: right;\n",
       "    }\n",
       "</style>\n",
       "<table border=\"1\" class=\"dataframe\">\n",
       "  <thead>\n",
       "    <tr style=\"text-align: right;\">\n",
       "      <th></th>\n",
       "      <th>status</th>\n",
       "    </tr>\n",
       "  </thead>\n",
       "  <tbody>\n",
       "    <tr>\n",
       "      <th>0</th>\n",
       "      <td>Table DC_RXDEDUP_RX_ABAN_01 successfully created.</td>\n",
       "    </tr>\n",
       "  </tbody>\n",
       "</table>\n",
       "</div>"
      ],
      "text/plain": [
       "                                              status\n",
       "0  Table DC_RXDEDUP_RX_ABAN_01 successfully created."
      ]
     },
     "execution_count": 8,
     "metadata": {},
     "output_type": "execute_result"
    }
   ],
   "source": [
    "%%read_sql\n",
    "--PRC: I'm not sure why this is a select *.  I don't think we need all the columns\n",
    "DROP TABLE IF EXISTS dc_rxdedup_rx_Aban_01;\n",
    "CREATE TRANSIENT TABLE dc_rxdedup_rx_Aban_01 AS\n",
    "    SELECT * \n",
    "    FROM   dc_rxdedup_rx_master \n",
    "    WHERE  transaction_code = 'B2' \n",
    "           AND response_code = 'A'; "
   ]
  },
  {
   "cell_type": "code",
   "execution_count": 9,
   "metadata": {
    "ExecuteTime": {
     "end_time": "2019-03-28T18:14:24.181289Z",
     "start_time": "2019-03-28T18:14:17.236908Z"
    }
   },
   "outputs": [
    {
     "name": "stdout",
     "output_type": "stream",
     "text": [
      "Query started at 02:14:17 PM Eastern Daylight Time; Query executed in 0.12 m"
     ]
    },
    {
     "data": {
      "text/html": [
       "<div>\n",
       "<style scoped>\n",
       "    .dataframe tbody tr th:only-of-type {\n",
       "        vertical-align: middle;\n",
       "    }\n",
       "\n",
       "    .dataframe tbody tr th {\n",
       "        vertical-align: top;\n",
       "    }\n",
       "\n",
       "    .dataframe thead th {\n",
       "        text-align: right;\n",
       "    }\n",
       "</style>\n",
       "<table border=\"1\" class=\"dataframe\">\n",
       "  <thead>\n",
       "    <tr style=\"text-align: right;\">\n",
       "      <th></th>\n",
       "      <th>COUNT(*)</th>\n",
       "      <th>pt_cnt</th>\n",
       "      <th>null_pt_cnt</th>\n",
       "    </tr>\n",
       "  </thead>\n",
       "  <tbody>\n",
       "    <tr>\n",
       "      <th>0</th>\n",
       "      <td>4752</td>\n",
       "      <td>285</td>\n",
       "      <td>110</td>\n",
       "    </tr>\n",
       "  </tbody>\n",
       "</table>\n",
       "</div>"
      ],
      "text/plain": [
       "   COUNT(*)  pt_cnt  null_pt_cnt\n",
       "0      4752     285          110"
      ]
     },
     "execution_count": 9,
     "metadata": {},
     "output_type": "execute_result"
    }
   ],
   "source": [
    "%%read_sql\n",
    "--Review table size\n",
    "SELECT Count(*),\n",
    "       Count(Distinct patient_id) AS pt_cnt,\n",
    "       Sum(CASE WHEN patient_id IS NULL THEN 1 ELSE 0 END) as null_pt_cnt\n",
    "  FROM dc_rxdedup_rx_Aban_01;"
   ]
  },
  {
   "cell_type": "markdown",
   "metadata": {},
   "source": [
    "\n",
    " Getting all Non-Abandoned claims"
   ]
  },
  {
   "cell_type": "markdown",
   "metadata": {},
   "source": [
    "## Non abondoned claims\n",
    "Create a table of the non abondoned claims"
   ]
  },
  {
   "cell_type": "code",
   "execution_count": 10,
   "metadata": {
    "ExecuteTime": {
     "end_time": "2019-03-28T18:14:33.203978Z",
     "start_time": "2019-03-28T18:14:24.185290Z"
    }
   },
   "outputs": [
    {
     "name": "stdout",
     "output_type": "stream",
     "text": [
      "Query started at 02:14:24 PM Eastern Daylight Time; Query executed in 0.03 mQuery started at 02:14:25 PM Eastern Daylight Time; Query executed in 0.12 m"
     ]
    },
    {
     "data": {
      "text/html": [
       "<div>\n",
       "<style scoped>\n",
       "    .dataframe tbody tr th:only-of-type {\n",
       "        vertical-align: middle;\n",
       "    }\n",
       "\n",
       "    .dataframe tbody tr th {\n",
       "        vertical-align: top;\n",
       "    }\n",
       "\n",
       "    .dataframe thead th {\n",
       "        text-align: right;\n",
       "    }\n",
       "</style>\n",
       "<table border=\"1\" class=\"dataframe\">\n",
       "  <thead>\n",
       "    <tr style=\"text-align: right;\">\n",
       "      <th></th>\n",
       "      <th>status</th>\n",
       "    </tr>\n",
       "  </thead>\n",
       "  <tbody>\n",
       "    <tr>\n",
       "      <th>0</th>\n",
       "      <td>Table DC_RXDEDUP_RX_NONABAN_01 successfully cr...</td>\n",
       "    </tr>\n",
       "  </tbody>\n",
       "</table>\n",
       "</div>"
      ],
      "text/plain": [
       "                                              status\n",
       "0  Table DC_RXDEDUP_RX_NONABAN_01 successfully cr..."
      ]
     },
     "execution_count": 10,
     "metadata": {},
     "output_type": "execute_result"
    }
   ],
   "source": [
    "%%read_sql \n",
    "DROP TABLE IF EXISTS dc_rxdedup_rx_NonAban_01;\n",
    "CREATE TRANSIENT TABLE dc_rxdedup_rx_NonAban_01 AS\n",
    "SELECT * \n",
    "FROM   dc_rxdedup_rx_master \n",
    "WHERE  transaction_code <> 'B2' \n",
    "       AND patient_id IS NOT NULL \n",
    ";"
   ]
  },
  {
   "cell_type": "code",
   "execution_count": 11,
   "metadata": {
    "ExecuteTime": {
     "end_time": "2019-03-28T18:14:34.721129Z",
     "start_time": "2019-03-28T18:14:33.205978Z"
    }
   },
   "outputs": [
    {
     "name": "stdout",
     "output_type": "stream",
     "text": [
      "Query started at 02:14:33 PM Eastern Daylight Time; Query executed in 0.03 m"
     ]
    },
    {
     "data": {
      "text/html": [
       "<div>\n",
       "<style scoped>\n",
       "    .dataframe tbody tr th:only-of-type {\n",
       "        vertical-align: middle;\n",
       "    }\n",
       "\n",
       "    .dataframe tbody tr th {\n",
       "        vertical-align: top;\n",
       "    }\n",
       "\n",
       "    .dataframe thead th {\n",
       "        text-align: right;\n",
       "    }\n",
       "</style>\n",
       "<table border=\"1\" class=\"dataframe\">\n",
       "  <thead>\n",
       "    <tr style=\"text-align: right;\">\n",
       "      <th></th>\n",
       "      <th>row_cnt</th>\n",
       "    </tr>\n",
       "  </thead>\n",
       "  <tbody>\n",
       "    <tr>\n",
       "      <th>0</th>\n",
       "      <td>14651115</td>\n",
       "    </tr>\n",
       "  </tbody>\n",
       "</table>\n",
       "</div>"
      ],
      "text/plain": [
       "    row_cnt\n",
       "0  14651115"
      ]
     },
     "execution_count": 11,
     "metadata": {},
     "output_type": "execute_result"
    }
   ],
   "source": [
    "%%read_sql\n",
    "--Review non abondoned row counts\n",
    "SELECT Count(*) AS row_cnt\n",
    "  FROM dc_rxdedup_rx_NonAban_01;"
   ]
  },
  {
   "cell_type": "markdown",
   "metadata": {},
   "source": [
    "## Patient Id for Abondoned claims\n",
    "Getting the Patient IDs for a Abandoned claim \n",
    "  \n",
    "1. Unique mapping key - (service_provider_id + prescription_or_service_reference_number + FILL_NUMBER + product_or_service_id\n",
    "2. Chekcking to see if the Unique mapping key is unique per patient to see if that can be used as a derived key to fetch the\n",
    "      patient id for the reversed claims from the non-reversed claims\n",
    "     "
   ]
  },
  {
   "cell_type": "code",
   "execution_count": 12,
   "metadata": {
    "ExecuteTime": {
     "end_time": "2019-03-28T18:14:42.088866Z",
     "start_time": "2019-03-28T18:14:34.723130Z"
    }
   },
   "outputs": [
    {
     "name": "stdout",
     "output_type": "stream",
     "text": [
      "Query started at 02:14:34 PM Eastern Daylight Time; Query executed in 0.03 mQuery started at 02:14:36 PM Eastern Daylight Time; Query executed in 0.09 m"
     ]
    },
    {
     "data": {
      "text/html": [
       "<div>\n",
       "<style scoped>\n",
       "    .dataframe tbody tr th:only-of-type {\n",
       "        vertical-align: middle;\n",
       "    }\n",
       "\n",
       "    .dataframe tbody tr th {\n",
       "        vertical-align: top;\n",
       "    }\n",
       "\n",
       "    .dataframe thead th {\n",
       "        text-align: right;\n",
       "    }\n",
       "</style>\n",
       "<table border=\"1\" class=\"dataframe\">\n",
       "  <thead>\n",
       "    <tr style=\"text-align: right;\">\n",
       "      <th></th>\n",
       "      <th>status</th>\n",
       "    </tr>\n",
       "  </thead>\n",
       "  <tbody>\n",
       "    <tr>\n",
       "      <th>0</th>\n",
       "      <td>Table DC_RXDEDUP_RX_NONABAN_ABN_MAPPING_01 suc...</td>\n",
       "    </tr>\n",
       "  </tbody>\n",
       "</table>\n",
       "</div>"
      ],
      "text/plain": [
       "                                              status\n",
       "0  Table DC_RXDEDUP_RX_NONABAN_ABN_MAPPING_01 suc..."
      ]
     },
     "execution_count": 12,
     "metadata": {},
     "output_type": "execute_result"
    }
   ],
   "source": [
    "%%read_sql \n",
    "\n",
    "DROP TABLE IF EXISTS dc_rxdedup_rx_NonAban_Abn_Mapping_01;\n",
    "CREATE TRANSIENT TABLE dc_rxdedup_rx_NonAban_Abn_Mapping_01 AS\n",
    "SELECT provider_id, \n",
    "       prescription_or_service_reference_number, \n",
    "       fill_number, \n",
    "       ndc, \n",
    "       Count (DISTINCT patient_id) AS Pat_Vol \n",
    "FROM   dc_rxdedup_rx_nonaban_01 \n",
    "GROUP  BY provider_id, \n",
    "          prescription_or_service_reference_number, \n",
    "          fill_number, \n",
    "          ndc \n",
    "HAVING pat_vol = 1; \n",
    "  "
   ]
  },
  {
   "cell_type": "markdown",
   "metadata": {},
   "source": [
    "## Assign Id to abondoned claims\n",
    "Following logic try to assign the most relevant patient id for each of the abandoned claims \n",
    "  "
   ]
  },
  {
   "cell_type": "markdown",
   "metadata": {},
   "source": [
    "\n",
    "Getting the closest non-reversed claim to identify the valid patient id (works for 95% of the cases) \n",
    "for the claims where the prescription_or_service_reference_number is 1-0-1 from the Unique mapping key level\n",
    "i.e. should be present in the above table\n"
   ]
  },
  {
   "cell_type": "code",
   "execution_count": 13,
   "metadata": {
    "ExecuteTime": {
     "end_time": "2019-03-28T18:14:52.646777Z",
     "start_time": "2019-03-28T18:14:42.091866Z"
    }
   },
   "outputs": [
    {
     "name": "stdout",
     "output_type": "stream",
     "text": [
      "Query started at 02:14:42 PM Eastern Daylight Time; Query executed in 0.03 mQuery started at 02:14:43 PM Eastern Daylight Time; Query executed in 0.15 m"
     ]
    },
    {
     "data": {
      "text/html": [
       "<div>\n",
       "<style scoped>\n",
       "    .dataframe tbody tr th:only-of-type {\n",
       "        vertical-align: middle;\n",
       "    }\n",
       "\n",
       "    .dataframe tbody tr th {\n",
       "        vertical-align: top;\n",
       "    }\n",
       "\n",
       "    .dataframe thead th {\n",
       "        text-align: right;\n",
       "    }\n",
       "</style>\n",
       "<table border=\"1\" class=\"dataframe\">\n",
       "  <thead>\n",
       "    <tr style=\"text-align: right;\">\n",
       "      <th></th>\n",
       "      <th>status</th>\n",
       "    </tr>\n",
       "  </thead>\n",
       "  <tbody>\n",
       "    <tr>\n",
       "      <th>0</th>\n",
       "      <td>Table DC_RXDEDUP_RX_NONABAN_ABN_MAPPING succes...</td>\n",
       "    </tr>\n",
       "  </tbody>\n",
       "</table>\n",
       "</div>"
      ],
      "text/plain": [
       "                                              status\n",
       "0  Table DC_RXDEDUP_RX_NONABAN_ABN_MAPPING succes..."
      ]
     },
     "execution_count": 13,
     "metadata": {},
     "output_type": "execute_result"
    }
   ],
   "source": [
    "%%read_sql \n",
    "\n",
    "DROP TABLE IF EXISTS dc_rxdedup_rx_NonAban_Abn_Mapping;\n",
    "CREATE TRANSIENT TABLE dc_rxdedup_rx_NonAban_Abn_Mapping AS\n",
    "WITH abondt1 \n",
    "     AS (SELECT AB2.claim_id, \n",
    "                Datediff(day, To_date(AB2.date_of_service), To_date(RB1.date_of_service)) AS DiffDate,\n",
    "                AB2.date_of_service                                                       AS ABDT,\n",
    "                AB2.provider_id, \n",
    "                AB2.prescription_or_service_reference_number, \n",
    "                AB2.fill_number, \n",
    "                AB2.ndc, \n",
    "                AB2.insurance_type, \n",
    "                AB2.coverage_type,  \n",
    "                AB2.data_source, \n",
    "                RB1.date_of_service                                                       AS RBDT,\n",
    "                RB1.claim_id                                                              AS Non_Abn_claim_id,\n",
    "                RB1.patient_id                                                            AS Non_Abn_patient_id,\n",
    "                RB1.response_code                                                         AS Non_Abn_Response_Code,\n",
    "                --RB1.patient_gender,  \n",
    "                --RB1.patient_age,  \n",
    "                CASE \n",
    "                  WHEN RB1.patient_id IS NULL THEN 'Null_Exclude' \n",
    "                  WHEN inc.prescription_or_service_reference_number IS NULL THEN 'Not_Unique_Exclude'\n",
    "                  ELSE 'Include' \n",
    "                END                                                                       AS Mapping_Flag\n",
    "         FROM   dc_rxdedup_rx_aban_01 AB2 \n",
    "                LEFT JOIN dc_rxdedup_rx_nonaban_01 RB1 \n",
    "                       ON AB2.provider_id = RB1.provider_id \n",
    "                          AND AB2.prescription_or_service_reference_number = \n",
    "                              RB1.prescription_or_service_reference_number \n",
    "                          AND AB2.fill_number = RB1.fill_number \n",
    "                          AND AB2.ndc = RB1.ndc \n",
    "                LEFT JOIN dc_rxdedup_rx_nonaban_abn_mapping_01 Inc \n",
    "                       ON AB2.provider_id = Inc.provider_id \n",
    "                          AND AB2.prescription_or_service_reference_number = \n",
    "                              Inc.prescription_or_service_reference_number \n",
    "                          AND AB2.fill_number = Inc.fill_number \n",
    "                          AND AB2.ndc = Inc.ndc), \n",
    "     abondt2 \n",
    "     AS (SELECT *, \n",
    "                Row_number () \n",
    "                  OVER ( \n",
    "                    partition BY claim_id \n",
    "                    ORDER BY Abs(diffdate) ASC) AS Rnk1 \n",
    "         FROM   abondt1) \n",
    "SELECT * \n",
    "FROM   abondt2 "
   ]
  },
  {
   "cell_type": "markdown",
   "metadata": {},
   "source": [
    "## Find closests non-reversed claim\n",
    "Getting the closest non-reversed claim to identify the valid patient id w/o fill_number"
   ]
  },
  {
   "cell_type": "markdown",
   "metadata": {},
   "source": [
    " \n",
    "Done on the subset of claims that was not mapped with the above logic - the joining condition is less stringent as fill_number is excluded but only qualify if there is a record present within 30 days window for the given set of joining keys\n"
   ]
  },
  {
   "cell_type": "code",
   "execution_count": 14,
   "metadata": {
    "ExecuteTime": {
     "end_time": "2019-03-28T18:14:57.239051Z",
     "start_time": "2019-03-28T18:14:52.649777Z"
    }
   },
   "outputs": [
    {
     "name": "stdout",
     "output_type": "stream",
     "text": [
      "Query started at 02:14:52 PM Eastern Daylight Time; Query executed in 0.03 mQuery started at 02:14:54 PM Eastern Daylight Time; Query executed in 0.04 m"
     ]
    },
    {
     "data": {
      "text/html": [
       "<div>\n",
       "<style scoped>\n",
       "    .dataframe tbody tr th:only-of-type {\n",
       "        vertical-align: middle;\n",
       "    }\n",
       "\n",
       "    .dataframe tbody tr th {\n",
       "        vertical-align: top;\n",
       "    }\n",
       "\n",
       "    .dataframe thead th {\n",
       "        text-align: right;\n",
       "    }\n",
       "</style>\n",
       "<table border=\"1\" class=\"dataframe\">\n",
       "  <thead>\n",
       "    <tr style=\"text-align: right;\">\n",
       "      <th></th>\n",
       "      <th>status</th>\n",
       "    </tr>\n",
       "  </thead>\n",
       "  <tbody>\n",
       "    <tr>\n",
       "      <th>0</th>\n",
       "      <td>Table DC_RXDEDUP_RX_NONABAN_ABN_MAPPING_1 succ...</td>\n",
       "    </tr>\n",
       "  </tbody>\n",
       "</table>\n",
       "</div>"
      ],
      "text/plain": [
       "                                              status\n",
       "0  Table DC_RXDEDUP_RX_NONABAN_ABN_MAPPING_1 succ..."
      ]
     },
     "execution_count": 14,
     "metadata": {},
     "output_type": "execute_result"
    }
   ],
   "source": [
    "%%read_sql\n",
    "\n",
    "DROP TABLE IF EXISTS dc_rxdedup_rx_NonAban_Abn_Mapping_1;\n",
    "CREATE TRANSIENT TABLE dc_rxdedup_rx_NonAban_Abn_Mapping_1 AS\n",
    "WITH abondt1 \n",
    "     AS (SELECT AB2.claim_id, \n",
    "                Datediff(day, To_date(AB2.abdt), To_date(RB1.date_of_service)) AS DiffDate, \n",
    "                AB2.abdt, \n",
    "                AB2.provider_id, \n",
    "                AB2.prescription_or_service_reference_number, \n",
    "                AB2.fill_number, \n",
    "                AB2.ndc, \n",
    "                AB2.insurance_type, \n",
    "                AB2.coverage_type, \n",
    "                AB2.data_source, \n",
    "                RB1.date_of_service                                            AS RBDT, \n",
    "                RB1.claim_id                                                AS Non_Abn_claim_id,\n",
    "                RB1.patient_id                                              AS Non_Abn_patient_id,\n",
    "                RB1.response_code                                           AS Non_Abn_Response_Code\n",
    "                --RB1.patient_gender, \n",
    "                --RB1.patient_age \n",
    "         FROM   dc_rxdedup_rx_nonaban_abn_mapping AB2 \n",
    "                INNER JOIN dc_rxdedup_rx_nonaban_01 RB1 \n",
    "                        ON AB2.provider_id = RB1.provider_id \n",
    "                           AND AB2.prescription_or_service_reference_number = \n",
    "                               RB1.prescription_or_service_reference_number \n",
    "                           AND AB2.ndc = RB1.ndc \n",
    "         WHERE  mapping_flag = 'Null_Exclude'), \n",
    "     abondt2 \n",
    "     AS (SELECT *, \n",
    "                Row_number () \n",
    "                  OVER ( \n",
    "                    partition BY claim_id \n",
    "                    ORDER BY Abs(diffdate) ASC) AS Rnk1 \n",
    "         FROM   abondt1) \n",
    "SELECT * \n",
    "FROM   abondt2 \n",
    "WHERE  rnk1 = 1 \n",
    "       AND Abs(diffdate) <= 30; "
   ]
  },
  {
   "cell_type": "markdown",
   "metadata": {},
   "source": [
    "Getting the closest non-reversed claim to identify the valid patient id w/o fill_number and not \n",
    "having a unique prescription_or_service_reference_number within 30 days window   \n"
   ]
  },
  {
   "cell_type": "code",
   "execution_count": 15,
   "metadata": {
    "ExecuteTime": {
     "end_time": "2019-03-28T18:15:01.528148Z",
     "start_time": "2019-03-28T18:14:57.239051Z"
    }
   },
   "outputs": [
    {
     "name": "stdout",
     "output_type": "stream",
     "text": [
      "Query started at 02:14:57 PM Eastern Daylight Time; Query executed in 0.03 mQuery started at 02:14:59 PM Eastern Daylight Time; Query executed in 0.04 m"
     ]
    },
    {
     "data": {
      "text/html": [
       "<div>\n",
       "<style scoped>\n",
       "    .dataframe tbody tr th:only-of-type {\n",
       "        vertical-align: middle;\n",
       "    }\n",
       "\n",
       "    .dataframe tbody tr th {\n",
       "        vertical-align: top;\n",
       "    }\n",
       "\n",
       "    .dataframe thead th {\n",
       "        text-align: right;\n",
       "    }\n",
       "</style>\n",
       "<table border=\"1\" class=\"dataframe\">\n",
       "  <thead>\n",
       "    <tr style=\"text-align: right;\">\n",
       "      <th></th>\n",
       "      <th>status</th>\n",
       "    </tr>\n",
       "  </thead>\n",
       "  <tbody>\n",
       "    <tr>\n",
       "      <th>0</th>\n",
       "      <td>Table DC_RXDEDUP_RX_NONABAN_ABN_MAPPING_2 succ...</td>\n",
       "    </tr>\n",
       "  </tbody>\n",
       "</table>\n",
       "</div>"
      ],
      "text/plain": [
       "                                              status\n",
       "0  Table DC_RXDEDUP_RX_NONABAN_ABN_MAPPING_2 succ..."
      ]
     },
     "execution_count": 15,
     "metadata": {},
     "output_type": "execute_result"
    }
   ],
   "source": [
    "%%read_sql \n",
    "\n",
    "DROP TABLE IF EXISTS dc_rxdedup_rx_NonAban_Abn_Mapping_2;\n",
    "CREATE TRANSIENT TABLE dc_rxdedup_rx_NonAban_Abn_Mapping_2 AS\n",
    "WITH abondt1 \n",
    "     AS (SELECT AB2.claim_id, \n",
    "                Datediff(day, To_date(AB2.abdt), To_date(RB1.date_of_service)) AS DiffDate, \n",
    "                AB2.abdt, \n",
    "                AB2.provider_id, \n",
    "                AB2.prescription_or_service_reference_number, \n",
    "                AB2.fill_number, \n",
    "                AB2.ndc, \n",
    "                AB2.insurance_type, \n",
    "                AB2.coverage_type, \n",
    "                AB2.data_source, \n",
    "                RB1.date_of_service                                           AS RBDT, \n",
    "                RB1.claim_id                                                  AS Non_Abn_claim_id,\n",
    "                RB1.patient_id                                                AS Non_Abn_patient_id,\n",
    "                RB1.response_code                                             AS Non_Abn_Response_Code\n",
    "                --RB1.patient_gender, \n",
    "                --RB1.patient_age \n",
    "         FROM   dc_rxdedup_rx_nonaban_abn_mapping AB2 \n",
    "                INNER JOIN dc_rxdedup_rx_nonaban_01 RB1 \n",
    "                        ON AB2.provider_id = RB1.provider_id \n",
    "                           AND AB2.prescription_or_service_reference_number = \n",
    "                               RB1.prescription_or_service_reference_number \n",
    "                           AND AB2.fill_number = RB1.fill_number \n",
    "                           AND AB2.ndc = RB1.ndc \n",
    "         WHERE  mapping_flag = 'Not_Unique_Exclude' \n",
    "                AND RB1.response_code = 'P'), \n",
    "     abondt2 \n",
    "     AS (SELECT *, \n",
    "                Row_number () \n",
    "                  OVER ( \n",
    "                    partition BY claim_id \n",
    "                    ORDER BY Abs(diffdate) ASC) AS Rnk1 \n",
    "         FROM   abondt1) \n",
    "SELECT * \n",
    "FROM   abondt2 \n",
    "WHERE  rnk1 = 1 \n",
    "       AND Abs(diffdate) <= 30 \n",
    "       AND non_abn_patient_id IS NOT NULL; "
   ]
  },
  {
   "cell_type": "markdown",
   "metadata": {},
   "source": [
    "## Combine data\n",
    "Combining all the subsets of reversed claims with the relevant patient id is added"
   ]
  },
  {
   "cell_type": "markdown",
   "metadata": {},
   "source": [
    "\n",
    "\n",
    "Abandoned claims mapped with valid patient ID \n"
   ]
  },
  {
   "cell_type": "code",
   "execution_count": 16,
   "metadata": {
    "ExecuteTime": {
     "end_time": "2019-03-28T18:15:05.921301Z",
     "start_time": "2019-03-28T18:15:01.528148Z"
    }
   },
   "outputs": [
    {
     "name": "stdout",
     "output_type": "stream",
     "text": [
      "Query started at 02:15:01 PM Eastern Daylight Time; Query executed in 0.03 mQuery started at 02:15:03 PM Eastern Daylight Time; Query executed in 0.04 m"
     ]
    },
    {
     "data": {
      "text/html": [
       "<div>\n",
       "<style scoped>\n",
       "    .dataframe tbody tr th:only-of-type {\n",
       "        vertical-align: middle;\n",
       "    }\n",
       "\n",
       "    .dataframe tbody tr th {\n",
       "        vertical-align: top;\n",
       "    }\n",
       "\n",
       "    .dataframe thead th {\n",
       "        text-align: right;\n",
       "    }\n",
       "</style>\n",
       "<table border=\"1\" class=\"dataframe\">\n",
       "  <thead>\n",
       "    <tr style=\"text-align: right;\">\n",
       "      <th></th>\n",
       "      <th>status</th>\n",
       "    </tr>\n",
       "  </thead>\n",
       "  <tbody>\n",
       "    <tr>\n",
       "      <th>0</th>\n",
       "      <td>Table DC_RXDEDUP_RX_NONABAN_ABN_MAPPING_3 succ...</td>\n",
       "    </tr>\n",
       "  </tbody>\n",
       "</table>\n",
       "</div>"
      ],
      "text/plain": [
       "                                              status\n",
       "0  Table DC_RXDEDUP_RX_NONABAN_ABN_MAPPING_3 succ..."
      ]
     },
     "execution_count": 16,
     "metadata": {},
     "output_type": "execute_result"
    }
   ],
   "source": [
    "%%read_sql \n",
    "\n",
    "DROP TABLE IF EXISTS dc_rxdedup_rx_NonAban_Abn_Mapping_3;\n",
    "CREATE TRANSIENT TABLE dc_rxdedup_rx_NonAban_Abn_Mapping_3 AS\n",
    "    SELECT claim_id, \n",
    "           non_abn_patient_id--, \n",
    "           --patient_gender, \n",
    "           --patient_age \n",
    "    FROM   dc_rxdedup_rx_nonaban_abn_mapping \n",
    "    WHERE  mapping_flag = 'Include' \n",
    "    UNION \n",
    "    SELECT claim_id, \n",
    "           non_abn_patient_id--, \n",
    "           --patient_gender, \n",
    "           --patient_age \n",
    "    FROM   dc_rxdedup_rx_nonaban_abn_mapping_1 \n",
    "    UNION \n",
    "    SELECT claim_id, \n",
    "           non_abn_patient_id--, \n",
    "           --patient_gender, \n",
    "           --patient_age \n",
    "    FROM   dc_rxdedup_rx_nonaban_abn_mapping_2; \n",
    "\n"
   ]
  },
  {
   "cell_type": "markdown",
   "metadata": {},
   "source": [
    "Combining Abandoned claims and non-reversed Records to recreate table with valid patient id\n",
    "  "
   ]
  },
  {
   "cell_type": "code",
   "execution_count": 17,
   "metadata": {
    "ExecuteTime": {
     "end_time": "2019-03-28T18:15:23.308738Z",
     "start_time": "2019-03-28T18:15:05.921301Z"
    }
   },
   "outputs": [
    {
     "name": "stdout",
     "output_type": "stream",
     "text": [
      "Query started at 02:15:05 PM Eastern Daylight Time; Query executed in 0.29 m"
     ]
    },
    {
     "data": {
      "text/html": [
       "<div>\n",
       "<style scoped>\n",
       "    .dataframe tbody tr th:only-of-type {\n",
       "        vertical-align: middle;\n",
       "    }\n",
       "\n",
       "    .dataframe tbody tr th {\n",
       "        vertical-align: top;\n",
       "    }\n",
       "\n",
       "    .dataframe thead th {\n",
       "        text-align: right;\n",
       "    }\n",
       "</style>\n",
       "<table border=\"1\" class=\"dataframe\">\n",
       "  <thead>\n",
       "    <tr style=\"text-align: right;\">\n",
       "      <th></th>\n",
       "      <th>status</th>\n",
       "    </tr>\n",
       "  </thead>\n",
       "  <tbody>\n",
       "    <tr>\n",
       "      <th>0</th>\n",
       "      <td>Table DC_RXDEDUP_FINAL successfully created.</td>\n",
       "    </tr>\n",
       "  </tbody>\n",
       "</table>\n",
       "</div>"
      ],
      "text/plain": [
       "                                         status\n",
       "0  Table DC_RXDEDUP_FINAL successfully created."
      ]
     },
     "execution_count": 17,
     "metadata": {},
     "output_type": "execute_result"
    }
   ],
   "source": [
    "%%read_sql \n",
    "\n",
    "create or replace table dc_rxdedup_final as\n",
    "\n",
    "SELECT b.non_abn_patient_id, \n",
    "       --b.patient_gender, \n",
    "       --b.patient_age, \n",
    "       a.claim_id, \n",
    "       prescription_or_service_reference_number, \n",
    "       date_prescription_written, \n",
    "       gross_amount_due_submitted, \n",
    "       patient_paid_amount_submitted, \n",
    "       patient_pay_amount, \n",
    "       total_amount_paid, \n",
    "       script_id, \n",
    "       date_of_service, \n",
    "       coverage_type, \n",
    "       insurance_type, \n",
    "       ndc, \n",
    "       days_supply, \n",
    "       fill_number, \n",
    "       quantity_dispensed, \n",
    "       number_of_refills_authorized, \n",
    "       transaction_code, \n",
    "       response_code, \n",
    "       provider_id, \n",
    "       provider_npi, \n",
    "       date_authorized, \n",
    "       time_authorized, \n",
    "       --timestamp, \n",
    "       data_source \n",
    "FROM   dc_rxdedup_rx_aban_01 a \n",
    "       INNER JOIN dc_rxdedup_rx_nonaban_abn_mapping_3 b \n",
    "               ON a.claim_id = b.claim_id \n",
    "UNION \n",
    "SELECT mast.patient_id, \n",
    "       --mast.patient_gender, \n",
    "       --mast.patient_age, \n",
    "       mast.claim_id, \n",
    "       mast.prescription_or_service_reference_number, \n",
    "       mast.date_prescription_written, \n",
    "       mast.gross_amount_due_submitted, \n",
    "       mast.patient_paid_amount_submitted, \n",
    "       mast.patient_pay_amount, \n",
    "       mast.total_amount_paid, \n",
    "       mast.script_id, \n",
    "       mast.date_of_service, \n",
    "       mast.coverage_type, \n",
    "       mast.insurance_type, \n",
    "       mast.ndc, \n",
    "       mast.days_supply, \n",
    "       mast.fill_number, \n",
    "       mast.quantity_dispensed, \n",
    "       mast.number_of_refills_authorized, \n",
    "       mast.transaction_code, \n",
    "       mast.response_code, \n",
    "       mast.provider_id, \n",
    "       mast.provider_npi, \n",
    "       mast.date_authorized, \n",
    "       mast.time_authorized, \n",
    "       --mast.timestamp, \n",
    "       mast.data_source \n",
    "FROM   dc_rxdedup_rx_master mast\n",
    "       LEFT JOIN dc_rxdedup_rx_aban_01 abon\n",
    "              ON mast.claim_id = abon.claim_id \n",
    "WHERE  abon.claim_id IS NULL; "
   ]
  },
  {
   "cell_type": "markdown",
   "metadata": {},
   "source": [
    "# Rx Life Cycle \n",
    "LOGIC FOR TEASING OUT RX LIFE CYCLE (REJECTION/ REVERSAL/ ABANDONMENT/ APPROVAL/ DISPENSED CLAIMS) \n",
    "    \n",
    "  Abandonment Flag: \n",
    "1. Patient ID + Rx Num + Fill Number + NDC  is the unique script \n",
    "2. Look for the Latest Reversed Claim and the Latest Paid claim\n",
    "3. If the Latest Reversal date >= Latest Paid claim then \n",
    "\n",
    "\n",
    "Step 1: Considering Same Day Reversal (most of the cases this holds true) - Paid: Gave approval/ Abandonment Flag \n"
   ]
  },
  {
   "cell_type": "markdown",
   "metadata": {},
   "source": [
    "## Step 1"
   ]
  },
  {
   "cell_type": "code",
   "execution_count": 18,
   "metadata": {
    "ExecuteTime": {
     "end_time": "2019-03-28T18:15:38.461049Z",
     "start_time": "2019-03-28T18:15:23.308738Z"
    }
   },
   "outputs": [
    {
     "name": "stdout",
     "output_type": "stream",
     "text": [
      "Query started at 02:15:23 PM Eastern Daylight Time; Query executed in 0.03 mQuery started at 02:15:25 PM Eastern Daylight Time; Query executed in 0.22 m"
     ]
    },
    {
     "data": {
      "text/html": [
       "<div>\n",
       "<style scoped>\n",
       "    .dataframe tbody tr th:only-of-type {\n",
       "        vertical-align: middle;\n",
       "    }\n",
       "\n",
       "    .dataframe tbody tr th {\n",
       "        vertical-align: top;\n",
       "    }\n",
       "\n",
       "    .dataframe thead th {\n",
       "        text-align: right;\n",
       "    }\n",
       "</style>\n",
       "<table border=\"1\" class=\"dataframe\">\n",
       "  <thead>\n",
       "    <tr style=\"text-align: right;\">\n",
       "      <th></th>\n",
       "      <th>status</th>\n",
       "    </tr>\n",
       "  </thead>\n",
       "  <tbody>\n",
       "    <tr>\n",
       "      <th>0</th>\n",
       "      <td>Table DC_RXDEDUP_LIFECYCLE_RX_V2 successfully ...</td>\n",
       "    </tr>\n",
       "  </tbody>\n",
       "</table>\n",
       "</div>"
      ],
      "text/plain": [
       "                                              status\n",
       "0  Table DC_RXDEDUP_LIFECYCLE_RX_V2 successfully ..."
      ]
     },
     "execution_count": 18,
     "metadata": {},
     "output_type": "execute_result"
    }
   ],
   "source": [
    "%%read_sql\n",
    "DROP TABLE IF EXISTS dc_rxdedup_lifecycle_Rx_v2;\n",
    "CREATE TRANSIENT TABLE dc_rxdedup_lifecycle_Rx_v2 AS\n",
    "WITH aban_t1 \n",
    "     AS (SELECT *, \n",
    "                Row_number () \n",
    "                  OVER ( \n",
    "                    partition BY non_abn_patient_id, ndc, prescription_or_service_reference_number, fill_number\n",
    "                    ORDER BY date_of_service DESC) AS Final_Reversal \n",
    "         FROM   dc_rxdedup_final \n",
    "         WHERE  transaction_code = 'B2' \n",
    "                AND response_code = 'A'), \n",
    "     paid_t1 \n",
    "     AS (SELECT *, \n",
    "                Row_number () \n",
    "                  OVER ( \n",
    "                    partition BY non_abn_patient_id, ndc, prescription_or_service_reference_number, fill_number\n",
    "                    ORDER BY date_of_service DESC) AS Final_Paid \n",
    "         FROM   dc_rxdedup_final \n",
    "         WHERE  response_code = 'P'), \n",
    "     abn_paid_t1 \n",
    "     AS (SELECT ab.*, \n",
    "                Datediff(day, ab.date_of_service, pd.date_of_service) AS DiffDate, \n",
    "                pd.date_of_service                                 AS paid_date_of_service, \n",
    "                pd.claim_id                                 AS paid_claim_id, \n",
    "                pd.response_code                                AS paid_response_code \n",
    "         FROM   aban_t1 ab \n",
    "                INNER JOIN paid_t1 pd \n",
    "                        ON ab.non_abn_patient_id = pd.non_abn_patient_id \n",
    "                           AND ab.ndc = pd.ndc \n",
    "                           AND ab.prescription_or_service_reference_number = pd.prescription_or_service_reference_number\n",
    "                           AND ab.fill_number = pd.fill_number \n",
    "                           AND ab.date_of_service = pd.date_of_service), \n",
    "     sameday_reverse_paidt1 \n",
    "     AS (SELECT non_abn_patient_id, \n",
    "                ndc, \n",
    "                prescription_or_service_reference_number, \n",
    "                fill_number, \n",
    "                paid_claim_id, \n",
    "                paid_response_code, \n",
    "                paid_date_of_service, \n",
    "                CASE \n",
    "                  WHEN diffdate = 0 THEN 'Approved' \n",
    "                END AS Modified_Response_cod \n",
    "         FROM   abn_paid_t1 \n",
    "         WHERE  paid_response_code = 'P' \n",
    "         UNION \n",
    "         SELECT non_abn_patient_id, \n",
    "                ndc, \n",
    "                prescription_or_service_reference_number, \n",
    "                fill_number, \n",
    "                claim_id, \n",
    "                response_code, \n",
    "                date_of_service, \n",
    "                CASE \n",
    "                  WHEN diffdate = 0 THEN 'Abandoned' \n",
    "                END AS Modified_Response_cod \n",
    "         FROM   abn_paid_t1 \n",
    "         WHERE  response_code = 'A'), \n",
    "     only_paidt1 \n",
    "     AS (SELECT pd.*, \n",
    "                Datediff(day, ab.date_of_service, pd.date_of_service) AS DiffDate, \n",
    "                pd.date_of_service                                 AS paid_date_of_service, \n",
    "                'Dispensed'                                     AS Modified_Response_cod \n",
    "         FROM   paid_t1 pd \n",
    "                LEFT JOIN aban_t1 ab \n",
    "                       ON ab.non_abn_patient_id = pd.non_abn_patient_id \n",
    "                          AND ab.ndc = pd.ndc \n",
    "                          AND ab.prescription_or_service_reference_number = pd.prescription_or_service_reference_number\n",
    "                          AND ab.fill_number = pd.fill_number \n",
    "         WHERE  ab.non_abn_patient_id IS NULL) SELECT paid_claim_id, \n",
    "       modified_response_cod \n",
    "FROM   sameday_reverse_paidt1 \n",
    "UNION \n",
    "SELECT claim_id, \n",
    "       modified_response_cod \n",
    "FROM   only_paidt1; "
   ]
  },
  {
   "cell_type": "markdown",
   "metadata": {},
   "source": [
    "## Step 2 \n",
    "The same day reversal rule covers 98% of the records and for the remaining claim the following rule is applied  \n"
   ]
  },
  {
   "cell_type": "code",
   "execution_count": 19,
   "metadata": {
    "ExecuteTime": {
     "end_time": "2019-03-28T18:15:47.987266Z",
     "start_time": "2019-03-28T18:15:38.461049Z"
    }
   },
   "outputs": [
    {
     "name": "stdout",
     "output_type": "stream",
     "text": [
      "Query started at 02:15:38 PM Eastern Daylight Time; Query executed in 0.03 mQuery started at 02:15:40 PM Eastern Daylight Time; Query executed in 0.13 m"
     ]
    },
    {
     "data": {
      "text/html": [
       "<div>\n",
       "<style scoped>\n",
       "    .dataframe tbody tr th:only-of-type {\n",
       "        vertical-align: middle;\n",
       "    }\n",
       "\n",
       "    .dataframe tbody tr th {\n",
       "        vertical-align: top;\n",
       "    }\n",
       "\n",
       "    .dataframe thead th {\n",
       "        text-align: right;\n",
       "    }\n",
       "</style>\n",
       "<table border=\"1\" class=\"dataframe\">\n",
       "  <thead>\n",
       "    <tr style=\"text-align: right;\">\n",
       "      <th></th>\n",
       "      <th>status</th>\n",
       "    </tr>\n",
       "  </thead>\n",
       "  <tbody>\n",
       "    <tr>\n",
       "      <th>0</th>\n",
       "      <td>Table DC_RXDEDUP_LIFECYCLE_RX_V3 successfully ...</td>\n",
       "    </tr>\n",
       "  </tbody>\n",
       "</table>\n",
       "</div>"
      ],
      "text/plain": [
       "                                              status\n",
       "0  Table DC_RXDEDUP_LIFECYCLE_RX_V3 successfully ..."
      ]
     },
     "execution_count": 19,
     "metadata": {},
     "output_type": "execute_result"
    }
   ],
   "source": [
    "%%read_sql\n",
    "DROP TABLE IF EXISTS dc_rxdedup_lifecycle_Rx_v3;\n",
    "CREATE TRANSIENT TABLE dc_rxdedup_lifecycle_Rx_v3 AS\n",
    "WITH exclusion_recordst1 \n",
    "     AS (SELECT * \n",
    "         FROM   dc_rxdedup_final a \n",
    "                LEFT JOIN dc_rxdedup_lifecycle_rx_v2 exc \n",
    "                       ON a.claim_id = exc.paid_claim_id \n",
    "         WHERE  exc.paid_claim_id IS NULL \n",
    "                AND a.response_code <> 'R'), \n",
    "     latest_record_t1 \n",
    "     AS (SELECT *, \n",
    "                Dense_rank () \n",
    "                  OVER ( \n",
    "                    partition BY non_abn_patient_id, ndc, prescription_or_service_reference_number, fill_number\n",
    "                    ORDER BY date_of_service DESC) AS Final_Event \n",
    "         FROM   exclusion_recordst1), \n",
    "     latest_record_t2 \n",
    "     AS (SELECT DISTINCT a.claim_id, \n",
    "                         a.response_code \n",
    "         FROM   latest_record_t1 a \n",
    "         WHERE  final_event = 1) SELECT claim_id, \n",
    "       CASE \n",
    "         WHEN response_code = 'P' THEN 'Dispensed' \n",
    "         WHEN response_code = 'A' THEN 'Abandoned' \n",
    "       END AS Modified_Response_cod \n",
    "FROM   latest_record_t2 \n",
    "UNION ALL \n",
    "SELECT claim_id, \n",
    "       'Rejected' AS Modified_Response_cod \n",
    "FROM   dc_rxdedup_final \n",
    "WHERE  response_code = 'R'; "
   ]
  },
  {
   "cell_type": "markdown",
   "metadata": {},
   "source": [
    "## Step 3\n",
    "Intermediate Transcation status Mapped Table\n"
   ]
  },
  {
   "cell_type": "code",
   "execution_count": 20,
   "metadata": {
    "ExecuteTime": {
     "end_time": "2019-03-28T18:15:54.711340Z",
     "start_time": "2019-03-28T18:15:47.987266Z"
    }
   },
   "outputs": [
    {
     "name": "stdout",
     "output_type": "stream",
     "text": [
      "Query started at 02:15:47 PM Eastern Daylight Time; Query executed in 0.03 mQuery started at 02:15:49 PM Eastern Daylight Time; Query executed in 0.09 m"
     ]
    },
    {
     "data": {
      "text/html": [
       "<div>\n",
       "<style scoped>\n",
       "    .dataframe tbody tr th:only-of-type {\n",
       "        vertical-align: middle;\n",
       "    }\n",
       "\n",
       "    .dataframe tbody tr th {\n",
       "        vertical-align: top;\n",
       "    }\n",
       "\n",
       "    .dataframe thead th {\n",
       "        text-align: right;\n",
       "    }\n",
       "</style>\n",
       "<table border=\"1\" class=\"dataframe\">\n",
       "  <thead>\n",
       "    <tr style=\"text-align: right;\">\n",
       "      <th></th>\n",
       "      <th>status</th>\n",
       "    </tr>\n",
       "  </thead>\n",
       "  <tbody>\n",
       "    <tr>\n",
       "      <th>0</th>\n",
       "      <td>Table DC_RXDEDUP_LIFECYCLE_RX_V4 successfully ...</td>\n",
       "    </tr>\n",
       "  </tbody>\n",
       "</table>\n",
       "</div>"
      ],
      "text/plain": [
       "                                              status\n",
       "0  Table DC_RXDEDUP_LIFECYCLE_RX_V4 successfully ..."
      ]
     },
     "execution_count": 20,
     "metadata": {},
     "output_type": "execute_result"
    }
   ],
   "source": [
    "%%read_sql\n",
    "DROP TABLE IF EXISTS dc_rxdedup_lifecycle_Rx_v4;\n",
    "CREATE TRANSIENT TABLE dc_rxdedup_lifecycle_Rx_v4 AS\n",
    "    SELECT * \n",
    "    FROM   dc_rxdedup_lifecycle_rx_v2 \n",
    "    UNION \n",
    "    SELECT * \n",
    "    FROM   dc_rxdedup_lifecycle_rx_v3; \n"
   ]
  },
  {
   "cell_type": "markdown",
   "metadata": {},
   "source": [
    "## Step 4\n",
    "Adding the Modified Response codes to the Base Rx Table "
   ]
  },
  {
   "cell_type": "code",
   "execution_count": 21,
   "metadata": {
    "ExecuteTime": {
     "end_time": "2019-03-28T18:16:13.720715Z",
     "start_time": "2019-03-28T18:15:54.711340Z"
    }
   },
   "outputs": [
    {
     "name": "stdout",
     "output_type": "stream",
     "text": [
      "Query started at 02:15:54 PM Eastern Daylight Time; Query executed in 0.03 mQuery started at 02:15:56 PM Eastern Daylight Time; Query executed in 0.29 m"
     ]
    },
    {
     "data": {
      "text/html": [
       "<div>\n",
       "<style scoped>\n",
       "    .dataframe tbody tr th:only-of-type {\n",
       "        vertical-align: middle;\n",
       "    }\n",
       "\n",
       "    .dataframe tbody tr th {\n",
       "        vertical-align: top;\n",
       "    }\n",
       "\n",
       "    .dataframe thead th {\n",
       "        text-align: right;\n",
       "    }\n",
       "</style>\n",
       "<table border=\"1\" class=\"dataframe\">\n",
       "  <thead>\n",
       "    <tr style=\"text-align: right;\">\n",
       "      <th></th>\n",
       "      <th>status</th>\n",
       "    </tr>\n",
       "  </thead>\n",
       "  <tbody>\n",
       "    <tr>\n",
       "      <th>0</th>\n",
       "      <td>Table DC_RXDEDUP_LIFECYCLE_RX_V5 successfully ...</td>\n",
       "    </tr>\n",
       "  </tbody>\n",
       "</table>\n",
       "</div>"
      ],
      "text/plain": [
       "                                              status\n",
       "0  Table DC_RXDEDUP_LIFECYCLE_RX_V5 successfully ..."
      ]
     },
     "execution_count": 21,
     "metadata": {},
     "output_type": "execute_result"
    }
   ],
   "source": [
    "%%read_sql\n",
    "DROP TABLE IF EXISTS dc_rxdedup_lifecycle_Rx_v5;\n",
    "CREATE TRANSIENT TABLE dc_rxdedup_lifecycle_Rx_v5 AS\n",
    "SELECT DISTINCT a.*, \n",
    "                CASE \n",
    "                  WHEN b.modified_response_cod IS NULL \n",
    "                       AND ( response_code = 'A' \n",
    "                             AND transaction_code = 'B2' ) THEN 'Abandoned' \n",
    "                  ELSE b.modified_response_cod \n",
    "                END AS Modified_Response_cod \n",
    "FROM   dc_rxdedup_final a \n",
    "       LEFT JOIN dc_rxdedup_lifecycle_rx_v4 b \n",
    "              ON a.claim_id = b.paid_claim_id; \n"
   ]
  },
  {
   "cell_type": "markdown",
   "metadata": {},
   "source": [
    "## Step 5\n",
    "To address the situations wherein the reversed claims are paid on the same day.\n",
    "\n",
    "The assumption is that, the abandonment to approval ratio shoule be 1:1, i.e, for an abandoned claims there would be paid claim (from payer) and respective reversal from pharmacy. \n",
    "\n",
    "So, if we do see more paid claims than the reversal, then the last transaction is assumed to be a dispensed eventhough we see reversal and approval (paid from payer) on the same day. \n",
    "\n",
    "For such instances, the latestet transaction is identified as the one with latest date/ time autorized at uniqe script payer/ channel level\n",
    "\n",
    "Last TRANSACTION for Rx Number + Fill number combination\n",
    "\n"
   ]
  },
  {
   "cell_type": "code",
   "execution_count": 22,
   "metadata": {
    "ExecuteTime": {
     "end_time": "2019-03-28T18:16:29.255569Z",
     "start_time": "2019-03-28T18:16:13.725715Z"
    }
   },
   "outputs": [
    {
     "name": "stdout",
     "output_type": "stream",
     "text": [
      "Query started at 02:16:13 PM Eastern Daylight Time; Query executed in 0.03 mQuery started at 02:16:15 PM Eastern Daylight Time; Query executed in 0.23 m"
     ]
    },
    {
     "data": {
      "text/html": [
       "<div>\n",
       "<style scoped>\n",
       "    .dataframe tbody tr th:only-of-type {\n",
       "        vertical-align: middle;\n",
       "    }\n",
       "\n",
       "    .dataframe tbody tr th {\n",
       "        vertical-align: top;\n",
       "    }\n",
       "\n",
       "    .dataframe thead th {\n",
       "        text-align: right;\n",
       "    }\n",
       "</style>\n",
       "<table border=\"1\" class=\"dataframe\">\n",
       "  <thead>\n",
       "    <tr style=\"text-align: right;\">\n",
       "      <th></th>\n",
       "      <th>status</th>\n",
       "    </tr>\n",
       "  </thead>\n",
       "  <tbody>\n",
       "    <tr>\n",
       "      <th>0</th>\n",
       "      <td>Table DC_RXDEDUP_LIFECYCLE_RX_V6 successfully ...</td>\n",
       "    </tr>\n",
       "  </tbody>\n",
       "</table>\n",
       "</div>"
      ],
      "text/plain": [
       "                                              status\n",
       "0  Table DC_RXDEDUP_LIFECYCLE_RX_V6 successfully ..."
      ]
     },
     "execution_count": 22,
     "metadata": {},
     "output_type": "execute_result"
    }
   ],
   "source": [
    "%%read_sql\n",
    "DROP TABLE IF EXISTS dc_rxdedup_lifecycle_Rx_v6;\n",
    "CREATE TRANSIENT TABLE dc_rxdedup_lifecycle_Rx_v6 AS\n",
    "WITH aban_t1 \n",
    "     AS (SELECT *, \n",
    "                Dense_rank () \n",
    "                  OVER ( \n",
    "                    partition BY non_abn_patient_id, ndc, prescription_or_service_reference_number, fill_number\n",
    "                    ORDER BY date_of_service DESC) AS Final_transaction \n",
    "         FROM   dc_rxdedup_final \n",
    "         WHERE  ( transaction_code = 'B2' \n",
    "                  AND response_code = 'A' ) \n",
    "                 OR response_code = 'P'), \n",
    "     final_transactiont1 \n",
    "     AS (SELECT DISTINCT ab.claim_id, \n",
    "                         ab.non_abn_patient_id, \n",
    "                         ab.prescription_or_service_reference_number, \n",
    "                         ab.fill_number, \n",
    "                         ab.date_of_service, \n",
    "                         ab.response_code, \n",
    "                         ab.transaction_code, \n",
    "                         ab.ndc \n",
    "         FROM   aban_t1 ab \n",
    "         WHERE  final_transaction = 1), \n",
    "     abandonment_check_t1 \n",
    "     AS (SELECT ab.non_abn_patient_id, \n",
    "                ab.prescription_or_service_reference_number, \n",
    "                ab.fill_number, \n",
    "                ab.date_of_service, \n",
    "                ab.ndc, \n",
    "                Count (DISTINCT CASE \n",
    "                                  WHEN ab.response_code = 'A' THEN claim_id \n",
    "                                END) AS Abandonment_claims, \n",
    "                Count (DISTINCT CASE \n",
    "                                  WHEN ab.response_code = 'P' THEN claim_id \n",
    "                                END) AS Paid_claims \n",
    "         FROM   final_transactiont1 ab \n",
    "         GROUP  BY ab.non_abn_patient_id, \n",
    "                   ab.prescription_or_service_reference_number, \n",
    "                   ab.fill_number, \n",
    "                   ab.date_of_service, \n",
    "                   ab.ndc), \n",
    "     morepaidvsabnt1 \n",
    "     AS (SELECT *, \n",
    "                CASE \n",
    "                  WHEN paid_claims > abandonment_claims THEN 'Dispensed' \n",
    "                END AS Dispense_Abandonment_Flag \n",
    "         FROM   abandonment_check_t1 \n",
    "         WHERE  paid_claims > abandonment_claims), \n",
    "     morepaidvsabnt1_finaltransctiont1 \n",
    "     AS (SELECT cl.non_abn_patient_id, \n",
    "                claim_id, \n",
    "                cl.date_of_service, \n",
    "                cl.prescription_or_service_reference_number, \n",
    "                cl.ndc, \n",
    "                cl.fill_number, \n",
    "                days_supply, \n",
    "                response_code, \n",
    "                transaction_code, \n",
    "                gross_amount_due_submitted, \n",
    "                patient_pay_amount, \n",
    "                cl.total_amount_paid, \n",
    "                --cl.insurance_type, \n",
    "                --cl.coverage_type, \n",
    "                cl.modified_response_cod, \n",
    "                dispense_abandonment_flag, \n",
    "                --cl.timestamp, \n",
    "                Row_number () \n",
    "                  OVER ( \n",
    "                    partition BY cl.non_abn_patient_id, cl.prescription_or_service_reference_number\n",
    "                  , cl.ndc, cl.fill_number, \n",
    "                  cl.date_of_service--, --cl.coverage_type --cl.insurance_type \n",
    "                    ORDER BY cl.date_authorized, cl.time_authorized DESC) AS Final_transaction_rnk\n",
    "         FROM   dc_rxdedup_lifecycle_rx_v5 cl \n",
    "                INNER JOIN morepaidvsabnt1 ab \n",
    "                        ON ab.non_abn_patient_id = cl.non_abn_patient_id \n",
    "                           AND ab.ndc = cl.ndc \n",
    "                           AND ab.prescription_or_service_reference_number = cl.prescription_or_service_reference_number\n",
    "                           AND ab.fill_number = cl.fill_number \n",
    "                           AND ab.date_of_service = cl.date_of_service \n",
    "         WHERE  cl.response_code = 'P' \n",
    "                AND dispense_abandonment_flag <> modified_response_cod) \n",
    "SELECT * \n",
    "FROM   morepaidvsabnt1_finaltransctiont1 \n",
    "WHERE  final_transaction_rnk = 1; "
   ]
  },
  {
   "cell_type": "markdown",
   "metadata": {},
   "source": [
    "## Step 6\n",
    "Adding the modified response_code from the v6 table "
   ]
  },
  {
   "cell_type": "code",
   "execution_count": 23,
   "metadata": {
    "ExecuteTime": {
     "end_time": "2019-03-28T18:16:56.187107Z",
     "start_time": "2019-03-28T18:16:29.260569Z"
    }
   },
   "outputs": [
    {
     "name": "stdout",
     "output_type": "stream",
     "text": [
      "Query started at 02:16:29 PM Eastern Daylight Time; Query executed in 0.04 mQuery started at 02:16:31 PM Eastern Daylight Time; Query executed in 0.41 m"
     ]
    },
    {
     "data": {
      "text/html": [
       "<div>\n",
       "<style scoped>\n",
       "    .dataframe tbody tr th:only-of-type {\n",
       "        vertical-align: middle;\n",
       "    }\n",
       "\n",
       "    .dataframe tbody tr th {\n",
       "        vertical-align: top;\n",
       "    }\n",
       "\n",
       "    .dataframe thead th {\n",
       "        text-align: right;\n",
       "    }\n",
       "</style>\n",
       "<table border=\"1\" class=\"dataframe\">\n",
       "  <thead>\n",
       "    <tr style=\"text-align: right;\">\n",
       "      <th></th>\n",
       "      <th>status</th>\n",
       "    </tr>\n",
       "  </thead>\n",
       "  <tbody>\n",
       "    <tr>\n",
       "      <th>0</th>\n",
       "      <td>Table DC_RXDEDUP_LIFECYCLE_RX_V7 successfully ...</td>\n",
       "    </tr>\n",
       "  </tbody>\n",
       "</table>\n",
       "</div>"
      ],
      "text/plain": [
       "                                              status\n",
       "0  Table DC_RXDEDUP_LIFECYCLE_RX_V7 successfully ..."
      ]
     },
     "execution_count": 23,
     "metadata": {},
     "output_type": "execute_result"
    }
   ],
   "source": [
    "%%read_sql\n",
    "DROP TABLE IF EXISTS dc_rxdedup_lifecycle_Rx_v7;\n",
    "CREATE TRANSIENT TABLE dc_rxdedup_lifecycle_Rx_v7 AS\n",
    "SELECT DISTINCT cl.*, \n",
    "                CASE \n",
    "                  WHEN rx.dispense_abandonment_flag IS NOT NULL THEN rx.dispense_abandonment_flag \n",
    "                  ELSE cl.modified_response_cod \n",
    "                END AS Final_RESPONSE_CODE \n",
    "FROM   dc_rxdedup_lifecycle_rx_v5 cl \n",
    "       LEFT JOIN dc_rxdedup_lifecycle_rx_v6 rx \n",
    "              ON cl.claim_id = rx.claim_id; "
   ]
  },
  {
   "cell_type": "markdown",
   "metadata": {},
   "source": [
    "## Step 7\n",
    "Adding sequence Numbers to the transaction (to track the sequence of events)"
   ]
  },
  {
   "cell_type": "code",
   "execution_count": 24,
   "metadata": {
    "ExecuteTime": {
     "end_time": "2019-03-28T18:17:10.975320Z",
     "start_time": "2019-03-28T18:16:56.187107Z"
    }
   },
   "outputs": [
    {
     "name": "stdout",
     "output_type": "stream",
     "text": [
      "Query started at 02:16:56 PM Eastern Daylight Time; Query executed in 0.04 mQuery started at 02:16:58 PM Eastern Daylight Time; Query executed in 0.21 m"
     ]
    },
    {
     "data": {
      "text/html": [
       "<div>\n",
       "<style scoped>\n",
       "    .dataframe tbody tr th:only-of-type {\n",
       "        vertical-align: middle;\n",
       "    }\n",
       "\n",
       "    .dataframe tbody tr th {\n",
       "        vertical-align: top;\n",
       "    }\n",
       "\n",
       "    .dataframe thead th {\n",
       "        text-align: right;\n",
       "    }\n",
       "</style>\n",
       "<table border=\"1\" class=\"dataframe\">\n",
       "  <thead>\n",
       "    <tr style=\"text-align: right;\">\n",
       "      <th></th>\n",
       "      <th>status</th>\n",
       "    </tr>\n",
       "  </thead>\n",
       "  <tbody>\n",
       "    <tr>\n",
       "      <th>0</th>\n",
       "      <td>Table DC_RXDEDUP_LIFECYCLE_RX_V8 successfully ...</td>\n",
       "    </tr>\n",
       "  </tbody>\n",
       "</table>\n",
       "</div>"
      ],
      "text/plain": [
       "                                              status\n",
       "0  Table DC_RXDEDUP_LIFECYCLE_RX_V8 successfully ..."
      ]
     },
     "execution_count": 24,
     "metadata": {},
     "output_type": "execute_result"
    }
   ],
   "source": [
    "%%read_sql\n",
    "\n",
    "DROP TABLE IF EXISTS dc_rxdedup_lifecycle_Rx_v8;\n",
    "CREATE TRANSIENT TABLE dc_rxdedup_lifecycle_Rx_v8 AS\n",
    "WITH scriptidt1 \n",
    "     AS (SELECT *, \n",
    "                CASE \n",
    "                  WHEN final_response_code = 'Dispensed' THEN 4 \n",
    "                  WHEN final_response_code = 'Abandoned' THEN 3 \n",
    "                  WHEN final_response_code = 'Approved' THEN 2 \n",
    "                  WHEN final_response_code = 'Rejected' THEN 1 \n",
    "                END AS Event_Score \n",
    "         FROM   dc_rxdedup_lifecycle_rx_v7 cl \n",
    "         WHERE  final_response_code IS NOT NULL \n",
    "                AND script_id IS NOT NULL) \n",
    "SELECT DISTINCT *, \n",
    "                Dense_rank () \n",
    "                  OVER ( \n",
    "                    partition BY non_abn_patient_id, ndc \n",
    "                    ORDER BY date_of_service ASC, script_id ASC, event_score ASC) AS Transcation_Sequence_Number,\n",
    "                Dense_rank () \n",
    "                  OVER ( \n",
    "                    partition BY non_abn_patient_id \n",
    "                    ORDER BY date_of_service ASC)                                        AS Event_Sequence_Number\n",
    "FROM   scriptidt1; \n"
   ]
  },
  {
   "cell_type": "markdown",
   "metadata": {},
   "source": [
    "# Create final table\n",
    "FINAL Refined Rx table for the LoT analysis \n",
    "1. Dispensed claims only\n",
    "2. Taking one record/ prescription = uniquescript_id - ranking is done to consider only one payer involved\n"
   ]
  },
  {
   "cell_type": "code",
   "execution_count": 25,
   "metadata": {
    "ExecuteTime": {
     "end_time": "2019-03-28T18:17:35.738066Z",
     "start_time": "2019-03-28T18:17:10.975320Z"
    },
    "scrolled": true
   },
   "outputs": [
    {
     "name": "stdout",
     "output_type": "stream",
     "text": [
      "Query started at 02:17:10 PM Eastern Daylight Time; Query executed in 0.05 mQuery started at 02:17:14 PM Eastern Daylight Time; Query executed in 0.21 mQuery started at 02:17:26 PM Eastern Daylight Time; Query executed in 0.08 mQuery started at 02:17:31 PM Eastern Daylight Time; Query executed in 0.03 mQuery started at 02:17:33 PM Eastern Daylight Time; Query executed in 0.04 m"
     ]
    },
    {
     "data": {
      "text/html": [
       "<div>\n",
       "<style scoped>\n",
       "    .dataframe tbody tr th:only-of-type {\n",
       "        vertical-align: middle;\n",
       "    }\n",
       "\n",
       "    .dataframe tbody tr th {\n",
       "        vertical-align: top;\n",
       "    }\n",
       "\n",
       "    .dataframe thead th {\n",
       "        text-align: right;\n",
       "    }\n",
       "</style>\n",
       "<table border=\"1\" class=\"dataframe\">\n",
       "  <thead>\n",
       "    <tr style=\"text-align: right;\">\n",
       "      <th></th>\n",
       "      <th>status</th>\n",
       "    </tr>\n",
       "  </thead>\n",
       "  <tbody>\n",
       "    <tr>\n",
       "      <th>0</th>\n",
       "      <td>Statement executed successfully.</td>\n",
       "    </tr>\n",
       "  </tbody>\n",
       "</table>\n",
       "</div>"
      ],
      "text/plain": [
       "                             status\n",
       "0  Statement executed successfully."
      ]
     },
     "execution_count": 25,
     "metadata": {},
     "output_type": "execute_result"
    }
   ],
   "source": [
    "%%read_sql\n",
    "DROP TABLE IF EXISTS dc_rxdedup_final;\n",
    "CREATE TRANSIENT TABLE dc_rxdedup_final AS\n",
    "WITH t1 AS (SELECT * \n",
    "              FROM dc_rxdedup_lifecycle_rx_v8 \n",
    "             WHERE final_response_code = 'Dispensed' ) , \n",
    "t2 AS (SELECT   * , \n",
    "                row_number () OVER (partition BY script_id ORDER BY \n",
    "                CASE \n",
    "                  WHEN insurance_type= 'Medicare' THEN 6 \n",
    "                  WHEN insurance_type= 'Medicaid' THEN 5 \n",
    "                  WHEN insurance_type= 'Commercial' THEN 4 \n",
    "                  WHEN insurance_type= 'VA / Other' THEN 3 \n",
    "                  WHEN insurance_type ilike '%Other Plan Type%' THEN 2 \n",
    "                  WHEN insurance_type = 'None' THEN 1 \n",
    "                END DESC , total_amount_paid DESC ) AS rnk \n",
    "             FROM     t1 ) \n",
    "    SELECT * \n",
    "    FROM   t2 \n",
    "    WHERE  rnk = 1;\n",
    "    \n",
    "BEGIN;\n",
    "ALTER TABLE dc_rxdedup_final RENAME COLUMN non_abn_patient_id TO patient_id;\n",
    "COMMIT;"
   ]
  },
  {
   "cell_type": "code",
   "execution_count": 26,
   "metadata": {
    "ExecuteTime": {
     "end_time": "2019-03-28T18:17:40.630555Z",
     "start_time": "2019-03-28T18:17:35.742066Z"
    }
   },
   "outputs": [
    {
     "name": "stdout",
     "output_type": "stream",
     "text": [
      "Query started at 02:17:35 PM Eastern Daylight Time; Query executed in 0.08 m"
     ]
    },
    {
     "data": {
      "text/html": [
       "<div>\n",
       "<style scoped>\n",
       "    .dataframe tbody tr th:only-of-type {\n",
       "        vertical-align: middle;\n",
       "    }\n",
       "\n",
       "    .dataframe tbody tr th {\n",
       "        vertical-align: top;\n",
       "    }\n",
       "\n",
       "    .dataframe thead th {\n",
       "        text-align: right;\n",
       "    }\n",
       "</style>\n",
       "<table border=\"1\" class=\"dataframe\">\n",
       "  <thead>\n",
       "    <tr style=\"text-align: right;\">\n",
       "      <th></th>\n",
       "      <th>row_cnt</th>\n",
       "      <th>pt_cnt</th>\n",
       "    </tr>\n",
       "  </thead>\n",
       "  <tbody>\n",
       "    <tr>\n",
       "      <th>0</th>\n",
       "      <td>12120273</td>\n",
       "      <td>121006</td>\n",
       "    </tr>\n",
       "  </tbody>\n",
       "</table>\n",
       "</div>"
      ],
      "text/plain": [
       "    row_cnt  pt_cnt\n",
       "0  12120273  121006"
      ]
     },
     "execution_count": 26,
     "metadata": {},
     "output_type": "execute_result"
    }
   ],
   "source": [
    "%%read_sql\n",
    "--Review final counts\n",
    "SELECT Count(*) AS row_cnt,\n",
    "       Count(DISTINCT patient_id) AS pt_cnt\n",
    "FROM   dc_rxdedup_final;"
   ]
  },
  {
   "cell_type": "markdown",
   "metadata": {},
   "source": [
    "# Drop Tables\n",
    "Drop intermediate tables"
   ]
  },
  {
   "cell_type": "code",
   "execution_count": 27,
   "metadata": {
    "ExecuteTime": {
     "end_time": "2019-03-28T18:18:20.696561Z",
     "start_time": "2019-03-28T18:17:40.633555Z"
    }
   },
   "outputs": [
    {
     "name": "stdout",
     "output_type": "stream",
     "text": [
      "Query started at 02:17:40 PM Eastern Daylight Time; Query executed in 0.03 mQuery started at 02:17:42 PM Eastern Daylight Time; Query executed in 0.03 mQuery started at 02:17:44 PM Eastern Daylight Time; Query executed in 0.03 mQuery started at 02:17:45 PM Eastern Daylight Time; Query executed in 0.03 mQuery started at 02:17:47 PM Eastern Daylight Time; Query executed in 0.03 mQuery started at 02:17:49 PM Eastern Daylight Time; Query executed in 0.03 mQuery started at 02:17:51 PM Eastern Daylight Time; Query executed in 0.03 mQuery started at 02:17:53 PM Eastern Daylight Time; Query executed in 0.12 mQuery started at 02:18:00 PM Eastern Daylight Time; Query executed in 0.03 mQuery started at 02:18:02 PM Eastern Daylight Time; Query executed in 0.05 mQuery started at 02:18:05 PM Eastern Daylight Time; Query executed in 0.04 mQuery started at 02:18:07 PM Eastern Daylight Time; Query executed in 0.03 mQuery started at 02:18:09 PM Eastern Daylight Time; Query executed in 0.03 mQuery started at 02:18:11 PM Eastern Daylight Time; Query executed in 0.03 mQuery started at 02:18:13 PM Eastern Daylight Time; Query executed in 0.04 mQuery started at 02:18:15 PM Eastern Daylight Time; Query executed in 0.04 mQuery started at 02:18:18 PM Eastern Daylight Time; Query executed in 0.04 m"
     ]
    },
    {
     "data": {
      "text/html": [
       "<div>\n",
       "<style scoped>\n",
       "    .dataframe tbody tr th:only-of-type {\n",
       "        vertical-align: middle;\n",
       "    }\n",
       "\n",
       "    .dataframe tbody tr th {\n",
       "        vertical-align: top;\n",
       "    }\n",
       "\n",
       "    .dataframe thead th {\n",
       "        text-align: right;\n",
       "    }\n",
       "</style>\n",
       "<table border=\"1\" class=\"dataframe\">\n",
       "  <thead>\n",
       "    <tr style=\"text-align: right;\">\n",
       "      <th></th>\n",
       "      <th>status</th>\n",
       "    </tr>\n",
       "  </thead>\n",
       "  <tbody>\n",
       "    <tr>\n",
       "      <th>0</th>\n",
       "      <td>DC_RXDEDUP_RX_NONABAN_ABN_MAPPING_3 successful...</td>\n",
       "    </tr>\n",
       "  </tbody>\n",
       "</table>\n",
       "</div>"
      ],
      "text/plain": [
       "                                              status\n",
       "0  DC_RXDEDUP_RX_NONABAN_ABN_MAPPING_3 successful..."
      ]
     },
     "execution_count": 27,
     "metadata": {},
     "output_type": "execute_result"
    }
   ],
   "source": [
    "%%read_sql\n",
    "DROP TABLE IF EXISTS dc_rxdedup_final_rx;\n",
    "DROP TABLE IF EXISTS dc_rxdedup_lifecycle_rx_v2;\n",
    "DROP TABLE IF EXISTS dc_rxdedup_lifecycle_rx_v3;\n",
    "DROP TABLE IF EXISTS dc_rxdedup_lifecycle_rx_v4;\n",
    "DROP TABLE IF EXISTS dc_rxdedup_lifecycle_rx_v5;\n",
    "DROP TABLE IF EXISTS dc_rxdedup_lifecycle_rx_v6;\n",
    "DROP TABLE IF EXISTS dc_rxdedup_lifecycle_rx_v7;\n",
    "DROP TABLE IF EXISTS dc_rxdedup_lifecycle_rx_v8;\n",
    "DROP TABLE IF EXISTS dc_rxdedup_rx_aban_01;\n",
    "DROP TABLE IF EXISTS dc_rxdedup_rx_final_01;\n",
    "DROP TABLE IF EXISTS dc_rxdedup_rx_master;\n",
    "DROP TABLE IF EXISTS dc_rxdedup_rx_nonaban_01;\n",
    "DROP TABLE IF EXISTS dc_rxdedup_rx_nonaban_abn_mapping;\n",
    "DROP TABLE IF EXISTS dc_rxdedup_rx_nonaban_abn_mapping_01;\n",
    "DROP TABLE IF EXISTS dc_rxdedup_rx_nonaban_abn_mapping_1;\n",
    "DROP TABLE IF EXISTS dc_rxdedup_rx_nonaban_abn_mapping_2;\n",
    "DROP TABLE IF EXISTS dc_rxdedup_rx_nonaban_abn_mapping_3;\n"
   ]
  }
 ],
 "metadata": {
  "kernelspec": {
   "display_name": "Python 3",
   "language": "python",
   "name": "python3"
  },
  "language_info": {
   "codemirror_mode": {
    "name": "ipython",
    "version": 3
   },
   "file_extension": ".py",
   "mimetype": "text/x-python",
   "name": "python",
   "nbconvert_exporter": "python",
   "pygments_lexer": "ipython3",
   "version": "3.7.3"
  },
  "toc": {
   "nav_menu": {},
   "number_sections": true,
   "sideBar": true,
   "skip_h1_title": false,
   "title_cell": "Table of Contents",
   "title_sidebar": "Contents",
   "toc_cell": false,
   "toc_position": {
    "height": "calc(100% - 180px)",
    "left": "10px",
    "top": "150px",
    "width": "487px"
   },
   "toc_section_display": true,
   "toc_window_display": true
  }
 },
 "nbformat": 4,
 "nbformat_minor": 2
}
