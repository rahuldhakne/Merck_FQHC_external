{
 "cells": [
  {
   "cell_type": "markdown",
   "metadata": {},
   "source": [
    "# Insurance Medical\n",
    "Identification of payer per the OOPS team for raven medical submits.\n",
    "\n",
    "**Script**\n",
    "* [scripts/pld/insurance_medical.ipynb](./scripts/pld/insurance_medical.ipynb)\n",
    "\n",
    "**Prior Script(s)**\n",
    "* [scripts/cld/insurance_medical.ipynb](./scripts/cld/insurance_medical.ipynb)\n",
    "\n",
    "**Parameters**\n",
    "* `in/pld/medical_insurance.xlsx[param]`\n",
    "\n",
    "**Input**\n",
    "* `cld_med_ins`\n",
    "  \n",
    "**Output**\n",
    "* `cld_med_ins_pivot`\n",
    "\n",
    "**Review**\n",
    "* [scripts/pld/insurance_medical.html](./scripts/pld/insurance_medical.html)"
   ]
  },
  {
   "cell_type": "markdown",
   "metadata": {},
   "source": [
    "## Patrick requests\n",
    "Below are a few requests/questions that Patrick Cronin has for this project\n",
    "\n",
    "* What is the plan for maintaining the OOPS table (i.e.) what about penguin\n",
    "* A standard way to import the data was included\n",
    "* Move all reference tables to `RWD_REF.ANALYTICS`\n",
    "* Need to understand how the remits work\n",
    "* Where is the cleanup function (Omnya send Patrick script and he'll figure out how to)\n",
    "* rwd_db.rwd_reference_library.insurance_types replaced rwd_db.rwd_reference_library.plan_type_determination\n",
    "\n",
    "**Omnya To do**\n",
    "* Send patrick Cleanup function\n"
   ]
  },
  {
   "cell_type": "code",
   "execution_count": null,
   "metadata": {
    "ExecuteTime": {
     "end_time": "2019-03-28T14:45:17.033716Z",
     "start_time": "2019-03-28T14:45:16.115238Z"
    }
   },
   "outputs": [],
   "source": [
    "#Import libraries for this notebook\n",
    "import pandas as pd  \n",
    "from drg_connect import Snowflake\n",
    "import numpy as np\n",
    "import pickle\n",
    "from IPython.core.interactiveshell import InteractiveShell\n",
    "InteractiveShell.ast_node_interactivity = \"all\"\n",
    "\n",
    "#Load connection variables to connect_dict\n",
    "with open('../../out/conn/connect_dict.pickle', 'rb') as handle:\n",
    "    connect_dict = pickle.load(handle)\n",
    "\n",
    "#Create Eegine to connect to snowflake\n",
    "snow = Snowflake(role=connect_dict['role'],\n",
    "                 warehouse=connect_dict['warehouse'],\n",
    "                 database=connect_dict['database'],\n",
    "                 schema=connect_dict['schema'])\n",
    "\n",
    "#Finish engine setup\n",
    "engine = snow.engine\n",
    "%load_ext sql_magic\n",
    "%config SQL.conn_name = 'engine'  #Set the sql_magic connection engine\n",
    "%config SQL.output_result = True  #Enable output to std out\n",
    "%config SQL.notify_result = False #disable browser notifications\n"
   ]
  },
  {
   "cell_type": "markdown",
   "metadata": {},
   "source": [
    "# Parameters\n",
    "Import the index date where the date the patient lives is\n",
    "\n",
    " **Input**  \n",
    "* `in/extract/insurance.xlsx[raven_extract]`\n",
    "\n",
    "**Output**\n",
    "* Python variables named after parameters with the value"
   ]
  },
  {
   "cell_type": "code",
   "execution_count": null,
   "metadata": {
    "ExecuteTime": {
     "end_time": "2019-03-28T14:45:17.115113Z",
     "start_time": "2019-03-28T14:45:17.035726Z"
    }
   },
   "outputs": [],
   "source": [
    "#Create system variables from excel into script and review values in dictionary\n",
    "df = pd.read_excel('../../in/pld/medical_insurance.xlsx', sheet_name='param', skiprows=4, dtype=str)\n",
    "var_dict = dict(zip(df.parameter, df.value))\n",
    "for key,val in var_dict.items(): exec(key + '=val')\n",
    "\n",
    "#Check inputs\n",
    "pd.DataFrame.from_dict(var_dict, orient='index')"
   ]
  },
  {
   "cell_type": "markdown",
   "metadata": {},
   "source": [
    "# Pivot Coverage Type\n",
    "Get a pivoted count of insurance claims by count between dates"
   ]
  },
  {
   "cell_type": "code",
   "execution_count": null,
   "metadata": {
    "ExecuteTime": {
     "end_time": "2019-03-28T14:45:22.000869Z",
     "start_time": "2019-03-28T14:45:17.117123Z"
    }
   },
   "outputs": [],
   "source": [
    "#Identify unique years to put in the dynamic sql\n",
    "unique_values = snow.select(\"SELECT DISTINCT ins_group FROM cld_med_ins WHERE ins_group IS NOT NULL ORDER BY ins_group\")\n",
    "yr_pivot_values = \",\".join(\"'\" + x +\"'\" for x in unique_values.values.flatten())\n",
    "unique_values = unique_values.ins_group.replace({' / ':'_'},regex=True)\n",
    "yr_pivot_values2 = \",\".join(x for x in unique_values.values.flatten())\n",
    "yr_pivot_values\n",
    "yr_pivot_values2"
   ]
  },
  {
   "cell_type": "code",
   "execution_count": null,
   "metadata": {
    "ExecuteTime": {
     "end_time": "2019-03-28T14:45:45.312539Z",
     "start_time": "2019-03-28T14:45:22.003884Z"
    }
   },
   "outputs": [],
   "source": [
    "%%read_sql\n",
    "--Create subset of counts by year\n",
    "CREATE OR REPLACE TEMP TABLE tmp_pivot_ins AS\n",
    "    SELECT patient_id,\n",
    "           ins_group,\n",
    "           Count(Distinct patient_id, claim_id, year_of_service) AS claim_cnt\n",
    "     FROM cld_med_ins\n",
    "    WHERE year_of_service BETWEEN '{med_start_dt}' And '{med_end_dt}'\n",
    "   GROUP BY patient_id, ins_group;\n",
    "\n",
    "--Pivot on year to get counts\n",
    "DROP TABLE IF EXISTS pld_med_ins_pivot;\n",
    "CREATE TRANSIENT TABLE pld_med_ins_pivot AS\n",
    "    SELECT *\n",
    "      FROM tmp_pivot_ins\n",
    "           PIVOT(Sum(claim_cnt) for ins_group IN ({yr_pivot_values}))\n",
    "           AS p (patient_id, {yr_pivot_values2}); \n",
    "\n",
    "--Add final insurance column\n",
    "BEGIN;\n",
    "ALTER TABLE pld_med_ins_pivot\n",
    "        ADD insurance VARCHAR(50);\n",
    "COMMIT;\n",
    "\n",
    "--Update data to a single insurance type\n",
    "BEGIN;\n",
    "UPDATE pld_med_ins_pivot\n",
    "   SET insurance = CASE WHEN medicare > 0 AND commercial > 0 THEN 'Medicare Advantage'\n",
    "                        WHEN medicare > 0 THEN 'Medicare'\n",
    "                        WHEN medicaid > 0 THEN 'Medicaid'\n",
    "                        WHEN commercial > 0 THEN 'Commercial'\n",
    "                        WHEN va_other > 0 THEN 'VA Other'\n",
    "                        ELSE 'Unknown'\n",
    "                    END;\n",
    "COMMIT;"
   ]
  },
  {
   "cell_type": "code",
   "execution_count": null,
   "metadata": {
    "ExecuteTime": {
     "end_time": "2019-03-28T14:45:47.497191Z",
     "start_time": "2019-03-28T14:45:45.315553Z"
    }
   },
   "outputs": [],
   "source": [
    "%%read_sql\n",
    "--Review Counts\n",
    "SELECT insurance,\n",
    "       Count(*) as cnt,\n",
    "       Count(*) / (SELECT Count(*)\n",
    "                     FROM pld_med_ins_pivot) AS pct\n",
    "  FROM pld_med_ins_pivot\n",
    " GROUP BY insurance\n",
    " ORDER BY cnt DESC;"
   ]
  }
 ],
 "metadata": {
  "kernelspec": {
   "display_name": "Python 3",
   "language": "python",
   "name": "python3"
  },
  "language_info": {
   "codemirror_mode": {
    "name": "ipython",
    "version": 3
   },
   "file_extension": ".py",
   "mimetype": "text/x-python",
   "name": "python",
   "nbconvert_exporter": "python",
   "pygments_lexer": "ipython3",
   "version": "3.7.3"
  },
  "toc": {
   "nav_menu": {},
   "number_sections": true,
   "sideBar": true,
   "skip_h1_title": false,
   "title_cell": "Table of Contents",
   "title_sidebar": "Contents",
   "toc_cell": false,
   "toc_position": {
    "height": "calc(100% - 180px)",
    "left": "10px",
    "top": "150px",
    "width": "320px"
   },
   "toc_section_display": true,
   "toc_window_display": true
  }
 },
 "nbformat": 4,
 "nbformat_minor": 2
}
