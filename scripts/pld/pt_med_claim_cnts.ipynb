{
 "cells": [
  {
   "cell_type": "markdown",
   "metadata": {},
   "source": [
    "# Pt Med Claim Cnts\n",
    "Counts of patient medical claims per year and quarter.  These are typicaly used to determine a patient's stability over a time period.\n",
    "\n",
    "**Script**\n",
    "* [scripts/pld/pt_med_claim_cnts.ipynb](./scripts/pld/pt_med_claim_cnts.ipynb)\n",
    "\n",
    "**Prior Script(s)**\n",
    "* [scripts/de/raven_header.ipynb](./scripts/de/raven_header.ipynb)\n",
    "\n",
    "**Parameters**\n",
    "* none\n",
    "\n",
    "**Input**\n",
    "* `coh_pt`\n",
    "* `de_raven_header`\n",
    "  \n",
    "**Output**  \n",
    "* `pld_med_cnt`\n",
    "* `pld_med_cnt_pivot`\n",
    "\n",
    "**Review**\n",
    "* [scripts/pld/pt_med_claim_cnts.html](./scripts/pld/pt_med_claim_cnts.html)"
   ]
  },
  {
   "cell_type": "code",
   "execution_count": null,
   "metadata": {
    "ExecuteTime": {
     "end_time": "2019-04-25T13:20:43.171669Z",
     "start_time": "2019-04-25T13:20:39.666319Z"
    }
   },
   "outputs": [],
   "source": [
    "#Import libraries for this notebook\n",
    "import pandas as pd  \n",
    "from drg_connect import Snowflake\n",
    "import numpy as np\n",
    "import pickle\n",
    "from IPython.core.interactiveshell import InteractiveShell\n",
    "InteractiveShell.ast_node_interactivity = \"all\"\n",
    "\n",
    "#Load connection variables to connect_dict\n",
    "with open('../../out/conn/connect_dict.pickle', 'rb') as handle:\n",
    "    connect_dict = pickle.load(handle)\n",
    "\n",
    "#Create Eegine to connect to snowflake\n",
    "snow = Snowflake(role=connect_dict['role'],\n",
    "                 warehouse=connect_dict['warehouse'],\n",
    "                 database=connect_dict['database'],\n",
    "                 schema=connect_dict['schema'])\n",
    "\n",
    "#Finish engine setup\n",
    "engine = snow.engine\n",
    "%load_ext sql_magic\n",
    "%config SQL.conn_name = 'engine'  #Set the sql_magic connection engine\n",
    "%config SQL.output_result = True  #Enable output to std out\n",
    "%config SQL.notify_result = False #disable browser notifications\n"
   ]
  },
  {
   "cell_type": "markdown",
   "metadata": {},
   "source": [
    "# Year Quarter Counts\n",
    "Determine the counts of claims by year and quarter per patient"
   ]
  },
  {
   "cell_type": "code",
   "execution_count": null,
   "metadata": {
    "ExecuteTime": {
     "end_time": "2019-04-25T13:09:05.716876Z",
     "start_time": "2019-04-25T13:08:47.233001Z"
    }
   },
   "outputs": [],
   "source": [
    "%%read_sql\n",
    "--Counts of claims by year and quarter for each patient\n",
    "DROP TABLE IF EXISTS pld_med_cnt;\n",
    "CREATE TRANSIENT TABLE pld_med_cnt AS \n",
    "  SELECT patient_id, \n",
    "         'cnt_' || Year(year_of_service)                                     AS year, \n",
    "         'cnt_' || Year(year_of_service) || '_Q' || Quarter(year_of_service) AS quarter, \n",
    "         Count(DISTINCT patient_id, year_of_service)                         AS med_claim_cnt \n",
    "    FROM de_raven_header\n",
    "   GROUP BY patient_id, \n",
    "            year, \n",
    "            quarter; "
   ]
  },
  {
   "cell_type": "code",
   "execution_count": null,
   "metadata": {
    "ExecuteTime": {
     "end_time": "2019-04-25T13:22:32.895551Z",
     "start_time": "2019-04-25T13:22:21.979459Z"
    }
   },
   "outputs": [],
   "source": [
    "%%read_sql\n",
    "--Create unpivoted table with clean claim data\n",
    "DROP TABLE IF EXISTS pld_med_cnt_unpivot;\n",
    "CREATE TRANSIENT TABLE pld_med_cnt_unpivot AS\n",
    "    SELECT patient_id,\n",
    "           Right(year,4) AS period,\n",
    "           Sum(med_claim_cnt) AS med_claim_cnt\n",
    "      FROM pld_med_cnt\n",
    "      GROUP BY patient_id, period\n",
    "     UNION\n",
    "    SELECT patient_id,\n",
    "           Right(quarter,7) AS period,\n",
    "           Sum(med_claim_cnt) AS med_claim_cnt\n",
    "      FROM pld_med_cnt\n",
    "     GROUP BY patient_id, period;"
   ]
  },
  {
   "cell_type": "markdown",
   "metadata": {},
   "source": [
    "# Pivot Year\n",
    "Pivot on the year to get the count of claims per year for each patient"
   ]
  },
  {
   "cell_type": "code",
   "execution_count": null,
   "metadata": {
    "ExecuteTime": {
     "end_time": "2019-04-25T13:09:16.208126Z",
     "start_time": "2019-04-25T13:09:05.720879Z"
    }
   },
   "outputs": [],
   "source": [
    "#Identify unique years to put in the dynamic sql\n",
    "unique_values = snow.select(\"SELECT DISTINCT year FROM pld_med_cnt ORDER BY year\")\n",
    "yr_pivot_values = \",\".join(\"'\" + x +\"'\" for x in unique_values.values.flatten())\n",
    "yr_pivot_values2 = \",\".join(x for x in unique_values.values.flatten())\n",
    "yr_pivot_values\n",
    "yr_pivot_values2"
   ]
  },
  {
   "cell_type": "code",
   "execution_count": null,
   "metadata": {
    "ExecuteTime": {
     "end_time": "2019-04-25T13:09:32.653630Z",
     "start_time": "2019-04-25T13:09:16.217132Z"
    }
   },
   "outputs": [],
   "source": [
    "%%read_sql\n",
    "--Create subset of counts by year\n",
    "CREATE OR REPLACE TEMP TABLE tmp_pivot_yr AS\n",
    "    SELECT patient_id,\n",
    "           year,\n",
    "           med_claim_cnt\n",
    "     FROM pld_med_cnt;\n",
    "\n",
    "--Pivot on year to get counts\n",
    "CREATE OR REPLACE TEMP TABLE pld_med_cnt_yr AS\n",
    "    SELECT *\n",
    "      FROM tmp_pivot_yr\n",
    "           PIVOT(Sum(med_claim_cnt) for year IN ({yr_pivot_values}))\n",
    "           AS p (patient_id, {yr_pivot_values2}); "
   ]
  },
  {
   "cell_type": "markdown",
   "metadata": {},
   "source": [
    "# Pivot Quarter\n",
    "Get claims counts by quarter for each patient"
   ]
  },
  {
   "cell_type": "code",
   "execution_count": null,
   "metadata": {
    "ExecuteTime": {
     "end_time": "2019-04-25T13:09:36.797528Z",
     "start_time": "2019-04-25T13:09:32.657632Z"
    }
   },
   "outputs": [],
   "source": [
    "#Determine the unique quarters to pivot and use dynamically later in queries\n",
    "unique_values = snow.select(\"SELECT DISTINCT quarter FROM pld_med_cnt ORDER BY quarter\")\n",
    "qtr_pivot_values = \",\".join(\"'\" + x +\"'\" for x in unique_values.values.flatten())\n",
    "qtr_pivot_values2 = \",\".join(x for x in unique_values.values.flatten())\n",
    "qtr_pivot_values\n",
    "qtr_pivot_values2"
   ]
  },
  {
   "cell_type": "code",
   "execution_count": null,
   "metadata": {
    "ExecuteTime": {
     "end_time": "2019-04-25T13:09:55.705755Z",
     "start_time": "2019-04-25T13:09:36.803533Z"
    }
   },
   "outputs": [],
   "source": [
    "%%read_sql\n",
    "--CREATE TRANSIENT TABLE subset with claim counts by quarter\n",
    "CREATE OR REPLACE TEMP TABLE tmp_pivot_qtr AS\n",
    "    SELECT patient_id,\n",
    "           quarter,\n",
    "           med_claim_cnt\n",
    "     FROM pld_med_cnt;\n",
    "\n",
    "--Pivot on quarter\n",
    "CREATE OR REPLACE TEMP TABLE pld_med_cnt_qtr AS\n",
    "    SELECT *\n",
    "      FROM tmp_pivot_qtr\n",
    "           PIVOT(Sum(med_claim_cnt) for quarter IN ({qtr_pivot_values}))\n",
    "           AS p (patient_id, {qtr_pivot_values2}); "
   ]
  },
  {
   "cell_type": "markdown",
   "metadata": {},
   "source": [
    "# Pivot Counts\n",
    "Pivot the data to get the final counts"
   ]
  },
  {
   "cell_type": "code",
   "execution_count": null,
   "metadata": {
    "ExecuteTime": {
     "end_time": "2019-04-25T13:10:04.352804Z",
     "start_time": "2019-04-25T13:09:55.707756Z"
    }
   },
   "outputs": [],
   "source": [
    "%%read_sql\n",
    "DROP TABLE IF EXISTS pld_med_cnt_pivot;\n",
    "CREATE TRANSIENT TABLE pld_med_cnt_pivot AS\n",
    "    SELECT coh.patient_id,\n",
    "           {yr_pivot_values2},\n",
    "           {qtr_pivot_values2}\n",
    "      FROM coh_pt coh\n",
    "           LEFT JOIN pld_med_cnt_yr yr\n",
    "                  ON coh.patient_id = yr.patient_id\n",
    "           LEFT JOIN pld_med_cnt_qtr qtr\n",
    "                  ON coh.patient_id = qtr.patient_id"
   ]
  },
  {
   "cell_type": "markdown",
   "metadata": {},
   "source": [
    "# Remove \"cnt_\"\n",
    "remove \"cnt_\" from the "
   ]
  }
 ],
 "metadata": {
  "kernelspec": {
   "display_name": "Python 3",
   "language": "python",
   "name": "python3"
  },
  "language_info": {
   "codemirror_mode": {
    "name": "ipython",
    "version": 3
   },
   "file_extension": ".py",
   "mimetype": "text/x-python",
   "name": "python",
   "nbconvert_exporter": "python",
   "pygments_lexer": "ipython3",
   "version": "3.6.4"
  },
  "toc": {
   "base_numbering": 1,
   "nav_menu": {},
   "number_sections": true,
   "sideBar": true,
   "skip_h1_title": false,
   "title_cell": "Table of Contents",
   "title_sidebar": "Contents",
   "toc_cell": false,
   "toc_position": {
    "height": "725px",
    "left": "988px",
    "top": "95px",
    "width": "275px"
   },
   "toc_section_display": true,
   "toc_window_display": true
  }
 },
 "nbformat": 4,
 "nbformat_minor": 2
}
