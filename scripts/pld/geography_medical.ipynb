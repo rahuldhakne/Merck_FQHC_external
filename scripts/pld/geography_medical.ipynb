{
 "cells": [
  {
   "cell_type": "markdown",
   "metadata": {},
   "source": [
    "# Geography Medical\n",
    "Geography of each unique patient per the medical claims using the claim closest to an index date\n",
    "\n",
    "**Script**\n",
    "* [scripts/pld/geography_medical.ipynb](./scripts/pld/geography_medical.ipynb)\n",
    "\n",
    "**Prior Script(s)**\n",
    "* [scripts/de/raven_patient.ipynb](./scripts/de/raven_patient.ipynb)\n",
    "\n",
    "**Parameters**\n",
    "* `in/pld/geography.xlsx[param]`\n",
    "\n",
    "**Input**\n",
    "* `coh_pt`\n",
    "* `ref_db.analytics.zip_geo`\n",
    "* `de_raven_patient`\n",
    "\n",
    "**Output**  \n",
    "* `pld_geo_medical`\n",
    "\n",
    "**Review**\n",
    "* [scripts/pld/geography_medical.html](./scripts/pld/geography_medical.html)"
   ]
  },
  {
   "cell_type": "code",
   "execution_count": 13,
   "metadata": {
    "ExecuteTime": {
     "end_time": "2019-04-24T15:21:20.295852Z",
     "start_time": "2019-04-24T15:21:20.254824Z"
    }
   },
   "outputs": [
    {
     "name": "stdout",
     "output_type": "stream",
     "text": [
      "The sql_magic extension is already loaded. To reload it, use:\n",
      "  %reload_ext sql_magic\n"
     ]
    }
   ],
   "source": [
    "#Import libraries for this notebook\n",
    "import pandas as pd  \n",
    "from drg_connect import Snowflake\n",
    "import numpy as np\n",
    "import pickle\n",
    "from IPython.core.interactiveshell import InteractiveShell\n",
    "InteractiveShell.ast_node_interactivity = \"all\"\n",
    "\n",
    "#Load connection variables to connect_dict\n",
    "with open('../../out/conn/connect_dict.pickle', 'rb') as handle:\n",
    "    connect_dict = pickle.load(handle)\n",
    "\n",
    "#Create Eegine to connect to snowflake\n",
    "snow = Snowflake(role=connect_dict['role'],\n",
    "                 warehouse=connect_dict['warehouse'],\n",
    "                 database=connect_dict['database'],\n",
    "                 schema=connect_dict['schema'])\n",
    "\n",
    "#Finish engine setup\n",
    "engine = snow.engine\n",
    "%load_ext sql_magic\n",
    "%config SQL.conn_name = 'engine'  #Set the sql_magic connection engine\n",
    "%config SQL.output_result = True  #Enable output to std out\n",
    "%config SQL.notify_result = False #disable browser notifications\n"
   ]
  },
  {
   "cell_type": "markdown",
   "metadata": {},
   "source": [
    "# Parameters\n",
    "Import the index date where the date the patient lives is\n",
    "\n",
    " **Input**  \n",
    "* `in/extract/raven_extract.xlsx[raven_extract]`\n",
    "\n",
    "**Output**\n",
    "* Python variables named after parameters with the value"
   ]
  },
  {
   "cell_type": "code",
   "execution_count": 14,
   "metadata": {
    "ExecuteTime": {
     "end_time": "2019-04-24T15:21:20.320870Z",
     "start_time": "2019-04-24T15:21:20.298854Z"
    }
   },
   "outputs": [
    {
     "data": {
      "text/html": [
       "<div>\n",
       "<style scoped>\n",
       "    .dataframe tbody tr th:only-of-type {\n",
       "        vertical-align: middle;\n",
       "    }\n",
       "\n",
       "    .dataframe tbody tr th {\n",
       "        vertical-align: top;\n",
       "    }\n",
       "\n",
       "    .dataframe thead th {\n",
       "        text-align: right;\n",
       "    }\n",
       "</style>\n",
       "<table border=\"1\" class=\"dataframe\">\n",
       "  <thead>\n",
       "    <tr style=\"text-align: right;\">\n",
       "      <th></th>\n",
       "      <th>0</th>\n",
       "    </tr>\n",
       "  </thead>\n",
       "  <tbody>\n",
       "    <tr>\n",
       "      <th>med_index_dt</th>\n",
       "      <td>2018-01-01</td>\n",
       "    </tr>\n",
       "    <tr>\n",
       "      <th>phar_index_dt</th>\n",
       "      <td>2018-01-01</td>\n",
       "    </tr>\n",
       "  </tbody>\n",
       "</table>\n",
       "</div>"
      ],
      "text/plain": [
       "                        0\n",
       "med_index_dt   2018-01-01\n",
       "phar_index_dt  2018-01-01"
      ]
     },
     "execution_count": 14,
     "metadata": {},
     "output_type": "execute_result"
    }
   ],
   "source": [
    "#Create system variables from excel into script and review values in dictionary\n",
    "input_df = pd.read_excel('../../in/pld/geography.xlsx', sheet_name='param', skiprows=4, dtype=str)\n",
    "var_dict = dict(zip(input_df.parameter, input_df.value))\n",
    "for key,val in var_dict.items(): exec(key + '=val')\n",
    "\n",
    "#Check inputs\n",
    "pd.DataFrame.from_dict(var_dict, orient='index')"
   ]
  },
  {
   "cell_type": "markdown",
   "metadata": {},
   "source": [
    "# Geography\n",
    "Identify the zip3 from medical claims closest to the index date for medical claims (med_index_dt)"
   ]
  },
  {
   "cell_type": "code",
   "execution_count": 15,
   "metadata": {
    "ExecuteTime": {
     "end_time": "2019-04-24T15:21:24.934097Z",
     "start_time": "2019-04-24T15:21:20.322871Z"
    }
   },
   "outputs": [
    {
     "name": "stdout",
     "output_type": "stream",
     "text": [
      "Query started at 11:21:20 AM Eastern Daylight Time; Query executed in 0.08 m"
     ]
    },
    {
     "data": {
      "text/html": [
       "<div>\n",
       "<style scoped>\n",
       "    .dataframe tbody tr th:only-of-type {\n",
       "        vertical-align: middle;\n",
       "    }\n",
       "\n",
       "    .dataframe tbody tr th {\n",
       "        vertical-align: top;\n",
       "    }\n",
       "\n",
       "    .dataframe thead th {\n",
       "        text-align: right;\n",
       "    }\n",
       "</style>\n",
       "<table border=\"1\" class=\"dataframe\">\n",
       "  <thead>\n",
       "    <tr style=\"text-align: right;\">\n",
       "      <th></th>\n",
       "      <th>status</th>\n",
       "    </tr>\n",
       "  </thead>\n",
       "  <tbody>\n",
       "    <tr>\n",
       "      <th>0</th>\n",
       "      <td>Table TMP_ZIP_DELTA_MIN successfully created.</td>\n",
       "    </tr>\n",
       "  </tbody>\n",
       "</table>\n",
       "</div>"
      ],
      "text/plain": [
       "                                          status\n",
       "0  Table TMP_ZIP_DELTA_MIN successfully created."
      ]
     },
     "execution_count": 15,
     "metadata": {},
     "output_type": "execute_result"
    }
   ],
   "source": [
    "%%read_sql\n",
    "--Identify number of days to cosesest \n",
    "CREATE OR REPLACE TEMP TABLE tmp_zip_delta_min AS\n",
    "    SELECT pt.patient_id,\n",
    "           Min(abs(Datediff(d,'{med_index_dt}',pt.year_of_service))) AS delta\n",
    "      FROM de_raven_patient pt\n",
    "           JOIN ref_db.analytics.zip3_geo zip\n",
    "             ON Trim(pt.member_adr_zip) = Trim(zip.zip3)\n",
    "     GROUP BY pt.patient_id;    "
   ]
  },
  {
   "cell_type": "code",
   "execution_count": 16,
   "metadata": {
    "ExecuteTime": {
     "end_time": "2019-04-24T15:21:31.505694Z",
     "start_time": "2019-04-24T15:21:24.937099Z"
    }
   },
   "outputs": [
    {
     "name": "stdout",
     "output_type": "stream",
     "text": [
      "Query started at 11:21:24 AM Eastern Daylight Time; Query executed in 0.11 m"
     ]
    },
    {
     "data": {
      "text/html": [
       "<div>\n",
       "<style scoped>\n",
       "    .dataframe tbody tr th:only-of-type {\n",
       "        vertical-align: middle;\n",
       "    }\n",
       "\n",
       "    .dataframe tbody tr th {\n",
       "        vertical-align: top;\n",
       "    }\n",
       "\n",
       "    .dataframe thead th {\n",
       "        text-align: right;\n",
       "    }\n",
       "</style>\n",
       "<table border=\"1\" class=\"dataframe\">\n",
       "  <thead>\n",
       "    <tr style=\"text-align: right;\">\n",
       "      <th></th>\n",
       "      <th>status</th>\n",
       "    </tr>\n",
       "  </thead>\n",
       "  <tbody>\n",
       "    <tr>\n",
       "      <th>0</th>\n",
       "      <td>Table TMP_ZIP3 successfully created.</td>\n",
       "    </tr>\n",
       "  </tbody>\n",
       "</table>\n",
       "</div>"
      ],
      "text/plain": [
       "                                 status\n",
       "0  Table TMP_ZIP3 successfully created."
      ]
     },
     "execution_count": 16,
     "metadata": {},
     "output_type": "execute_result"
    }
   ],
   "source": [
    "%%read_sql\n",
    "--Identify the date and zipcode of interest\n",
    "CREATE OR REPLACE TEMP TABLE tmp_zip3 AS\n",
    "    SELECT pt.patient_id,\n",
    "           Min(pt.year_of_service) AS year_of_service,\n",
    "           Min(geo.zip3) AS zip3\n",
    "      FROM tmp_zip_delta_min zipmin\n",
    "           JOIN de_raven_patient pt\n",
    "             ON zipmin.patient_id = pt.patient_id\n",
    "                AND abs(Datediff(d,'{med_index_dt}',pt.year_of_service)) = zipmin.delta\n",
    "           JOIN ref_db.analytics.zip3_geo geo\n",
    "             ON Trim(geo.zip3) = Trim(pt.member_adr_zip)\n",
    "     GROUP BY pt.patient_id;"
   ]
  },
  {
   "cell_type": "code",
   "execution_count": 17,
   "metadata": {
    "ExecuteTime": {
     "end_time": "2019-04-24T15:21:37.665002Z",
     "start_time": "2019-04-24T15:21:31.508696Z"
    }
   },
   "outputs": [
    {
     "name": "stdout",
     "output_type": "stream",
     "text": [
      "Query started at 11:21:31 AM Eastern Daylight Time; Query executed in 0.02 mQuery started at 11:21:32 AM Eastern Daylight Time; Query executed in 0.08 m"
     ]
    },
    {
     "data": {
      "text/html": [
       "<div>\n",
       "<style scoped>\n",
       "    .dataframe tbody tr th:only-of-type {\n",
       "        vertical-align: middle;\n",
       "    }\n",
       "\n",
       "    .dataframe tbody tr th {\n",
       "        vertical-align: top;\n",
       "    }\n",
       "\n",
       "    .dataframe thead th {\n",
       "        text-align: right;\n",
       "    }\n",
       "</style>\n",
       "<table border=\"1\" class=\"dataframe\">\n",
       "  <thead>\n",
       "    <tr style=\"text-align: right;\">\n",
       "      <th></th>\n",
       "      <th>status</th>\n",
       "    </tr>\n",
       "  </thead>\n",
       "  <tbody>\n",
       "    <tr>\n",
       "      <th>0</th>\n",
       "      <td>Table PLD_GEO_MEDICAL successfully created.</td>\n",
       "    </tr>\n",
       "  </tbody>\n",
       "</table>\n",
       "</div>"
      ],
      "text/plain": [
       "                                        status\n",
       "0  Table PLD_GEO_MEDICAL successfully created."
      ]
     },
     "execution_count": 17,
     "metadata": {},
     "output_type": "execute_result"
    }
   ],
   "source": [
    "%%read_sql\n",
    "--Identify final zip3 and other geography data for each patient\n",
    "DROP TABLE IF EXISTS pld_geo_medical;\n",
    "CREATE TRANSIENT TABLE pld_geo_medical AS\n",
    "    SELECT coh.patient_id,\n",
    "           year_of_service,\n",
    "           Datediff(d,year_of_service,'{med_index_dt}') AS index_delta,\n",
    "           geo.fips,\n",
    "           geo.county,\n",
    "           geo.msa,\n",
    "           geo.dma,\n",
    "           geo.state,\n",
    "           geo.state_abbr,\n",
    "           geo.region\n",
    "      FROM coh_pt coh\n",
    "           JOIN tmp_zip3 zip3\n",
    "             ON coh.patient_id = zip3.patient_id\n",
    "           JOIN ref_db.analytics.zip3_geo geo\n",
    "             ON geo.zip3 = zip3.zip3"
   ]
  },
  {
   "cell_type": "markdown",
   "metadata": {},
   "source": [
    "# Summary\n",
    "Summarize Data for later review"
   ]
  },
  {
   "cell_type": "code",
   "execution_count": 18,
   "metadata": {
    "ExecuteTime": {
     "end_time": "2019-04-24T15:21:43.724241Z",
     "start_time": "2019-04-24T15:21:37.669005Z"
    }
   },
   "outputs": [
    {
     "name": "stdout",
     "output_type": "stream",
     "text": [
      "Query started at 11:21:37 AM Eastern Daylight Time; Query executed in 0.10 m"
     ]
    },
    {
     "data": {
      "text/html": [
       "<div>\n",
       "<style scoped>\n",
       "    .dataframe tbody tr th:only-of-type {\n",
       "        vertical-align: middle;\n",
       "    }\n",
       "\n",
       "    .dataframe tbody tr th {\n",
       "        vertical-align: top;\n",
       "    }\n",
       "\n",
       "    .dataframe thead th {\n",
       "        text-align: right;\n",
       "    }\n",
       "</style>\n",
       "<table border=\"1\" class=\"dataframe\">\n",
       "  <thead>\n",
       "    <tr style=\"text-align: right;\">\n",
       "      <th></th>\n",
       "      <th>COUNT(*)</th>\n",
       "      <th>pt_cnt</th>\n",
       "      <th>dt_cnt</th>\n",
       "      <th>fips_cnt</th>\n",
       "      <th>county_cnt</th>\n",
       "      <th>msa_cnt</th>\n",
       "      <th>dma_cnt</th>\n",
       "      <th>state_cnt</th>\n",
       "      <th>state_abbr_cnt</th>\n",
       "      <th>region_cnt</th>\n",
       "    </tr>\n",
       "  </thead>\n",
       "  <tbody>\n",
       "    <tr>\n",
       "      <th>0</th>\n",
       "      <td>2742663</td>\n",
       "      <td>2742663</td>\n",
       "      <td>1461</td>\n",
       "      <td>730</td>\n",
       "      <td>582</td>\n",
       "      <td>344</td>\n",
       "      <td>206</td>\n",
       "      <td>52</td>\n",
       "      <td>52</td>\n",
       "      <td>5</td>\n",
       "    </tr>\n",
       "  </tbody>\n",
       "</table>\n",
       "</div>"
      ],
      "text/plain": [
       "   COUNT(*)   pt_cnt  dt_cnt  fips_cnt  county_cnt  msa_cnt  dma_cnt  \\\n",
       "0   2742663  2742663    1461       730         582      344      206   \n",
       "\n",
       "   state_cnt  state_abbr_cnt  region_cnt  \n",
       "0         52              52           5  "
      ]
     },
     "execution_count": 18,
     "metadata": {},
     "output_type": "execute_result"
    }
   ],
   "source": [
    "%%read_sql\n",
    "SELECT Count(*),\n",
    "       Count(Distinct patient_id) AS pt_cnt,\n",
    "       Count(Distinct year_of_service) AS dt_cnt,\n",
    "       Count(Distinct fips) AS fips_cnt,\n",
    "       Count(Distinct county) AS county_cnt,\n",
    "       Count(Distinct msa) AS msa_cnt,\n",
    "       Count(Distinct dma) AS dma_cnt,\n",
    "       Count(Distinct state) AS state_cnt,\n",
    "       Count(Distinct state_abbr) AS state_abbr_cnt,\n",
    "       Count(Distinct region) AS region_cnt\n",
    "  FROM pld_geo_medical"
   ]
  }
 ],
 "metadata": {
  "kernelspec": {
   "display_name": "Python 3",
   "language": "python",
   "name": "python3"
  },
  "language_info": {
   "codemirror_mode": {
    "name": "ipython",
    "version": 3
   },
   "file_extension": ".py",
   "mimetype": "text/x-python",
   "name": "python",
   "nbconvert_exporter": "python",
   "pygments_lexer": "ipython3",
   "version": "3.7.3"
  },
  "toc": {
   "nav_menu": {},
   "number_sections": true,
   "sideBar": true,
   "skip_h1_title": false,
   "title_cell": "Table of Contents",
   "title_sidebar": "Contents",
   "toc_cell": false,
   "toc_position": {
    "height": "725px",
    "left": "988px",
    "top": "95px",
    "width": "275px"
   },
   "toc_section_display": true,
   "toc_window_display": true
  }
 },
 "nbformat": 4,
 "nbformat_minor": 2
}
