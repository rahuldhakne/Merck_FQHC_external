{
 "cells": [
  {
   "cell_type": "markdown",
   "metadata": {},
   "source": [
    "# Demographics\n",
    "Tidy table of the patient's demographics as of the index date.  All table start with `pld_demo`\n",
    "\n",
    "**Script**\n",
    "* [scripts/pld/demographics.ipynb](./scripts/pld/demographics.ipynb)\n",
    "\n",
    "**Prior Script(s)**\n",
    "* [scripts/de/raven_demographics.ipynb](./scripts/de/raven_demographics.ipynb)\n",
    "\n",
    "**Parameters**\n",
    "* `in/pld/demographics.xlsx[param]`\n",
    "* **AND** `in/pld/demographics.xlsx[race_ref]`\n",
    "\n",
    "**Input**\n",
    "* `coh_pt`\n",
    "* `de_raven_demographics`\n",
    "\n",
    "**Output**  \n",
    "* `pld_demo`\n",
    "\n",
    "**Review**\n",
    "* [scripts/pld/demographics.html](./scripts/pld/demographics.html)\n"
   ]
  },
  {
   "cell_type": "code",
   "execution_count": 1,
   "metadata": {
    "ExecuteTime": {
     "end_time": "2019-03-13T19:15:05.732839Z",
     "start_time": "2019-03-13T19:14:55.036563Z"
    }
   },
   "outputs": [
    {
     "data": {
      "application/javascript": [
       "\n",
       "    require(['notebook/js/codecell'], function(codecell) {\n",
       "      // https://github.com/jupyter/notebook/issues/2453\n",
       "      codecell.CodeCell.options_default.highlight_modes['magic_text/x-sql'] = {'reg':[/^%read_sql/, /.*=\\s*%read_sql/,\n",
       "                                                                                      /^%%read_sql/]};\n",
       "      Jupyter.notebook.events.one('kernel_ready.Kernel', function(){\n",
       "          console.log('BBBBB');\n",
       "          Jupyter.notebook.get_cells().map(function(cell){\n",
       "              if (cell.cell_type == 'code'){ cell.auto_highlight(); } }) ;\n",
       "      });\n",
       "    });\n",
       "    "
      ]
     },
     "metadata": {},
     "output_type": "display_data"
    }
   ],
   "source": [
    "#Import libraries for this notebook\n",
    "import pandas as pd  \n",
    "from drg_connect import Snowflake\n",
    "import numpy as np\n",
    "import pickle\n",
    "import seaborn as sb\n",
    "from IPython.core.interactiveshell import InteractiveShell\n",
    "InteractiveShell.ast_node_interactivity = \"all\"\n",
    "\n",
    "#Load connection variables to connect_dict\n",
    "with open('../../out/conn/connect_dict.pickle', 'rb') as handle:\n",
    "    connect_dict = pickle.load(handle)\n",
    "\n",
    "#Create Eegine to connect to snowflake\n",
    "snow = Snowflake(role=connect_dict['role'],\n",
    "                 warehouse=connect_dict['warehouse'],\n",
    "                 database=connect_dict['database'],\n",
    "                 schema=connect_dict['schema'])\n",
    "\n",
    "#Finish engine setup\n",
    "engine = snow.engine\n",
    "%load_ext sql_magic\n",
    "%config SQL.conn_name = 'engine'  #Set the sql_magic connection engine\n",
    "%config SQL.output_result = True  #Enable output to std out\n",
    "%config SQL.notify_result = False #disable browser notifications\n"
   ]
  },
  {
   "cell_type": "markdown",
   "metadata": {},
   "source": [
    "# Parameters\n",
    "Create python variables of the parameters\n",
    "\n",
    " **Input**  \n",
    "* `in/pld/demographics.xlsx[param]`\n",
    "\n",
    "**Output**\n",
    "* Python variables named after parameters with the value"
   ]
  },
  {
   "cell_type": "code",
   "execution_count": null,
   "metadata": {
    "ExecuteTime": {
     "end_time": "2019-03-13T15:09:12.737007Z",
     "start_time": "2019-03-13T15:09:12.638997Z"
    }
   },
   "outputs": [],
   "source": [
    "#Create system variables from excel into script and review values in dictionary\n",
    "input_df = pd.read_excel('../../in/pld/demographics.xlsx', sheet_name='param', skiprows=4, dtype=str)\n",
    "var_dict = dict(zip(input_df.parameter, input_df.value))\n",
    "for key,val in var_dict.items(): exec(key + '=val')\n",
    "\n",
    "#Check inputs\n",
    "var_dict"
   ]
  },
  {
   "cell_type": "markdown",
   "metadata": {},
   "source": [
    "# Reference\n",
    "Upload reference tables needed for the analysis"
   ]
  },
  {
   "cell_type": "markdown",
   "metadata": {},
   "source": [
    "## Race Mapping\n",
    "Uploads reference table to clean race & ethnicity and map to a single race variable\n",
    "\n",
    "**Input**  \n",
    "  * `in/pld/demographics.xlsx[race_ref]`\n",
    "\n",
    "**Output**  \n",
    "* `pld_demo_race_ref`"
   ]
  },
  {
   "cell_type": "code",
   "execution_count": null,
   "metadata": {
    "ExecuteTime": {
     "end_time": "2019-03-13T15:09:42.492740Z",
     "start_time": "2019-03-13T15:09:18.643428Z"
    }
   },
   "outputs": [],
   "source": [
    "#Upload reference table from excel to snowflake and review snowflake output\n",
    "df = pd.read_excel('../../in/pld/demographics.xlsx', sheet_name='race_ref', skiprows=4, dtype=str)\n",
    "\n",
    "#Strip white space and make referrable columns uppercase\n",
    "df = df.apply(lambda x: x.str.strip() if x.dtype == \"object\" else x)\n",
    "df[['race','ethnicity','source']] =  \\\n",
    "    df[['race','ethnicity','source']].apply(lambda x: x.str.upper() if x.dtype == \"object\" else x)\n",
    "\n",
    "#Upload to snowflake\n",
    "snow.drop_table(\"pld_demo_race_ref\")\n",
    "snow.upload_dataframe(df,\"pld_demo_race_ref\")\n",
    "del df\n",
    "snow.select(\"SELECT * FROM pld_demo_race_ref\")"
   ]
  },
  {
   "cell_type": "markdown",
   "metadata": {},
   "source": [
    "## Age Buckets\n",
    "Upload table to bucket ages\n",
    "\n",
    "**Input**  \n",
    "  * `in/pld/demographics.xlsx[age_buckets]`\n",
    "\n",
    "**Output**  \n",
    "* `pld_demo_age_buckets`"
   ]
  },
  {
   "cell_type": "code",
   "execution_count": null,
   "metadata": {
    "ExecuteTime": {
     "end_time": "2019-03-13T15:09:49.728463Z",
     "start_time": "2019-03-13T15:09:42.496740Z"
    },
    "scrolled": true
   },
   "outputs": [],
   "source": [
    "#Upload reference table from excel to snowflake and review snowflake output\n",
    "df = pd.read_excel('../../in/pld/demographics.xlsx', sheet_name='age_buckets', skiprows=4, dtype=str)\n",
    "\n",
    "#Strip white space and make referrable columns uppercase\n",
    "df = df.apply(lambda x: x.str.strip() if x.dtype == \"object\" else x)\n",
    "df[['age','age_bucket']] =  \\\n",
    "    df[['age','age_bucket']].apply(lambda x: x.str.upper() if x.dtype == \"object\" else x)\n",
    "\n",
    "#Upload to snowflake\n",
    "snow.drop_table(\"pld_demo_ref_age_bucket\")\n",
    "snow.upload_dataframe(df,\"pld_demo_ref_age_bucket\")\n",
    "del df\n",
    "snow.select(\"SELECT * FROM pld_demo_ref_age_bucket\")"
   ]
  },
  {
   "cell_type": "markdown",
   "metadata": {},
   "source": [
    "# Create Variables"
   ]
  },
  {
   "cell_type": "markdown",
   "metadata": {},
   "source": [
    "## Age, Gender, DOB\n",
    "Determine the age, gender, date of birth, and encrypted keys for the patients in the cohort\n",
    "\n",
    "**Parameters**\n",
    "  * `index_dt`\n",
    "  \n",
    "**Input**\n",
    "  * `coh_pt`\n",
    "  * `rwd_db.rwd.raven_patient_demographics`\n",
    "  \n",
    "**Output**  \n",
    "* `pld_demo_age_gender`"
   ]
  },
  {
   "cell_type": "code",
   "execution_count": null,
   "metadata": {
    "ExecuteTime": {
     "end_time": "2019-03-13T15:10:04.846820Z",
     "start_time": "2019-03-13T15:09:58.438179Z"
    }
   },
   "outputs": [],
   "source": [
    "%%read_sql\n",
    "--Create raven diagnosis table\n",
    "DROP TABLE IF EXISTS pld_demo_age_gender; \n",
    "CREATE TRANSIENT TABLE pld_demo_age_gender AS\n",
    "      SELECT coh.patient_id,\n",
    "             demo.gender,\n",
    "             demo.date_of_birth,\n",
    "             Round(datediff(d,demo.date_of_birth,'{index_dt}')/365,0) AS age \n",
    "        FROM coh_pt coh\n",
    "             LEFT JOIN de_raven_demographics demo\n",
    "                    ON coh.patient_id = demo.patient_id;"
   ]
  },
  {
   "cell_type": "markdown",
   "metadata": {},
   "source": [
    "## Race & Ethnicity\n",
    "Identify the patient race from EHR data"
   ]
  },
  {
   "cell_type": "code",
   "execution_count": null,
   "metadata": {
    "ExecuteTime": {
     "end_time": "2019-03-13T15:10:22.035539Z",
     "start_time": "2019-03-13T15:10:04.849821Z"
    }
   },
   "outputs": [],
   "source": [
    "%%read_sql\n",
    "-- Collecting ethnicity data from albatross\n",
    "DROP TABLE IF EXISTS pld_demo_alb_race;\n",
    "CREATE TRANSIENT TABLE pld_demo_alb_race AS \n",
    "    SELECT coh.patient_id      AS patient_id,\n",
    "           alb.race            AS race,\n",
    "           alb.ethnicity1      AS ethnicity,\n",
    "           alb.lastupdatedttm  AS last_update_dt,\n",
    "           'albatross'         AS source\n",
    "    FROM coh_pt coh\n",
    "         JOIN de_raven_demographics demo\n",
    "           ON coh.patient_id = demo.patient_id\n",
    "         JOIN rwd_db.rwd.albatross_ehr_patients alb\n",
    "           ON (alb.encrypted_key_1 = demo.encrypted_key_1\n",
    "              AND alb.encrypted_key_2 = demo.encrypted_key_2)\n",
    "              OR (alb.encrypted_key_1 = demo.encrypted_key_1\n",
    "                 AND demo.encrypted_key_1 IS NULL);"
   ]
  },
  {
   "cell_type": "code",
   "execution_count": null,
   "metadata": {
    "ExecuteTime": {
     "end_time": "2019-03-13T15:10:37.804116Z",
     "start_time": "2019-03-13T15:10:22.040539Z"
    }
   },
   "outputs": [],
   "source": [
    "%%read_sql\n",
    "-- Collecting race information from pelican\n",
    "\n",
    "DROP TABLE IF EXISTS pld_demo_race_pelican;\n",
    "\n",
    "CREATE TRANSIENT TABLE pld_demo_race_pelican AS \n",
    "    SELECT coh.patient_id AS patient_id,\n",
    "           race.race_name AS race,\n",
    "           NULL           AS ethnicity,\n",
    "           last_modified  AS last_update_dt,\n",
    "           'pelican'      AS source\n",
    "      FROM coh_pt coh\n",
    "           JOIN de_raven_demographics demo\n",
    "             ON coh.patient_id = demo.patient_id \n",
    "           JOIN rwd_db.rwd.pelican_deid pel\n",
    "             ON (pel.encrypted_key_1 = demo.encrypted_key_1\n",
    "                AND pel.encrypted_key_2 = demo.encrypted_key_2)\n",
    "                OR (pel.encrypted_key_1 = demo.encrypted_key_1\n",
    "                    AND demo.encrypted_key_1 IS null)\n",
    "           JOIN rwd_db.rwd.pelican_patient_race raceid\n",
    "             ON raceid.patient_id = pel.patient_id\n",
    "           JOIN rwd_db.rwd.pelican_race race\n",
    "             ON raceid.race_id = race.race_id;   \n",
    "             \n",
    "SELECT Count(*) from pld_demo_race_pelican;"
   ]
  },
  {
   "cell_type": "code",
   "execution_count": null,
   "metadata": {
    "ExecuteTime": {
     "end_time": "2019-03-13T15:10:42.720607Z",
     "start_time": "2019-03-13T15:10:37.807116Z"
    }
   },
   "outputs": [],
   "source": [
    "%%read_sql\n",
    "-- Dedup into a single race\n",
    "DROP TABLE IF EXISTS pld_demo_race_comb;\n",
    "CREATE TRANSIENT TABLE pld_demo_race_comb AS\n",
    "    SELECT patient_id, race, ethnicity, last_update_dt, source\n",
    "      FROM pld_demo_alb_race\n",
    "    UNION\n",
    "    SELECT patient_id, race, ethnicity, last_update_dt, source\n",
    "      FROM pld_demo_race_pelican;\n"
   ]
  },
  {
   "cell_type": "code",
   "execution_count": null,
   "metadata": {
    "ExecuteTime": {
     "end_time": "2019-03-13T15:11:05.304865Z",
     "start_time": "2019-03-13T15:10:42.723608Z"
    }
   },
   "outputs": [],
   "source": [
    "%%read_sql\n",
    "--Clean up null and unknown race/ethnicity values\n",
    "BEGIN;\n",
    "UPDATE pld_demo_race_comb\n",
    "  SET race = 'Unknown'\n",
    "WHERE race IS NULL\n",
    "      OR race ilike '%Unknown%'\n",
    "      OR race ilike '%other%';\n",
    "COMMIT;\n",
    "\n",
    "BEGIN;\n",
    "UPDATE pld_demo_race_comb\n",
    "  SET ethnicity = 'Unknown'\n",
    "WHERE ethnicity IS NULL\n",
    "      OR ethnicity ilike '%Unknown%'\n",
    "      OR ethnicity ilikE '%other%';\n",
    "COMMIT;"
   ]
  },
  {
   "cell_type": "code",
   "execution_count": null,
   "metadata": {
    "ExecuteTime": {
     "end_time": "2019-03-13T15:12:53.945278Z",
     "start_time": "2019-03-13T15:12:35.711455Z"
    }
   },
   "outputs": [],
   "source": [
    "%%read_sql\n",
    "--Pull together all race information\n",
    "CREATE OR REPLACE TEMP TABLE tmp_race_all AS\n",
    "    SELECT race.patient_id,\n",
    "           race.race,\n",
    "           race.ethnicity,\n",
    "           race.source,\n",
    "           race.last_update_dt,\n",
    "           ref.race_standard\n",
    "      FROM pld_demo_race_comb race\n",
    "           LEFT JOIN pld_demo_race_ref ref\n",
    "                  ON Trim(Upper(race.race)) = ref.race\n",
    "                     AND Trim(Upper(race.ethnicity)) = ref.ethnicity\n",
    "                     AND Trim(Upper(race.source)) = ref.source;\n",
    "     \n",
    "--Identify most recent race/ethnicity information\n",
    "CREATE OR REPLACE TEMP TABLE tmp_max_dt AS\n",
    "    SELECT patient_id,\n",
    "           Max(last_update_dt) AS max_update_dt\n",
    "      FROM tmp_race_all\n",
    "     WHERE race_standard IS NOT NULL\n",
    "     GROUP BY patient_id;\n",
    "     \n",
    "--Create final table\n",
    "DROP TABLE IF EXISTS pld_demo_race_final;\n",
    "CREATE TRANSIENT TABLE pld_demo_race_final AS\n",
    "    SELECT race.patient_id,\n",
    "           Max(race.race_standard) AS race_standard\n",
    "      FROM tmp_race_all race\n",
    "           JOIN tmp_max_dt dt\n",
    "             ON race.patient_id = dt.patient_id\n",
    "                AND race.last_update_dt = dt.max_update_dt\n",
    "     GROUP BY race.patient_id;       \n",
    "     \n",
    "--Clean up the nan values and set them to null\n",
    "BEGIN;\n",
    "UPDATE pld_demo_race_final\n",
    "   SET race_standard = CASE WHEN race_standard = 'nan' THEN NULL ELSE race_standard END;\n",
    "COMMIT;"
   ]
  },
  {
   "cell_type": "code",
   "execution_count": null,
   "metadata": {
    "ExecuteTime": {
     "end_time": "2019-03-13T15:12:59.932687Z",
     "start_time": "2019-03-13T15:12:57.872481Z"
    }
   },
   "outputs": [],
   "source": [
    "%%read_sql\n",
    "--Review the counts\n",
    "SELECT race_standard,\n",
    "       Count(*) AS cnt,\n",
    "       Count(*) / (SELECT Count(*)\n",
    "                     FROM pld_demo_race_final) AS pct\n",
    "  FROM pld_demo_race_final\n",
    " GROUP BY race_standard\n",
    " ORDER BY cnt desc;"
   ]
  },
  {
   "cell_type": "markdown",
   "metadata": {},
   "source": [
    "# Final Demographic Table\n",
    "Create the final demographic table for everyone"
   ]
  },
  {
   "cell_type": "code",
   "execution_count": null,
   "metadata": {
    "ExecuteTime": {
     "end_time": "2019-03-13T15:13:55.048723Z",
     "start_time": "2019-03-13T15:13:48.354054Z"
    }
   },
   "outputs": [],
   "source": [
    "%%read_sql\n",
    "--Create final demographics table\n",
    "DROP TABLE IF EXISTS pld_demo;\n",
    "CREATE TRANSIENT TABLE pld_demo AS\n",
    "    SELECT coh.patient_id,\n",
    "           demo.age,\n",
    "           age.age_bucket,\n",
    "           demo.gender,\n",
    "           demo.date_of_birth,\n",
    "           race.race_standard\n",
    "      FROM coh_pt coh\n",
    "           LEFT JOIN pld_demo_age_gender demo\n",
    "                  ON coh.patient_id = demo.patient_id\n",
    "           LEFT JOIN pld_demo_race_final race\n",
    "                  ON coh.patient_id = race.patient_id\n",
    "           LEFT JOIN pld_demo_ref_age_bucket age\n",
    "                  On age.age = demo.age;"
   ]
  },
  {
   "cell_type": "code",
   "execution_count": null,
   "metadata": {
    "ExecuteTime": {
     "end_time": "2019-03-13T15:13:59.915148Z",
     "start_time": "2019-03-13T15:13:56.531810Z"
    }
   },
   "outputs": [],
   "source": [
    "%%read_sql\n",
    "--Confirm basic counts\n",
    "SELECT Count(*) AS row_cnt,\n",
    "       Count(Distinct patient_id) AS patient_cnt\n",
    "  FROM pld_demo;"
   ]
  },
  {
   "cell_type": "code",
   "execution_count": null,
   "metadata": {
    "ExecuteTime": {
     "end_time": "2019-03-13T15:14:02.928398Z",
     "start_time": "2019-03-13T15:14:01.037209Z"
    }
   },
   "outputs": [],
   "source": [
    "%%read_sql\n",
    "--Gender breakdown\n",
    "SELECT gender,\n",
    "       Count(*) AS cnt,\n",
    "       Count(*) / (SELECT Count(*)\n",
    "                     FROM pld_demo) AS pct\n",
    "  FROM pld_demo\n",
    " GROUP BY gender;"
   ]
  },
  {
   "cell_type": "code",
   "execution_count": null,
   "metadata": {
    "ExecuteTime": {
     "end_time": "2019-03-13T15:15:33.929732Z",
     "start_time": "2019-03-13T15:15:32.096549Z"
    }
   },
   "outputs": [],
   "source": [
    "%%read_sql\n",
    "--Review age buckets for sanity\n",
    "SELECT age_bucket,\n",
    "       Count(*) AS row_cnt,\n",
    "       Count(Distinct patient_id) AS pt_cnt,\n",
    "       Count(*) / (SELECT Count(*)\n",
    "                     FROM pld_demo) AS pt_pct\n",
    "  FROM pld_demo\n",
    " GROUP BY age_bucket\n",
    " ORDER BY age_bucket;"
   ]
  },
  {
   "cell_type": "code",
   "execution_count": null,
   "metadata": {
    "ExecuteTime": {
     "end_time": "2019-03-13T15:15:43.513290Z",
     "start_time": "2019-03-13T15:15:41.513090Z"
    }
   },
   "outputs": [],
   "source": [
    "%%read_sql\n",
    "--Race Breakdown\n",
    "SELECT race_standard,\n",
    "       Count(*) AS cnt,\n",
    "       Sum(CASE WHEN race_standard IS NOT NULL THEN 1 ELSE 0 END) \n",
    "          / (SELECT Count(*)\n",
    "                     FROM pld_demo\n",
    "                    WHERE race_standard IS NOT NULL) AS share,\n",
    "       Count(*) / (SELECT Count(*)\n",
    "                     FROM pld_demo) AS pct                  \n",
    "  FROM pld_demo\n",
    " GROUP BY race_standard\n",
    " ORDER BY cnt DESC;"
   ]
  },
  {
   "cell_type": "markdown",
   "metadata": {},
   "source": [
    "# Drop Tables\n",
    "Drop the intermediate tables"
   ]
  },
  {
   "cell_type": "code",
   "execution_count": 2,
   "metadata": {
    "ExecuteTime": {
     "end_time": "2019-03-13T19:15:27.278360Z",
     "start_time": "2019-03-13T19:15:07.828664Z"
    }
   },
   "outputs": [
    {
     "name": "stdout",
     "output_type": "stream",
     "text": [
      "Query started at 03:15:07 PM Eastern Daylight TimeInitiating login request with your identity provider. A browser window should have opened for you to complete the login. If you can't see it, check existing browser windows, or your OS settings. Press CTRL+C to abort and try again...\n",
      "; Query executed in 0.13 mQuery started at 03:15:15 PM Eastern Daylight Time; Query executed in 0.04 mQuery started at 03:15:18 PM Eastern Daylight Time; Query executed in 0.03 mQuery started at 03:15:19 PM Eastern Daylight Time; Query executed in 0.03 mQuery started at 03:15:21 PM Eastern Daylight Time; Query executed in 0.03 mQuery started at 03:15:23 PM Eastern Daylight Time; Query executed in 0.03 mQuery started at 03:15:25 PM Eastern Daylight Time; Query executed in 0.03 m"
     ]
    },
    {
     "data": {
      "text/html": [
       "<div>\n",
       "<style scoped>\n",
       "    .dataframe tbody tr th:only-of-type {\n",
       "        vertical-align: middle;\n",
       "    }\n",
       "\n",
       "    .dataframe tbody tr th {\n",
       "        vertical-align: top;\n",
       "    }\n",
       "\n",
       "    .dataframe thead th {\n",
       "        text-align: right;\n",
       "    }\n",
       "</style>\n",
       "<table border=\"1\" class=\"dataframe\">\n",
       "  <thead>\n",
       "    <tr style=\"text-align: right;\">\n",
       "      <th></th>\n",
       "      <th>status</th>\n",
       "    </tr>\n",
       "  </thead>\n",
       "  <tbody>\n",
       "    <tr>\n",
       "      <th>0</th>\n",
       "      <td>PLD_DEMO_REF_AGE_BUCKET successfully dropped.</td>\n",
       "    </tr>\n",
       "  </tbody>\n",
       "</table>\n",
       "</div>"
      ],
      "text/plain": [
       "                                          status\n",
       "0  PLD_DEMO_REF_AGE_BUCKET successfully dropped."
      ]
     },
     "execution_count": 2,
     "metadata": {},
     "output_type": "execute_result"
    }
   ],
   "source": [
    "%%read_sql\n",
    "DROP TABLE IF EXISTS PLD_DEMO_AGE_GENDER;\n",
    "DROP TABLE IF EXISTS PLD_DEMO_ALB_RACE;\n",
    "DROP TABLE IF EXISTS PLD_DEMO_RACE_COMB;\n",
    "DROP TABLE IF EXISTS PLD_DEMO_RACE_FINAL;\n",
    "DROP TABLE IF EXISTS PLD_DEMO_RACE_PELICAN;\n",
    "DROP TABLE IF EXISTS PLD_DEMO_RACE_REF;\n",
    "DROP TABLE IF EXISTS PLD_DEMO_REF_AGE_BUCKET;"
   ]
  }
 ],
 "metadata": {
  "kernelspec": {
   "display_name": "Python 3",
   "language": "python",
   "name": "python3"
  },
  "language_info": {
   "codemirror_mode": {
    "name": "ipython",
    "version": 3
   },
   "file_extension": ".py",
   "mimetype": "text/x-python",
   "name": "python",
   "nbconvert_exporter": "python",
   "pygments_lexer": "ipython3",
   "version": "3.7.3"
  },
  "toc": {
   "nav_menu": {},
   "number_sections": true,
   "sideBar": true,
   "skip_h1_title": false,
   "title_cell": "Table of Contents",
   "title_sidebar": "Contents",
   "toc_cell": false,
   "toc_position": {
    "height": "725px",
    "left": "988px",
    "top": "95px",
    "width": "225px"
   },
   "toc_section_display": true,
   "toc_window_display": true
  }
 },
 "nbformat": 4,
 "nbformat_minor": 2
}
