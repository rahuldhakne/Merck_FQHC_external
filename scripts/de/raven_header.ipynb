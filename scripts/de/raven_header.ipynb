{
 "cells": [
  {
   "cell_type": "markdown",
   "metadata": {},
   "source": [
    "# Raven Header\n",
    "Extract all Raven header records for `coh_pt` between date parameters\n",
    "\n",
    "**Script**\n",
    "* [scripts/de/raven_header.ipynb](./scripts/de/raven_header.ipynb)\n",
    "\n",
    "**Prior Script(s)**\n",
    "* [scripts/coh/coh_basic.ipynb](./scripts/coh/coh_basic.ipynb)\n",
    "\n",
    "**Parameters**\n",
    "* `in/de/raven_extract.xlsx[raven_extract]`\n",
    "\n",
    "**Input**\n",
    "* `coh_pt`\n",
    "* `rwd_db.rwd.raven_external_claims_submits_header`\n",
    "\n",
    "**Output**  \n",
    "* `de_raven_header`\n",
    "\n",
    "**Review**\n",
    "* [scripts/de/raven_header.html](./scripts/de/raven_header.html)"
   ]
  },
  {
   "cell_type": "code",
   "execution_count": null,
   "metadata": {},
   "outputs": [],
   "source": [
    "#Import libraries for this notebook\n",
    "import pandas as pd  \n",
    "from drg_connect import Snowflake\n",
    "import numpy as np\n",
    "import pickle\n",
    "from IPython.core.interactiveshell import InteractiveShell\n",
    "InteractiveShell.ast_node_interactivity = \"all\"\n",
    "\n",
    "#Load connection variables to connect_dict\n",
    "with open('../../out/conn/connect_dict.pickle', 'rb') as handle:\n",
    "    connect_dict = pickle.load(handle)\n",
    "\n",
    "#Create Eegine to connect to snowflake\n",
    "snow = Snowflake(role=connect_dict['role'],\n",
    "                 warehouse=connect_dict['warehouse'],\n",
    "                 database=connect_dict['database'],\n",
    "                 schema=connect_dict['schema'])\n",
    "\n",
    "#Finish engine setup\n",
    "engine = snow.engine\n",
    "%load_ext sql_magic\n",
    "%config SQL.conn_name = 'engine'  #Set the sql_magic connection engine\n",
    "%config SQL.output_result = True  #Enable output to std out\n",
    "%config SQL.notify_result = False #disable browser notifications\n"
   ]
  },
  {
   "cell_type": "markdown",
   "metadata": {},
   "source": [
    "# Parameters\n",
    "Create python variables of the parameters\n",
    "\n",
    " **Input**  \n",
    "* `in/extract/raven_extract.xlsx[raven_extract]`\n",
    "\n",
    "**Output**\n",
    "* Python variables named after parameters with the value"
   ]
  },
  {
   "cell_type": "code",
   "execution_count": null,
   "metadata": {},
   "outputs": [],
   "source": [
    "#Create system variables from excel into script and review values in dictionary\n",
    "input_df = pd.read_excel('../../in/de/raven_extract.xlsx', sheet_name='raven_extract', skiprows=4, dtype=str)\n",
    "var_dict = dict(zip(input_df.parameter, input_df.value))\n",
    "for key,val in var_dict.items(): exec(key + '=val')\n",
    "\n",
    "#Check inputs\n",
    "pd.DataFrame.from_dict(var_dict, orient='index')"
   ]
  },
  {
   "cell_type": "markdown",
   "metadata": {},
   "source": [
    "# Extract Data\n",
    "Extract subset of raven diagnosis for the patients of interest between specified date ranges\n",
    "\n",
    "**Parameters**\n",
    "  * `header_start_dt`\n",
    "  * `header_end_dt`  \n",
    "  \n",
    "**Input**\n",
    "  * `coh_pt`\n",
    "  * `rwd_db.rwd.raven_external_claims_submits_header`\n",
    "  \n",
    "**Output**  \n",
    "* `de_raven_header`"
   ]
  },
  {
   "cell_type": "code",
   "execution_count": null,
   "metadata": {},
   "outputs": [],
   "source": [
    "%%read_sql\n",
    "--Create raven header table\n",
    "DROP TABLE IF EXISTS de_raven_header;\n",
    "CREATE TRANSIENT TABLE de_raven_header AS \n",
    "  SELECT claim_id, \n",
    "         patient_id, \n",
    "         received_date, \n",
    "         claim_type_code, \n",
    "         statement_from, \n",
    "         statement_to, \n",
    "         min_service_from, \n",
    "         max_service_to, \n",
    "         drg_code, \n",
    "         type_bill, \n",
    "         admission_date, \n",
    "         admit_type_code, \n",
    "         admit_src_code, \n",
    "         discharge_hour, \n",
    "         discharge_status, \n",
    "         year_of_service \n",
    "    #FROM rwd_db.rwd.raven_claims_submits_header\n",
    "    FROM rwd_db.rwd.raven_external_claims_submits_header\n",
    "   WHERE year_of_service BETWEEN '{header_start_dt}' AND '{header_end_dt}' \n",
    "         AND patient_id IN (SELECT patient_id \n",
    "                              FROM coh_pt); "
   ]
  },
  {
   "cell_type": "code",
   "execution_count": null,
   "metadata": {},
   "outputs": [],
   "source": [
    "%%read_sql\n",
    "--Review counts as a sanity check\n",
    "SELECT Count(*) AS row_cnt,\n",
    "       Count(Distinct claim_id) AS claim_cnt,\n",
    "       Count(Distinct patient_id) AS patient_cnt\n",
    "  FROM de_raven_header;"
   ]
  }
 ],
 "metadata": {
  "kernelspec": {
   "display_name": "Python 3",
   "language": "python",
   "name": "python3"
  },
  "language_info": {
   "codemirror_mode": {
    "name": "ipython",
    "version": 3
   },
   "file_extension": ".py",
   "mimetype": "text/x-python",
   "name": "python",
   "nbconvert_exporter": "python",
   "pygments_lexer": "ipython3",
   "version": "3.7.3"
  },
  "toc": {
   "nav_menu": {},
   "number_sections": true,
   "sideBar": true,
   "skip_h1_title": false,
   "title_cell": "Table of Contents",
   "title_sidebar": "Contents",
   "toc_cell": false,
   "toc_position": {
    "height": "725px",
    "left": "988px",
    "top": "95px",
    "width": "275px"
   },
   "toc_section_display": true,
   "toc_window_display": true
  }
 },
 "nbformat": 4,
 "nbformat_minor": 2
}
