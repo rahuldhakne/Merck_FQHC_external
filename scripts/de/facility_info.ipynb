{
 "cells": [
  {
   "cell_type": "markdown",
   "metadata": {},
   "source": [
    "# Facility Information\n",
    "Extract the subset of facility information for all NPI on claims for this analysis\n",
    "\n",
    "**Script**\n",
    "* [scripts/de/facility_info.ipynb](./scripts/de/facility_info.ipynb)\n",
    "\n",
    "**Prior Script(s)**\n",
    "* [scripts/coh/coh_basic_prov.ipynb](./scripts/coh/coh_basic_prov.ipynb)\n",
    "\n",
    "**Parameters**\n",
    "* NONE\n",
    "\n",
    "**Input**\n",
    "* `coh_npi`\n",
    "\n",
    "**Output**  \n",
    "* `de_facility_to_parent`\n",
    "* `de_facility_hb_npi_link`\n",
    "\n",
    "**Review**\n",
    "* [scripts/de/facility_info.html](./scripts/de/facility_info.html)"
   ]
  },
  {
   "cell_type": "code",
   "execution_count": null,
   "metadata": {
    "ExecuteTime": {
     "end_time": "2019-04-03T20:28:19.549410Z",
     "start_time": "2019-04-03T20:28:13.129768Z"
    }
   },
   "outputs": [],
   "source": [
    "#Import libraries for this notebook\n",
    "import pandas as pd  \n",
    "from drg_connect import Snowflake\n",
    "import numpy as np\n",
    "import pickle\n",
    "from IPython.core.interactiveshell import InteractiveShell\n",
    "InteractiveShell.ast_node_interactivity = \"all\"\n",
    "\n",
    "#Load connection variables to connect_dict\n",
    "with open('../../out/conn/connect_dict.pickle', 'rb') as handle:\n",
    "    connect_dict = pickle.load(handle)\n",
    "\n",
    "#Create Eegine to connect to snowflake\n",
    "snow = Snowflake(role=connect_dict['role'],\n",
    "                 warehouse=connect_dict['warehouse'],\n",
    "                 database=connect_dict['database'],\n",
    "                 schema=connect_dict['schema'])\n",
    "\n",
    "#Finish engine setup\n",
    "engine = snow.engine\n",
    "%load_ext sql_magic\n",
    "%config SQL.conn_name = 'engine'  #Set the sql_magic connection engine\n",
    "%config SQL.output_result = True  #Enable output to std out\n",
    "%config SQL.notify_result = False #disable browser notifications\n"
   ]
  },
  {
   "cell_type": "markdown",
   "metadata": {},
   "source": [
    "# Extract Data"
   ]
  },
  {
   "cell_type": "code",
   "execution_count": null,
   "metadata": {
    "ExecuteTime": {
     "end_time": "2019-04-03T20:28:38.051188Z",
     "start_time": "2019-04-03T20:28:19.552410Z"
    }
   },
   "outputs": [],
   "source": [
    "%%read_sql\n",
    "--Create raven diagnosis table\n",
    "DROP TABLE IF EXISTS de_facility_to_parent;\n",
    "CREATE TRANSIENT TABLE de_facility_to_parent AS \n",
    "  SELECT DISTINCT fac.*\n",
    "    FROM ref_db.analytics.facility_to_parent fac\n",
    "         JOIN rwd_db.rwd.healthbase_entitylookup ent\n",
    "           ON ent.healthbase_id = fac.facility_hb_id\n",
    "   WHERE ent.identifier_type = 'NPI'\n",
    "         AND ent.identifier IN (SELECT npi \n",
    "                                  FROM coh_npi); "
   ]
  },
  {
   "cell_type": "code",
   "execution_count": null,
   "metadata": {
    "ExecuteTime": {
     "end_time": "2019-04-03T20:28:40.359419Z",
     "start_time": "2019-04-03T20:28:38.053188Z"
    }
   },
   "outputs": [],
   "source": [
    "%%read_sql\n",
    "SELECT Count(*) AS row_cnt,\n",
    "       Count(Distinct facility_hb_id) AS facility_cnt\n",
    "  FROM de_facility_to_parent"
   ]
  },
  {
   "cell_type": "code",
   "execution_count": null,
   "metadata": {
    "ExecuteTime": {
     "end_time": "2019-04-03T20:28:47.898173Z",
     "start_time": "2019-04-03T20:28:40.363419Z"
    }
   },
   "outputs": [],
   "source": [
    "%%read_sql\n",
    "--Create subset of rwd_db.rwd.healthbase_entitylookup to map NPIs to Healthbase Ids\n",
    "DROP TABLE IF EXISTS de_facility_hb_npi_link;\n",
    "CREATE TRANSIENT TABLE de_facility_hb_npi_link AS\n",
    "    SELECT healthbase_id AS facility_hb_id,\n",
    "           identifier    AS npi,\n",
    "           label\n",
    "      FROM rwd_db.rwd.healthbase_entitylookup\n",
    "     WHERE identifier_type = 'NPI';"
   ]
  },
  {
   "cell_type": "code",
   "execution_count": null,
   "metadata": {
    "ExecuteTime": {
     "end_time": "2019-04-03T20:28:52.678651Z",
     "start_time": "2019-04-03T20:28:47.903173Z"
    }
   },
   "outputs": [],
   "source": [
    "%%read_sql\n",
    "--Review Counts of the npi-healthbase id link\n",
    "SELECT Count(*) AS row_cnt,\n",
    "       Count(Distinct facility_hb_id) AS hb_cnt,\n",
    "       Count(Distinct npi) AS npi_cnt\n",
    "  FROM de_facility_hb_npi_link;"
   ]
  }
 ],
 "metadata": {
  "kernelspec": {
   "display_name": "Python 3",
   "language": "python",
   "name": "python3"
  },
  "language_info": {
   "codemirror_mode": {
    "name": "ipython",
    "version": 3
   },
   "file_extension": ".py",
   "mimetype": "text/x-python",
   "name": "python",
   "nbconvert_exporter": "python",
   "pygments_lexer": "ipython3",
   "version": "3.7.3"
  },
  "toc": {
   "nav_menu": {},
   "number_sections": true,
   "sideBar": true,
   "skip_h1_title": false,
   "title_cell": "Table of Contents",
   "title_sidebar": "Contents",
   "toc_cell": false,
   "toc_position": {
    "height": "725px",
    "left": "988px",
    "top": "95px",
    "width": "275px"
   },
   "toc_section_display": true,
   "toc_window_display": true
  }
 },
 "nbformat": 4,
 "nbformat_minor": 2
}
