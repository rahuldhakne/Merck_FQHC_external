{
 "cells": [
  {
   "cell_type": "markdown",
   "metadata": {},
   "source": [
    "# Raven Procedure\n",
    "Extract all Raven procedure records for `coh_pt` between date parameters\n",
    "\n",
    "**Script**\n",
    "* [scripts/de/raven_procedure.ipynb](./scripts/de/raven_procedure.ipynb)\n",
    "\n",
    "**Prior Script(s)**\n",
    "* [scripts/coh/coh_basic.ipynb](./scripts/coh/coh_basic.ipynb)\n",
    "\n",
    "**Parameters**\n",
    "* `in/de/raven_extract.xlsx[raven_extract]`\n",
    "\n",
    "**Input**\n",
    "* `coh_pt`\n",
    "* `rwd_db.rwd.raven_external_claims_submits_procedure `\n",
    "\n",
    "**Output**  \n",
    "* `de_raven_procedure`\n",
    "\n",
    "**Review**\n",
    "* [scripts/de/raven_procedure.html](./scripts/de/raven_procedure.html)"
   ]
  },
  {
   "cell_type": "code",
   "execution_count": null,
   "metadata": {},
   "outputs": [],
   "source": [
    "#Import libraries for this notebook\n",
    "import pandas as pd  \n",
    "from drg_connect import Snowflake\n",
    "import numpy as np\n",
    "import pickle\n",
    "from IPython.core.interactiveshell import InteractiveShell\n",
    "InteractiveShell.ast_node_interactivity = \"all\"\n",
    "\n",
    "#Load connection variables to connect_dict\n",
    "with open('../../out/conn/connect_dict.pickle', 'rb') as handle:\n",
    "    connect_dict = pickle.load(handle)\n",
    "\n",
    "#Create Eegine to connect to snowflake\n",
    "snow = Snowflake(role=connect_dict['role'],\n",
    "                 warehouse=connect_dict['warehouse'],\n",
    "                 database=connect_dict['database'],\n",
    "                 schema=connect_dict['schema'])\n",
    "\n",
    "#Finish engine setup\n",
    "engine = snow.engine\n",
    "%load_ext sql_magic\n",
    "%config SQL.conn_name = 'engine'  #Set the sql_magic connection engine\n",
    "%config SQL.output_result = True  #Enable output to std out\n",
    "%config SQL.notify_result = False #disable browser notifications\n"
   ]
  },
  {
   "cell_type": "markdown",
   "metadata": {},
   "source": [
    "# Parameters\n",
    "Create python variables of the parameters\n",
    "\n",
    " **Input**  \n",
    "* `in/extract/raven_extract.xlsx[raven_extract]`\n",
    "\n",
    "**Output**\n",
    "* Python variables named after parameters with the value"
   ]
  },
  {
   "cell_type": "code",
   "execution_count": null,
   "metadata": {},
   "outputs": [],
   "source": [
    "input_df = pd.read_excel('../../in/de/raven_extract.xlsx', sheet_name='raven_extract', skiprows=4, dtype=str)\n",
    "var_dict = dict(zip(input_df.parameter, input_df.value))\n",
    "for key,val in var_dict.items(): exec(key + '=val')\n",
    "\n",
    "#Check inputs\n",
    "pd.DataFrame.from_dict(var_dict, orient='index')"
   ]
  },
  {
   "cell_type": "markdown",
   "metadata": {},
   "source": [
    "# Extract Data\n",
    "Extract subset of raven diagnosis for the patients of interest between specified date ranges\n",
    "\n",
    "**Parameters**\n",
    "  * `procedure_start_dt`\n",
    "  * `procedure_end_dt`  \n",
    "  \n",
    "**Input**\n",
    "  * `coh_pt`\n",
    "  * `rwd_db.rwd.raven_external_claims_submits_procedure`\n",
    "  \n",
    "**Output**  \n",
    "* `de_raven_proc`"
   ]
  },
  {
   "cell_type": "code",
   "execution_count": null,
   "metadata": {},
   "outputs": [],
   "source": [
    "%%read_sql\n",
    "--Create raven diagnosis table\n",
    "DROP TABLE IF EXISTS de_raven_procedure; \n",
    "CREATE TRANSIENT TABLE de_raven_procedure AS \n",
    "  SELECT patient_id, \n",
    "         claim_id, \n",
    "         procedure_type, \n",
    "         procedure, \n",
    "         procedure_sequence, \n",
    "         line_number, \n",
    "         year_of_service, \n",
    "         place_service, \n",
    "         ndc\n",
    "    #FROM rwd_db.rwd.raven_claims_submits_procedure \n",
    "    FROM rwd_db.rwd.raven_external_claims_submits_procedure\n",
    "   WHERE year_of_service BETWEEN '{procedure_start_dt}' AND '{procedure_end_dt}' \n",
    "         AND patient_id IN (SELECT patient_id \n",
    "                              FROM coh_pt); "
   ]
  },
  {
   "cell_type": "code",
   "execution_count": null,
   "metadata": {},
   "outputs": [],
   "source": [
    "%%read_sql\n",
    "--Review counts as a sanity check\n",
    "SELECT Count(*) AS row_cnt,\n",
    "       Count(Distinct claim_id) AS claim_cnt,\n",
    "       Count(Distinct patient_id) AS patient_cnt\n",
    "  FROM de_raven_procedure;"
   ]
  }
 ],
 "metadata": {
  "kernelspec": {
   "display_name": "Python 3",
   "language": "python",
   "name": "python3"
  },
  "language_info": {
   "codemirror_mode": {
    "name": "ipython",
    "version": 3
   },
   "file_extension": ".py",
   "mimetype": "text/x-python",
   "name": "python",
   "nbconvert_exporter": "python",
   "pygments_lexer": "ipython3",
   "version": "3.7.3"
  },
  "toc": {
   "nav_menu": {},
   "number_sections": true,
   "sideBar": true,
   "skip_h1_title": false,
   "title_cell": "Table of Contents",
   "title_sidebar": "Contents",
   "toc_cell": false,
   "toc_position": {
    "height": "725px",
    "left": "988px",
    "top": "95px",
    "width": "275px"
   },
   "toc_section_display": true,
   "toc_window_display": true
  }
 },
 "nbformat": 4,
 "nbformat_minor": 2
}
