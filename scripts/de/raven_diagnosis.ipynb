{
 "cells": [
  {
   "cell_type": "markdown",
   "metadata": {},
   "source": [
    "# Raven Diagnosis\n",
    "Extract all Raven diagnosis records for `coh_pt` between date parameters\n",
    "\n",
    "**Script**\n",
    "* [scripts/de/raven_diagnosis.ipynb](./scripts/de/raven_diagnosis.ipynb)\n",
    "\n",
    "**Prior Script(s)**\n",
    "* [scripts/coh/coh_basic.ipynb](./scripts/coh/coh_basic.ipynb)\n",
    "\n",
    "**Parameters**\n",
    "* `in/de/raven_extract.xlsx[raven_extract]`\n",
    "\n",
    "**Input**\n",
    "* `coh_pt`\n",
    "* `rwd_db.rwd.raven_external_claims_submits_diagnosis`\n",
    "\n",
    "**Output**  \n",
    "* `de_raven_diagnosis`\n",
    "\n",
    "**Review**\n",
    "* [scripts/de/raven_diagnosis.html](./scripts/de/raven_diagnosis.html)"
   ]
  },
  {
   "cell_type": "code",
   "execution_count": 1,
   "metadata": {
    "ExecuteTime": {
     "end_time": "2019-05-07T15:34:47.002421Z",
     "start_time": "2019-05-07T15:34:43.506071Z"
    }
   },
   "outputs": [
    {
     "data": {
      "application/javascript": [
       "\n",
       "    require(['notebook/js/codecell'], function(codecell) {\n",
       "      // https://github.com/jupyter/notebook/issues/2453\n",
       "      codecell.CodeCell.options_default.highlight_modes['magic_text/x-sql'] = {'reg':[/^%read_sql/, /.*=\\s*%read_sql/,\n",
       "                                                                                      /^%%read_sql/]};\n",
       "      Jupyter.notebook.events.one('kernel_ready.Kernel', function(){\n",
       "          console.log('BBBBB');\n",
       "          Jupyter.notebook.get_cells().map(function(cell){\n",
       "              if (cell.cell_type == 'code'){ cell.auto_highlight(); } }) ;\n",
       "      });\n",
       "    });\n",
       "    "
      ]
     },
     "metadata": {},
     "output_type": "display_data"
    }
   ],
   "source": [
    "#Import libraries for this notebook\n",
    "import pandas as pd  \n",
    "from drg_connect import Snowflake\n",
    "import numpy as np\n",
    "import pickle\n",
    "from IPython.core.interactiveshell import InteractiveShell\n",
    "InteractiveShell.ast_node_interactivity = \"all\"\n",
    "\n",
    "#Load connection variables to connect_dict\n",
    "with open('../../out/conn/connect_dict.pickle', 'rb') as handle:\n",
    "    connect_dict = pickle.load(handle)\n",
    "\n",
    "#Create Eegine to connect to snowflake\n",
    "snow = Snowflake(role=connect_dict['role'],\n",
    "                 warehouse=connect_dict['warehouse'],\n",
    "                 database=connect_dict['database'],\n",
    "                 schema=connect_dict['schema'])\n",
    "\n",
    "#Finish engine setup\n",
    "engine = snow.engine\n",
    "%load_ext sql_magic\n",
    "%config SQL.conn_name = 'engine'  #Set the sql_magic connection engine\n",
    "%config SQL.output_result = True  #Enable output to std out\n",
    "%config SQL.notify_result = False #disable browser notifications\n"
   ]
  },
  {
   "cell_type": "markdown",
   "metadata": {},
   "source": [
    "# Parameters\n",
    "Create python variables of the parameters\n",
    "\n",
    " **Input**  \n",
    "* `in/extract/raven_extract.xlsx[raven_extract]`\n",
    "\n",
    "**Output**\n",
    "* Python variables named after parameters with the value"
   ]
  },
  {
   "cell_type": "code",
   "execution_count": 2,
   "metadata": {
    "ExecuteTime": {
     "end_time": "2019-05-07T15:34:47.083429Z",
     "start_time": "2019-05-07T15:34:47.005421Z"
    }
   },
   "outputs": [
    {
     "data": {
      "text/html": [
       "<div>\n",
       "<style scoped>\n",
       "    .dataframe tbody tr th:only-of-type {\n",
       "        vertical-align: middle;\n",
       "    }\n",
       "\n",
       "    .dataframe tbody tr th {\n",
       "        vertical-align: top;\n",
       "    }\n",
       "\n",
       "    .dataframe thead th {\n",
       "        text-align: right;\n",
       "    }\n",
       "</style>\n",
       "<table border=\"1\" class=\"dataframe\">\n",
       "  <thead>\n",
       "    <tr style=\"text-align: right;\">\n",
       "      <th></th>\n",
       "      <th>0</th>\n",
       "    </tr>\n",
       "  </thead>\n",
       "  <tbody>\n",
       "    <tr>\n",
       "      <th>diagnosis_start_dt</th>\n",
       "      <td>2015-01-01</td>\n",
       "    </tr>\n",
       "    <tr>\n",
       "      <th>diagnosis_end_dt</th>\n",
       "      <td>2018-12-31</td>\n",
       "    </tr>\n",
       "    <tr>\n",
       "      <th>procedure_start_dt</th>\n",
       "      <td>2015-01-01</td>\n",
       "    </tr>\n",
       "    <tr>\n",
       "      <th>procedure_end_dt</th>\n",
       "      <td>2018-12-31</td>\n",
       "    </tr>\n",
       "    <tr>\n",
       "      <th>pharmacy_start_dt</th>\n",
       "      <td>2015-01-01</td>\n",
       "    </tr>\n",
       "    <tr>\n",
       "      <th>pharmacy_end_dt</th>\n",
       "      <td>2018-12-31</td>\n",
       "    </tr>\n",
       "    <tr>\n",
       "      <th>payer_start_dt</th>\n",
       "      <td>2015-01-01</td>\n",
       "    </tr>\n",
       "    <tr>\n",
       "      <th>payer_end_dt</th>\n",
       "      <td>2018-12-31</td>\n",
       "    </tr>\n",
       "    <tr>\n",
       "      <th>provider_start_dt</th>\n",
       "      <td>2015-01-01</td>\n",
       "    </tr>\n",
       "    <tr>\n",
       "      <th>provider_end_dt</th>\n",
       "      <td>2018-12-31</td>\n",
       "    </tr>\n",
       "    <tr>\n",
       "      <th>header_start_dt</th>\n",
       "      <td>2015-01-01</td>\n",
       "    </tr>\n",
       "    <tr>\n",
       "      <th>header_end_dt</th>\n",
       "      <td>2018-12-31</td>\n",
       "    </tr>\n",
       "    <tr>\n",
       "      <th>patient_start_dt</th>\n",
       "      <td>2015-01-01</td>\n",
       "    </tr>\n",
       "    <tr>\n",
       "      <th>patient_end_dt</th>\n",
       "      <td>2018-12-31</td>\n",
       "    </tr>\n",
       "  </tbody>\n",
       "</table>\n",
       "</div>"
      ],
      "text/plain": [
       "                             0\n",
       "diagnosis_start_dt  2015-01-01\n",
       "diagnosis_end_dt    2018-12-31\n",
       "procedure_start_dt  2015-01-01\n",
       "procedure_end_dt    2018-12-31\n",
       "pharmacy_start_dt   2015-01-01\n",
       "pharmacy_end_dt     2018-12-31\n",
       "payer_start_dt      2015-01-01\n",
       "payer_end_dt        2018-12-31\n",
       "provider_start_dt   2015-01-01\n",
       "provider_end_dt     2018-12-31\n",
       "header_start_dt     2015-01-01\n",
       "header_end_dt       2018-12-31\n",
       "patient_start_dt    2015-01-01\n",
       "patient_end_dt      2018-12-31"
      ]
     },
     "execution_count": 2,
     "metadata": {},
     "output_type": "execute_result"
    }
   ],
   "source": [
    "#Create system variables from excel into script and review values in dictionary\n",
    "input_df = pd.read_excel('../../in/de/raven_extract.xlsx', sheet_name='raven_extract', skiprows=4, dtype=str)\n",
    "var_dict = dict(zip(input_df.parameter, input_df.value))\n",
    "for key,val in var_dict.items(): exec(key + '=val')\n",
    "\n",
    "#Check inputs\n",
    "pd.DataFrame.from_dict(var_dict, orient='index')"
   ]
  },
  {
   "cell_type": "markdown",
   "metadata": {},
   "source": [
    "# Extract Data\n",
    "Extract subset of raven diagnosis for the patients of interest between specified date ranges\n",
    "\n",
    "**Parameters**\n",
    "  * `diagnosis_start_dt`\n",
    "  * `diagnosis_end_dt`  \n",
    "  \n",
    "**Input**\n",
    "  * `coh_pt`\n",
    "  * `rwd_db.rwd.raven_external_claims_submits_diagnosis` **OR** `PCB Extract`\n",
    "  \n",
    "**Output**  \n",
    "* `de_raven_diagnosis`"
   ]
  },
  {
   "cell_type": "code",
   "execution_count": null,
   "metadata": {
    "ExecuteTime": {
     "end_time": "2019-05-07T15:34:47.507472Z",
     "start_time": "2019-05-07T15:34:43.514Z"
    }
   },
   "outputs": [],
   "source": [
    "%%read_sql\n",
    "--Create raven diagnosis table\n",
    "DROP TABLE IF EXISTS de_raven_diagnosis; \n",
    "CREATE TRANSIENT TABLE de_raven_diagnosis AS\n",
    "      SELECT patient_id,\n",
    "             claim_id,\n",
    "             code_type, \n",
    "             diagnosis,\n",
    "             diagnosis_sequence,\n",
    "             year_of_service\n",
    "        #FROM rwd_db.rwd.raven_claims_submits_diagnosis\n",
    "        FROM rwd_db.rwd.raven_external_claims_submits_diagnosis\n",
    "       WHERE year_of_service BETWEEN '{diagnosis_start_dt}' AND '{diagnosis_end_dt}'\n",
    "             AND patient_id IN (SELECT patient_id\n",
    "                                  FROM coh_pt);"
   ]
  },
  {
   "cell_type": "code",
   "execution_count": null,
   "metadata": {
    "ExecuteTime": {
     "end_time": "2019-05-07T15:34:47.510472Z",
     "start_time": "2019-05-07T15:34:43.518Z"
    }
   },
   "outputs": [],
   "source": [
    "%%read_sql\n",
    "--Review counts as a sanity check\n",
    "SELECT Count(*) AS row_cnt,\n",
    "       Count(Distinct claim_id) AS claim_cnt,\n",
    "       Count(Distinct patient_id) AS patient_cnt\n",
    "  FROM de_raven_diagnosis;"
   ]
  }
 ],
 "metadata": {
  "kernelspec": {
   "display_name": "Python 3",
   "language": "python",
   "name": "python3"
  },
  "language_info": {
   "codemirror_mode": {
    "name": "ipython",
    "version": 3
   },
   "file_extension": ".py",
   "mimetype": "text/x-python",
   "name": "python",
   "nbconvert_exporter": "python",
   "pygments_lexer": "ipython3",
   "version": "3.7.3"
  },
  "toc": {
   "nav_menu": {},
   "number_sections": true,
   "sideBar": true,
   "skip_h1_title": false,
   "title_cell": "Table of Contents",
   "title_sidebar": "Contents",
   "toc_cell": false,
   "toc_position": {
    "height": "725px",
    "left": "988px",
    "top": "95px",
    "width": "275px"
   },
   "toc_section_display": true,
   "toc_window_display": true
  }
 },
 "nbformat": 4,
 "nbformat_minor": 2
}
