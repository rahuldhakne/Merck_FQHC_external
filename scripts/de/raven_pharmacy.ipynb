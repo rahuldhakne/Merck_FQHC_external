{
 "cells": [
  {
   "cell_type": "markdown",
   "metadata": {},
   "source": [
    "# Raven Pharmacy\n",
    "Extract all Raven pharmacy records for `coh_pt` between date parameters\n",
    "\n",
    "**Script**\n",
    "* [scripts/de/raven_pharmacy.ipynb](./scripts/de/raven_pharmacy.ipynb)\n",
    "\n",
    "**Prior Script(s)**\n",
    "* [scripts/coh/coh_basic.ipynb](./scripts/coh/coh_basic.ipynb)\n",
    "\n",
    "**Parameters**\n",
    "* `in/de/raven_extract.xlsx[raven_extract]`\n",
    "\n",
    "**Input**\n",
    "* `coh_pt`\n",
    "* `rwd_db.rwd.raven_external_pharmacy`\n",
    "\n",
    "**Output**  \n",
    "* `de_raven_pharmacy`\n",
    "\n",
    "**Review**\n",
    "* [scripts/de/raven_pharmacy.html](./scripts/de/raven_pharmacy.html)"
   ]
  },
  {
   "cell_type": "code",
   "execution_count": null,
   "metadata": {
    "ExecuteTime": {
     "end_time": "2019-03-27T14:51:16.998412Z",
     "start_time": "2019-03-27T14:51:13.659078Z"
    }
   },
   "outputs": [],
   "source": [
    "#Import libraries for this notebook\n",
    "import pandas as pd  \n",
    "from drg_connect import Snowflake\n",
    "import numpy as np\n",
    "import pickle\n",
    "from IPython.core.interactiveshell import InteractiveShell\n",
    "InteractiveShell.ast_node_interactivity = \"all\"\n",
    "\n",
    "#Load connection variables to connect_dict\n",
    "with open('../../out/conn/connect_dict.pickle', 'rb') as handle:\n",
    "    connect_dict = pickle.load(handle)\n",
    "\n",
    "#Create Eegine to connect to snowflake\n",
    "snow = Snowflake(role=connect_dict['role'],\n",
    "                 warehouse=connect_dict['warehouse'],\n",
    "                 database=connect_dict['database'],\n",
    "                 schema=connect_dict['schema'])\n",
    "\n",
    "#Finish engine setup\n",
    "engine = snow.engine\n",
    "%load_ext sql_magic\n",
    "%config SQL.conn_name = 'engine'  #Set the sql_magic connection engine\n",
    "%config SQL.output_result = True  #Enable output to std out\n",
    "%config SQL.notify_result = False #disable browser notifications\n"
   ]
  },
  {
   "cell_type": "markdown",
   "metadata": {},
   "source": [
    "# Parameters\n",
    "Create python variables of the parameters\n",
    "\n",
    " **Input**  \n",
    "* `in/extract/raven_extract.xlsx[raven_extract]`\n",
    "\n",
    "**Output**\n",
    "* Python variables named after parameters with the value"
   ]
  },
  {
   "cell_type": "code",
   "execution_count": null,
   "metadata": {
    "ExecuteTime": {
     "end_time": "2019-03-27T14:51:17.144426Z",
     "start_time": "2019-03-27T14:51:17.000412Z"
    }
   },
   "outputs": [],
   "source": [
    "#Create system variables from excel into script and review values in dictionary\n",
    "input_df = pd.read_excel('../../in/de/raven_extract.xlsx', sheet_name='raven_extract', skiprows=4, dtype=str)\n",
    "var_dict = dict(zip(input_df.parameter, input_df.value))\n",
    "for key,val in var_dict.items(): exec(key + '=val')\n",
    "\n",
    "#Check inputs\n",
    "pd.DataFrame.from_dict(var_dict, orient='index')"
   ]
  },
  {
   "cell_type": "markdown",
   "metadata": {},
   "source": [
    "# Extract Data\n",
    "Extract subset of raven diagnosis for the patients of interest between specified date ranges\n",
    "\n",
    "**Parameters**\n",
    "  * `pharmacy_start_dt`\n",
    "  * `pharmacy_end_dt`  \n",
    "  \n",
    "**Input**\n",
    "  * `coh_pt`\n",
    "  * `rwd_db.rwd.raven_external_pharmacy`\n",
    "  \n",
    "**Output**  \n",
    "* `de_raven_pharmacy`"
   ]
  },
  {
   "cell_type": "code",
   "execution_count": null,
   "metadata": {
    "ExecuteTime": {
     "end_time": "2019-03-27T15:02:27.545714Z",
     "start_time": "2019-03-27T14:52:18.468678Z"
    }
   },
   "outputs": [],
   "source": [
    "%%read_sql\n",
    "--Create Raven pharmacy table\n",
    "DROP TABLE IF EXISTS de_raven_pharmacy;\n",
    "CREATE TRANSIENT TABLE de_raven_pharmacy AS\n",
    "    SELECT ( patient_id \n",
    "             || prescription_or_service_reference_number \n",
    "             || fill_number \n",
    "             || Trim(product_or_service_id) ) AS script_id, \n",
    "           patient_id, \n",
    "           claim_id, \n",
    "           prescriber_id                      AS npi, \n",
    "           product_or_service_id              AS ndc, \n",
    "           date_of_service, \n",
    "           Year(date_of_service)              AS service_year, \n",
    "           Quarter(date_of_service)           AS service_quarter, \n",
    "           zip3, \n",
    "           prescription_or_service_reference_number, \n",
    "           ncpdp_number, \n",
    "           date_prescription_written, \n",
    "           gross_amount_due_submitted, \n",
    "           patient_paid_amount_submitted, \n",
    "           patient_pay_amount, \n",
    "           total_amount_paid, \n",
    "           type_of_payment, \n",
    "           days_supply, \n",
    "           fill_number, \n",
    "           quantity_dispensed, \n",
    "           number_of_refills_authorized, \n",
    "           transaction_code, \n",
    "           response_code, \n",
    "           reject_code_1, \n",
    "           reject_code_2, \n",
    "           reject_code_3, \n",
    "           reject_code_4, \n",
    "           reject_code_5, \n",
    "           provider_id, \n",
    "           provider_npi, \n",
    "           plan_name, \n",
    "           date_authorized, \n",
    "           time_authorized, \n",
    "           etl_update_ts, \n",
    "           data_source \n",
    "      #FROM rwd_db.rwd.raven_pharmacy \n",
    "      FROM rwd_db.rwd.raven_external_pharmacy\n",
    "     WHERE (date_of_service BETWEEN '{pharmacy_start_dt}' AND '{pharmacy_end_dt}' )\n",
    "           AND (patient_id IN (SELECT patient_id \n",
    "                                FROM coh_pt)\n",
    "               OR claim_id IN (SELECT claim_id\n",
    "                                 FROM coh_basic_raven_pharmacy)); "
   ]
  },
  {
   "cell_type": "code",
   "execution_count": null,
   "metadata": {
    "ExecuteTime": {
     "end_time": "2019-03-27T15:02:29.820873Z",
     "start_time": "2019-03-27T15:02:27.545714Z"
    }
   },
   "outputs": [],
   "source": [
    "%%read_sql\n",
    "--Review counts as a sanity check\n",
    "SELECT Count(*) AS row_cnt,\n",
    "       Count(Distinct patient_id) AS patient_cnt\n",
    "  FROM de_raven_pharmacy;"
   ]
  }
 ],
 "metadata": {
  "kernelspec": {
   "display_name": "Python 3",
   "language": "python",
   "name": "python3"
  },
  "language_info": {
   "codemirror_mode": {
    "name": "ipython",
    "version": 3
   },
   "file_extension": ".py",
   "mimetype": "text/x-python",
   "name": "python",
   "nbconvert_exporter": "python",
   "pygments_lexer": "ipython3",
   "version": "3.7.3"
  },
  "toc": {
   "nav_menu": {},
   "number_sections": true,
   "sideBar": true,
   "skip_h1_title": false,
   "title_cell": "Table of Contents",
   "title_sidebar": "Contents",
   "toc_cell": false,
   "toc_position": {
    "height": "725px",
    "left": "988px",
    "top": "95px",
    "width": "275px"
   },
   "toc_section_display": true,
   "toc_window_display": true
  }
 },
 "nbformat": 4,
 "nbformat_minor": 2
}
