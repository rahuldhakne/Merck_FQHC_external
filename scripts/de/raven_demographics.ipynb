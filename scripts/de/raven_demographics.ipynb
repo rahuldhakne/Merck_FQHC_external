{
 "cells": [
  {
   "cell_type": "markdown",
   "metadata": {},
   "source": [
    "# Raven Demographics\n",
    "Extract all Raven demographic records for `coh_pt`\n",
    "\n",
    "**Script**\n",
    "* [scripts/de/raven_demographics.ipynb](./scripts/de/raven_demographics.ipynb)\n",
    "\n",
    "**Prior Script(s)**\n",
    "* [scripts/coh/coh_basic.ipynb](./scripts/coh/coh_basic.ipynb)\n",
    "\n",
    "**Parameters**\n",
    "* `in/de/raven_extract.xlsx[raven_extract]`\n",
    "\n",
    "**Input**\n",
    "* `coh_pt`\n",
    "* `rwd_db.rwd.raven_patient_demographics`\n",
    "\n",
    "**Output**  \n",
    "* `de_raven_demographics`\n",
    "\n",
    "**Review**\n",
    "* [scripts/de/raven_demographics.html](./scripts/de/raven_demographics.html)"
   ]
  },
  {
   "cell_type": "code",
   "execution_count": null,
   "metadata": {},
   "outputs": [],
   "source": [
    "#Import libraries for this notebook\n",
    "import pandas as pd  \n",
    "from drg_connect import Snowflake\n",
    "import numpy as np\n",
    "import pickle\n",
    "from IPython.core.interactiveshell import InteractiveShell\n",
    "InteractiveShell.ast_node_interactivity = \"all\"\n",
    "\n",
    "#Load connection variables to connect_dict\n",
    "with open('../../out/conn/connect_dict.pickle', 'rb') as handle:\n",
    "    connect_dict = pickle.load(handle)\n",
    "\n",
    "#Create Eegine to connect to snowflake\n",
    "snow = Snowflake(role=connect_dict['role'],\n",
    "                 warehouse=connect_dict['warehouse'],\n",
    "                 database=connect_dict['database'],\n",
    "                 schema=connect_dict['schema'])\n",
    "\n",
    "#Finish engine setup\n",
    "engine = snow.engine\n",
    "%load_ext sql_magic\n",
    "%config SQL.conn_name = 'engine'  #Set the sql_magic connection engine\n",
    "%config SQL.output_result = True  #Enable output to std out\n",
    "%config SQL.notify_result = False #disable browser notifications\n"
   ]
  },
  {
   "cell_type": "markdown",
   "metadata": {},
   "source": [
    "# Extract Data\n",
    "**Input**\n",
    "  * `coh_pt`\n",
    "  * `rwd_db.rwd.raven_patient_demographics`\n",
    "\n",
    "**Output**  \n",
    "* `de_raven_demographics`"
   ]
  },
  {
   "cell_type": "code",
   "execution_count": null,
   "metadata": {},
   "outputs": [],
   "source": [
    "%%read_sql\n",
    "--Create raven diagnosis table\n",
    "DROP TABLE IF EXISTS de_raven_demographics; \n",
    "CREATE TRANSIENT TABLE de_raven_demographics AS\n",
    "      SELECT encrypted_key_1,\n",
    "             encrypted_key_2,\n",
    "             patient_id,\n",
    "             source_of_patient,\n",
    "             gender,\n",
    "             date_of_birth,\n",
    "             consistency_score\n",
    "        FROM rwd_db.rwd.raven_patient_demographics\n",
    "       WHERE patient_id IN (SELECT patient_id\n",
    "                              FROM coh_pt);"
   ]
  },
  {
   "cell_type": "code",
   "execution_count": null,
   "metadata": {},
   "outputs": [],
   "source": [
    "%%read_sql\n",
    "--Review counts as a sanity check\n",
    "SELECT Count(*)                        AS row_cnt,\n",
    "       Count(Distinct encrypted_key_1,\n",
    "                      encrypted_key_2) AS key_cnt,\n",
    "       Count(Distinct patient_id)      AS pt_cnt,\n",
    "       Count(source_of_patient)        AS pt_source,\n",
    "       Count(gender)                   AS gender_cnt,\n",
    "       Count(date_of_birth)            AS dob_cnt\n",
    "  FROM de_raven_demographics;"
   ]
  },
  {
   "cell_type": "code",
   "execution_count": null,
   "metadata": {},
   "outputs": [],
   "source": [
    "%%read_sql\n",
    "--Breakdown source of patient\n",
    "SET pt_cnt = (SELECT Count(*) FROM de_raven_demographics);\n",
    "\n",
    "SELECT source_of_patient,\n",
    "       Count(*) AS cnt,\n",
    "       (Count(*) / $pt_cnt) AS pct\n",
    "  FROM de_raven_demographics\n",
    " GROUP BY source_of_patient\n",
    " ORDER BY source_of_patient;\n"
   ]
  },
  {
   "cell_type": "code",
   "execution_count": null,
   "metadata": {},
   "outputs": [],
   "source": [
    "%%read_sql\n",
    "--Calcualte gender breakdown\n",
    "SET pt_cnt = (SELECT Count(*) FROM de_raven_demographics);\n",
    "\n",
    "SELECT gender               AS gender,\n",
    "       Count(*)             AS cnt,\n",
    "       (Count(*) / $pt_cnt) AS pct \n",
    "  FROM de_raven_demographics\n",
    " GROUP BY gender;"
   ]
  },
  {
   "cell_type": "code",
   "execution_count": null,
   "metadata": {},
   "outputs": [],
   "source": [
    "%%read_sql\n",
    "--Determine year of birth distribution\n",
    "SET pt_cnt = (SELECT Count(*) FROM de_raven_demographics);\n",
    "\n",
    "SELECT year(date_of_birth) AS yr,\n",
    "       Count(*) AS cnt,\n",
    "       (Count(*) / $pt_cnt) AS pct \n",
    "  FROM de_raven_demographics\n",
    " GROUP BY yr\n",
    " ORDER BY yr;"
   ]
  }
 ],
 "metadata": {
  "kernelspec": {
   "display_name": "Python 3",
   "language": "python",
   "name": "python3"
  },
  "language_info": {
   "codemirror_mode": {
    "name": "ipython",
    "version": 3
   },
   "file_extension": ".py",
   "mimetype": "text/x-python",
   "name": "python",
   "nbconvert_exporter": "python",
   "pygments_lexer": "ipython3",
   "version": "3.6.5"
  },
  "toc": {
   "nav_menu": {},
   "number_sections": true,
   "sideBar": true,
   "skip_h1_title": false,
   "title_cell": "Table of Contents",
   "title_sidebar": "Contents",
   "toc_cell": false,
   "toc_position": {
    "height": "725px",
    "left": "988px",
    "top": "95px",
    "width": "275px"
   },
   "toc_section_display": true,
   "toc_window_display": true
  }
 },
 "nbformat": 4,
 "nbformat_minor": 2
}
