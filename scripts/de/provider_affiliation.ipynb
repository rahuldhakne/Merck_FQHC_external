{
 "cells": [
  {
   "cell_type": "markdown",
   "metadata": {},
   "source": [
    "# Provider Affiliation\n",
    "Extract the provider affiliations per healthbase supplemented with CMS data for`coh_prov`\n",
    "\n",
    "**Script**\n",
    "* [scripts/de/provider_affiliation.ipynb](./scripts/de/provider_affiliation.ipynb)\n",
    "\n",
    "**Prior Script(s)**\n",
    "* [scripts/coh/coh_basic_prov.ipynb](./scripts/coh/coh_basic_prov.ipynb)\n",
    "\n",
    "**Parameters**\n",
    "* NONE\n",
    "\n",
    "**Input**\n",
    "* `coh_npi`\n",
    "\n",
    "**Output**  \n",
    "* `de_provider_affiliation`\n",
    "\n",
    "**Review**\n",
    "* [scripts/de/provider_affiliation.html](./scripts/de/provider_affiliation.html)"
   ]
  },
  {
   "cell_type": "code",
   "execution_count": null,
   "metadata": {
    "ExecuteTime": {
     "end_time": "2019-03-26T20:53:18.513932Z",
     "start_time": "2019-03-26T20:53:18.441925Z"
    }
   },
   "outputs": [],
   "source": [
    "#Import libraries for this notebook\n",
    "import pandas as pd  \n",
    "from drg_connect import Snowflake\n",
    "import numpy as np\n",
    "import pickle\n",
    "from IPython.core.interactiveshell import InteractiveShell\n",
    "InteractiveShell.ast_node_interactivity = \"all\"\n",
    "\n",
    "#Load connection variables to connect_dict\n",
    "with open('../../out/conn/connect_dict.pickle', 'rb') as handle:\n",
    "    connect_dict = pickle.load(handle)\n",
    "\n",
    "#Create Eegine to connect to snowflake\n",
    "snow = Snowflake(role=connect_dict['role'],\n",
    "                 warehouse=connect_dict['warehouse'],\n",
    "                 database=connect_dict['database'],\n",
    "                 schema=connect_dict['schema'])\n",
    "\n",
    "#Finish engine setup\n",
    "engine = snow.engine\n",
    "%load_ext sql_magic\n",
    "%config SQL.conn_name = 'engine'  #Set the sql_magic connection engine\n",
    "%config SQL.output_result = True  #Enable output to std out\n",
    "%config SQL.notify_result = False #disable browser notifications\n"
   ]
  },
  {
   "cell_type": "markdown",
   "metadata": {},
   "source": [
    "# Extract Data"
   ]
  },
  {
   "cell_type": "code",
   "execution_count": null,
   "metadata": {
    "ExecuteTime": {
     "end_time": "2019-03-26T20:53:33.889094Z",
     "start_time": "2019-03-26T20:53:20.680059Z"
    }
   },
   "outputs": [],
   "source": [
    "%%read_sql\n",
    "--Create raven diagnosis table\n",
    "DROP TABLE IF EXISTS de_provider_affiliation;\n",
    "CREATE TRANSIENT TABLE de_provider_affiliation AS \n",
    "  SELECT *\n",
    "    FROM ref_db.analytics.provider_affiliation\n",
    "   WHERE provider_npi IN (SELECT npi \n",
    "                            FROM coh_npi); "
   ]
  },
  {
   "cell_type": "code",
   "execution_count": null,
   "metadata": {
    "ExecuteTime": {
     "end_time": "2019-03-26T20:54:12.689897Z",
     "start_time": "2019-03-26T20:54:10.121640Z"
    }
   },
   "outputs": [],
   "source": [
    "%%read_sql\n",
    "SELECT Count(*) AS row_cnt,\n",
    "       Count(Distinct provider_npi) AS npi_cnt\n",
    "  FROM de_provider_affiliation"
   ]
  }
 ],
 "metadata": {
  "kernelspec": {
   "display_name": "Python 3",
   "language": "python",
   "name": "python3"
  },
  "language_info": {
   "codemirror_mode": {
    "name": "ipython",
    "version": 3
   },
   "file_extension": ".py",
   "mimetype": "text/x-python",
   "name": "python",
   "nbconvert_exporter": "python",
   "pygments_lexer": "ipython3",
   "version": "3.7.3"
  },
  "toc": {
   "nav_menu": {},
   "number_sections": true,
   "sideBar": true,
   "skip_h1_title": false,
   "title_cell": "Table of Contents",
   "title_sidebar": "Contents",
   "toc_cell": false,
   "toc_position": {
    "height": "725px",
    "left": "988px",
    "top": "95px",
    "width": "275px"
   },
   "toc_section_display": true,
   "toc_window_display": true
  }
 },
 "nbformat": 4,
 "nbformat_minor": 2
}
