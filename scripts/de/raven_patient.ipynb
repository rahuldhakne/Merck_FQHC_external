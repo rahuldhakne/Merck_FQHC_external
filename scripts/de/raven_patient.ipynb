{
 "cells": [
  {
   "cell_type": "markdown",
   "metadata": {},
   "source": [
    "# Raven Patient\n",
    "Extract all Raven patient records for `coh_pt` between date parameters\n",
    "\n",
    "**Script**\n",
    "* [scripts/de/raven_patient.ipynb](./scripts/de/raven_patient.ipynb)\n",
    "\n",
    "**Prior Script(s)**\n",
    "* [scripts/coh/coh_basic.ipynb](./scripts/coh/coh_basic.ipynb)\n",
    "\n",
    "**Parameters**\n",
    "* `in/de/raven_extract.xlsx[raven_extract]`\n",
    "\n",
    "**Input**\n",
    "* `coh_pt`\n",
    "* `rwd_db.rwd.raven_claims_external_submits_patient`\n",
    "\n",
    "**Output**  \n",
    "* `de_raven_patient`\n",
    "\n",
    "**Review**\n",
    "* [scripts/de/raven_patient.html](./scripts/de/raven_patient.html)"
   ]
  },
  {
   "cell_type": "code",
   "execution_count": null,
   "metadata": {
    "ExecuteTime": {
     "end_time": "2019-02-27T21:07:28.659740Z",
     "start_time": "2019-02-27T21:07:28.627737Z"
    }
   },
   "outputs": [],
   "source": [
    "#Import libraries for this notebook\n",
    "import pandas as pd  \n",
    "from drg_connect import Snowflake\n",
    "import numpy as np\n",
    "import pickle\n",
    "from IPython.core.interactiveshell import InteractiveShell\n",
    "InteractiveShell.ast_node_interactivity = \"all\"\n",
    "\n",
    "#Load connection variables to connect_dict\n",
    "with open('../../out/conn/connect_dict.pickle', 'rb') as handle:\n",
    "    connect_dict = pickle.load(handle)\n",
    "\n",
    "#Create Eegine to connect to snowflake\n",
    "snow = Snowflake(role=connect_dict['role'],\n",
    "                 warehouse=connect_dict['warehouse'],\n",
    "                 database=connect_dict['database'],\n",
    "                 schema=connect_dict['schema'])\n",
    "\n",
    "#Finish engine setup\n",
    "engine = snow.engine\n",
    "%load_ext sql_magic\n",
    "%config SQL.conn_name = 'engine'  #Set the sql_magic connection engine\n",
    "%config SQL.output_result = True  #Enable output to std out\n",
    "%config SQL.notify_result = False #disable browser notifications\n"
   ]
  },
  {
   "cell_type": "markdown",
   "metadata": {},
   "source": [
    "# Parameters\n",
    "Create python variables of the parameters\n",
    "\n",
    " **Input**  \n",
    "* `in/extract/raven_extract.xlsx[raven_extract]`\n",
    "\n",
    "**Output**\n",
    "* Python variables named after parameters with the value"
   ]
  },
  {
   "cell_type": "code",
   "execution_count": null,
   "metadata": {
    "ExecuteTime": {
     "end_time": "2019-02-27T21:07:29.724806Z",
     "start_time": "2019-02-27T21:07:29.661800Z"
    }
   },
   "outputs": [],
   "source": [
    "#Create system variables from excel into script and review values in dictionary\n",
    "input_df = pd.read_excel('../../in/de/raven_extract.xlsx', sheet_name='raven_extract', skiprows=4, dtype=str)\n",
    "var_dict = dict(zip(input_df.parameter, input_df.value))\n",
    "for key,val in var_dict.items(): exec(key + '=val')\n",
    "\n",
    "#Check inputs\n",
    "pd.DataFrame.from_dict(var_dict, orient='index')"
   ]
  },
  {
   "cell_type": "markdown",
   "metadata": {},
   "source": [
    "# Extract Data\n",
    "Extract subset of raven diagnosis for the patients of interest between specified date ranges\n",
    "\n",
    "**Parameters**\n",
    "  * `patient_start_dt`\n",
    "  * `patient_end_dt`  \n",
    "  \n",
    "**Input**\n",
    "  * `coh_pt`\n",
    "  * `rwd_db.rwd.raven_external_claims_submits_patient`\n",
    "  \n",
    "**Output**  \n",
    "* `de_raven_patient`"
   ]
  },
  {
   "cell_type": "code",
   "execution_count": null,
   "metadata": {
    "ExecuteTime": {
     "end_time": "2019-02-27T19:14:41.376592Z",
     "start_time": "2019-02-27T19:11:44.428456Z"
    }
   },
   "outputs": [],
   "source": [
    "%%read_sql\n",
    "--Create raven diagnosis table \n",
    "DROP TABLE IF EXISTS de_raven_patient; \n",
    "\n",
    "CREATE TRANSIENT TABLE de_raven_patient AS \n",
    "  SELECT patient_id, \n",
    "         claim_id, \n",
    "         claim_number,\n",
    "         member_adr_state, \n",
    "         member_adr_zip, \n",
    "         year_of_service,\n",
    "         data_source,\n",
    "         payer_sequence\n",
    "    #FROM rwd_db.rwd.raven_claims_submits_patient\n",
    "    FROM rwd_db.rwd.raven_external_claims_submits_patient\n",
    "   WHERE year_of_service BETWEEN '{patient_start_dt}' AND '{patient_end_dt}' \n",
    "         AND patient_id IN (SELECT patient_id \n",
    "                              FROM coh_pt); "
   ]
  },
  {
   "cell_type": "code",
   "execution_count": null,
   "metadata": {
    "ExecuteTime": {
     "end_time": "2019-02-27T19:14:45.375991Z",
     "start_time": "2019-02-27T19:14:41.380592Z"
    }
   },
   "outputs": [],
   "source": [
    "%%read_sql\n",
    "--Review counts as a sanity check\n",
    "SELECT Count(*) AS row_cnt,\n",
    "       Count(Distinct claim_id) AS claim_cnt,\n",
    "       Count(Distinct claim_number) AS claim_number_cnt,\n",
    "       Count(Distinct patient_id) AS patient_cnt\n",
    "  FROM de_raven_patient;"
   ]
  },
  {
   "cell_type": "code",
   "execution_count": null,
   "metadata": {
    "ExecuteTime": {
     "end_time": "2019-02-27T21:08:15.979901Z",
     "start_time": "2019-02-27T21:08:10.737377Z"
    }
   },
   "outputs": [],
   "source": [
    "%%read_sql\n",
    "SELECT data_source,\n",
    "       Count(*) AS cnt\n",
    "  FROM de_raven_patient\n",
    " GROUP BY data_source"
   ]
  }
 ],
 "metadata": {
  "kernelspec": {
   "display_name": "Python 3",
   "language": "python",
   "name": "python3"
  },
  "language_info": {
   "codemirror_mode": {
    "name": "ipython",
    "version": 3
   },
   "file_extension": ".py",
   "mimetype": "text/x-python",
   "name": "python",
   "nbconvert_exporter": "python",
   "pygments_lexer": "ipython3",
   "version": "3.7.3"
  },
  "toc": {
   "nav_menu": {},
   "number_sections": true,
   "sideBar": true,
   "skip_h1_title": false,
   "title_cell": "Table of Contents",
   "title_sidebar": "Contents",
   "toc_cell": false,
   "toc_position": {
    "height": "725px",
    "left": "988px",
    "top": "95px",
    "width": "275px"
   },
   "toc_section_display": true,
   "toc_window_display": true
  }
 },
 "nbformat": 4,
 "nbformat_minor": 2
}
