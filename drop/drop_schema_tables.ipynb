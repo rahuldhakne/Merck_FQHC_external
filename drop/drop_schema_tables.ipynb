{
 "cells": [
  {
   "cell_type": "markdown",
   "metadata": {},
   "source": [
    "# Drop Schema Tables\n",
    "Drop all tables in a database & schema\n",
    "\n",
    "**Input**\n",
    "* Role\n",
    "* warehouse\n",
    "* database\n",
    "* Schema\n",
    "\n",
    "**Output**  \n",
    "* None\n"
   ]
  },
  {
   "cell_type": "code",
   "execution_count": null,
   "metadata": {
    "ExecuteTime": {
     "end_time": "2019-04-23T19:42:23.581580Z",
     "start_time": "2019-04-23T19:42:23.580580Z"
    }
   },
   "outputs": [],
   "source": [
    "# Input Role, Warehouse, Database, and Schema to drop tables\n",
    "role=''\n",
    "warehouse=''\n",
    "database=''\n",
    "schema=''"
   ]
  },
  {
   "cell_type": "code",
   "execution_count": null,
   "metadata": {
    "ExecuteTime": {
     "end_time": "2019-04-23T19:42:28.581080Z",
     "start_time": "2019-04-23T19:42:24.527486Z"
    }
   },
   "outputs": [],
   "source": [
    "#Import libraries for this notebook\n",
    "import pandas as pd  \n",
    "from drg_connect import Snowflake\n",
    "import numpy as np\n",
    "import pickle\n",
    "from IPython.core.interactiveshell import InteractiveShell\n",
    "InteractiveShell.ast_node_interactivity = \"all\"\n",
    "\n",
    "#Create Eegine to connect to snowflake\n",
    "snow = Snowflake(role=role,\n",
    "                 warehouse=warehouse,\n",
    "                 database=database,\n",
    "                 schema=schema)\n",
    "\n",
    "#Finish engine setup\n",
    "engine = snow.engine\n",
    "%load_ext sql_magic\n",
    "%config SQL.conn_name = 'engine'  #Set the sql_magic connection engine\n",
    "%config SQL.output_result = True  #Enable output to std out\n",
    "%config SQL.notify_result = False #disable browser notifications"
   ]
  },
  {
   "cell_type": "code",
   "execution_count": null,
   "metadata": {
    "ExecuteTime": {
     "end_time": "2019-04-23T19:42:38.459092Z",
     "start_time": "2019-04-23T19:42:28.586080Z"
    }
   },
   "outputs": [],
   "source": [
    "#Download all the tables in the schema\n",
    "tbl_df = snow.show(\"SHOW TABLES IN SCHEMA \"+database+\".\"+schema)"
   ]
  },
  {
   "cell_type": "code",
   "execution_count": null,
   "metadata": {
    "ExecuteTime": {
     "end_time": "2019-04-23T19:42:38.597078Z",
     "start_time": "2019-04-23T19:42:38.461092Z"
    }
   },
   "outputs": [],
   "source": [
    "# Review tables to delete\n",
    "tbl_df"
   ]
  },
  {
   "cell_type": "code",
   "execution_count": null,
   "metadata": {
    "ExecuteTime": {
     "end_time": "2019-04-23T19:43:32.207717Z",
     "start_time": "2019-04-23T19:42:45.168421Z"
    }
   },
   "outputs": [],
   "source": [
    "#Delete the tables (no take backs)\n",
    "for index, row in tbl_df.iterrows():\n",
    "    snow.drop_table(row['name'], schema=schema)"
   ]
  }
 ],
 "metadata": {
  "kernelspec": {
   "display_name": "Python 3",
   "language": "python",
   "name": "python3"
  },
  "language_info": {
   "codemirror_mode": {
    "name": "ipython",
    "version": 3
   },
   "file_extension": ".py",
   "mimetype": "text/x-python",
   "name": "python",
   "nbconvert_exporter": "python",
   "pygments_lexer": "ipython3",
   "version": "3.7.3"
  },
  "toc": {
   "nav_menu": {},
   "number_sections": true,
   "sideBar": true,
   "skip_h1_title": false,
   "title_cell": "Table of Contents",
   "title_sidebar": "Contents",
   "toc_cell": false,
   "toc_position": {},
   "toc_section_display": true,
   "toc_window_display": false
  }
 },
 "nbformat": 4,
 "nbformat_minor": 2
}
