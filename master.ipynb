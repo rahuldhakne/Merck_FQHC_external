{
 "cells": [
  {
   "cell_type": "markdown",
   "metadata": {},
   "source": [
    "# Semi-Custom\n",
    "This notebook consists of a series of modules that can be used to perform the following steps in a standard analysis:\n",
    "\n",
    "1. Create cohort(s) based on structured data \n",
    "1. Extract subsets of RWD tables for the cohort(s)\n",
    "1. Create standard \"datamart\" tables with tidy data\n",
    "1. Allow users to add custom code to complete a project"
   ]
  },
  {
   "cell_type": "markdown",
   "metadata": {},
   "source": [
    "## Data Sources\n",
    "Below are the data sources that are used for semi-custom\n",
    "\n",
    "| Data Source | Database.Schema | Definition | Documentation |\n",
    "| --- | --- | --- | --- |\n",
    "| **RWD** | rwd_db.rwd | Real world DRG Evidence |\n",
    "| **Helpful Snowflake tables** | rwd_db.rwd_reference_library | Reference tables | [link](https://confluence.teamdrg.com/pages/viewpage.action?pageId=395968601) |\n",
    "| **Analytic Ref Tables** | ref_db.analytics | Reference tables maintained by analytics | |"
   ]
  },
  {
   "cell_type": "markdown",
   "metadata": {},
   "source": [
    "## Sections\n",
    "Below are definitions of each section in the notebook:\n",
    "\n",
    "| Section | Definition |\n",
    "| --- | ---|\n",
    "| **Libraries** | Set up the libraries to run this script |\n",
    "| **Connection** | Set up the role, warehouse, database, and schema to connect to snowflake |\n",
    "| **Cohort** | Create a cohort of patients and/or physicians from the DRG Real World Data repository (RWD) from Raven Medical Claims and/or Raven Pharmacy claims\n",
    "| **Data Extracts** | Extract subsets of the RWD data assets from Raven Medical Claims, Raven Pharmacy claims, and/or REF_DB |\n",
    "| **Claim Level Data** | Create tables at the claim level based on the most up to date DRG Standards and are common among projects |\n",
    "| **Patient Level Data** | Create tables of patient level data based on most up to date DRG standard and are common among projects|\n",
    "| **Custom** | Area for users to create custom scripts for a project |\n",
    "| **Dashboards** | Scripts to transform data into semi-custom DRG dashboards |\n",
    "| **Future Development** | Listing of future development for the semi_custom repository |"
   ]
  },
  {
   "cell_type": "markdown",
   "metadata": {},
   "source": [
    "## Acronyms\n",
    "Below are acronyms used in the repository.\n",
    "\n",
    "| Acronym | Definition |\n",
    "| --- | --- |\n",
    "| coh | Cohort |\n",
    "| cld | claim level data |\n",
    "| de | data extract |\n",
    "| med | medical |\n",
    "| param | parameter |\n",
    "| phar | pharmacy |\n",
    "| pld | patient level data |\n",
    "| prov | provider |\n",
    "| pt | patient |\n",
    "| ref | reference |\n"
   ]
  },
  {
   "cell_type": "markdown",
   "metadata": {},
   "source": [
    "## Module Set up\n",
    "Each module has the identical setup for documentation\n",
    "\n",
    "**Script**\n",
    "* Link to the script that is being executed\n",
    "\n",
    "**Prior Script(s)**\n",
    "* Link(s) to all scripts dependent to run this module\n",
    "\n",
    "**Parameters**\n",
    "* parameters that require updating to run this module\n",
    "\n",
    "**Input**\n",
    "* Tables this script is dependent\n",
    "\n",
    "**Output**  \n",
    "* Output tables and file `semi_custom_dictionary.xlsx` has the definitions \n",
    "\n",
    "**Review**\n",
    "* Link to file(s) to review after the script is run\n",
    "\n",
    "The user can either open and run the notebook or they can run the code block below. The jupyter notebook will run, and the output will be stored in a file `script_name.html`.  Please note, the jupyter notebook will not update if you run the notbeook using the `run_nb()`.  If you want to see the outputs in the jupyter notebook you will need to open and run the notebook.  \n",
    "```python\n",
    "#Run Notebook\n",
    "run_nb('script_name.ipynb')\n",
    "```"
   ]
  },
  {
   "cell_type": "markdown",
   "metadata": {},
   "source": [
    "# Set up\n",
    "Setup notebook to run the scripts"
   ]
  },
  {
   "cell_type": "markdown",
   "metadata": {},
   "source": [
    "## Libraries"
   ]
  },
  {
   "cell_type": "code",
   "execution_count": 1,
   "metadata": {
    "ExecuteTime": {
     "end_time": "2019-05-16T14:10:07.396302Z",
     "start_time": "2019-05-16T14:10:07.383287Z"
    }
   },
   "outputs": [],
   "source": [
    "#Set up system to show multiple outputs \n",
    "from IPython.core.interactiveshell import InteractiveShell\n",
    "InteractiveShell.ast_node_interactivity = \"all\"\n",
    "\n",
    "#Function to run jupyter notebooks and provide useful output\n",
    "from semi_custom import run_nb as run_nb       "
   ]
  },
  {
   "cell_type": "markdown",
   "metadata": {},
   "source": [
    "## Connect (conn)\n",
    "Create python dictionary of connection parameters by uploading data from Excel\n",
    "* **Script**\n",
    "  * [scripts/conn/connect.ipynb](./scripts/conn/connect.ipynb)\n",
    "* **Parameters**\n",
    "  * `[in/conn/connect.xlsx[connect]`: Names and values of the connection parameters\n",
    "* **Output** \n",
    "  * `out/connect_dict.pickle`: Python dictionary names and values of connection parameters that is imported into all future scripts\n",
    "* **Review**\n",
    "  * [scripts/conn/connect.html](./scripts/conn/connect.html)"
   ]
  },
  {
   "cell_type": "code",
   "execution_count": 2,
   "metadata": {
    "ExecuteTime": {
     "end_time": "2019-05-16T14:13:23.993259Z",
     "start_time": "2019-05-16T14:13:10.339799Z"
    }
   },
   "outputs": [
    {
     "name": "stdout",
     "output_type": "stream",
     "text": [
      "The notebook  'scripts/conn/connect.ipynb' completed successfully in 0.24 minutes on Thu May 16 10:13:23 2019.\n",
      "Please review 'scripts/conn/connect.html' to review results.\n"
     ]
    }
   ],
   "source": [
    "#Execute connection script\n",
    "run_nb('scripts/conn/connect.ipynb')"
   ]
  },
  {
   "cell_type": "markdown",
   "metadata": {},
   "source": [
    "# Cohorts (coh)\n",
    "This section creates the cohort(s) required for the project.  There may also be a few tables of data that are created with useful features for the cohort to be used later on.\n",
    "\n",
    "* Output tables start with `coh_`"
   ]
  },
  {
   "cell_type": "markdown",
   "metadata": {},
   "source": [
    "## Patient Cohort Builder\n",
    "Identify all patients extracted using patient cohort Builder.  This script is not fully integrated into semi_custom.  Patrick Cronin created this module at the request of Simon Andrews. Although the table `coh_pt` could be used, it is not recommended as trying to integrate PCB into Semi_custom is essentially a [Shotgun Wedding](https://en.wikipedia.org/wiki/Shotgun_wedding).\n",
    "\n",
    "**Script**\n",
    "  * [scripts/coh/coh_pcb.ipynb](./scripts/coh/coh_pcb.ipynb)\n",
    "\n",
    "**Parameters**\n",
    "* `in/coh/coh_pcb.xlsx[param]`\n",
    "\n",
    "**Input**\n",
    "* None\n",
    "\n",
    "**Output**\n",
    "* `coh_basic_ref`\n",
    "* `coh_basic_raven_diagnosis`\n",
    "* `coh_basic_raven_pharmacy`\n",
    "* `coh_basic_raven_procedure`\n",
    "* `coh_pt`\n",
    "* `coh_claim`\n",
    "\n",
    "**Review**\n",
    "* [scripts/coh/coh_pcb.html](./scripts/coh/coh_pcb.html)"
   ]
  },
  {
   "cell_type": "code",
   "execution_count": null,
   "metadata": {},
   "outputs": [],
   "source": [
    "#Run the basic cohort script\n",
    "run_nb('scripts/coh/coh_pcb.ipynb')"
   ]
  },
  {
   "cell_type": "markdown",
   "metadata": {},
   "source": [
    "## Patient Basic\n",
    "Create patient cohort of all patients who have at least 1 claim wtih a code in `ref_cohort` between the dates of interest. Patrick Cronin created this module.\n",
    "\n",
    "**Script**\n",
    "* [scripts/coh/coh_basic.ipynb](./scripts/coh/coh_basic.ipynb)\n",
    " \n",
    "**Parameters**\n",
    "* `in/coh/coh_basic.xlsx[param]`\n",
    "* `in/coh/coh_basic.xlsx[ref]`\n",
    "\n",
    "**Input**\n",
    "* None\n",
    "\n",
    "**Output**\n",
    "* `coh_basic_ref`\n",
    "* `coh_basic_raven_diagnosis`\n",
    "* `coh_basic_raven_pharmacy`\n",
    "* `coh_basic_raven_procedure`\n",
    "* `coh_pt`\n",
    "* `coh_claim`\n",
    "\n",
    "**Review**\n",
    "* [scripts/coh/coh_basic.html](./scripts/coh/coh_basic.html)"
   ]
  },
  {
   "cell_type": "code",
   "execution_count": 2,
   "metadata": {
    "ExecuteTime": {
     "end_time": "2019-05-07T15:19:08.812880Z",
     "start_time": "2019-05-07T15:16:34.514472Z"
    }
   },
   "outputs": [
    {
     "name": "stdout",
     "output_type": "stream",
     "text": [
      "The notebook  'scripts/coh/coh_basic.ipynb' completed successfully in 2.57 minutes on Tue May  7 11:19:08 2019.\n",
      "Please review 'scripts/coh/coh_basic.html' to review results.\n"
     ]
    }
   ],
   "source": [
    "#Run the basic cohort script\n",
    "run_nb('scripts/coh/coh_basic.ipynb')"
   ]
  },
  {
   "cell_type": "markdown",
   "metadata": {},
   "source": [
    "## Provider Basic\n",
    "Identify all of the providers that were on claims with patients extracted from `coh_basic_prov.ipynb`. Patrick Cronin created this module.\n",
    "\n",
    "**Script**\n",
    "  * [scripts/coh/coh_basic_prov.ipynb](./scripts/coh/coh_basic_prov.ipynb)\n",
    "\n",
    "**Prior Scripts**\n",
    "  * [scripts/coh/coh_basic.ipynb](./scripts/coh/coh_basic.ipynb)\n",
    "\n",
    "**Parameters**\n",
    "  * `in/coh/coh_pt_basic.xlsx[coh_basic_param]`\n",
    "  \n",
    "**Input**\n",
    "  * coh_claim\n",
    "  * coh_pt\n",
    "  * rwd_db.rwd.raven_external_claims_submits_provider\n",
    "  \n",
    "**Output**\n",
    "  * coh_npi\n",
    "  * coh_npi_pt_link\n",
    "\n",
    "**Review**\n",
    "  * [scripts/coh/coh_basic_prov.html](./scripts/coh/coh_basic_prov.html)\n",
    "  \n",
    "**Suggestion**\n",
    "  * Create a table with provider type per physician possibly linked to patients\n",
    " "
   ]
  },
  {
   "cell_type": "code",
   "execution_count": null,
   "metadata": {
    "ExecuteTime": {
     "end_time": "2019-04-23T19:50:38.895296Z",
     "start_time": "2019-04-23T19:45:48.155121Z"
    }
   },
   "outputs": [],
   "source": [
    "#Identify all the key provider tables for that cohort\n",
    "run_nb('scripts/coh/coh_basic_prov.ipynb')"
   ]
  },
  {
   "cell_type": "markdown",
   "metadata": {},
   "source": [
    "## Patient Boolean\n",
    "Creates a patient cohort for the purpose of pre sales counts that require the following boolean logic:\n",
    "* Has ICD code in dx group 1\n",
    "* **AND** Has ICD code in dx group 2\n",
    "* **AND** Has procedure or ndc code in medical or pharmacy claims \n",
    "\n",
    "Patrick Cronin created this module at the direction of Wouter van der Pluijm to speed up some sales requests.  It's not really connected to the rest of semi_custom and it may make sense to move this out somewhere else.\n",
    "\n",
    "**Script**\n",
    "* [scripts/coh/coh_bool.ipynb](./scripts/coh/coh_bool.ipynb)\n",
    "\n",
    "**Prior Scripts**\n",
    "  * NONE\n",
    "\n",
    "**Parameters**\n",
    "* `in/coh/coh_bool.xlsx[param]`\n",
    "* `in/coh/coh_bool.xlsx[DX1]`\n",
    "* `in/coh/coh_bool.xlsx[DX2]`\n",
    "* `in/coh/coh_bool.xlsx[proc_rx]`\n",
    "\n",
    "**Input**\n",
    "* RWD\n",
    "\n",
    "**Output**\n",
    "* NONE\n",
    "\n",
    "**Review**\n",
    "* `out/coh/coh_bool_stats.xlsx`\n",
    "\n",
    "**Please note, a run_nb function is not included becuase this is primary to be used for scoping. Please refer to Wouter if you have questions**"
   ]
  },
  {
   "cell_type": "markdown",
   "metadata": {},
   "source": [
    "# Data Extracts (de)\n",
    "The scripts below extract the raw data needed for the project.  These are typically large queries against the DRG data architecture based on the cohort.\n",
    "\n",
    "* Table naming convention is `de_source_table` implying the following\n",
    "  * `de_`: data extract\n",
    "  * `source_`: The source of the data\n",
    "  * `table`: The table name extracted from the source\n",
    "* There are no major data transformations.  These tables are merely subsets (rows and columns) of the Snowflake big data tables to allow future queries to run faster"
   ]
  },
  {
   "cell_type": "markdown",
   "metadata": {},
   "source": [
    "## Raven Demographics\n",
    "Extract all Raven demographic records for `coh_pt`. Patrick Cronin created this module.\n",
    "\n",
    "**Script**\n",
    "* [scripts/de/raven_demographics.ipynb](./scripts/de/raven_demographics.ipynb)\n",
    "\n",
    "**Prior Script(s)**\n",
    "* [scripts/coh/coh_basic.ipynb](./scripts/coh/coh_basic.ipynb)\n",
    "\n",
    "**Parameters**\n",
    "* `in/de/raven_extract.xlsx[raven_extract]`\n",
    "\n",
    "**Input**\n",
    "* `coh_pt`\n",
    "* `rwd_db.rwd.raven_patient_demographics`\n",
    "\n",
    "**Output**  \n",
    "* `de_raven_demographics`\n",
    "\n",
    "**Review**\n",
    "* [scripts/de/raven_demographics.html](./scripts/de/raven_demographics.html)"
   ]
  },
  {
   "cell_type": "code",
   "execution_count": 3,
   "metadata": {
    "ExecuteTime": {
     "end_time": "2019-05-07T15:19:57.179184Z",
     "start_time": "2019-05-07T15:19:08.815880Z"
    }
   },
   "outputs": [
    {
     "name": "stdout",
     "output_type": "stream",
     "text": [
      "The notebook  'scripts/de/raven_demographics.ipynb' completed successfully in 0.81 minutes on Tue May  7 11:19:57 2019.\n",
      "Please review 'scripts/de/raven_demographics.html' to review results.\n"
     ]
    }
   ],
   "source": [
    "#Run Notebook\n",
    "run_nb('scripts/de/raven_demographics.ipynb')"
   ]
  },
  {
   "cell_type": "markdown",
   "metadata": {},
   "source": [
    "## Raven Diagnosis\n",
    "Extract all Raven diagnosis records for `coh_pt` between date parameters. Patrick Cronin created this module.\n",
    "\n",
    "**Script**\n",
    "* [scripts/de/raven_diagnosis.ipynb](./scripts/de/raven_diagnosis.ipynb)\n",
    "\n",
    "**Prior Script(s)**\n",
    "* [scripts/coh/coh_basic.ipynb](./scripts/coh/coh_basic.ipynb)\n",
    "\n",
    "**Parameters**\n",
    "* `in/de/raven_extract.xlsx[raven_extract]`\n",
    "\n",
    "**Input**\n",
    "* `coh_pt`\n",
    "* `rwd_db.rwd.raven_external_claims_submits_diagnosis`\n",
    "\n",
    "**Output**  \n",
    "* `de_raven_diagnosis`\n",
    "\n",
    "**Review**\n",
    "* [scripts/de/raven_diagnosis.html](./scripts/de/raven_diagnosis.html)"
   ]
  },
  {
   "cell_type": "code",
   "execution_count": 5,
   "metadata": {
    "ExecuteTime": {
     "end_time": "2019-05-07T15:38:46.142849Z",
     "start_time": "2019-05-07T15:35:02.557770Z"
    }
   },
   "outputs": [
    {
     "name": "stdout",
     "output_type": "stream",
     "text": [
      "The notebook  'scripts/de/raven_diagnosis.ipynb' completed successfully in 3.73 minutes on Tue May  7 11:38:46 2019.\n",
      "Please review 'scripts/de/raven_diagnosis.html' to review results.\n"
     ]
    }
   ],
   "source": [
    "#Run Notebook\n",
    "run_nb('scripts/de/raven_diagnosis.ipynb')"
   ]
  },
  {
   "cell_type": "markdown",
   "metadata": {},
   "source": [
    "## Raven Procedure\n",
    "Extract all Raven procedure records for `coh_pt` between date parameters. Patrick Cronin created this module.\n",
    "\n",
    "**Script**\n",
    "* [scripts/de/raven_procedure.ipynb](./scripts/de/raven_procedure.ipynb)\n",
    "\n",
    "**Prior Script(s)**\n",
    "* [scripts/coh/coh_basic.ipynb](./scripts/coh/coh_basic.ipynb)\n",
    "\n",
    "**Parameters**\n",
    "* `in/de/raven_extract.xlsx[raven_extract]`\n",
    "\n",
    "**Input**\n",
    "* `coh_pt`\n",
    "* `rwd_db.rwd.raven_external_claims_submits_procedure `\n",
    "\n",
    "**Output**  \n",
    "* `de_raven_procedure`\n",
    "\n",
    "**Review**\n",
    "* [scripts/de/raven_procedure.html](./scripts/de/raven_procedure.html)"
   ]
  },
  {
   "cell_type": "code",
   "execution_count": 6,
   "metadata": {
    "ExecuteTime": {
     "end_time": "2019-05-07T15:44:05.837400Z",
     "start_time": "2019-05-07T15:38:46.142849Z"
    }
   },
   "outputs": [
    {
     "name": "stdout",
     "output_type": "stream",
     "text": [
      "The notebook  'scripts/de/raven_procedure.ipynb' completed successfully in 5.33 minutes on Tue May  7 11:44:05 2019.\n",
      "Please review 'scripts/de/raven_procedure.html' to review results.\n"
     ]
    }
   ],
   "source": [
    "#Run Notebook\n",
    "run_nb('scripts/de/raven_procedure.ipynb')"
   ]
  },
  {
   "cell_type": "markdown",
   "metadata": {},
   "source": [
    "## Raven Pharmacy\n",
    "Extract all Raven pharmacy records for `coh_pt` between date parameters. Patrick Cronin created this module.\n",
    "\n",
    "**Script**\n",
    "* [scripts/de/raven_pharmacy.ipynb](./scripts/de/raven_pharmacy.ipynb)\n",
    "\n",
    "**Prior Script(s)**\n",
    "* [scripts/coh/coh_basic.ipynb](./scripts/coh/coh_basic.ipynb)\n",
    "\n",
    "**Parameters**\n",
    "* `in/de/raven_extract.xlsx[raven_extract]`\n",
    "\n",
    "**Input**\n",
    "* `coh_pt`\n",
    "* `rwd_db.rwd.raven_external_pharmacy`\n",
    "\n",
    "**Output**  \n",
    "* `de_raven_pharmacy`\n",
    "\n",
    "**Review**\n",
    "* [scripts/de/raven_pharmacy.html](./scripts/de/raven_pharmacy.html)"
   ]
  },
  {
   "cell_type": "code",
   "execution_count": 7,
   "metadata": {
    "ExecuteTime": {
     "end_time": "2019-05-07T15:55:58.689568Z",
     "start_time": "2019-05-07T15:44:05.837400Z"
    }
   },
   "outputs": [
    {
     "name": "stdout",
     "output_type": "stream",
     "text": [
      "The notebook  'scripts/de/raven_pharmacy.ipynb' completed successfully in 11.88 minutes on Tue May  7 11:55:58 2019.\n",
      "Please review 'scripts/de/raven_pharmacy.html' to review results.\n"
     ]
    }
   ],
   "source": [
    "#Run Notebook\n",
    "run_nb('scripts/de/raven_pharmacy.ipynb')"
   ]
  },
  {
   "cell_type": "markdown",
   "metadata": {},
   "source": [
    "## Raven Providers\n",
    "Extract all Raven provider records for `coh_pt` between date parameters. Patrick Cronin created this module.\n",
    "\n",
    "**Script**\n",
    "* [scripts/de/raven_provider.ipynb](./scripts/de/raven_provider.ipynb)\n",
    "\n",
    "**Prior Script(s)**\n",
    "* [scripts/coh/coh_basic.ipynb](./scripts/coh/coh_basic.ipynb)\n",
    "\n",
    "**Parameters**\n",
    "* `in/de/raven_extract.xlsx[raven_extract]`\n",
    "\n",
    "**Input**\n",
    "* `coh_pt`\n",
    "* `rwd_db.rwd.raven_external_claims_submits_provider`\n",
    "\n",
    "**Output**  \n",
    "* `de_raven_provider`\n",
    "\n",
    "**Review**\n",
    "* [scripts/de/raven_provider.html](./scripts/de/raven_provider.html)"
   ]
  },
  {
   "cell_type": "code",
   "execution_count": 8,
   "metadata": {
    "ExecuteTime": {
     "end_time": "2019-05-07T15:59:35.780154Z",
     "start_time": "2019-05-07T15:55:58.689568Z"
    }
   },
   "outputs": [
    {
     "name": "stdout",
     "output_type": "stream",
     "text": [
      "The notebook  'scripts/de/raven_provider.ipynb' completed successfully in 3.62 minutes on Tue May  7 11:59:35 2019.\n",
      "Please review 'scripts/de/raven_provider.html' to review results.\n"
     ]
    }
   ],
   "source": [
    "#Run Notebook\n",
    "run_nb('scripts/de/raven_provider.ipynb')"
   ]
  },
  {
   "cell_type": "markdown",
   "metadata": {},
   "source": [
    "## Raven Header\n",
    "Extract all Raven header records for `coh_pt` between date parameters. Patrick Cronin created this module.\n",
    "\n",
    "**Script**\n",
    "* [scripts/de/raven_header.ipynb](./scripts/de/raven_header.ipynb)\n",
    "\n",
    "**Prior Script(s)**\n",
    "* [scripts/coh/coh_basic.ipynb](./scripts/coh/coh_basic.ipynb)\n",
    "\n",
    "**Parameters**\n",
    "* `in/de/raven_extract.xlsx[raven_extract]`\n",
    "\n",
    "**Input**\n",
    "* `coh_pt`\n",
    "* `rwd_db.rwd.raven_external_claims_submits_header`\n",
    "\n",
    "**Output**  \n",
    "* `de_raven_header`\n",
    "\n",
    "**Review**\n",
    "* [scripts/de/raven_header.html](./scripts/de/raven_header.html)"
   ]
  },
  {
   "cell_type": "code",
   "execution_count": 9,
   "metadata": {
    "ExecuteTime": {
     "end_time": "2019-05-07T16:02:48.877186Z",
     "start_time": "2019-05-07T15:59:35.780154Z"
    }
   },
   "outputs": [
    {
     "name": "stdout",
     "output_type": "stream",
     "text": [
      "The notebook  'scripts/de/raven_header.ipynb' completed successfully in 3.22 minutes on Tue May  7 12:02:48 2019.\n",
      "Please review 'scripts/de/raven_header.html' to review results.\n"
     ]
    }
   ],
   "source": [
    "#Run Notebook\n",
    "run_nb('scripts/de/raven_header.ipynb')"
   ]
  },
  {
   "cell_type": "markdown",
   "metadata": {},
   "source": [
    "## Raven Payer\n",
    "Extract all Raven payer records for `coh_pt` between date parameters. Patrick Cronin created this module.\n",
    "\n",
    "**Script**\n",
    "* [scripts/de/raven_payer.ipynb](./scripts/de/raven_payer.ipynb)\n",
    "\n",
    "**Prior Script(s)**\n",
    "* [scripts/coh/coh_basic.ipynb](./scripts/coh/coh_basic.ipynb)\n",
    "\n",
    "**Parameters**\n",
    "* `in/de/raven_extract.xlsx[raven_extract]`\n",
    "\n",
    "**Input**\n",
    "* `coh_pt`\n",
    "* `rwd_db.rwd.raven_external_claims_submits_payer`\n",
    "\n",
    "**Output**  \n",
    "* `de_raven_payer`\n",
    "\n",
    "**Review**\n",
    "* [scripts/de/raven_payer.html](./scripts/de/raven_payer.html)"
   ]
  },
  {
   "cell_type": "code",
   "execution_count": 10,
   "metadata": {
    "ExecuteTime": {
     "end_time": "2019-05-07T16:09:20.295697Z",
     "start_time": "2019-05-07T16:02:48.877186Z"
    }
   },
   "outputs": [
    {
     "name": "stdout",
     "output_type": "stream",
     "text": [
      "The notebook  'scripts/de/raven_payer.ipynb' completed successfully in 6.52 minutes on Tue May  7 12:09:20 2019.\n",
      "Please review 'scripts/de/raven_payer.html' to review results.\n"
     ]
    }
   ],
   "source": [
    "#Run Notebook\n",
    "run_nb('scripts/de/raven_payer.ipynb')"
   ]
  },
  {
   "cell_type": "markdown",
   "metadata": {},
   "source": [
    "## Raven Patient\n",
    "Extract all Raven patient records for `coh_pt` between date parameters. Patrick Cronin created this module.\n",
    "\n",
    "**Script**\n",
    "* [scripts/de/raven_patient.ipynb](./scripts/de/raven_patient.ipynb)\n",
    "\n",
    "**Prior Script(s)**\n",
    "* [scripts/coh/coh_basic.ipynb](./scripts/coh/coh_basic.ipynb)\n",
    "\n",
    "**Parameters**\n",
    "* `in/de/raven_extract.xlsx[raven_extract]`\n",
    "\n",
    "**Input**\n",
    "* `coh_pt`\n",
    "* `rwd_db.rwd.raven_external_claims_submits_patient`\n",
    "\n",
    "**Output**  \n",
    "* `de_raven_patient`\n",
    "\n",
    "**Review**\n",
    "* [scripts/de/raven_patient.html](./scripts/de/raven_patient.html)"
   ]
  },
  {
   "cell_type": "code",
   "execution_count": 11,
   "metadata": {
    "ExecuteTime": {
     "end_time": "2019-05-07T16:16:08.216193Z",
     "start_time": "2019-05-07T16:09:20.297697Z"
    }
   },
   "outputs": [
    {
     "name": "stdout",
     "output_type": "stream",
     "text": [
      "The notebook  'scripts/de/raven_patient.ipynb' completed successfully in 6.8 minutes on Tue May  7 12:16:08 2019.\n",
      "Please review 'scripts/de/raven_patient.html' to review results.\n"
     ]
    }
   ],
   "source": [
    "#Run Notebook\n",
    "run_nb('scripts/de/raven_patient.ipynb')"
   ]
  },
  {
   "cell_type": "markdown",
   "metadata": {},
   "source": [
    "## Raven Remits (TBD)\n",
    "Extract all of the raven remit information from the RWE.  As of 5/20/2019 this script is unfinished, and should not be run until it's done.  Patrick Cronin created this module although it doesn't work.  He essentially copied a bunch of stuff that Maddy directed him to use.  This needs to be redone.\n",
    "\n",
    "**Script**\n",
    "* [scripts/de/raven_remit.ipynb](./scripts/de/raven_remit.ipynb)\n",
    "\n",
    "**Prior Script(s)**\n",
    "* [scripts/coh/coh_basic.ipynb](./scripts/coh/coh_basic.ipynb)\n",
    "\n",
    "**Parameters**\n",
    "* `in/de/raven_extract.xlsx[raven_extract]`\n",
    "\n",
    "**Input**\n",
    "* `coh_pt`\n",
    "* `rwd_db.rwd.raven_external_claims_submits_patient`\n",
    "* `remit table`\n",
    "\n",
    "**Output**  \n",
    "* `de_raven_remits`"
   ]
  },
  {
   "cell_type": "markdown",
   "metadata": {
    "ExecuteTime": {
     "end_time": "2019-03-26T20:47:39.412522Z",
     "start_time": "2019-03-26T20:47:39.402521Z"
    }
   },
   "source": [
    "## Provider Affiliation\n",
    "Extract the provider affiliations per healthbase supplemented with CMS data for`coh_prov`. Patrick Cronin created this module and it's based on pulling a table that Renish Rauniyar created.\n",
    "\n",
    "**Script**\n",
    "* [scripts/de/provider_affiliation.ipynb](./scripts/de/provider_affiliation.ipynb)\n",
    "\n",
    "**Prior Script(s)**\n",
    "* [scripts/coh/coh_basic_prov.ipynb](./scripts/coh/coh_basic_prov.ipynb)\n",
    "\n",
    "**Parameters**\n",
    "* NONE\n",
    "\n",
    "**Input**\n",
    "* `ref_db.analytics.provider_affiliation`\n",
    "* `coh_npi`\n",
    "\n",
    "**Output**  \n",
    "* `de_provider_affiliation`\n",
    "\n",
    "**Review**\n",
    "* [scripts/de/provider_affiliation.html](./scripts/de/provider_affiliation.html)"
   ]
  },
  {
   "cell_type": "code",
   "execution_count": null,
   "metadata": {
    "ExecuteTime": {
     "end_time": "2019-04-23T20:27:38.890348Z",
     "start_time": "2019-04-23T20:27:08.302026Z"
    }
   },
   "outputs": [],
   "source": [
    "#Run Notebook\n",
    "run_nb('scripts/de/provider_affiliation.ipynb')"
   ]
  },
  {
   "cell_type": "markdown",
   "metadata": {},
   "source": [
    "## Facility Affiliation\n",
    "Extract the subset of facility information for all NPI on claims for this analysis. Patrick Cronin created this module and it's based on pulling a table that Renish Rauniyar created.\n",
    "\n",
    "**Script**\n",
    "* [scripts/de/facility_info.ipynb](./scripts/de/facility_info.ipynb)\n",
    "\n",
    "**Prior Script(s)**\n",
    "* [scripts/coh/coh_basic_prov.ipynb](./scripts/coh/coh_basic_prov.ipynb)\n",
    "\n",
    "**Parameters**\n",
    "* NONE\n",
    "\n",
    "**Input**\n",
    "* `ref_db.analytics.facility_to_parent`\n",
    "* `coh_npi`\n",
    "\n",
    "**Output**  \n",
    "* `de_facility_info`\n",
    "* `de_facility_hb_npi_link`\n",
    "\n",
    "**Review**\n",
    "* [scripts/de/facility_info.html](./scripts/de/facility_info.html)"
   ]
  },
  {
   "cell_type": "code",
   "execution_count": null,
   "metadata": {
    "ExecuteTime": {
     "end_time": "2019-04-23T20:28:12.516778Z",
     "start_time": "2019-04-23T20:27:38.890348Z"
    }
   },
   "outputs": [],
   "source": [
    "#Run Notebook\n",
    "run_nb('scripts/de/facility_info.ipynb')"
   ]
  },
  {
   "cell_type": "markdown",
   "metadata": {},
   "source": [
    "# Data Cleaning (dc)\n",
    "Section reserved for data cleaning. All tables start with `dc_`"
   ]
  },
  {
   "cell_type": "markdown",
   "metadata": {},
   "source": [
    "## Pharmacy Dedup\n",
    "This code takes in a master Pharmacy table and removed reversed/rejected claims as well as deduplicates and claim numbers based on a Unique Service ID.  Please note this table is not to be used for reversed claims.  We're waiting for Raven 3.0 for this to be implemented.  Patrick Cronin created this module and the original code was pulled from the StarLords team. Consult Aaron Stern to see the original code.\n",
    "\n",
    "**Script**\n",
    "* [scripts/dc/raven_pharmacy_dedup.ipynb](./scripts/dc/raven_pharmacy_dedup.ipynb)\n",
    "\n",
    "**Prior Script(s)**\n",
    "* [scripts/de/raven_pharmacy.ipynb](./scripts/de/raven_pharmacy.ipynb)\n",
    "\n",
    "**Parameters**\n",
    "* none\n",
    "\n",
    "**Input**\n",
    "* `de_raven_pharmacy`\n",
    "* `rwd_db.rwd_reference_library.insurance_types`\n",
    "  \n",
    "**Output**\n",
    "* `cld_rxdedup_final`\n",
    "\n",
    "**Review**\n",
    "* [scripts/dc/raven_pharmacy_dedup.html](./scripts/dc/raven_pharmacy_dedup.html)"
   ]
  },
  {
   "cell_type": "code",
   "execution_count": 12,
   "metadata": {
    "ExecuteTime": {
     "end_time": "2019-05-07T17:22:01.666400Z",
     "start_time": "2019-05-07T17:16:47.375606Z"
    }
   },
   "outputs": [
    {
     "name": "stdout",
     "output_type": "stream",
     "text": [
      "The notebook  'scripts/dc/raven_pharmacy_dedup.ipynb' completed successfully in 5.24 minutes on Tue May  7 13:22:01 2019.\n",
      "Please review 'scripts/dc/raven_pharmacy_dedup.html' to review results.\n"
     ]
    }
   ],
   "source": [
    "#Run Notebook\n",
    "run_nb('scripts/dc/raven_pharmacy_dedup.ipynb')"
   ]
  },
  {
   "cell_type": "markdown",
   "metadata": {},
   "source": [
    "## Remit Dedup (TBD)\n",
    "Remove the duplicated claims and squish into a single event so that they are easier to use.  We'll add addional work in this script to get it to the event level. As of 5/20/2019 this script is not finished.  Patrick Cronin created this module although it doesn't work.  He essentially copied a bunch of stuff that Maddy directed him to use.  This needs to be redone.\n",
    "\n",
    "**Script**\n",
    "* [scripts/dc/raven_remit_dedup.ipynb](./scripts/dc/raven_remit_dedup.ipynb)\n",
    "\n",
    "**Prior Script(s)**\n",
    "* [scripts/de/raven_remit.ipynb](./scripts/de/raven_remit.ipynb)\n",
    "\n",
    "**Parameters**\n",
    "* none\n",
    "\n",
    "**Input**\n",
    "* `de_raven_remit`\n",
    "  \n",
    "**Output**\n",
    "* `dc_raven_remit_dedup`\n",
    "* `dc_raven_remit_event`\n",
    "\n",
    "**Review**\n",
    "* [scripts/dc/raven_remit_dedup.html](./scripts/dc/raven_remit_dedup.html)"
   ]
  },
  {
   "cell_type": "markdown",
   "metadata": {},
   "source": [
    "# Claim Level Data (cld)\n",
    "Prepare data according to standard DRG methohdology at the claim level to make it easier to use downstream.  All tables start with `cld_`"
   ]
  },
  {
   "cell_type": "markdown",
   "metadata": {},
   "source": [
    "## Medical POS\n",
    "Identify the place of service for all medical claims extracted from raven header.  Patrick Cronin created this module.\n",
    "\n",
    "**Script**\n",
    "* [scripts/cld/medical_pos.ipynb](./scripts/cld/medical_pos.ipynb)\n",
    "\n",
    "**Prior Script(s)**\n",
    "* [scripts/de/raven_header.ipynb](./scripts/de/raven_header.ipynb)\n",
    "\n",
    "**Parameters**\n",
    "* `in/pld/medical_pos.xlsx[param]`\n",
    "* `in/pld/medical_pos.xlsx[pos]`:\n",
    "\n",
    "**Input**\n",
    "* `coh_pt`\n",
    "* `de_raven_header`\n",
    "\n",
    "**Output**  \n",
    "* `cld_med_pos`\n",
    "* `cld_med_pos_ref`\n",
    "\n",
    "**Review**\n",
    "* [scripts/cld/medical_pos.html](./scripts/cld/medical_pos.html)"
   ]
  },
  {
   "cell_type": "code",
   "execution_count": 13,
   "metadata": {
    "ExecuteTime": {
     "end_time": "2019-05-07T18:59:32.948464Z",
     "start_time": "2019-05-07T18:58:56.890204Z"
    }
   },
   "outputs": [
    {
     "name": "stdout",
     "output_type": "stream",
     "text": [
      "The notebook  'scripts/cld/medical_pos.ipynb' completed successfully in 0.6 minutes on Tue May  7 14:59:32 2019.\n",
      "Please review 'scripts/cld/medical_pos.html' to review results.\n"
     ]
    }
   ],
   "source": [
    "#Run Notebook\n",
    "run_nb('scripts/cld/medical_pos.ipynb')"
   ]
  },
  {
   "cell_type": "markdown",
   "metadata": {},
   "source": [
    "## Insurance Medical\n",
    "Identification of payer per the OOPS team for raven medical submits.  Patrick Cronin created his module and it was based on word done by the team that mastered the insurance data.  Omnya lead the team to master payers.\n",
    "\n",
    "**Script**\n",
    "* [scripts/cld/insurance_medical.ipynb](./scripts/cld/insurance_medical.ipynb)\n",
    "\n",
    "**Prior Script(s)**\n",
    "* [scripts/de/raven_provider.ipynb](./scripts/de/raven_provider.ipynb)\n",
    "* [scripts/de/raven_patient.ipynb](./scripts/de/raven_patient.ipynb)\n",
    "\n",
    "**Parameters**\n",
    "* none\n",
    "\n",
    "**Input**\n",
    "* `de_raven_patient`\n",
    "* `de_raven_payer`\n",
    "  \n",
    "**Output**\n",
    "* `cld_med_ins`\n",
    "\n",
    "**Review**\n",
    "* [scripts/cld/insurance_medical.html](./scripts/cld/insurance_medical.html)"
   ]
  },
  {
   "cell_type": "code",
   "execution_count": 14,
   "metadata": {
    "ExecuteTime": {
     "end_time": "2019-05-07T19:07:06.374787Z",
     "start_time": "2019-05-07T18:59:32.948464Z"
    }
   },
   "outputs": [
    {
     "name": "stdout",
     "output_type": "stream",
     "text": [
      "The notebook  'scripts/cld/insurance_medical.ipynb' completed successfully in 7.56 minutes on Tue May  7 15:07:06 2019.\n",
      "Please review 'scripts/cld/insurance_medical.html' to review results.\n"
     ]
    }
   ],
   "source": [
    "#Run Notebook\n",
    "run_nb('scripts/cld/insurance_medical.ipynb')"
   ]
  },
  {
   "cell_type": "markdown",
   "metadata": {},
   "source": [
    "## Comorbidities\n",
    "Tidy tables of the patient's custom comorbidities identifed from all extracted medical claims.  All table start with `pld_comorbid`.  Patrick Cronin created this module.\n",
    "\n",
    "**Script**\n",
    "* [scripts/cld/comorbidities.ipynb](./scripts/cld/comorbidities.ipynb)\n",
    "\n",
    "**Prior Script(s)**\n",
    "* [scripts/de/raven_diagnosis.ipynb](./scripts/de/raven_diagnosis.ipynb)\n",
    "\n",
    "**Parameters**\n",
    "* `in/cld/comorbid_custom.xlsx[param]`\n",
    "* `in/cld/comorbid_custom.xlsx[ref]`: `cld_comorbid_ref`\n",
    "\n",
    "**Input**\n",
    "* `coh_pt`\n",
    "* `de_raven_diagnosis`\n",
    "  \n",
    "**Output**  \n",
    "* `cld_comorbid`\n",
    "\n",
    "**Review**\n",
    "* [scripts/cld/comorbidities.html](./scripts/cld/comorbidities.html)"
   ]
  },
  {
   "cell_type": "code",
   "execution_count": 15,
   "metadata": {
    "ExecuteTime": {
     "end_time": "2019-05-07T19:07:45.961396Z",
     "start_time": "2019-05-07T19:07:06.377787Z"
    }
   },
   "outputs": [
    {
     "name": "stdout",
     "output_type": "stream",
     "text": [
      "The notebook  'scripts/cld/comorbidities.ipynb' completed successfully in 0.66 minutes on Tue May  7 15:07:45 2019.\n",
      "Please review 'scripts/cld/comorbidities.html' to review results.\n"
     ]
    }
   ],
   "source": [
    "#Run Notebook\n",
    "run_nb('scripts/cld/comorbidities.ipynb')"
   ]
  },
  {
   "cell_type": "markdown",
   "metadata": {},
   "source": [
    "## Procedure Grouper\n",
    "Tidy tables of the patient's custom procedure groupings identifed from all extracted medical claims.  All table start with `pld_proc`.  Patrick Cronin created this module.\n",
    "\n",
    "**Script**\n",
    "* [scripts/cld/procedures.ipynb](./scripts/cld/procedures.ipynb)\n",
    "\n",
    "**Prior Script(s)**\n",
    "* [scripts/de/raven_procedure.ipynb](./scripts/de/raven_procedure.ipynb)\n",
    "\n",
    "**Parameters**\n",
    "* `in/cld/procedure_custom.xlsx[param]`\n",
    "* `in/cld/procedure_custom.xlsx[ref]`: `cld_proc_ref`\n",
    "\n",
    "**Input**\n",
    "* `coh_pt`\n",
    "* `de_raven_procedure`\n",
    "  \n",
    "**Output**  \n",
    "* `cld_proc`\n",
    "\n",
    "**Review**\n",
    "* [scripts/cld/procedures.html](./scripts/cld/procedures.html)"
   ]
  },
  {
   "cell_type": "code",
   "execution_count": 16,
   "metadata": {
    "ExecuteTime": {
     "end_time": "2019-05-07T19:08:26.201413Z",
     "start_time": "2019-05-07T19:07:45.961396Z"
    }
   },
   "outputs": [
    {
     "name": "stdout",
     "output_type": "stream",
     "text": [
      "The notebook  'scripts/cld/procedures.ipynb' completed successfully in 0.67 minutes on Tue May  7 15:08:26 2019.\n",
      "Please review 'scripts/cld/procedures.html' to review results.\n"
     ]
    }
   ],
   "source": [
    "#Run Notebook\n",
    "run_nb('scripts/cld/procedures.ipynb')"
   ]
  },
  {
   "cell_type": "markdown",
   "metadata": {},
   "source": [
    "## Elixhauser\n",
    "Tidy tables of the patient's Elixhauser comorbidities identified all extracted medical claims.  All table start with `pld_elix`.  Patrick Cronin created this module.\n",
    "\n",
    "**Script**\n",
    "* [scripts/cld/elixhauser.ipynb](./scripts/cld/elixhauser.ipynb)\n",
    "\n",
    "**Prior Script(s)**\n",
    "* [scripts/de/raven_diagnosis.ipynb](./scripts/de/raven_diagnosis.ipynb)\n",
    "\n",
    "**Parameters**\n",
    "* None\n",
    "\n",
    "**Input**\n",
    "* `coh_pt`\n",
    "* `de_raven_diagnosis`\n",
    "* `rwd_db.rwd_reference_library.elixhauser_comorbidities` (To be moved soon)\n",
    "\n",
    "**Output**  \n",
    "* `cld_elix`\n",
    "\n",
    "**Review**\n",
    "* [scripts/cld/elixhauser.html](./scripts/cld/elixhauser.html)"
   ]
  },
  {
   "cell_type": "code",
   "execution_count": 17,
   "metadata": {
    "ExecuteTime": {
     "end_time": "2019-05-07T19:08:54.224449Z",
     "start_time": "2019-05-07T19:08:26.203413Z"
    }
   },
   "outputs": [
    {
     "name": "stdout",
     "output_type": "stream",
     "text": [
      "The notebook  'scripts/cld/elixhauser.ipynb' completed successfully in 0.47 minutes on Tue May  7 15:08:54 2019.\n",
      "Please review 'scripts/cld/elixhauser.html' to review results.\n"
     ]
    }
   ],
   "source": [
    "#Run Notebook\n",
    "run_nb('scripts/cld/elixhauser.ipynb')"
   ]
  },
  {
   "cell_type": "markdown",
   "metadata": {},
   "source": [
    "## Pharmacy Groups\n",
    "Group the raven pharmacy data into groups based on standard reference tables.   Patrick Cronin created this module.\n",
    "\n",
    "**Script**\n",
    "* [scripts/cld/pharmacy_groups.ipynb](./scripts/cld/pharmacy_groups.ipynb)\n",
    "\n",
    "**Prior Script(s)**\n",
    "* [scripts/dc/raven_pharmacy_dedup.ipynb](./scripts/dc/raven_pharmacy_dedup.ipynb)\n",
    "\n",
    "**Parameters**\n",
    "* `in/cld/pharmacy_groups.xlsx[ref]`: \n",
    "\n",
    "**Input**\n",
    "* `dc_rxdedup_final`\n",
    "  \n",
    "**Output**\n",
    "* `cld_phar_grp_ref`\n",
    "* `cld_phar_grp`\n",
    "* `cld_phar_grp_cnt`\n",
    "\n",
    "**Review**\n",
    "* [scripts/cld/pharmacy_groups.html](./scripts/cld/pharmacy_groups.html)\n",
    "* `out/pld/pld_phar_grp_cnt.xlsx`: Counts of ndcs for all ndc codes in the reference table"
   ]
  },
  {
   "cell_type": "code",
   "execution_count": 18,
   "metadata": {
    "ExecuteTime": {
     "end_time": "2019-05-07T19:09:35.337734Z",
     "start_time": "2019-05-07T19:08:54.224449Z"
    }
   },
   "outputs": [
    {
     "name": "stdout",
     "output_type": "stream",
     "text": [
      "The notebook  'scripts/cld/pharmacy_groups.ipynb' completed successfully in 0.69 minutes on Tue May  7 15:09:35 2019.\n",
      "Please review 'scripts/cld/pharmacy_groups.html' to review results.\n"
     ]
    }
   ],
   "source": [
    "#run script\n",
    "run_nb('scripts/cld/pharmacy_groups.ipynb')"
   ]
  },
  {
   "cell_type": "markdown",
   "metadata": {},
   "source": [
    "# Patient Level Data (pld)\n",
    "The modules in this section create the pld for the patient cohort.  \n",
    "\n",
    "* Each table has exactly 1 row per patient_id\n",
    "* Table naming convention is `pld_module_` where `pld_` implies \"patient level data\" and `module_` identifies the module where the table was created.  For example all tables created for demographics start with `pld_demo`.  The naming convention exists to prevent tables from accidently overriding each other and making it easier for users to find tables they need.\n",
    "* All intermediate tables used to create pld tables are deleted at the end of each module.\n",
    "* All scripts, prior scripts, parameters, inputs, and outputs are identified in markdown\n",
    "* Scripts can be run from this notebook\n",
    "* No large databases in snowflake (i.e. Raven Tables) are accessed in this section.  Move those scripts into the data extract section\n",
    "* The goal is to create tidy tables that are easy for users to put into projects downstream\n",
    "* Every output table gets to the 1 row per patient in each table\n"
   ]
  },
  {
   "cell_type": "markdown",
   "metadata": {},
   "source": [
    "## Demographics\n",
    "Tidy table of the patient's demographics as of the index date.  All table start with `pld_demo`.  Patrick Cronin created this module.\n",
    "\n",
    "**Script**\n",
    "* [scripts/pld/demographics.ipynb](./scripts/pld/demographics.ipynb)\n",
    "\n",
    "**Prior Script(s)**\n",
    "* [scripts/de/raven_demographics.ipynb](./scripts/de/raven_demographics.ipynb)\n",
    "\n",
    "**Parameters**\n",
    "* `in/pld/demographics.xlsx[param]`\n",
    "* `in/pld/demographics.xlsx[race_ref]`\n",
    "\n",
    "**Input**\n",
    "* `coh_pt`\n",
    "* `de_raven_demographics`\n",
    "\n",
    "**Output**  \n",
    "* `pld_demo`\n",
    "\n",
    "**Review**\n",
    "* [scripts/pld/demographics.html](./scripts/pld/demographics.html)"
   ]
  },
  {
   "cell_type": "code",
   "execution_count": 19,
   "metadata": {
    "ExecuteTime": {
     "end_time": "2019-05-07T19:11:59.824175Z",
     "start_time": "2019-05-07T19:09:35.341734Z"
    }
   },
   "outputs": [
    {
     "name": "stdout",
     "output_type": "stream",
     "text": [
      "The notebook  'scripts/pld/demographics.ipynb' completed successfully in 2.41 minutes on Tue May  7 15:11:59 2019.\n",
      "Please review 'scripts/pld/demographics.html' to review results.\n"
     ]
    }
   ],
   "source": [
    "#Run Notebook\n",
    "run_nb('scripts/pld/demographics.ipynb')"
   ]
  },
  {
   "cell_type": "markdown",
   "metadata": {},
   "source": [
    "## Geography Medical\n",
    "Geography of each unique patient per the medical claims using the claim closest to an index date.  Patrick Cronin created this module.\n",
    "\n",
    "**Script**\n",
    "* [scripts/pld/geography_medical.ipynb](./scripts/pld/geography_medical.ipynb)\n",
    "\n",
    "**Prior Script(s)**\n",
    "* [scripts/de/raven_patient.ipynb](./scripts/de/raven_patient.ipynb)\n",
    "\n",
    "**Parameters**\n",
    "* `in/pld/geography.xlsx[param]`\n",
    "\n",
    "**Input**\n",
    "* `coh_pt`\n",
    "* `ref_db.analytics.zip_geo`\n",
    "* `de_raven_patient`\n",
    "\n",
    "**Output**  \n",
    "* `pld_geo_medical`\n",
    "\n",
    "**Review**\n",
    "* [scripts/pld/geography_medical.html](./scripts/pld/geography_medical.html)"
   ]
  },
  {
   "cell_type": "code",
   "execution_count": 20,
   "metadata": {
    "ExecuteTime": {
     "end_time": "2019-05-07T19:12:38.413034Z",
     "start_time": "2019-05-07T19:11:59.827176Z"
    }
   },
   "outputs": [
    {
     "name": "stdout",
     "output_type": "stream",
     "text": [
      "The notebook  'scripts/pld/geography_medical.ipynb' completed successfully in 0.64 minutes on Tue May  7 15:12:38 2019.\n",
      "Please review 'scripts/pld/geography_medical.html' to review results.\n"
     ]
    }
   ],
   "source": [
    "#Run Notebook\n",
    "run_nb('scripts/pld/geography_medical.ipynb')"
   ]
  },
  {
   "cell_type": "markdown",
   "metadata": {},
   "source": [
    "## Pt Med Claim Cnts\n",
    "Counts of patient medical claims per year and quarter.  These are typicaly used to determine a patient's stability over a time period.   Patrick Cronin created this module.\n",
    "\n",
    "**Script**\n",
    "* [scripts/pld/pt_med_claim_cnts.ipynb](./scripts/pld/pt_med_claim_cnts.ipynb)\n",
    "\n",
    "**Prior Script(s)**\n",
    "* [scripts/de/raven_header.ipynb](./scripts/de/raven_header.ipynb)\n",
    "\n",
    "**Parameters**\n",
    "* none\n",
    "\n",
    "**Input**\n",
    "* `coh_pt`\n",
    "* `de_raven_header`\n",
    "  \n",
    "**Output**  \n",
    "* `pld_med_cnt_unpivot`\n",
    "* `pld_med_cnt_pivot`\n",
    "\n",
    "**Review**\n",
    "* [scripts/pld/pt_med_claim_cnts.html](./scripts/pld/pt_med_claim_cnts.html)"
   ]
  },
  {
   "cell_type": "code",
   "execution_count": 21,
   "metadata": {
    "ExecuteTime": {
     "end_time": "2019-05-07T19:13:30.681260Z",
     "start_time": "2019-05-07T19:12:38.416034Z"
    }
   },
   "outputs": [
    {
     "name": "stdout",
     "output_type": "stream",
     "text": [
      "The notebook  'scripts/pld/pt_med_claim_cnts.ipynb' completed successfully in 0.87 minutes on Tue May  7 15:13:30 2019.\n",
      "Please review 'scripts/pld/pt_med_claim_cnts.html' to review results.\n"
     ]
    }
   ],
   "source": [
    "#Run Notebook\n",
    "run_nb('scripts/pld/pt_med_claim_cnts.ipynb')"
   ]
  },
  {
   "cell_type": "markdown",
   "metadata": {},
   "source": [
    "## Pt Phar Claim Cnts\n",
    "Counts of patient pharmacy claims per year and quarter.  These are typicaly used to determine a patient's stability over a time period.  Patrick Cronin created this module.\n",
    "\n",
    "**Script**\n",
    "* [scripts/pld/pt_phar_claim_cnts.ipynb](./scripts/pld/pt_phar_claim_cnts.ipynb)\n",
    "\n",
    "**Prior Script(s)**\n",
    "* [scripts/de/raven_pharmacy.ipynb](./scripts/de/raven_pharmacy.ipynb)\n",
    "\n",
    "**Parameters**\n",
    "* none\n",
    "\n",
    "**Input**\n",
    "* `coh_pt`\n",
    "* `de_raven_pharmacy`\n",
    "  \n",
    "**Output**  \n",
    "* `pld_phar_cnt_unpivot`\n",
    "* `pld_phar_cnt_pivot`\n",
    "\n",
    "**Review**\n",
    "* [scripts/pld/pt_phar_claim_cnts.html](./scripts/pld/pt_phar_claim_cnts.html)"
   ]
  },
  {
   "cell_type": "code",
   "execution_count": 22,
   "metadata": {
    "ExecuteTime": {
     "end_time": "2019-05-07T19:14:26.068680Z",
     "start_time": "2019-05-07T19:13:30.683260Z"
    }
   },
   "outputs": [
    {
     "name": "stdout",
     "output_type": "stream",
     "text": [
      "The notebook  'scripts/pld/pt_phar_claim_cnts.ipynb' completed successfully in 0.92 minutes on Tue May  7 15:14:26 2019.\n",
      "Please review 'scripts/pld/pt_phar_claim_cnts.html' to review results.\n"
     ]
    }
   ],
   "source": [
    "#Run Notebook\n",
    "run_nb('scripts/pld/pt_phar_claim_cnts.ipynb')"
   ]
  },
  {
   "cell_type": "markdown",
   "metadata": {},
   "source": [
    "## Insurance Medical\n",
    "Identification of a single payer per patient based on claims between a start and end date.  Patrick Cronin created this module.\n",
    "\n",
    "**Script**\n",
    "* [scripts/pld/medical_ins_pivot.ipynb](./scripts/pld/medical_ins_pivot.ipynb)\n",
    "\n",
    "**Prior Script(s)**\n",
    "* [scripts/cld/insurance_medical.ipynb](./scripts/cld/insurance_medical.ipynb)\n",
    "\n",
    "**Parameters**\n",
    "* `in/pld/medical_insurance.xlsx[param]`\n",
    "\n",
    "**Input**\n",
    "* `cld_med_ins`\n",
    "  \n",
    "**Output**\n",
    "* `cld_med_ins_pivot`\n",
    "\n",
    "**Review**\n",
    "* [scripts/pld/medical_ins_pivot.html](./scripts/pld/medical_ins_pivot.html)"
   ]
  },
  {
   "cell_type": "code",
   "execution_count": 23,
   "metadata": {
    "ExecuteTime": {
     "end_time": "2019-05-07T19:15:07.131278Z",
     "start_time": "2019-05-07T19:14:26.071680Z"
    }
   },
   "outputs": [
    {
     "name": "stdout",
     "output_type": "stream",
     "text": [
      "The notebook  'scripts/pld/medical_ins_pivot.ipynb' completed successfully in 0.68 minutes on Tue May  7 15:15:07 2019.\n",
      "Please review 'scripts/pld/medical_ins_pivot.html' to review results.\n"
     ]
    }
   ],
   "source": [
    "run_nb('scripts/pld/medical_ins_pivot.ipynb')"
   ]
  },
  {
   "cell_type": "markdown",
   "metadata": {},
   "source": [
    "# Custom (cust)\n",
    "This section acts as a holding place for custom work"
   ]
  },
  {
   "cell_type": "markdown",
   "metadata": {},
   "source": [
    "## Sample Script\n",
    "This is a sample script that will run in the semi custom framework.   Patrick Cronin created this module.\n",
    "\n",
    "**Script**\n",
    "* [scripts/cust/sample_script.ipynb](./scripts/cust/sample_script.ipynb)\n",
    "\n",
    "**Parameters**\n",
    "* `in/custom/sample_input.xlsx[param]`\n",
    "\n",
    "**Input**\n",
    "* `sample_ref_table`: `in/custom/sample_input.xlsx[ref]`\n",
    "\n",
    "**Output**\n",
    "* TBD\n",
    "\n",
    "**Review**\n",
    "* TBD"
   ]
  },
  {
   "cell_type": "code",
   "execution_count": null,
   "metadata": {
    "ExecuteTime": {
     "end_time": "2019-04-03T17:58:48.329833Z",
     "start_time": "2019-04-03T17:58:43.873388Z"
    }
   },
   "outputs": [],
   "source": [
    "#Run Notebook\n",
    "#run_nb('scripts/custom/sample_script.ipynb')"
   ]
  },
  {
   "cell_type": "markdown",
   "metadata": {},
   "source": [
    "# Dashboards (UNDER CONSTRUCTION)\n",
    "Each script creates the backend tables for a standard semi-custom dashboard"
   ]
  },
  {
   "cell_type": "markdown",
   "metadata": {
    "ExecuteTime": {
     "end_time": "2019-03-20T20:19:44.675232Z",
     "start_time": "2019-03-20T20:19:44.670231Z"
    }
   },
   "source": [
    "## Patient Level Data\n",
    "Create backend tables for the PLD dashboard.  Patrick Cronin created this module.\n",
    "\n",
    "**Script**\n",
    "* [scripts/dash/pld.ipynb](./scripts/dash/pld.ipynb)\n",
    "\n",
    "**Prior Scripts**\n",
    "  * [scripts/pld/pt_med_claim_cnts.ipynb](./scripts/pld/pt_med_claim_cnts.ipynb)\n",
    "  * [scripts/pld/pt_phar_claim_cnts.ipynb](./scripts/pld/pt_phar_claim_cnts.ipynb)\n",
    "  * [scripts/cld/elixhauser.ipynb](./scripts/cld/elixhauser.ipynb)\n",
    "  * [scripts/dc/raven_pharmacy_dedup.ipynb](./scripts/dc/raven_pharmacy_dedup.ipynb)\n",
    "  * [scripts/pld/medical_ins_pivot.ipynb](./scripts/pld/medical_ins_pivot.ipynb)\n",
    "  \n",
    "\n",
    "**Parameters**\n",
    "* `in/dashboards/pld.xlsx[param]`\n",
    "\n",
    "**Input**\n",
    "* `pld_med_cnt_unpivot`\n",
    "* `coh_pt`\n",
    "* `pld_demo`\n",
    "* `pld_med_ins_pivot`\n",
    "* `pld_geo_medical`\n",
    "* `ref_db.analytics.state_to_region`\n",
    "* `cld_elix`\n",
    "* `cld_phar_grp`\n",
    "* `cld_proc`\n",
    "* `de_raven_provider`\n",
    "* `de_provider_affiliation`\n",
    "\n",
    "**Output**\n",
    "* TBD"
   ]
  }
 ],
 "metadata": {
  "kernelspec": {
   "display_name": "Python 3",
   "language": "python",
   "name": "python3"
  },
  "language_info": {
   "codemirror_mode": {
    "name": "ipython",
    "version": 3
   },
   "file_extension": ".py",
   "mimetype": "text/x-python",
   "name": "python",
   "nbconvert_exporter": "python",
   "pygments_lexer": "ipython3",
   "version": "3.7.3"
  },
  "toc": {
   "base_numbering": 1,
   "nav_menu": {},
   "number_sections": true,
   "sideBar": true,
   "skip_h1_title": false,
   "title_cell": "Table of Contents",
   "title_sidebar": "Contents",
   "toc_cell": false,
   "toc_position": {
    "height": "770px",
    "left": "27px",
    "top": "95px",
    "width": "280px"
   },
   "toc_section_display": true,
   "toc_window_display": true
  }
 },
 "nbformat": 4,
 "nbformat_minor": 2
}
